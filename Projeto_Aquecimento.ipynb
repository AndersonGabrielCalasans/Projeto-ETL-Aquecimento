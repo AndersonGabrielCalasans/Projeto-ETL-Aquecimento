{
  "nbformat": 4,
  "nbformat_minor": 0,
  "metadata": {
    "colab": {
      "provenance": [],
      "collapsed_sections": [
        "KNMm4cVuAor7",
        "90l7wyOgCPJk",
        "-wU47FkB1OUW",
        "Gf2sZWP9C5qd",
        "WxUhm0sI3cpB",
        "i-USiup-JPdE",
        "--alq6QJ8thf",
        "7TikPNbs8iHE",
        "43myBDrhS04y",
        "-ukNcNRECSOE",
        "-GV7zTTKM2Ri",
        "badi1A8xUmtd",
        "RWI7C4G7iCfa",
        "W8NRvJNYEN2z"
      ],
      "include_colab_link": true
    },
    "kernelspec": {
      "name": "python3",
      "display_name": "Python 3"
    },
    "language_info": {
      "name": "python"
    }
  },
  "cells": [
    {
      "cell_type": "markdown",
      "metadata": {
        "id": "view-in-github",
        "colab_type": "text"
      },
      "source": [
        "<a href=\"https://colab.research.google.com/github/AndersonGabrielCalasans/Projeto-ETL-Aquecimento/blob/main/Projeto_Aquecimento.ipynb\" target=\"_parent\"><img src=\"https://colab.research.google.com/assets/colab-badge.svg\" alt=\"Open In Colab\"/></a>"
      ]
    },
    {
      "cell_type": "markdown",
      "source": [
        "# 📊 **Seja bem vindo ao projeto aquecimento de Anderson Gabriel e Beatriz Cardona!**\n",
        "\n",
        "Este projeto foi proposto pelos professores Igor Gondim e Bismark William no bootcamp de **engenharia de dados** da [Soul Code Academy](https://soulcodeacademy.org/), com o objetivo de aplicar os conteúdos abordados no curso e melhorar as softskills trabalhando em dupla.\n",
        "\n",
        "Neste notebook você encontrará um **guia** contendo um passo a passo da realização do **processo de ETL** que um engenheiro de dados júnior encontra no seu dia a dia de trabalho, que contempla:\n",
        " - Extração e carregamento de dados dos DataLakes **MongoDB** e **Google Cloud Storage**;\n",
        " - Realização do processo de tratamento dos dados pelas bibliotecas **Pandas** e **PySpark**;\n",
        " - Validação de dados com **PySpark**;\n",
        " - Desenvolver insights com o **Pandas** e com **PySparkSQL**;\n",
        " - Trasformação e carregamento de um DataFrame em um banco de dados **MySQL**.\n",
        "\n",
        "Os datasets originais utilizados contém os dados de **Comunicação de Acidentes do Trabalho do INSS (CATWEB)** do ano de 2022, disponíveis publicamente neste 👉[link](https://dadosabertos.dataprev.gov.br/dataset/inss-comunicacao-de-acidente-de-trabalho-cat) e atualizados trimestralmente.\n",
        "\n",
        "O esquema que seguiremos está descrito abaixo:\n",
        "\n",
        "![imagem_ETL.png](https://storage.googleapis.com/projeto-ab-bc26/Images/Esquema_ETL.png)\n",
        "\n",
        "\n"
      ],
      "metadata": {
        "id": "HFR4yBqdAqxp"
      }
    },
    {
      "cell_type": "markdown",
      "source": [
        "## **📚 1 - Instalação e importação das bibliotecas**"
      ],
      "metadata": {
        "id": "KNMm4cVuAor7"
      }
    },
    {
      "cell_type": "markdown",
      "source": [
        "###☑️**1.1 - Instalação das bibliotecas**\n",
        "\n",
        "O Google Colab conta com algumas bibliotecas Python já pré instaladas, o que faz com que não seja necessário a instalação de todas as bibliotecas. No nosso caso se fez necessário a instalação apenas do pyspark, do gcsfs (Google Cloud System File Storage), do Sys e do Pymongo."
      ],
      "metadata": {
        "id": "YIRWUUvqER6b"
      }
    },
    {
      "cell_type": "code",
      "source": [
        "# Instalando o PySpark\n",
        "!pip install pyspark"
      ],
      "metadata": {
        "id": "kNIlIt2tBKDD",
        "colab": {
          "base_uri": "https://localhost:8080/"
        },
        "outputId": "29abab21-c3fe-4592-a770-b23b05cc0726"
      },
      "execution_count": null,
      "outputs": [
        {
          "output_type": "stream",
          "name": "stdout",
          "text": [
            "Looking in indexes: https://pypi.org/simple, https://us-python.pkg.dev/colab-wheels/public/simple/\n",
            "Collecting pyspark\n",
            "  Downloading pyspark-3.3.1.tar.gz (281.4 MB)\n",
            "\u001b[K     |████████████████████████████████| 281.4 MB 37 kB/s \n",
            "\u001b[?25hCollecting py4j==0.10.9.5\n",
            "  Downloading py4j-0.10.9.5-py2.py3-none-any.whl (199 kB)\n",
            "\u001b[K     |████████████████████████████████| 199 kB 5.6 MB/s \n",
            "\u001b[?25hBuilding wheels for collected packages: pyspark\n",
            "  Building wheel for pyspark (setup.py) ... \u001b[?25l\u001b[?25hdone\n",
            "  Created wheel for pyspark: filename=pyspark-3.3.1-py2.py3-none-any.whl size=281845512 sha256=03ce153ab12647947c620f8d55e734cd0ffdcb506c3acae23375b93499b52f25\n",
            "  Stored in directory: /root/.cache/pip/wheels/43/dc/11/ec201cd671da62fa9c5cc77078235e40722170ceba231d7598\n",
            "Successfully built pyspark\n",
            "Installing collected packages: py4j, pyspark\n",
            "Successfully installed py4j-0.10.9.5 pyspark-3.3.1\n"
          ]
        }
      ]
    },
    {
      "cell_type": "code",
      "source": [
        "# Instalando biblioteca do google Cloud Storage\n",
        "!pip install gcsfs"
      ],
      "metadata": {
        "id": "SpSl8qQ2DvOk",
        "colab": {
          "base_uri": "https://localhost:8080/"
        },
        "outputId": "4223bbab-d363-41b0-8246-28018fe43eba"
      },
      "execution_count": null,
      "outputs": [
        {
          "output_type": "stream",
          "name": "stdout",
          "text": [
            "Looking in indexes: https://pypi.org/simple, https://us-python.pkg.dev/colab-wheels/public/simple/\n",
            "Collecting gcsfs\n",
            "  Downloading gcsfs-2022.11.0-py2.py3-none-any.whl (26 kB)\n",
            "Requirement already satisfied: google-auth>=1.2 in /usr/local/lib/python3.8/dist-packages (from gcsfs) (2.15.0)\n",
            "Requirement already satisfied: requests in /usr/local/lib/python3.8/dist-packages (from gcsfs) (2.23.0)\n",
            "Requirement already satisfied: google-auth-oauthlib in /usr/local/lib/python3.8/dist-packages (from gcsfs) (0.4.6)\n",
            "Requirement already satisfied: fsspec==2022.11.0 in /usr/local/lib/python3.8/dist-packages (from gcsfs) (2022.11.0)\n",
            "Requirement already satisfied: google-cloud-storage in /usr/local/lib/python3.8/dist-packages (from gcsfs) (2.5.0)\n",
            "Requirement already satisfied: aiohttp!=4.0.0a0,!=4.0.0a1 in /usr/local/lib/python3.8/dist-packages (from gcsfs) (3.8.3)\n",
            "Requirement already satisfied: decorator>4.1.2 in /usr/local/lib/python3.8/dist-packages (from gcsfs) (4.4.2)\n",
            "Requirement already satisfied: multidict<7.0,>=4.5 in /usr/local/lib/python3.8/dist-packages (from aiohttp!=4.0.0a0,!=4.0.0a1->gcsfs) (6.0.3)\n",
            "Requirement already satisfied: charset-normalizer<3.0,>=2.0 in /usr/local/lib/python3.8/dist-packages (from aiohttp!=4.0.0a0,!=4.0.0a1->gcsfs) (2.1.1)\n",
            "Requirement already satisfied: yarl<2.0,>=1.0 in /usr/local/lib/python3.8/dist-packages (from aiohttp!=4.0.0a0,!=4.0.0a1->gcsfs) (1.8.2)\n",
            "Requirement already satisfied: frozenlist>=1.1.1 in /usr/local/lib/python3.8/dist-packages (from aiohttp!=4.0.0a0,!=4.0.0a1->gcsfs) (1.3.3)\n",
            "Requirement already satisfied: attrs>=17.3.0 in /usr/local/lib/python3.8/dist-packages (from aiohttp!=4.0.0a0,!=4.0.0a1->gcsfs) (22.1.0)\n",
            "Requirement already satisfied: aiosignal>=1.1.2 in /usr/local/lib/python3.8/dist-packages (from aiohttp!=4.0.0a0,!=4.0.0a1->gcsfs) (1.3.1)\n",
            "Requirement already satisfied: async-timeout<5.0,>=4.0.0a3 in /usr/local/lib/python3.8/dist-packages (from aiohttp!=4.0.0a0,!=4.0.0a1->gcsfs) (4.0.2)\n",
            "Requirement already satisfied: six>=1.9.0 in /usr/local/lib/python3.8/dist-packages (from google-auth>=1.2->gcsfs) (1.15.0)\n",
            "Requirement already satisfied: cachetools<6.0,>=2.0.0 in /usr/local/lib/python3.8/dist-packages (from google-auth>=1.2->gcsfs) (5.2.0)\n",
            "Requirement already satisfied: rsa<5,>=3.1.4 in /usr/local/lib/python3.8/dist-packages (from google-auth>=1.2->gcsfs) (4.9)\n",
            "Requirement already satisfied: pyasn1-modules>=0.2.1 in /usr/local/lib/python3.8/dist-packages (from google-auth>=1.2->gcsfs) (0.2.8)\n",
            "Requirement already satisfied: pyasn1<0.5.0,>=0.4.6 in /usr/local/lib/python3.8/dist-packages (from pyasn1-modules>=0.2.1->google-auth>=1.2->gcsfs) (0.4.8)\n",
            "Requirement already satisfied: idna>=2.0 in /usr/local/lib/python3.8/dist-packages (from yarl<2.0,>=1.0->aiohttp!=4.0.0a0,!=4.0.0a1->gcsfs) (2.10)\n",
            "Requirement already satisfied: requests-oauthlib>=0.7.0 in /usr/local/lib/python3.8/dist-packages (from google-auth-oauthlib->gcsfs) (1.3.1)\n",
            "Requirement already satisfied: oauthlib>=3.0.0 in /usr/local/lib/python3.8/dist-packages (from requests-oauthlib>=0.7.0->google-auth-oauthlib->gcsfs) (3.2.2)\n",
            "Requirement already satisfied: urllib3!=1.25.0,!=1.25.1,<1.26,>=1.21.1 in /usr/local/lib/python3.8/dist-packages (from requests->gcsfs) (1.24.3)\n",
            "Requirement already satisfied: certifi>=2017.4.17 in /usr/local/lib/python3.8/dist-packages (from requests->gcsfs) (2022.12.7)\n",
            "Requirement already satisfied: chardet<4,>=3.0.2 in /usr/local/lib/python3.8/dist-packages (from requests->gcsfs) (3.0.4)\n",
            "Requirement already satisfied: google-cloud-core<3.0dev,>=2.3.0 in /usr/local/lib/python3.8/dist-packages (from google-cloud-storage->gcsfs) (2.3.2)\n",
            "Requirement already satisfied: google-resumable-media>=2.3.2 in /usr/local/lib/python3.8/dist-packages (from google-cloud-storage->gcsfs) (2.4.0)\n",
            "Requirement already satisfied: google-api-core!=2.0.*,!=2.1.*,!=2.2.*,!=2.3.0,<3.0.0dev,>=1.31.5 in /usr/local/lib/python3.8/dist-packages (from google-cloud-storage->gcsfs) (2.8.2)\n",
            "Requirement already satisfied: googleapis-common-protos<2.0dev,>=1.56.2 in /usr/local/lib/python3.8/dist-packages (from google-api-core!=2.0.*,!=2.1.*,!=2.2.*,!=2.3.0,<3.0.0dev,>=1.31.5->google-cloud-storage->gcsfs) (1.57.0)\n",
            "Requirement already satisfied: protobuf<5.0.0dev,>=3.15.0 in /usr/local/lib/python3.8/dist-packages (from google-api-core!=2.0.*,!=2.1.*,!=2.2.*,!=2.3.0,<3.0.0dev,>=1.31.5->google-cloud-storage->gcsfs) (3.19.6)\n",
            "Requirement already satisfied: google-crc32c<2.0dev,>=1.0 in /usr/local/lib/python3.8/dist-packages (from google-resumable-media>=2.3.2->google-cloud-storage->gcsfs) (1.5.0)\n",
            "Installing collected packages: gcsfs\n",
            "Successfully installed gcsfs-2022.11.0\n"
          ]
        }
      ]
    },
    {
      "cell_type": "code",
      "source": [
        "# Instalação do pymongo\n",
        "!pip install pymongo[srv]"
      ],
      "metadata": {
        "colab": {
          "base_uri": "https://localhost:8080/"
        },
        "id": "OSfe6csVHV7E",
        "outputId": "57cdab0d-ce37-466c-884e-a4e3be4df27a"
      },
      "execution_count": null,
      "outputs": [
        {
          "output_type": "stream",
          "name": "stdout",
          "text": [
            "Looking in indexes: https://pypi.org/simple, https://us-python.pkg.dev/colab-wheels/public/simple/\n",
            "Requirement already satisfied: pymongo[srv] in /usr/local/lib/python3.8/dist-packages (4.3.3)\n",
            "Requirement already satisfied: dnspython<3.0.0,>=1.16.0 in /usr/local/lib/python3.8/dist-packages (from pymongo[srv]) (2.2.1)\n"
          ]
        }
      ]
    },
    {
      "cell_type": "code",
      "source": [
        "# install dependencies\n",
        "import sys\n",
        "!{sys.executable} -m pip install cloud-sql-python-connector[\"pymysql\"] SQLAlchemy"
      ],
      "metadata": {
        "colab": {
          "base_uri": "https://localhost:8080/"
        },
        "id": "iMN3IYQrmxC0",
        "outputId": "9347a531-aec3-41ad-f804-2cb7dfc789c8"
      },
      "execution_count": null,
      "outputs": [
        {
          "output_type": "stream",
          "name": "stdout",
          "text": [
            "Looking in indexes: https://pypi.org/simple, https://us-python.pkg.dev/colab-wheels/public/simple/\n",
            "Collecting cloud-sql-python-connector[pymysql]\n",
            "  Downloading cloud_sql_python_connector-1.0.0-py2.py3-none-any.whl (34 kB)\n",
            "Requirement already satisfied: SQLAlchemy in /usr/local/lib/python3.8/dist-packages (1.4.45)\n",
            "Requirement already satisfied: greenlet!=0.4.17 in /usr/local/lib/python3.8/dist-packages (from SQLAlchemy) (2.0.1)\n",
            "Requirement already satisfied: Requests in /usr/local/lib/python3.8/dist-packages (from cloud-sql-python-connector[pymysql]) (2.23.0)\n",
            "Requirement already satisfied: aiohttp in /usr/local/lib/python3.8/dist-packages (from cloud-sql-python-connector[pymysql]) (3.8.3)\n",
            "Collecting cryptography>=38.0.3\n",
            "  Downloading cryptography-38.0.4-cp36-abi3-manylinux_2_24_x86_64.whl (4.0 MB)\n",
            "\u001b[K     |████████████████████████████████| 4.0 MB 7.3 MB/s \n",
            "\u001b[?25hRequirement already satisfied: google-auth in /usr/local/lib/python3.8/dist-packages (from cloud-sql-python-connector[pymysql]) (2.15.0)\n",
            "Collecting PyMySQL==1.0.2\n",
            "  Downloading PyMySQL-1.0.2-py3-none-any.whl (43 kB)\n",
            "\u001b[K     |████████████████████████████████| 43 kB 2.1 MB/s \n",
            "\u001b[?25hRequirement already satisfied: cffi>=1.12 in /usr/local/lib/python3.8/dist-packages (from cryptography>=38.0.3->cloud-sql-python-connector[pymysql]) (1.15.1)\n",
            "Requirement already satisfied: pycparser in /usr/local/lib/python3.8/dist-packages (from cffi>=1.12->cryptography>=38.0.3->cloud-sql-python-connector[pymysql]) (2.21)\n",
            "Requirement already satisfied: async-timeout<5.0,>=4.0.0a3 in /usr/local/lib/python3.8/dist-packages (from aiohttp->cloud-sql-python-connector[pymysql]) (4.0.2)\n",
            "Requirement already satisfied: frozenlist>=1.1.1 in /usr/local/lib/python3.8/dist-packages (from aiohttp->cloud-sql-python-connector[pymysql]) (1.3.3)\n",
            "Requirement already satisfied: charset-normalizer<3.0,>=2.0 in /usr/local/lib/python3.8/dist-packages (from aiohttp->cloud-sql-python-connector[pymysql]) (2.1.1)\n",
            "Requirement already satisfied: yarl<2.0,>=1.0 in /usr/local/lib/python3.8/dist-packages (from aiohttp->cloud-sql-python-connector[pymysql]) (1.8.2)\n",
            "Requirement already satisfied: multidict<7.0,>=4.5 in /usr/local/lib/python3.8/dist-packages (from aiohttp->cloud-sql-python-connector[pymysql]) (6.0.3)\n",
            "Requirement already satisfied: aiosignal>=1.1.2 in /usr/local/lib/python3.8/dist-packages (from aiohttp->cloud-sql-python-connector[pymysql]) (1.3.1)\n",
            "Requirement already satisfied: attrs>=17.3.0 in /usr/local/lib/python3.8/dist-packages (from aiohttp->cloud-sql-python-connector[pymysql]) (22.1.0)\n",
            "Requirement already satisfied: idna>=2.0 in /usr/local/lib/python3.8/dist-packages (from yarl<2.0,>=1.0->aiohttp->cloud-sql-python-connector[pymysql]) (2.10)\n",
            "Requirement already satisfied: pyasn1-modules>=0.2.1 in /usr/local/lib/python3.8/dist-packages (from google-auth->cloud-sql-python-connector[pymysql]) (0.2.8)\n",
            "Requirement already satisfied: six>=1.9.0 in /usr/local/lib/python3.8/dist-packages (from google-auth->cloud-sql-python-connector[pymysql]) (1.15.0)\n",
            "Requirement already satisfied: rsa<5,>=3.1.4 in /usr/local/lib/python3.8/dist-packages (from google-auth->cloud-sql-python-connector[pymysql]) (4.9)\n",
            "Requirement already satisfied: cachetools<6.0,>=2.0.0 in /usr/local/lib/python3.8/dist-packages (from google-auth->cloud-sql-python-connector[pymysql]) (5.2.0)\n",
            "Requirement already satisfied: pyasn1<0.5.0,>=0.4.6 in /usr/local/lib/python3.8/dist-packages (from pyasn1-modules>=0.2.1->google-auth->cloud-sql-python-connector[pymysql]) (0.4.8)\n",
            "Requirement already satisfied: urllib3!=1.25.0,!=1.25.1,<1.26,>=1.21.1 in /usr/local/lib/python3.8/dist-packages (from Requests->cloud-sql-python-connector[pymysql]) (1.24.3)\n",
            "Requirement already satisfied: chardet<4,>=3.0.2 in /usr/local/lib/python3.8/dist-packages (from Requests->cloud-sql-python-connector[pymysql]) (3.0.4)\n",
            "Requirement already satisfied: certifi>=2017.4.17 in /usr/local/lib/python3.8/dist-packages (from Requests->cloud-sql-python-connector[pymysql]) (2022.12.7)\n",
            "Installing collected packages: cryptography, PyMySQL, cloud-sql-python-connector\n",
            "Successfully installed PyMySQL-1.0.2 cloud-sql-python-connector-1.0.0 cryptography-38.0.4\n"
          ]
        }
      ]
    },
    {
      "cell_type": "markdown",
      "source": [
        "### ☑️ **1.2 - Importação das bibliotecas utilizadas**\n",
        "\n",
        "Após fazer o download das bibliotecas adcionais, precisamos importá-las.\n",
        "\n",
        "E aqui vai uma breve explanação sobre as bibliotecas que utilizamos:\n",
        " - **pandas**: criação de dataframes para manipulação e análise de dados;\n",
        " - **pyspark**: processamento (através de cluster) e manipulação de grande massa de dados.\n",
        " - **Conexão do CloudStorage**: utilizada para acessar os recursos do Cloud Storage pelo python;\n",
        " - **os**: biblioteca de comandos do sistema operacional;\n",
        " - **pymongo e MongoClient**: gerar conexão com o MongoDB Atlas e manipulação de bancos NoSQL e DataLakes.\n",
        " - **Conector do Mysql**: necessário para gerar a conexão com o CloudSQL.\n"
      ],
      "metadata": {
        "id": "O92FjEuiEZ3l"
      }
    },
    {
      "cell_type": "code",
      "source": [
        "# Pandas\n",
        "import pandas as pd\n",
        "\n",
        "# PySpark\n",
        "from pyspark.sql import SparkSession\n",
        "import pyspark.sql\n",
        "import pyspark.sql.functions as F\n",
        "from pyspark.sql.types import *\n",
        "from pyspark.sql.window import Window\n",
        "from pyspark.sql.functions import *\n",
        "\n",
        "# Conexão do Storage\n",
        "from google.cloud import storage\n",
        "import os\n",
        "\n",
        "# MongoDB\n",
        "import pymongo\n",
        "from pymongo import MongoClient\n",
        "\n",
        "# Conector do Mysql\n",
        "from google.cloud.sql.connector import Connector\n",
        "import sqlalchemy"
      ],
      "metadata": {
        "id": "DUyq9CpjDyzV"
      },
      "execution_count": null,
      "outputs": []
    },
    {
      "cell_type": "code",
      "source": [
        "# Aumentar a quantidade de colunas\n",
        "pd.set_option('display.max_columns',100)"
      ],
      "metadata": {
        "id": "ulPrxuUjRuGB"
      },
      "execution_count": null,
      "outputs": []
    },
    {
      "cell_type": "markdown",
      "source": [
        "## 🔗 **2 - Configuração do ambiente e criação da conexão com os DataLakes**\n",
        "\n",
        "A primeira etapa do nosso trabalho é **tornar os dados brutos disponíveis em um Data Lake**. Nas diretrizes do projeto fora determinado que seriam dispostos os datasets originais (sem qualquer tipo de tratamento), além dos arquivos tratados após a fase de transformação.\n",
        "\n",
        "Os Data Lakes escolhidos foram o **Cloud Storage** do Google Cloud e o **Atlas MongoDB**. Para isso, vamos realizar a conexão com ambos e a partir daí realizar o procedimento necessário para tornar os dados disponíveis.\n",
        "\n",
        "Além disso nesta seção você encontra a conexão para o pyspark, que será utilizado na seção 5 para tratamento do DataFrame."
      ],
      "metadata": {
        "id": "Up8j0Hl6Bj2n"
      }
    },
    {
      "cell_type": "markdown",
      "source": [
        "### ☑️ **2.1- Conexão ao Mongo Atlas**\n",
        "\n",
        "Para realizar a conexão com o MongoDB é necessário a **criação de uma chave de acesso**. A que utilizaremos neste projeto é do tipo *certificate*, criada no console do MongoDB Atlas no caminho:\n",
        "\n",
        "    Database Access > ADD NEW DATABASE USER > certificate\n",
        "\n",
        "Como trata-se de um projeto escolar a chave que utilizamos está disponível para download neste 👉[link](https://storage.googleapis.com/projeto-ab-bc26/Keys/chave-mongo-projetodupla.pem), armazenada em um bucket de acesso público no Cloud Storage.\n",
        "\n",
        "Além disso, é necessário que haja a liberação de acesso à rede do cluster, que para fins didáticos, também está aberto publicamente com a faixa de IP padrão (0.0.0.0/0)."
      ],
      "metadata": {
        "id": "JuAGQ6zCCEzj"
      }
    },
    {
      "cell_type": "code",
      "source": [
        "# Enderenço do cluster                   \n",
        "uri = \"mongodb+srv://cluster0.2qynihy.mongodb.net/?authSource=%24external&authMechanism=MONGODB-X509&retryWrites=true&w=majority\"\n",
        "\n",
        "# Altenticando o Mongo\n",
        "client = MongoClient(uri,\n",
        "                     tls=True,\n",
        "                     tlsCertificateKeyFile='/content/chave-mongo-projetodupla.pem')"
      ],
      "metadata": {
        "id": "WIupLL3RCAsk"
      },
      "execution_count": null,
      "outputs": []
    },
    {
      "cell_type": "markdown",
      "source": [
        "###☑️ **2.2- Conexão ao Cloud Storage**\n",
        "\n",
        "Da mesma forma que ao MongoDB, se faz necessário autorização para acesso aos arquivos do Bucket destinados ao projeto, faremos isso por meio de uma chave de segurança do formato .json. Essa liberação é feita no Google Cloud IAM onde o caminho é o seguinte:\n",
        "\n",
        "    Cloud IAM > Service accounts > Create new service account\n",
        "\n",
        "Onde será realizado a permissão aos serviços do Cloud Storage. Com ele criado vamos em:\n",
        "\n",
        "    Actions > Manage Keys > Add Key > Create New Key\n",
        "\n",
        "Faça o download do arquivo e coloque nos arquivos do seu Google Colab e partir daí já podemos conectá-lo ao Cloud Storage como mostra abaixo. A chave utilizada neste projeto encontra-se disponivel para download [neste link](https://storage.googleapis.com/projeto-ab-bc26/Keys/chave-service-storage-projetodupla.json).👈\n"
      ],
      "metadata": {
        "id": "90l7wyOgCPJk"
      }
    },
    {
      "cell_type": "code",
      "source": [
        "# Configuração da chave de segurança\n",
        "serviceAccount = '/content/projeto-dupla-bc26-38611494a529.json'\n",
        "os.environ['GOOGLE_APPLICATION_CREDENTIALS'] = serviceAccount"
      ],
      "metadata": {
        "id": "GgA5OGiLCULD"
      },
      "execution_count": null,
      "outputs": []
    },
    {
      "cell_type": "code",
      "source": [
        "# Fazer acesso ao bucket do Cloud Storage\n",
        "client = storage.Client()\n",
        "\n",
        "# Criar uma variável para receber o nome do bucket\n",
        "bucket = client.get_bucket('projeto-ab-bc26')"
      ],
      "metadata": {
        "id": "D7FUMd7QPCd3"
      },
      "execution_count": null,
      "outputs": []
    },
    {
      "cell_type": "markdown",
      "source": [
        "###☑️ **2.3 - Conexão com ambiente Spark**\n",
        "\n",
        "Vamos criar a conexão com o spark através da biblioteca **SparkSession**, onde:\n",
        "\n",
        " - master: é a máquina principal para execução;\n",
        " - appname: representa o nome da aplicação;\n",
        " - config: porta local;\n",
        " - getorcreate: retorna ou cria a sessão, caso não exista."
      ],
      "metadata": {
        "id": "-wU47FkB1OUW"
      }
    },
    {
      "cell_type": "code",
      "source": [
        "# Configurando a variável de ambiente (sessão) Spark \n",
        "spark = (SparkSession.builder\n",
        "                    .master('local')\n",
        "                    .appName('projeto-pyspark')\n",
        "                    .config('spark.ui.port', '4050')\n",
        "                    .getOrCreate()\n",
        ")"
      ],
      "metadata": {
        "id": "0SvQretR2BD_"
      },
      "execution_count": null,
      "outputs": []
    },
    {
      "cell_type": "code",
      "source": [
        "# Testando se a variável foi iniciada\n",
        "spark"
      ],
      "metadata": {
        "id": "gl2TlTYQ2IY_",
        "colab": {
          "base_uri": "https://localhost:8080/"
        },
        "outputId": "a8d13265-a14f-41e3-c661-6766fc7f7f3d"
      },
      "execution_count": null,
      "outputs": [
        {
          "output_type": "execute_result",
          "data": {
            "text/plain": [
              "<pyspark.sql.session.SparkSession at 0x7f938a9ebfd0>"
            ],
            "text/html": [
              "\n",
              "            <div>\n",
              "                <p><b>SparkSession - in-memory</b></p>\n",
              "                \n",
              "        <div>\n",
              "            <p><b>SparkContext</b></p>\n",
              "\n",
              "            <p><a href=\"http://a5d2e09a2d28:4050\">Spark UI</a></p>\n",
              "\n",
              "            <dl>\n",
              "              <dt>Version</dt>\n",
              "                <dd><code>v3.3.1</code></dd>\n",
              "              <dt>Master</dt>\n",
              "                <dd><code>local</code></dd>\n",
              "              <dt>AppName</dt>\n",
              "                <dd><code>projeto-pyspark</code></dd>\n",
              "            </dl>\n",
              "        </div>\n",
              "        \n",
              "            </div>\n",
              "        "
            ]
          },
          "metadata": {},
          "execution_count": 11
        }
      ]
    },
    {
      "cell_type": "markdown",
      "source": [
        "## ⚒️ **3 - Extração e carregamento dos dados nos Data Lakes** \n",
        "\n",
        "Neste projeto em específico trataremos de um caso **ELTL**, onde extrairemos os dados da fonte (E), carregaremos os dados brutos nos Data Lakes (L), após isso trataremos as bases (T) e por fim carregaremos novamente (L) a fim de remover inconsistências nos dados."
      ],
      "metadata": {
        "id": "Gf2sZWP9C5qd"
      }
    },
    {
      "cell_type": "markdown",
      "source": [
        "###☑️ **3.1 - Criação dos DataFrames para carregamento**\n",
        "\n",
        "Após configurar e realizar o acesso aos Data Lakes, chegou a hora de carregar os dados brutos. Para isso, importamos os arquivos do formato .csv para este Colab e a partir deles criamos os DataFrames com o pandas para verificar se estão prontos para a carga."
      ],
      "metadata": {
        "id": "10FpO9KRPYan"
      }
    },
    {
      "cell_type": "code",
      "source": [
        "# Salvando caminho dos arquivos em uma variável\n",
        "url1 = '/content/D.SDA.PDA.005.CAT.202201.csv'\n",
        "url2 = '/content/D.SDA.PDA.005.CAT.202204.csv'\n",
        "url3 = '/content/D.SDA.PDA.005.CAT.202210.csv'"
      ],
      "metadata": {
        "id": "K6kGCY2LPfvf"
      },
      "execution_count": null,
      "outputs": []
    },
    {
      "cell_type": "code",
      "source": [
        "# Criando os DataFrames\n",
        "df_cat1 = pd.read_csv(url1, sep=';', encoding='ISO-8859-1')\n",
        "df_cat2 = pd.read_csv(url2, sep=';', encoding='ISO-8859-1')\n",
        "df_cat3 = pd.read_csv(url3, sep=';', encoding='ISO-8859-1')"
      ],
      "metadata": {
        "id": "ai3AJG1AP5OR"
      },
      "execution_count": null,
      "outputs": []
    },
    {
      "cell_type": "markdown",
      "source": [
        "A codificação aplicadas aos Dataset's foi o **ISO-8859-1**, que corresponde ao modelo dos mesmos."
      ],
      "metadata": {
        "id": "aootdG6igoVq"
      }
    },
    {
      "cell_type": "code",
      "source": [
        "# Pré visualizar os dados\n",
        "df_cat1"
      ],
      "metadata": {
        "colab": {
          "base_uri": "https://localhost:8080/",
          "height": 1000
        },
        "id": "Z0ZAcSlQTUlQ",
        "outputId": "bd493236-9a56-4621-f73b-26a9cab30f34"
      },
      "execution_count": null,
      "outputs": [
        {
          "output_type": "execute_result",
          "data": {
            "text/html": [
              "\n",
              "  <div id=\"df-d374d8a7-48e4-4c08-922a-98d42eb4ec51\">\n",
              "    <div class=\"colab-df-container\">\n",
              "      <div>\n",
              "<style scoped>\n",
              "    .dataframe tbody tr th:only-of-type {\n",
              "        vertical-align: middle;\n",
              "    }\n",
              "\n",
              "    .dataframe tbody tr th {\n",
              "        vertical-align: top;\n",
              "    }\n",
              "\n",
              "    .dataframe thead th {\n",
              "        text-align: right;\n",
              "    }\n",
              "</style>\n",
              "<table border=\"1\" class=\"dataframe\">\n",
              "  <thead>\n",
              "    <tr style=\"text-align: right;\">\n",
              "      <th></th>\n",
              "      <th>Agente  Causador  Acidente</th>\n",
              "      <th>Data Acidente</th>\n",
              "      <th>CBO</th>\n",
              "      <th>CID-10</th>\n",
              "      <th>CNAE2.0 Empregador</th>\n",
              "      <th>CNAE2.0 Empregador.1</th>\n",
              "      <th>Emitente CAT</th>\n",
              "      <th>Espécie do benefício</th>\n",
              "      <th>Filiação Segurado</th>\n",
              "      <th>Indica Óbito Acidente</th>\n",
              "      <th>Munic Empr</th>\n",
              "      <th>Natureza da Lesão</th>\n",
              "      <th>Origem de Cadastramento CAT</th>\n",
              "      <th>Parte Corpo Atingida</th>\n",
              "      <th>Sexo</th>\n",
              "      <th>Tipo do Acidente</th>\n",
              "      <th>UF  Munic.  Acidente</th>\n",
              "      <th>UF Munic. Empregador</th>\n",
              "      <th>Data Acidente.1</th>\n",
              "      <th>Data Despacho Benefício</th>\n",
              "      <th>Data Acidente.2</th>\n",
              "      <th>Data Nascimento</th>\n",
              "      <th>Data Emissão CAT</th>\n",
              "      <th>CNPJ/CEI Empregador</th>\n",
              "    </tr>\n",
              "  </thead>\n",
              "  <tbody>\n",
              "    <tr>\n",
              "      <th>0</th>\n",
              "      <td>{ñ class}</td>\n",
              "      <td>2022/01</td>\n",
              "      <td>515105-Agente Comunitário de Saúde</td>\n",
              "      <td>B34.2 Infecc p/Coronavirus Ne</td>\n",
              "      <td>8630</td>\n",
              "      <td>Atividades de Atencao Ambulatorial Executadas</td>\n",
              "      <td>Empregador</td>\n",
              "      <td>Pa</td>\n",
              "      <td>Empregado</td>\n",
              "      <td>Não</td>\n",
              "      <td>354780-Santo André-Sp</td>\n",
              "      <td>Doenca Contagiosa ou Infecciosa (Tuberculos</td>\n",
              "      <td>Internet</td>\n",
              "      <td>Aparelho Respiratorio</td>\n",
              "      <td>Feminino</td>\n",
              "      <td>Doença</td>\n",
              "      <td>Maranhão</td>\n",
              "      <td>São Paulo</td>\n",
              "      <td>2022/01</td>\n",
              "      <td>0000/00</td>\n",
              "      <td>20/01/2022</td>\n",
              "      <td>02/08/1970</td>\n",
              "      <td>01/03/2022</td>\n",
              "      <td>57.571.275.002.570</td>\n",
              "    </tr>\n",
              "    <tr>\n",
              "      <th>1</th>\n",
              "      <td>Motocicleta, Motoneta</td>\n",
              "      <td>2022/02</td>\n",
              "      <td>519110-Motociclista no Transporte de Document</td>\n",
              "      <td>S52.5 Frat da Extremidade Distal do Radio</td>\n",
              "      <td>4930</td>\n",
              "      <td>Transporte Rodoviario de Carga</td>\n",
              "      <td>Segurado/Dependente</td>\n",
              "      <td>Pa</td>\n",
              "      <td>Empregado</td>\n",
              "      <td>Não</td>\n",
              "      <td>355030-São Paulo</td>\n",
              "      <td>Fratura</td>\n",
              "      <td>Internet</td>\n",
              "      <td>Braco (Entre O Punho a O Ombro)</td>\n",
              "      <td>Masculino</td>\n",
              "      <td>Trajeto</td>\n",
              "      <td>Maranhão</td>\n",
              "      <td>São Paulo</td>\n",
              "      <td>2022/02</td>\n",
              "      <td>0000/00</td>\n",
              "      <td>25/02/2022</td>\n",
              "      <td>16/12/1990</td>\n",
              "      <td>01/03/2022</td>\n",
              "      <td>19.578.086.000.162</td>\n",
              "    </tr>\n",
              "    <tr>\n",
              "      <th>2</th>\n",
              "      <td>Motocicleta, Motoneta</td>\n",
              "      <td>2022/02</td>\n",
              "      <td>519110-Motociclista no Transporte de Document</td>\n",
              "      <td>S52.5 Frat da Extremidade Distal do Radio</td>\n",
              "      <td>4930</td>\n",
              "      <td>Transporte Rodoviario de Carga</td>\n",
              "      <td>Segurado/Dependente</td>\n",
              "      <td>Pa</td>\n",
              "      <td>Empregado</td>\n",
              "      <td>Não</td>\n",
              "      <td>355030-São Paulo</td>\n",
              "      <td>Fratura</td>\n",
              "      <td>Internet</td>\n",
              "      <td>Braco (Entre O Punho a O Ombro)</td>\n",
              "      <td>Masculino</td>\n",
              "      <td>Trajeto</td>\n",
              "      <td>Maranhão</td>\n",
              "      <td>São Paulo</td>\n",
              "      <td>2022/02</td>\n",
              "      <td>0000/00</td>\n",
              "      <td>25/02/2022</td>\n",
              "      <td>16/12/1990</td>\n",
              "      <td>01/03/2022</td>\n",
              "      <td>19.578.086.000.162</td>\n",
              "    </tr>\n",
              "    <tr>\n",
              "      <th>3</th>\n",
              "      <td>Aprision. Em, Sobre ou Entre Dois ou Mai</td>\n",
              "      <td>2022/02</td>\n",
              "      <td>514205-Coletor Lixo</td>\n",
              "      <td>S60.0 Contusao de Dedos s/Lesao da Unha</td>\n",
              "      <td>3811</td>\n",
              "      <td>Coleta de Residuos Nao-Perigosos</td>\n",
              "      <td>Empregador</td>\n",
              "      <td>Pa</td>\n",
              "      <td>Empregado</td>\n",
              "      <td>Não</td>\n",
              "      <td>520110-Anápolis</td>\n",
              "      <td>Luxacao</td>\n",
              "      <td>Internet</td>\n",
              "      <td>Punho</td>\n",
              "      <td>Masculino</td>\n",
              "      <td>Típico</td>\n",
              "      <td>{ñ class}</td>\n",
              "      <td>Goiás</td>\n",
              "      <td>2022/02</td>\n",
              "      <td>0000/00</td>\n",
              "      <td>24/02/2022</td>\n",
              "      <td>19/09/1986</td>\n",
              "      <td>01/03/2022</td>\n",
              "      <td>00.000.000.000.000</td>\n",
              "    </tr>\n",
              "    <tr>\n",
              "      <th>4</th>\n",
              "      <td>Impacto de Pes. Contra Objeto em Movimento</td>\n",
              "      <td>2022/01</td>\n",
              "      <td>{ñ class}</td>\n",
              "      <td>S90.0 Contusao do Tornozelo</td>\n",
              "      <td>4639</td>\n",
              "      <td>Comercio Atacadista de Produtos Alimenticios</td>\n",
              "      <td>Empregador</td>\n",
              "      <td>Pa</td>\n",
              "      <td>Empregado</td>\n",
              "      <td>Não</td>\n",
              "      <td>330100-Campos dos Goytacazes</td>\n",
              "      <td>Luxacao</td>\n",
              "      <td>Internet</td>\n",
              "      <td>Perna (Entre O Tornozelo e a Pelvis)</td>\n",
              "      <td>Masculino</td>\n",
              "      <td>Típico</td>\n",
              "      <td>Maranhão</td>\n",
              "      <td>São Paulo</td>\n",
              "      <td>2022/01</td>\n",
              "      <td>0000/00</td>\n",
              "      <td>28/01/2022</td>\n",
              "      <td>25/07/1995</td>\n",
              "      <td>01/03/2022</td>\n",
              "      <td>00.000.000.000.000</td>\n",
              "    </tr>\n",
              "    <tr>\n",
              "      <th>...</th>\n",
              "      <td>...</td>\n",
              "      <td>...</td>\n",
              "      <td>...</td>\n",
              "      <td>...</td>\n",
              "      <td>...</td>\n",
              "      <td>...</td>\n",
              "      <td>...</td>\n",
              "      <td>...</td>\n",
              "      <td>...</td>\n",
              "      <td>...</td>\n",
              "      <td>...</td>\n",
              "      <td>...</td>\n",
              "      <td>...</td>\n",
              "      <td>...</td>\n",
              "      <td>...</td>\n",
              "      <td>...</td>\n",
              "      <td>...</td>\n",
              "      <td>...</td>\n",
              "      <td>...</td>\n",
              "      <td>...</td>\n",
              "      <td>...</td>\n",
              "      <td>...</td>\n",
              "      <td>...</td>\n",
              "      <td>...</td>\n",
              "    </tr>\n",
              "    <tr>\n",
              "      <th>152135</th>\n",
              "      <td>{ñ class}</td>\n",
              "      <td>2022/04</td>\n",
              "      <td>000000-Não Informado</td>\n",
              "      <td>S82.6 Frat do Maleolo Lateral</td>\n",
              "      <td>0</td>\n",
              "      <td>{ñ class}</td>\n",
              "      <td>{ñ class}</td>\n",
              "      <td>Auxílio Doenca por Acidente do Trabalho</td>\n",
              "      <td>{ñ class}</td>\n",
              "      <td>{ñ</td>\n",
              "      <td>000000-Ignorado</td>\n",
              "      <td>{ñ class}</td>\n",
              "      <td>{ñ class</td>\n",
              "      <td>{ñ class}</td>\n",
              "      <td>Masculino</td>\n",
              "      <td>Ignorado</td>\n",
              "      <td>Sergipe</td>\n",
              "      <td>Zerado</td>\n",
              "      <td>2022/04</td>\n",
              "      <td>2022/06</td>\n",
              "      <td>12/04/2022</td>\n",
              "      <td>08/11/1965</td>\n",
              "      <td>00/00/0000</td>\n",
              "      <td>00.000.000.000.000</td>\n",
              "    </tr>\n",
              "    <tr>\n",
              "      <th>152136</th>\n",
              "      <td>{ñ class}</td>\n",
              "      <td>2022/04</td>\n",
              "      <td>000000-Não Informado</td>\n",
              "      <td>S82.1 Frat da Extremidade Proximal da Tibia</td>\n",
              "      <td>0</td>\n",
              "      <td>{ñ class}</td>\n",
              "      <td>{ñ class}</td>\n",
              "      <td>Auxílio Doenca por Acidente do Trabalho</td>\n",
              "      <td>{ñ class}</td>\n",
              "      <td>{ñ</td>\n",
              "      <td>000000-Ignorado</td>\n",
              "      <td>{ñ class}</td>\n",
              "      <td>{ñ class</td>\n",
              "      <td>{ñ class}</td>\n",
              "      <td>Masculino</td>\n",
              "      <td>Ignorado</td>\n",
              "      <td>Sergipe</td>\n",
              "      <td>Zerado</td>\n",
              "      <td>2022/04</td>\n",
              "      <td>2022/06</td>\n",
              "      <td>30/04/2022</td>\n",
              "      <td>21/11/1985</td>\n",
              "      <td>00/00/0000</td>\n",
              "      <td>00.000.000.000.000</td>\n",
              "    </tr>\n",
              "    <tr>\n",
              "      <th>152137</th>\n",
              "      <td>{ñ class}</td>\n",
              "      <td>2022/05</td>\n",
              "      <td>000000-Não Informado</td>\n",
              "      <td>S62.6 Frat de Outr Dedos</td>\n",
              "      <td>0</td>\n",
              "      <td>{ñ class}</td>\n",
              "      <td>{ñ class}</td>\n",
              "      <td>Auxílio Doenca por Acidente do Trabalho</td>\n",
              "      <td>{ñ class}</td>\n",
              "      <td>{ñ</td>\n",
              "      <td>000000-Ignorado</td>\n",
              "      <td>{ñ class}</td>\n",
              "      <td>{ñ class</td>\n",
              "      <td>{ñ class}</td>\n",
              "      <td>Masculino</td>\n",
              "      <td>Ignorado</td>\n",
              "      <td>Sergipe</td>\n",
              "      <td>Zerado</td>\n",
              "      <td>2022/05</td>\n",
              "      <td>2022/06</td>\n",
              "      <td>05/05/2022</td>\n",
              "      <td>27/01/1992</td>\n",
              "      <td>00/00/0000</td>\n",
              "      <td>00.000.000.000.000</td>\n",
              "    </tr>\n",
              "    <tr>\n",
              "      <th>152138</th>\n",
              "      <td>{ñ class}</td>\n",
              "      <td>2022/05</td>\n",
              "      <td>000000-Não Informado</td>\n",
              "      <td>S82.6 Frat do Maleolo Lateral</td>\n",
              "      <td>0</td>\n",
              "      <td>{ñ class}</td>\n",
              "      <td>{ñ class}</td>\n",
              "      <td>Auxílio Doenca por Acidente do Trabalho</td>\n",
              "      <td>{ñ class}</td>\n",
              "      <td>{ñ</td>\n",
              "      <td>000000-Ignorado</td>\n",
              "      <td>{ñ class}</td>\n",
              "      <td>{ñ class</td>\n",
              "      <td>{ñ class}</td>\n",
              "      <td>Masculino</td>\n",
              "      <td>Ignorado</td>\n",
              "      <td>Sergipe</td>\n",
              "      <td>Zerado</td>\n",
              "      <td>2022/05</td>\n",
              "      <td>2022/06</td>\n",
              "      <td>15/05/2022</td>\n",
              "      <td>14/01/1975</td>\n",
              "      <td>00/00/0000</td>\n",
              "      <td>00.000.000.000.000</td>\n",
              "    </tr>\n",
              "    <tr>\n",
              "      <th>152139</th>\n",
              "      <td>{ñ class}</td>\n",
              "      <td>2022/06</td>\n",
              "      <td>000000-Não Informado</td>\n",
              "      <td>K42   Hernia Umbilical</td>\n",
              "      <td>0</td>\n",
              "      <td>{ñ class}</td>\n",
              "      <td>{ñ class}</td>\n",
              "      <td>Auxílio Doenca por Acidente do Trabalho</td>\n",
              "      <td>{ñ class}</td>\n",
              "      <td>{ñ</td>\n",
              "      <td>000000-Ignorado</td>\n",
              "      <td>{ñ class}</td>\n",
              "      <td>{ñ class</td>\n",
              "      <td>{ñ class}</td>\n",
              "      <td>Masculino</td>\n",
              "      <td>Ignorado</td>\n",
              "      <td>Sergipe</td>\n",
              "      <td>Zerado</td>\n",
              "      <td>2022/06</td>\n",
              "      <td>2022/06</td>\n",
              "      <td>07/06/2022</td>\n",
              "      <td>24/07/1971</td>\n",
              "      <td>00/00/0000</td>\n",
              "      <td>00.000.000.000.000</td>\n",
              "    </tr>\n",
              "  </tbody>\n",
              "</table>\n",
              "<p>152140 rows × 24 columns</p>\n",
              "</div>\n",
              "      <button class=\"colab-df-convert\" onclick=\"convertToInteractive('df-d374d8a7-48e4-4c08-922a-98d42eb4ec51')\"\n",
              "              title=\"Convert this dataframe to an interactive table.\"\n",
              "              style=\"display:none;\">\n",
              "        \n",
              "  <svg xmlns=\"http://www.w3.org/2000/svg\" height=\"24px\"viewBox=\"0 0 24 24\"\n",
              "       width=\"24px\">\n",
              "    <path d=\"M0 0h24v24H0V0z\" fill=\"none\"/>\n",
              "    <path d=\"M18.56 5.44l.94 2.06.94-2.06 2.06-.94-2.06-.94-.94-2.06-.94 2.06-2.06.94zm-11 1L8.5 8.5l.94-2.06 2.06-.94-2.06-.94L8.5 2.5l-.94 2.06-2.06.94zm10 10l.94 2.06.94-2.06 2.06-.94-2.06-.94-.94-2.06-.94 2.06-2.06.94z\"/><path d=\"M17.41 7.96l-1.37-1.37c-.4-.4-.92-.59-1.43-.59-.52 0-1.04.2-1.43.59L10.3 9.45l-7.72 7.72c-.78.78-.78 2.05 0 2.83L4 21.41c.39.39.9.59 1.41.59.51 0 1.02-.2 1.41-.59l7.78-7.78 2.81-2.81c.8-.78.8-2.07 0-2.86zM5.41 20L4 18.59l7.72-7.72 1.47 1.35L5.41 20z\"/>\n",
              "  </svg>\n",
              "      </button>\n",
              "      \n",
              "  <style>\n",
              "    .colab-df-container {\n",
              "      display:flex;\n",
              "      flex-wrap:wrap;\n",
              "      gap: 12px;\n",
              "    }\n",
              "\n",
              "    .colab-df-convert {\n",
              "      background-color: #E8F0FE;\n",
              "      border: none;\n",
              "      border-radius: 50%;\n",
              "      cursor: pointer;\n",
              "      display: none;\n",
              "      fill: #1967D2;\n",
              "      height: 32px;\n",
              "      padding: 0 0 0 0;\n",
              "      width: 32px;\n",
              "    }\n",
              "\n",
              "    .colab-df-convert:hover {\n",
              "      background-color: #E2EBFA;\n",
              "      box-shadow: 0px 1px 2px rgba(60, 64, 67, 0.3), 0px 1px 3px 1px rgba(60, 64, 67, 0.15);\n",
              "      fill: #174EA6;\n",
              "    }\n",
              "\n",
              "    [theme=dark] .colab-df-convert {\n",
              "      background-color: #3B4455;\n",
              "      fill: #D2E3FC;\n",
              "    }\n",
              "\n",
              "    [theme=dark] .colab-df-convert:hover {\n",
              "      background-color: #434B5C;\n",
              "      box-shadow: 0px 1px 3px 1px rgba(0, 0, 0, 0.15);\n",
              "      filter: drop-shadow(0px 1px 2px rgba(0, 0, 0, 0.3));\n",
              "      fill: #FFFFFF;\n",
              "    }\n",
              "  </style>\n",
              "\n",
              "      <script>\n",
              "        const buttonEl =\n",
              "          document.querySelector('#df-d374d8a7-48e4-4c08-922a-98d42eb4ec51 button.colab-df-convert');\n",
              "        buttonEl.style.display =\n",
              "          google.colab.kernel.accessAllowed ? 'block' : 'none';\n",
              "\n",
              "        async function convertToInteractive(key) {\n",
              "          const element = document.querySelector('#df-d374d8a7-48e4-4c08-922a-98d42eb4ec51');\n",
              "          const dataTable =\n",
              "            await google.colab.kernel.invokeFunction('convertToInteractive',\n",
              "                                                     [key], {});\n",
              "          if (!dataTable) return;\n",
              "\n",
              "          const docLinkHtml = 'Like what you see? Visit the ' +\n",
              "            '<a target=\"_blank\" href=https://colab.research.google.com/notebooks/data_table.ipynb>data table notebook</a>'\n",
              "            + ' to learn more about interactive tables.';\n",
              "          element.innerHTML = '';\n",
              "          dataTable['output_type'] = 'display_data';\n",
              "          await google.colab.output.renderOutput(dataTable, element);\n",
              "          const docLink = document.createElement('div');\n",
              "          docLink.innerHTML = docLinkHtml;\n",
              "          element.appendChild(docLink);\n",
              "        }\n",
              "      </script>\n",
              "    </div>\n",
              "  </div>\n",
              "  "
            ],
            "text/plain": [
              "                           Agente  Causador  Acidente  ... CNPJ/CEI Empregador\n",
              "0       {ñ class}                                      ...  57.571.275.002.570\n",
              "1       Motocicleta, Motoneta                          ...  19.578.086.000.162\n",
              "2       Motocicleta, Motoneta                          ...  19.578.086.000.162\n",
              "3       Aprision. Em, Sobre ou Entre Dois ou Mai       ...  00.000.000.000.000\n",
              "4       Impacto de Pes. Contra Objeto em Movimento     ...  00.000.000.000.000\n",
              "...                                               ...  ...                 ...\n",
              "152135  {ñ class}                                      ...  00.000.000.000.000\n",
              "152136  {ñ class}                                      ...  00.000.000.000.000\n",
              "152137  {ñ class}                                      ...  00.000.000.000.000\n",
              "152138  {ñ class}                                      ...  00.000.000.000.000\n",
              "152139  {ñ class}                                      ...  00.000.000.000.000\n",
              "\n",
              "[152140 rows x 24 columns]"
            ]
          },
          "metadata": {},
          "execution_count": 26
        }
      ]
    },
    {
      "cell_type": "code",
      "source": [
        "df_cat2"
      ],
      "metadata": {
        "colab": {
          "base_uri": "https://localhost:8080/",
          "height": 1000
        },
        "id": "Ym_8DzxiTbCM",
        "outputId": "d5d556d7-5613-4acf-8d52-bf3a983426d6"
      },
      "execution_count": null,
      "outputs": [
        {
          "output_type": "execute_result",
          "data": {
            "text/html": [
              "\n",
              "  <div id=\"df-90253559-d83c-411f-8f26-0eae4b67850c\">\n",
              "    <div class=\"colab-df-container\">\n",
              "      <div>\n",
              "<style scoped>\n",
              "    .dataframe tbody tr th:only-of-type {\n",
              "        vertical-align: middle;\n",
              "    }\n",
              "\n",
              "    .dataframe tbody tr th {\n",
              "        vertical-align: top;\n",
              "    }\n",
              "\n",
              "    .dataframe thead th {\n",
              "        text-align: right;\n",
              "    }\n",
              "</style>\n",
              "<table border=\"1\" class=\"dataframe\">\n",
              "  <thead>\n",
              "    <tr style=\"text-align: right;\">\n",
              "      <th></th>\n",
              "      <th>Agente  Causador  Acidente</th>\n",
              "      <th>Data Acidente</th>\n",
              "      <th>CBO</th>\n",
              "      <th>CID-10</th>\n",
              "      <th>CNAE2.0 Empregador</th>\n",
              "      <th>CNAE2.0 Empregador.1</th>\n",
              "      <th>Emitente CAT</th>\n",
              "      <th>Espécie do benefício</th>\n",
              "      <th>Filiação Segurado</th>\n",
              "      <th>Indica Óbito Acidente</th>\n",
              "      <th>Munic Empr</th>\n",
              "      <th>Natureza da Lesão</th>\n",
              "      <th>Origem de Cadastramento CAT</th>\n",
              "      <th>Parte Corpo Atingida</th>\n",
              "      <th>Sexo</th>\n",
              "      <th>Tipo do Acidente</th>\n",
              "      <th>UF  Munic.  Acidente</th>\n",
              "      <th>UF Munic. Empregador</th>\n",
              "      <th>Data Acidente.1</th>\n",
              "      <th>Data Despacho Benefício</th>\n",
              "      <th>Data Acidente.2</th>\n",
              "      <th>Data Nascimento</th>\n",
              "      <th>Data Emissão CAT</th>\n",
              "      <th>CNPJ/CEI Empregador</th>\n",
              "    </tr>\n",
              "  </thead>\n",
              "  <tbody>\n",
              "    <tr>\n",
              "      <th>0</th>\n",
              "      <td>ñ class}</td>\n",
              "      <td>2022/05</td>\n",
              "      <td>322205-Tec. de Enfermagem</td>\n",
              "      <td>Y28.2 Escolas Outr Instit Areas Admin Publica</td>\n",
              "      <td>8630</td>\n",
              "      <td>Atividades de Atencao Ambulatorial Executadas</td>\n",
              "      <td>Empregador</td>\n",
              "      <td>Pa</td>\n",
              "      <td>Empregado</td>\n",
              "      <td>Não</td>\n",
              "      <td>354780-Santo André-Sp</td>\n",
              "      <td>Lesao Imediata</td>\n",
              "      <td>Internet</td>\n",
              "      <td>Dedo</td>\n",
              "      <td>Masculino</td>\n",
              "      <td>Típico</td>\n",
              "      <td>Maranhão</td>\n",
              "      <td>São Paulo</td>\n",
              "      <td>2022/05</td>\n",
              "      <td>0000/00</td>\n",
              "      <td>26/05/2022</td>\n",
              "      <td>13/11/1989</td>\n",
              "      <td>01/06/2022</td>\n",
              "      <td>57.571.275.002.570</td>\n",
              "    </tr>\n",
              "    <tr>\n",
              "      <th>1</th>\n",
              "      <td>Rua e Estrada - Superficie Utilizada para Sus</td>\n",
              "      <td>2022/05</td>\n",
              "      <td>992225-Auxiliar Geral de Conservação de Vias</td>\n",
              "      <td>S93.4 Entorse e Distensao do Tornozelo</td>\n",
              "      <td>8630</td>\n",
              "      <td>Atividades de Atencao Ambulatorial Executadas</td>\n",
              "      <td>Empregador</td>\n",
              "      <td>Pa</td>\n",
              "      <td>Empregado</td>\n",
              "      <td>Não</td>\n",
              "      <td>354780-Santo André-Sp</td>\n",
              "      <td>Luxacao</td>\n",
              "      <td>Internet</td>\n",
              "      <td>Perna Do Tornozelo, Exclusive, ao Joelho, Ex</td>\n",
              "      <td>Feminino</td>\n",
              "      <td>Trajeto</td>\n",
              "      <td>Maranhão</td>\n",
              "      <td>São Paulo</td>\n",
              "      <td>2022/05</td>\n",
              "      <td>0000/00</td>\n",
              "      <td>26/05/2022</td>\n",
              "      <td>19/04/1990</td>\n",
              "      <td>01/06/2022</td>\n",
              "      <td>57.571.275.002.570</td>\n",
              "    </tr>\n",
              "    <tr>\n",
              "      <th>2</th>\n",
              "      <td>ñ class}</td>\n",
              "      <td>2022/05</td>\n",
              "      <td>ñ class}</td>\n",
              "      <td>B34.2 Infecc p/Coronavirus Ne</td>\n",
              "      <td>8513</td>\n",
              "      <td>Ensino Fundamental</td>\n",
              "      <td>Empregador</td>\n",
              "      <td>Pa</td>\n",
              "      <td>Empregado</td>\n",
              "      <td>Não</td>\n",
              "      <td>354780-Santo André-Sp</td>\n",
              "      <td>Doenca Contagiosa ou Infecciosa Tuberculos</td>\n",
              "      <td>Internet</td>\n",
              "      <td>Aparelho Respiratorio</td>\n",
              "      <td>Feminino</td>\n",
              "      <td>Doença</td>\n",
              "      <td>Maranhão</td>\n",
              "      <td>São Paulo</td>\n",
              "      <td>2022/05</td>\n",
              "      <td>0000/00</td>\n",
              "      <td>29/05/2022</td>\n",
              "      <td>13/09/1960</td>\n",
              "      <td>01/06/2022</td>\n",
              "      <td>47.715.347.000.184</td>\n",
              "    </tr>\n",
              "    <tr>\n",
              "      <th>3</th>\n",
              "      <td>Revestimento Ceramico Azulejo, Mosaico, Etc.</td>\n",
              "      <td>2022/05</td>\n",
              "      <td>783225-Ajudante de Motorista</td>\n",
              "      <td>S90.3 Contusao de Outr Partes e Partes Ne Do</td>\n",
              "      <td>4744</td>\n",
              "      <td>Comercio Varejista de Ferragens, Madeira e Ma</td>\n",
              "      <td>Empregador</td>\n",
              "      <td>Pa</td>\n",
              "      <td>Empregado</td>\n",
              "      <td>Não</td>\n",
              "      <td>350210-Andradina</td>\n",
              "      <td>Contusao, Esmagamento Superficie Cutanea I</td>\n",
              "      <td>Internet</td>\n",
              "      <td>Pe Exceto Artelhos</td>\n",
              "      <td>Masculino</td>\n",
              "      <td>Típico</td>\n",
              "      <td>Maranhão</td>\n",
              "      <td>São Paulo</td>\n",
              "      <td>2022/05</td>\n",
              "      <td>0000/00</td>\n",
              "      <td>31/05/2022</td>\n",
              "      <td>17/07/1994</td>\n",
              "      <td>01/06/2022</td>\n",
              "      <td>38.300.481.000.123</td>\n",
              "    </tr>\n",
              "    <tr>\n",
              "      <th>4</th>\n",
              "      <td>Calcada ou Caminho para Pedestre - Superficie</td>\n",
              "      <td>2022/05</td>\n",
              "      <td>322205-Tec. de Enfermagem</td>\n",
              "      <td>S51.0 Ferim do Cotovelo</td>\n",
              "      <td>8610</td>\n",
              "      <td>Atividades de Atendimento Hospitalar</td>\n",
              "      <td>Empregador</td>\n",
              "      <td>Pa</td>\n",
              "      <td>Empregado</td>\n",
              "      <td>Não</td>\n",
              "      <td>350950-Campinas</td>\n",
              "      <td>Escoriacao, Abrasao Ferimento Superficial</td>\n",
              "      <td>Internet</td>\n",
              "      <td>Cotovelo</td>\n",
              "      <td>Feminino</td>\n",
              "      <td>Trajeto</td>\n",
              "      <td>Maranhão</td>\n",
              "      <td>São Paulo</td>\n",
              "      <td>2022/05</td>\n",
              "      <td>0000/00</td>\n",
              "      <td>30/05/2022</td>\n",
              "      <td>30/01/1992</td>\n",
              "      <td>01/06/2022</td>\n",
              "      <td>46.020.301.000.269</td>\n",
              "    </tr>\n",
              "    <tr>\n",
              "      <th>...</th>\n",
              "      <td>...</td>\n",
              "      <td>...</td>\n",
              "      <td>...</td>\n",
              "      <td>...</td>\n",
              "      <td>...</td>\n",
              "      <td>...</td>\n",
              "      <td>...</td>\n",
              "      <td>...</td>\n",
              "      <td>...</td>\n",
              "      <td>...</td>\n",
              "      <td>...</td>\n",
              "      <td>...</td>\n",
              "      <td>...</td>\n",
              "      <td>...</td>\n",
              "      <td>...</td>\n",
              "      <td>...</td>\n",
              "      <td>...</td>\n",
              "      <td>...</td>\n",
              "      <td>...</td>\n",
              "      <td>...</td>\n",
              "      <td>...</td>\n",
              "      <td>...</td>\n",
              "      <td>...</td>\n",
              "      <td>...</td>\n",
              "    </tr>\n",
              "    <tr>\n",
              "      <th>89597</th>\n",
              "      <td>ñ class}</td>\n",
              "      <td>2022/04</td>\n",
              "      <td>000000-Não Informado</td>\n",
              "      <td>S82.6 Frat do Maleolo Lateral</td>\n",
              "      <td>0</td>\n",
              "      <td>ñ class}</td>\n",
              "      <td>ñ class}</td>\n",
              "      <td>Auxílio Doenca por Acidente do Trabalho</td>\n",
              "      <td>ñ class}</td>\n",
              "      <td>ñ</td>\n",
              "      <td>000000-Ignorado</td>\n",
              "      <td>ñ class}</td>\n",
              "      <td>ñ class</td>\n",
              "      <td>ñ class}</td>\n",
              "      <td>Masculino</td>\n",
              "      <td>Ignorado</td>\n",
              "      <td>Sergipe</td>\n",
              "      <td>Zerado</td>\n",
              "      <td>2022/04</td>\n",
              "      <td>2022/06</td>\n",
              "      <td>12/04/2022</td>\n",
              "      <td>08/11/1965</td>\n",
              "      <td>00/00/0000</td>\n",
              "      <td>00.000.000.000.000</td>\n",
              "    </tr>\n",
              "    <tr>\n",
              "      <th>89598</th>\n",
              "      <td>ñ class}</td>\n",
              "      <td>2022/04</td>\n",
              "      <td>000000-Não Informado</td>\n",
              "      <td>S82.1 Frat da Extremidade Proximal da Tibia</td>\n",
              "      <td>0</td>\n",
              "      <td>ñ class}</td>\n",
              "      <td>ñ class}</td>\n",
              "      <td>Auxílio Doenca por Acidente do Trabalho</td>\n",
              "      <td>ñ class}</td>\n",
              "      <td>ñ</td>\n",
              "      <td>000000-Ignorado</td>\n",
              "      <td>ñ class}</td>\n",
              "      <td>ñ class</td>\n",
              "      <td>ñ class}</td>\n",
              "      <td>Masculino</td>\n",
              "      <td>Ignorado</td>\n",
              "      <td>Sergipe</td>\n",
              "      <td>Zerado</td>\n",
              "      <td>2022/04</td>\n",
              "      <td>2022/06</td>\n",
              "      <td>30/04/2022</td>\n",
              "      <td>21/11/1985</td>\n",
              "      <td>00/00/0000</td>\n",
              "      <td>00.000.000.000.000</td>\n",
              "    </tr>\n",
              "    <tr>\n",
              "      <th>89599</th>\n",
              "      <td>ñ class}</td>\n",
              "      <td>2022/05</td>\n",
              "      <td>000000-Não Informado</td>\n",
              "      <td>S62.6 Frat de Outr Dedos</td>\n",
              "      <td>0</td>\n",
              "      <td>ñ class}</td>\n",
              "      <td>ñ class}</td>\n",
              "      <td>Auxílio Doenca por Acidente do Trabalho</td>\n",
              "      <td>ñ class}</td>\n",
              "      <td>ñ</td>\n",
              "      <td>000000-Ignorado</td>\n",
              "      <td>ñ class}</td>\n",
              "      <td>ñ class</td>\n",
              "      <td>ñ class}</td>\n",
              "      <td>Masculino</td>\n",
              "      <td>Ignorado</td>\n",
              "      <td>Sergipe</td>\n",
              "      <td>Zerado</td>\n",
              "      <td>2022/05</td>\n",
              "      <td>2022/06</td>\n",
              "      <td>05/05/2022</td>\n",
              "      <td>27/01/1992</td>\n",
              "      <td>00/00/0000</td>\n",
              "      <td>00.000.000.000.000</td>\n",
              "    </tr>\n",
              "    <tr>\n",
              "      <th>89600</th>\n",
              "      <td>ñ class}</td>\n",
              "      <td>2022/05</td>\n",
              "      <td>000000-Não Informado</td>\n",
              "      <td>S82.6 Frat do Maleolo Lateral</td>\n",
              "      <td>0</td>\n",
              "      <td>ñ class}</td>\n",
              "      <td>ñ class}</td>\n",
              "      <td>Auxílio Doenca por Acidente do Trabalho</td>\n",
              "      <td>ñ class}</td>\n",
              "      <td>ñ</td>\n",
              "      <td>000000-Ignorado</td>\n",
              "      <td>ñ class}</td>\n",
              "      <td>ñ class</td>\n",
              "      <td>ñ class}</td>\n",
              "      <td>Masculino</td>\n",
              "      <td>Ignorado</td>\n",
              "      <td>Sergipe</td>\n",
              "      <td>Zerado</td>\n",
              "      <td>2022/05</td>\n",
              "      <td>2022/06</td>\n",
              "      <td>15/05/2022</td>\n",
              "      <td>14/01/1975</td>\n",
              "      <td>00/00/0000</td>\n",
              "      <td>00.000.000.000.000</td>\n",
              "    </tr>\n",
              "    <tr>\n",
              "      <th>89601</th>\n",
              "      <td>ñ class}</td>\n",
              "      <td>2022/06</td>\n",
              "      <td>000000-Não Informado</td>\n",
              "      <td>K42   Hernia Umbilical</td>\n",
              "      <td>0</td>\n",
              "      <td>ñ class}</td>\n",
              "      <td>ñ class}</td>\n",
              "      <td>Auxílio Doenca por Acidente do Trabalho</td>\n",
              "      <td>ñ class}</td>\n",
              "      <td>ñ</td>\n",
              "      <td>000000-Ignorado</td>\n",
              "      <td>ñ class}</td>\n",
              "      <td>ñ class</td>\n",
              "      <td>ñ class}</td>\n",
              "      <td>Masculino</td>\n",
              "      <td>Ignorado</td>\n",
              "      <td>Sergipe</td>\n",
              "      <td>Zerado</td>\n",
              "      <td>2022/06</td>\n",
              "      <td>2022/06</td>\n",
              "      <td>07/06/2022</td>\n",
              "      <td>24/07/1971</td>\n",
              "      <td>00/00/0000</td>\n",
              "      <td>00.000.000.000.000</td>\n",
              "    </tr>\n",
              "  </tbody>\n",
              "</table>\n",
              "<p>89602 rows × 24 columns</p>\n",
              "</div>\n",
              "      <button class=\"colab-df-convert\" onclick=\"convertToInteractive('df-90253559-d83c-411f-8f26-0eae4b67850c')\"\n",
              "              title=\"Convert this dataframe to an interactive table.\"\n",
              "              style=\"display:none;\">\n",
              "        \n",
              "  <svg xmlns=\"http://www.w3.org/2000/svg\" height=\"24px\"viewBox=\"0 0 24 24\"\n",
              "       width=\"24px\">\n",
              "    <path d=\"M0 0h24v24H0V0z\" fill=\"none\"/>\n",
              "    <path d=\"M18.56 5.44l.94 2.06.94-2.06 2.06-.94-2.06-.94-.94-2.06-.94 2.06-2.06.94zm-11 1L8.5 8.5l.94-2.06 2.06-.94-2.06-.94L8.5 2.5l-.94 2.06-2.06.94zm10 10l.94 2.06.94-2.06 2.06-.94-2.06-.94-.94-2.06-.94 2.06-2.06.94z\"/><path d=\"M17.41 7.96l-1.37-1.37c-.4-.4-.92-.59-1.43-.59-.52 0-1.04.2-1.43.59L10.3 9.45l-7.72 7.72c-.78.78-.78 2.05 0 2.83L4 21.41c.39.39.9.59 1.41.59.51 0 1.02-.2 1.41-.59l7.78-7.78 2.81-2.81c.8-.78.8-2.07 0-2.86zM5.41 20L4 18.59l7.72-7.72 1.47 1.35L5.41 20z\"/>\n",
              "  </svg>\n",
              "      </button>\n",
              "      \n",
              "  <style>\n",
              "    .colab-df-container {\n",
              "      display:flex;\n",
              "      flex-wrap:wrap;\n",
              "      gap: 12px;\n",
              "    }\n",
              "\n",
              "    .colab-df-convert {\n",
              "      background-color: #E8F0FE;\n",
              "      border: none;\n",
              "      border-radius: 50%;\n",
              "      cursor: pointer;\n",
              "      display: none;\n",
              "      fill: #1967D2;\n",
              "      height: 32px;\n",
              "      padding: 0 0 0 0;\n",
              "      width: 32px;\n",
              "    }\n",
              "\n",
              "    .colab-df-convert:hover {\n",
              "      background-color: #E2EBFA;\n",
              "      box-shadow: 0px 1px 2px rgba(60, 64, 67, 0.3), 0px 1px 3px 1px rgba(60, 64, 67, 0.15);\n",
              "      fill: #174EA6;\n",
              "    }\n",
              "\n",
              "    [theme=dark] .colab-df-convert {\n",
              "      background-color: #3B4455;\n",
              "      fill: #D2E3FC;\n",
              "    }\n",
              "\n",
              "    [theme=dark] .colab-df-convert:hover {\n",
              "      background-color: #434B5C;\n",
              "      box-shadow: 0px 1px 3px 1px rgba(0, 0, 0, 0.15);\n",
              "      filter: drop-shadow(0px 1px 2px rgba(0, 0, 0, 0.3));\n",
              "      fill: #FFFFFF;\n",
              "    }\n",
              "  </style>\n",
              "\n",
              "      <script>\n",
              "        const buttonEl =\n",
              "          document.querySelector('#df-90253559-d83c-411f-8f26-0eae4b67850c button.colab-df-convert');\n",
              "        buttonEl.style.display =\n",
              "          google.colab.kernel.accessAllowed ? 'block' : 'none';\n",
              "\n",
              "        async function convertToInteractive(key) {\n",
              "          const element = document.querySelector('#df-90253559-d83c-411f-8f26-0eae4b67850c');\n",
              "          const dataTable =\n",
              "            await google.colab.kernel.invokeFunction('convertToInteractive',\n",
              "                                                     [key], {});\n",
              "          if (!dataTable) return;\n",
              "\n",
              "          const docLinkHtml = 'Like what you see? Visit the ' +\n",
              "            '<a target=\"_blank\" href=https://colab.research.google.com/notebooks/data_table.ipynb>data table notebook</a>'\n",
              "            + ' to learn more about interactive tables.';\n",
              "          element.innerHTML = '';\n",
              "          dataTable['output_type'] = 'display_data';\n",
              "          await google.colab.output.renderOutput(dataTable, element);\n",
              "          const docLink = document.createElement('div');\n",
              "          docLink.innerHTML = docLinkHtml;\n",
              "          element.appendChild(docLink);\n",
              "        }\n",
              "      </script>\n",
              "    </div>\n",
              "  </div>\n",
              "  "
            ],
            "text/plain": [
              "                          Agente  Causador  Acidente  ... CNPJ/CEI Empregador\n",
              "0       ñ class}                                      ...  57.571.275.002.570\n",
              "1      Rua e Estrada - Superficie Utilizada para Sus  ...  57.571.275.002.570\n",
              "2       ñ class}                                      ...  47.715.347.000.184\n",
              "3       Revestimento Ceramico Azulejo, Mosaico, Etc.  ...  38.300.481.000.123\n",
              "4      Calcada ou Caminho para Pedestre - Superficie  ...  46.020.301.000.269\n",
              "...                                              ...  ...                 ...\n",
              "89597   ñ class}                                      ...  00.000.000.000.000\n",
              "89598   ñ class}                                      ...  00.000.000.000.000\n",
              "89599   ñ class}                                      ...  00.000.000.000.000\n",
              "89600   ñ class}                                      ...  00.000.000.000.000\n",
              "89601   ñ class}                                      ...  00.000.000.000.000\n",
              "\n",
              "[89602 rows x 24 columns]"
            ]
          },
          "metadata": {},
          "execution_count": 45
        }
      ]
    },
    {
      "cell_type": "code",
      "source": [
        "df_cat3"
      ],
      "metadata": {
        "colab": {
          "base_uri": "https://localhost:8080/",
          "height": 1000
        },
        "id": "KbX0b5W_Tere",
        "outputId": "ab9f7c77-15c5-4f51-d4a9-08f88d7acdd6"
      },
      "execution_count": null,
      "outputs": [
        {
          "output_type": "execute_result",
          "data": {
            "text/html": [
              "\n",
              "  <div id=\"df-b2029685-944b-4296-83b1-55317726f6cb\">\n",
              "    <div class=\"colab-df-container\">\n",
              "      <div>\n",
              "<style scoped>\n",
              "    .dataframe tbody tr th:only-of-type {\n",
              "        vertical-align: middle;\n",
              "    }\n",
              "\n",
              "    .dataframe tbody tr th {\n",
              "        vertical-align: top;\n",
              "    }\n",
              "\n",
              "    .dataframe thead th {\n",
              "        text-align: right;\n",
              "    }\n",
              "</style>\n",
              "<table border=\"1\" class=\"dataframe\">\n",
              "  <thead>\n",
              "    <tr style=\"text-align: right;\">\n",
              "      <th></th>\n",
              "      <th>Agente  Causador  Acidente</th>\n",
              "      <th>Data Acidente</th>\n",
              "      <th>CBO</th>\n",
              "      <th>CID-10</th>\n",
              "      <th>CNAE2.0 Empregador</th>\n",
              "      <th>CNAE2.0 Empregador.1</th>\n",
              "      <th>Emitente CAT</th>\n",
              "      <th>Espécie do benefício</th>\n",
              "      <th>Filiação Segurado</th>\n",
              "      <th>Indica Óbito Acidente</th>\n",
              "      <th>Munic Empr</th>\n",
              "      <th>Natureza da Lesão</th>\n",
              "      <th>Origem de Cadastramento CAT</th>\n",
              "      <th>Parte Corpo Atingida</th>\n",
              "      <th>Sexo</th>\n",
              "      <th>Tipo do Acidente</th>\n",
              "      <th>UF  Munic.  Acidente</th>\n",
              "      <th>UF Munic. Empregador</th>\n",
              "      <th>Data Acidente.1</th>\n",
              "      <th>Data Despacho Benefício</th>\n",
              "      <th>Data Acidente.2</th>\n",
              "      <th>Data Nascimento</th>\n",
              "      <th>Data Emissão CAT</th>\n",
              "      <th>CNPJ/CEI Empregador</th>\n",
              "    </tr>\n",
              "  </thead>\n",
              "  <tbody>\n",
              "    <tr>\n",
              "      <th>0</th>\n",
              "      <td>Faca, Facao- Ferramenta Manual sem Forca Motr</td>\n",
              "      <td>2022/10</td>\n",
              "      <td>848515-Desossador</td>\n",
              "      <td>S51.0 Ferim do Cotovelo</td>\n",
              "      <td>1011</td>\n",
              "      <td>Abate de Reses, Exceto Suinos</td>\n",
              "      <td>Empregador</td>\n",
              "      <td>Pa</td>\n",
              "      <td>Empregado</td>\n",
              "      <td>Não</td>\n",
              "      <td>521570-Palmeiras de Goiás</td>\n",
              "      <td>Corte, Laceracao, Ferida Contusa, Punctura</td>\n",
              "      <td>Internet</td>\n",
              "      <td>Cotovelo</td>\n",
              "      <td>Masculino</td>\n",
              "      <td>Típico</td>\n",
              "      <td>{ñ class}</td>\n",
              "      <td>Goiás</td>\n",
              "      <td>2022/10</td>\n",
              "      <td>0000/00</td>\n",
              "      <td>05/10/2022</td>\n",
              "      <td>05/11/1988</td>\n",
              "      <td>06/10/2022</td>\n",
              "      <td>00.000.000.000.000</td>\n",
              "    </tr>\n",
              "    <tr>\n",
              "      <th>1</th>\n",
              "      <td>Aprision. Em, Sob ou Entre, Nic</td>\n",
              "      <td>2022/10</td>\n",
              "      <td>324115-Tec. em Radiologia e Imagenologia</td>\n",
              "      <td>S60.0 Contusao de Dedos s/Lesao da Unha</td>\n",
              "      <td>8610</td>\n",
              "      <td>Atividades de Atendimento Hospitalar</td>\n",
              "      <td>Empregador</td>\n",
              "      <td>Pa</td>\n",
              "      <td>Empregado</td>\n",
              "      <td>Não</td>\n",
              "      <td>352590-Jundiaí</td>\n",
              "      <td>Contusao, Esmagamento (Superficie Cutanea I</td>\n",
              "      <td>Internet</td>\n",
              "      <td>Dedo</td>\n",
              "      <td>Masculino</td>\n",
              "      <td>Típico</td>\n",
              "      <td>Maranhão</td>\n",
              "      <td>São Paulo</td>\n",
              "      <td>2022/10</td>\n",
              "      <td>0000/00</td>\n",
              "      <td>04/10/2022</td>\n",
              "      <td>02/02/1989</td>\n",
              "      <td>06/10/2022</td>\n",
              "      <td>00.000.000.000.000</td>\n",
              "    </tr>\n",
              "    <tr>\n",
              "      <th>2</th>\n",
              "      <td>Andaime, Plataforma - Edificio ou Estrutura</td>\n",
              "      <td>2022/10</td>\n",
              "      <td>715210-Pedreiro</td>\n",
              "      <td>S62.8 Frat de Outr Partes e de Partes Ne Punh</td>\n",
              "      <td>4120</td>\n",
              "      <td>Construcao de Edificios</td>\n",
              "      <td>Empregador</td>\n",
              "      <td>Pa</td>\n",
              "      <td>Empregado</td>\n",
              "      <td>Não</td>\n",
              "      <td>421370-Pouso Redondo</td>\n",
              "      <td>Fratura</td>\n",
              "      <td>Internet</td>\n",
              "      <td>Mao (Exceto Punho ou Dedos)</td>\n",
              "      <td>Masculino</td>\n",
              "      <td>Típico</td>\n",
              "      <td>{ñ class}</td>\n",
              "      <td>Santa Catarina</td>\n",
              "      <td>2022/10</td>\n",
              "      <td>0000/00</td>\n",
              "      <td>05/10/2022</td>\n",
              "      <td>07/02/1981</td>\n",
              "      <td>06/10/2022</td>\n",
              "      <td>00.000.000.000.000</td>\n",
              "    </tr>\n",
              "    <tr>\n",
              "      <th>3</th>\n",
              "      <td>Veiculo Rodoviario Motorizado</td>\n",
              "      <td>2022/10</td>\n",
              "      <td>784205-Alimentador de Linha de Prod.</td>\n",
              "      <td>T02.2 Frat Envolv Regioes Mult de Um Membro S</td>\n",
              "      <td>4211</td>\n",
              "      <td>Construcao de Rodovias e Ferrovias</td>\n",
              "      <td>Empregador</td>\n",
              "      <td>Pa</td>\n",
              "      <td>Empregado</td>\n",
              "      <td>Sim</td>\n",
              "      <td>314480-Nova Lima</td>\n",
              "      <td>Lesoes Multiplas</td>\n",
              "      <td>Internet</td>\n",
              "      <td>Partes Multiplas - Aplica-Se Quando Mais de U</td>\n",
              "      <td>Masculino</td>\n",
              "      <td>Típico</td>\n",
              "      <td>Rondônia</td>\n",
              "      <td>Minas Gerais</td>\n",
              "      <td>2022/10</td>\n",
              "      <td>0000/00</td>\n",
              "      <td>05/10/2022</td>\n",
              "      <td>27/09/1958</td>\n",
              "      <td>06/10/2022</td>\n",
              "      <td>00.000.000.000.000</td>\n",
              "    </tr>\n",
              "    <tr>\n",
              "      <th>4</th>\n",
              "      <td>Impacto de Pes. Contra Objeto em Movimento</td>\n",
              "      <td>2022/10</td>\n",
              "      <td>717020-Servente de Obras</td>\n",
              "      <td>S62.5 Frat do Polegar</td>\n",
              "      <td>4110</td>\n",
              "      <td>Incorporacao de Empreendimentos Imobiliarios</td>\n",
              "      <td>Empregador</td>\n",
              "      <td>Pa</td>\n",
              "      <td>Empregado</td>\n",
              "      <td>Não</td>\n",
              "      <td>292740-Salvador</td>\n",
              "      <td>Fratura</td>\n",
              "      <td>Internet</td>\n",
              "      <td>Dedo</td>\n",
              "      <td>Masculino</td>\n",
              "      <td>Típico</td>\n",
              "      <td>{ñ class}</td>\n",
              "      <td>Bahia</td>\n",
              "      <td>2022/10</td>\n",
              "      <td>0000/00</td>\n",
              "      <td>05/10/2022</td>\n",
              "      <td>09/08/1976</td>\n",
              "      <td>06/10/2022</td>\n",
              "      <td>00.000.000.000.000</td>\n",
              "    </tr>\n",
              "    <tr>\n",
              "      <th>...</th>\n",
              "      <td>...</td>\n",
              "      <td>...</td>\n",
              "      <td>...</td>\n",
              "      <td>...</td>\n",
              "      <td>...</td>\n",
              "      <td>...</td>\n",
              "      <td>...</td>\n",
              "      <td>...</td>\n",
              "      <td>...</td>\n",
              "      <td>...</td>\n",
              "      <td>...</td>\n",
              "      <td>...</td>\n",
              "      <td>...</td>\n",
              "      <td>...</td>\n",
              "      <td>...</td>\n",
              "      <td>...</td>\n",
              "      <td>...</td>\n",
              "      <td>...</td>\n",
              "      <td>...</td>\n",
              "      <td>...</td>\n",
              "      <td>...</td>\n",
              "      <td>...</td>\n",
              "      <td>...</td>\n",
              "      <td>...</td>\n",
              "    </tr>\n",
              "    <tr>\n",
              "      <th>15654</th>\n",
              "      <td>Piso de Edificio - Superficie Utilizada Para</td>\n",
              "      <td>2022/09</td>\n",
              "      <td>{ñ class}</td>\n",
              "      <td>S62   Frat ao Nivel do Punho e da Mao</td>\n",
              "      <td>2330</td>\n",
              "      <td>Fabricacao de Artefatos de Concreto, Cimento,</td>\n",
              "      <td>{ñ class}</td>\n",
              "      <td>Auxílio Doenca por Acidente do Trabalho</td>\n",
              "      <td>Empregado</td>\n",
              "      <td>Não</td>\n",
              "      <td>410960-Guaratuba</td>\n",
              "      <td>Lesao Imediata</td>\n",
              "      <td>Internet</td>\n",
              "      <td>Mao (Exceto Punho ou Dedos)</td>\n",
              "      <td>Masculino</td>\n",
              "      <td>Típico</td>\n",
              "      <td>Roraima</td>\n",
              "      <td>Paraná</td>\n",
              "      <td>2022/09</td>\n",
              "      <td>2022/10</td>\n",
              "      <td>29/09/2022</td>\n",
              "      <td>18/09/1993</td>\n",
              "      <td>10/10/2022</td>\n",
              "      <td>21.161.901.000.135</td>\n",
              "    </tr>\n",
              "    <tr>\n",
              "      <th>15655</th>\n",
              "      <td>Escada Permanente Cujos Degraus Permitem Apoi</td>\n",
              "      <td>2022/10</td>\n",
              "      <td>232130-Prof. Física no Ensino Médio</td>\n",
              "      <td>S82   Frat da Perna Incl Tornozelo</td>\n",
              "      <td>8520</td>\n",
              "      <td>Ensino Medio</td>\n",
              "      <td>Autoridade Pública</td>\n",
              "      <td>Auxílio Doenca por Acidente do Trabalho</td>\n",
              "      <td>Empregado</td>\n",
              "      <td>Não</td>\n",
              "      <td>410690-Curitiba</td>\n",
              "      <td>Fratura</td>\n",
              "      <td>Internet</td>\n",
              "      <td>Perna (Do Tornozelo, Exclusive, ao Joelho, Ex</td>\n",
              "      <td>Feminino</td>\n",
              "      <td>Típico</td>\n",
              "      <td>Roraima</td>\n",
              "      <td>Paraná</td>\n",
              "      <td>2022/10</td>\n",
              "      <td>2022/11</td>\n",
              "      <td>06/10/2022</td>\n",
              "      <td>24/11/1986</td>\n",
              "      <td>07/10/2022</td>\n",
              "      <td>76.416.965.000.121</td>\n",
              "    </tr>\n",
              "    <tr>\n",
              "      <th>15656</th>\n",
              "      <td>Andaime, Plataforma - Edificio ou Estrutura</td>\n",
              "      <td>2022/09</td>\n",
              "      <td>517330-Vigilante</td>\n",
              "      <td>S82.7 Frat Mult da Perna</td>\n",
              "      <td>8112</td>\n",
              "      <td>Condominios Prediais</td>\n",
              "      <td>Segurado/Dependente</td>\n",
              "      <td>Auxílio Doenca por Acidente do Trabalho</td>\n",
              "      <td>Empregado</td>\n",
              "      <td>Não</td>\n",
              "      <td>420460-Criciúma</td>\n",
              "      <td>Fratura</td>\n",
              "      <td>Internet</td>\n",
              "      <td>Membros Inferiores, Partes Multiplas (Qualque</td>\n",
              "      <td>Masculino</td>\n",
              "      <td>Típico</td>\n",
              "      <td>{ñ class}</td>\n",
              "      <td>Santa Catarina</td>\n",
              "      <td>2022/09</td>\n",
              "      <td>2022/10</td>\n",
              "      <td>20/09/2022</td>\n",
              "      <td>02/03/1986</td>\n",
              "      <td>10/10/2022</td>\n",
              "      <td>32.994.401.000.109</td>\n",
              "    </tr>\n",
              "    <tr>\n",
              "      <th>15657</th>\n",
              "      <td>Martelo, Malho, Marreta- Ferramenta Manual Se</td>\n",
              "      <td>2022/10</td>\n",
              "      <td>724315-Soldador</td>\n",
              "      <td>S62.6 Frat de Outr Dedos</td>\n",
              "      <td>7112</td>\n",
              "      <td>Servicos de Engenharia</td>\n",
              "      <td>Empregador</td>\n",
              "      <td>Auxílio Doenca por Acidente do Trabalho</td>\n",
              "      <td>Empregado</td>\n",
              "      <td>Não</td>\n",
              "      <td>411000-Iguaraçu</td>\n",
              "      <td>Fratura</td>\n",
              "      <td>Internet</td>\n",
              "      <td>Dedo</td>\n",
              "      <td>Masculino</td>\n",
              "      <td>Típico</td>\n",
              "      <td>Roraima</td>\n",
              "      <td>Paraná</td>\n",
              "      <td>2022/10</td>\n",
              "      <td>2022/10</td>\n",
              "      <td>05/10/2022</td>\n",
              "      <td>08/04/1984</td>\n",
              "      <td>06/10/2022</td>\n",
              "      <td>34.197.591.000.150</td>\n",
              "    </tr>\n",
              "    <tr>\n",
              "      <th>15658</th>\n",
              "      <td>Impacto de Pes. Contra Objeto Parado</td>\n",
              "      <td>2022/10</td>\n",
              "      <td>721215-Oper. Máquinas-Ferramenta Convencionai</td>\n",
              "      <td>S62.3 Frat de Outr Ossos do Metacarpo</td>\n",
              "      <td>2815</td>\n",
              "      <td>Fabricacao de Equipamentos de Transmissao par</td>\n",
              "      <td>Segurado/Dependente</td>\n",
              "      <td>Auxílio Doenca por Acidente do Trabalho</td>\n",
              "      <td>Empregado</td>\n",
              "      <td>Não</td>\n",
              "      <td>353130-Monte Alto</td>\n",
              "      <td>Fratura</td>\n",
              "      <td>Internet</td>\n",
              "      <td>Dedo</td>\n",
              "      <td>Masculino</td>\n",
              "      <td>Típico</td>\n",
              "      <td>Maranhão</td>\n",
              "      <td>São Paulo</td>\n",
              "      <td>2022/10</td>\n",
              "      <td>2022/10</td>\n",
              "      <td>03/10/2022</td>\n",
              "      <td>15/07/1993</td>\n",
              "      <td>18/10/2022</td>\n",
              "      <td>54.614.813.000.109</td>\n",
              "    </tr>\n",
              "  </tbody>\n",
              "</table>\n",
              "<p>15659 rows × 24 columns</p>\n",
              "</div>\n",
              "      <button class=\"colab-df-convert\" onclick=\"convertToInteractive('df-b2029685-944b-4296-83b1-55317726f6cb')\"\n",
              "              title=\"Convert this dataframe to an interactive table.\"\n",
              "              style=\"display:none;\">\n",
              "        \n",
              "  <svg xmlns=\"http://www.w3.org/2000/svg\" height=\"24px\"viewBox=\"0 0 24 24\"\n",
              "       width=\"24px\">\n",
              "    <path d=\"M0 0h24v24H0V0z\" fill=\"none\"/>\n",
              "    <path d=\"M18.56 5.44l.94 2.06.94-2.06 2.06-.94-2.06-.94-.94-2.06-.94 2.06-2.06.94zm-11 1L8.5 8.5l.94-2.06 2.06-.94-2.06-.94L8.5 2.5l-.94 2.06-2.06.94zm10 10l.94 2.06.94-2.06 2.06-.94-2.06-.94-.94-2.06-.94 2.06-2.06.94z\"/><path d=\"M17.41 7.96l-1.37-1.37c-.4-.4-.92-.59-1.43-.59-.52 0-1.04.2-1.43.59L10.3 9.45l-7.72 7.72c-.78.78-.78 2.05 0 2.83L4 21.41c.39.39.9.59 1.41.59.51 0 1.02-.2 1.41-.59l7.78-7.78 2.81-2.81c.8-.78.8-2.07 0-2.86zM5.41 20L4 18.59l7.72-7.72 1.47 1.35L5.41 20z\"/>\n",
              "  </svg>\n",
              "      </button>\n",
              "      \n",
              "  <style>\n",
              "    .colab-df-container {\n",
              "      display:flex;\n",
              "      flex-wrap:wrap;\n",
              "      gap: 12px;\n",
              "    }\n",
              "\n",
              "    .colab-df-convert {\n",
              "      background-color: #E8F0FE;\n",
              "      border: none;\n",
              "      border-radius: 50%;\n",
              "      cursor: pointer;\n",
              "      display: none;\n",
              "      fill: #1967D2;\n",
              "      height: 32px;\n",
              "      padding: 0 0 0 0;\n",
              "      width: 32px;\n",
              "    }\n",
              "\n",
              "    .colab-df-convert:hover {\n",
              "      background-color: #E2EBFA;\n",
              "      box-shadow: 0px 1px 2px rgba(60, 64, 67, 0.3), 0px 1px 3px 1px rgba(60, 64, 67, 0.15);\n",
              "      fill: #174EA6;\n",
              "    }\n",
              "\n",
              "    [theme=dark] .colab-df-convert {\n",
              "      background-color: #3B4455;\n",
              "      fill: #D2E3FC;\n",
              "    }\n",
              "\n",
              "    [theme=dark] .colab-df-convert:hover {\n",
              "      background-color: #434B5C;\n",
              "      box-shadow: 0px 1px 3px 1px rgba(0, 0, 0, 0.15);\n",
              "      filter: drop-shadow(0px 1px 2px rgba(0, 0, 0, 0.3));\n",
              "      fill: #FFFFFF;\n",
              "    }\n",
              "  </style>\n",
              "\n",
              "      <script>\n",
              "        const buttonEl =\n",
              "          document.querySelector('#df-b2029685-944b-4296-83b1-55317726f6cb button.colab-df-convert');\n",
              "        buttonEl.style.display =\n",
              "          google.colab.kernel.accessAllowed ? 'block' : 'none';\n",
              "\n",
              "        async function convertToInteractive(key) {\n",
              "          const element = document.querySelector('#df-b2029685-944b-4296-83b1-55317726f6cb');\n",
              "          const dataTable =\n",
              "            await google.colab.kernel.invokeFunction('convertToInteractive',\n",
              "                                                     [key], {});\n",
              "          if (!dataTable) return;\n",
              "\n",
              "          const docLinkHtml = 'Like what you see? Visit the ' +\n",
              "            '<a target=\"_blank\" href=https://colab.research.google.com/notebooks/data_table.ipynb>data table notebook</a>'\n",
              "            + ' to learn more about interactive tables.';\n",
              "          element.innerHTML = '';\n",
              "          dataTable['output_type'] = 'display_data';\n",
              "          await google.colab.output.renderOutput(dataTable, element);\n",
              "          const docLink = document.createElement('div');\n",
              "          docLink.innerHTML = docLinkHtml;\n",
              "          element.appendChild(docLink);\n",
              "        }\n",
              "      </script>\n",
              "    </div>\n",
              "  </div>\n",
              "  "
            ],
            "text/plain": [
              "                          Agente  Causador  Acidente  ... CNPJ/CEI Empregador\n",
              "0      Faca, Facao- Ferramenta Manual sem Forca Motr  ...  00.000.000.000.000\n",
              "1      Aprision. Em, Sob ou Entre, Nic                ...  00.000.000.000.000\n",
              "2      Andaime, Plataforma - Edificio ou Estrutura    ...  00.000.000.000.000\n",
              "3      Veiculo Rodoviario Motorizado                  ...  00.000.000.000.000\n",
              "4      Impacto de Pes. Contra Objeto em Movimento     ...  00.000.000.000.000\n",
              "...                                              ...  ...                 ...\n",
              "15654  Piso de Edificio - Superficie Utilizada Para   ...  21.161.901.000.135\n",
              "15655  Escada Permanente Cujos Degraus Permitem Apoi  ...  76.416.965.000.121\n",
              "15656  Andaime, Plataforma - Edificio ou Estrutura    ...  32.994.401.000.109\n",
              "15657  Martelo, Malho, Marreta- Ferramenta Manual Se  ...  34.197.591.000.150\n",
              "15658  Impacto de Pes. Contra Objeto Parado           ...  54.614.813.000.109\n",
              "\n",
              "[15659 rows x 24 columns]"
            ]
          },
          "metadata": {},
          "execution_count": 28
        }
      ]
    },
    {
      "cell_type": "markdown",
      "source": [
        "###☑️ **3.2- Carregamento para o Mongo Atlas**\n",
        "\n",
        "Verificado que se tratava dos arquivos corretos, começamos o processo de carga aos seus respectivos Data Lakes, no caso do MongoDB, transformamos os DataFrames para um formato compatível (**dicionário python**) para realizar a população de cada linha como um **documento** em suas respectivas **coleções**.\n",
        "\n",
        "Um outro detalhe importante é que o processo de carga ao MongoDB pelo pandas demanda **muita memória de processamento**, para suprir essa necessidade fora necessário dividir os arquivos dos primeiros dois trimestres de 2022 para carregá-los no Mongo, de forma a não gerar **erro de conexão por time out**."
      ],
      "metadata": {
        "id": "dj_ehvx1DJju"
      }
    },
    {
      "cell_type": "markdown",
      "source": [
        "**Carregando o primeiro DataFrame**"
      ],
      "metadata": {
        "id": "aC24guH_0q9Q"
      }
    },
    {
      "cell_type": "code",
      "source": [
        "#Escolha do DataBase e Coleção\n",
        "db_projeto = client['projeto_aquecimento']\n",
        "\n",
        "# Criando a coleção para o df_cat1\n",
        "colecaocat1 = db_projeto['DF-CAT-202201-orig']"
      ],
      "metadata": {
        "id": "uzj5XAlRsZbQ"
      },
      "execution_count": null,
      "outputs": []
    },
    {
      "cell_type": "code",
      "source": [
        "#Realizando a partição do arquivo\n",
        "df1_1 = df_cat1.loc[:30000]\n",
        "df1_2 = df_cat1.loc[30001:60000]\n",
        "df1_3 = df_cat1.loc[60001:90000]\n",
        "df1_4 = df_cat1.loc[90001:120000]\n",
        "df1_5 = df_cat1.loc[120001:]"
      ],
      "metadata": {
        "id": "a9rx55tD0GyT"
      },
      "execution_count": null,
      "outputs": []
    },
    {
      "cell_type": "code",
      "source": [
        "#Enviar o df_cat1 para colecao selecionada no mongo\n",
        "\n",
        "# Parte 1\n",
        "df_dict_df1_1 = df1_1.to_dict(\"records\")\n",
        "colecaocat1.insert_many(df_dict_df1_1)\n",
        "\n",
        "# Parte 2\n",
        "df_dict_df1_2 = df1_2.to_dict(\"records\")\n",
        "colecaocat1.insert_many(df_dict_df1_2)\n",
        "\n",
        "# Parte 3\n",
        "df_dict_df1_3 = df1_3.to_dict(\"records\")\n",
        "colecaocat1.insert_many(df_dict_df1_3)\n",
        "\n",
        "# Parte 4\n",
        "df_dict_df1_4 = df1_4.to_dict(\"records\")\n",
        "colecaocat1.insert_many(df_dict_df1_4)\n",
        "\n",
        "# Parte 5\n",
        "df_dict_df1_5 = df1_5.to_dict(\"records\")\n",
        "colecaocat1.insert_many(df_dict_df1_5)"
      ],
      "metadata": {
        "colab": {
          "base_uri": "https://localhost:8080/"
        },
        "id": "sybbd7aEtSYJ",
        "outputId": "30acf38d-df83-4005-efaa-801206354dc1"
      },
      "execution_count": null,
      "outputs": [
        {
          "output_type": "execute_result",
          "data": {
            "text/plain": [
              "<pymongo.results.InsertManyResult at 0x7f561bde6a00>"
            ]
          },
          "metadata": {},
          "execution_count": 57
        }
      ]
    },
    {
      "cell_type": "code",
      "source": [
        "# Verificando a quantidade de documentos da coleção cat1\n",
        "colecaocat1.count_documents({})"
      ],
      "metadata": {
        "colab": {
          "base_uri": "https://localhost:8080/"
        },
        "id": "17gzshA3xW9w",
        "outputId": "e7cb87a5-c884-422b-a5d8-4c758944a40b"
      },
      "execution_count": null,
      "outputs": [
        {
          "output_type": "execute_result",
          "data": {
            "text/plain": [
              "152140"
            ]
          },
          "metadata": {},
          "execution_count": 58
        }
      ]
    },
    {
      "cell_type": "markdown",
      "source": [
        "**Carregando o segundo DataFrame**"
      ],
      "metadata": {
        "id": "aB-CMNS8003B"
      }
    },
    {
      "cell_type": "code",
      "source": [
        "#Escolha do DataBase e Coleção\n",
        "db_projeto = client['projeto_aquecimento']\n",
        "\n",
        "# Criando a coleção para o df_cat1\n",
        "colecaocat2 = db_projeto['DF-CAT-202204-orig']"
      ],
      "metadata": {
        "id": "7D8q4JkS-MiB"
      },
      "execution_count": null,
      "outputs": []
    },
    {
      "cell_type": "markdown",
      "source": [
        "No segundo conjunto de dados fora encontrada uma inconsistência que estava gerando erro ao subir o mesmo para o Data Lake. Em algumas colunas (*'Agente Causador Acidente'* por exemplo) foram encontrados alguns caracteres que estavam confundido o algorítmo na hora da conversão para o formato dicionário, deste modo, optamos por realizar um replace desses caracteres e trocá-los por um espaço vazio."
      ],
      "metadata": {
        "id": "ogRUmlWW_bpi"
      }
    },
    {
      "cell_type": "code",
      "source": [
        "# Realizando replace das inconsistencias\n",
        "df_cat2.replace(['{','\\(', '\\)'],'',regex=True,inplace=True)"
      ],
      "metadata": {
        "id": "g9LyBX4z9gtT"
      },
      "execution_count": null,
      "outputs": []
    },
    {
      "cell_type": "code",
      "source": [
        "#Realizando a partição do arquivo\n",
        "df2_1 = df_cat2.loc[:30000]\n",
        "df2_2 = df_cat2.loc[30001:60000]\n",
        "df2_3 = df_cat2.loc[60001:]"
      ],
      "metadata": {
        "id": "F8yB-KLry8xT"
      },
      "execution_count": null,
      "outputs": []
    },
    {
      "cell_type": "code",
      "source": [
        "#Enviar o df_cat2 para colecao selecionada no mongo\n",
        "\n",
        "# Parte 1\n",
        "df_dict_df2_1 = df2_1.to_dict(\"records\")\n",
        "colecaocat2.insert_many(df_dict_df2_1)\n",
        "\n",
        "# Parte 2\n",
        "df_dict_df2_2 = df2_2.to_dict(\"records\")\n",
        "colecaocat2.insert_many(df_dict_df2_2)\n",
        "\n",
        "# Parte 3\n",
        "df_dict_df2_3 = df2_3.to_dict(\"records\")\n",
        "colecaocat2.insert_many(df_dict_df2_3)"
      ],
      "metadata": {
        "id": "z0oW_xo-zr51",
        "colab": {
          "base_uri": "https://localhost:8080/"
        },
        "outputId": "2461d1bb-291f-4038-afa0-bb0216a3516f"
      },
      "execution_count": null,
      "outputs": [
        {
          "output_type": "execute_result",
          "data": {
            "text/plain": [
              "<pymongo.results.InsertManyResult at 0x7f561be3bd20>"
            ]
          },
          "metadata": {},
          "execution_count": 51
        }
      ]
    },
    {
      "cell_type": "code",
      "source": [
        "# Verificando a quantidade de documentos da coleção cat2\n",
        "colecaocat2.count_documents({})"
      ],
      "metadata": {
        "id": "hxof0n0b1j_x",
        "colab": {
          "base_uri": "https://localhost:8080/"
        },
        "outputId": "214a0954-50ad-4d71-a2cc-10a35611bd3a"
      },
      "execution_count": null,
      "outputs": [
        {
          "output_type": "execute_result",
          "data": {
            "text/plain": [
              "89602"
            ]
          },
          "metadata": {},
          "execution_count": 52
        }
      ]
    },
    {
      "cell_type": "markdown",
      "source": [
        "**Carregando o Terceiro DataFrame**"
      ],
      "metadata": {
        "id": "xLCFzghN05gT"
      }
    },
    {
      "cell_type": "code",
      "source": [
        "#Escolha do DataBase e Coleção\n",
        "db_projeto = client['projeto_aquecimento']\n",
        "\n",
        "# Criando a coleção para o df_cat1\n",
        "colecaocat3 = db_projeto['DF-CAT-202210-orig']"
      ],
      "metadata": {
        "id": "iC8BGhLJ18gJ"
      },
      "execution_count": null,
      "outputs": []
    },
    {
      "cell_type": "code",
      "source": [
        "#Enviar o df_cat2 para colecao selecionada no mongo\n",
        "df_dict_cat3 = df_cat3.to_dict(\"records\")\n",
        "\n",
        "colecaocat3.insert_many(df_dict_cat3)"
      ],
      "metadata": {
        "id": "5rE-SaX92F3d",
        "colab": {
          "base_uri": "https://localhost:8080/"
        },
        "outputId": "9d335d7a-030b-41fd-b35f-eec907eab23e"
      },
      "execution_count": null,
      "outputs": [
        {
          "output_type": "execute_result",
          "data": {
            "text/plain": [
              "<pymongo.results.InsertManyResult at 0x7f5613631dc0>"
            ]
          },
          "metadata": {},
          "execution_count": 37
        }
      ]
    },
    {
      "cell_type": "code",
      "source": [
        "# Verificando a quantidade de documentos da coleção cat3\n",
        "colecaocat3.count_documents({})"
      ],
      "metadata": {
        "id": "fwVWhjTC2HwR",
        "colab": {
          "base_uri": "https://localhost:8080/"
        },
        "outputId": "eddd48fe-5572-46f6-bad0-d30b7d4cddab"
      },
      "execution_count": null,
      "outputs": [
        {
          "output_type": "execute_result",
          "data": {
            "text/plain": [
              "15659"
            ]
          },
          "metadata": {},
          "execution_count": 38
        }
      ]
    },
    {
      "cell_type": "markdown",
      "source": [
        "###☑️ **3.3- Carregamento para o Cloud Storage**\n",
        "\n",
        "Para o Cloud Storage, optamos por manter os arquivos no seu formato original que é o .csv, e caso fosse solicitado, realizaríamos a conversão de formato e geração de um novo arquivo, de forma a garantir que os dados se mantenham intactos."
      ],
      "metadata": {
        "id": "u8oSns-ADQhD"
      }
    },
    {
      "cell_type": "code",
      "source": [
        "# Enviando arquivos\n",
        "\n",
        "# Arquivo 1\n",
        "blob = bucket.blob('datasets-originais/DF-CAT-200201-original.csv')\n",
        "blob.upload_from_filename('/content/D.SDA.PDA.005.CAT.202201.csv')\n",
        "\n",
        "# Arquivo 2\n",
        "blob = bucket.blob('datasets-originais/DF-CAT-200204-original.csv')\n",
        "blob.upload_from_filename('/content/D.SDA.PDA.005.CAT.202204.csv')\n",
        "\n",
        "# Arquivo 3\n",
        "blob = bucket.blob('datasets-originais/DF-CAT-200210-original.csv')\n",
        "blob.upload_from_filename('/content/D.SDA.PDA.005.CAT.202210.csv')"
      ],
      "metadata": {
        "id": "Sc6FanDYDXP7"
      },
      "execution_count": null,
      "outputs": []
    },
    {
      "cell_type": "markdown",
      "source": [
        "## 💾 **4 - Carregamento pelo Data Lake e criação de DataFrame Geral**\n",
        "\n"
      ],
      "metadata": {
        "id": "WxUhm0sI3cpB"
      }
    },
    {
      "cell_type": "markdown",
      "source": [
        "###☑️ **4.1 - Criando DataFrames a partir de arquivos do DataLake**\n",
        "\n",
        "Com os dados brutos disponíveis na nuvem do Google, extrairemos os mesmos de lá para realizarmos o processo de transformação dos mesmos.\n",
        "\n",
        "⚠️**Observação**: Se faz necessário a **conexão com o Cloud Storage**, pois os arquivos não estão disponíveis publicamente. Como já realizamos a conexão no tópico 2.2, não precisamos executar novamente."
      ],
      "metadata": {
        "id": "F-WSW7re3olU"
      }
    },
    {
      "cell_type": "code",
      "source": [
        "# Escolhendo arquivo dentro da bucket\n",
        "bucket.blob('datasets-originais/DF-CAT-200201-original.csv')\n",
        "\n",
        "# Criando variavel com endereço de arquivo 1\n",
        "path1 = 'gs://projeto-ab-bc26/datasets-originais/DF-CAT-200201-original.csv'"
      ],
      "metadata": {
        "id": "fZWtBDHP39_b"
      },
      "execution_count": null,
      "outputs": []
    },
    {
      "cell_type": "code",
      "source": [
        "bucket.blob('datasets-originais/DF-CAT-200204-original.csv')\n",
        "\n",
        "#criando variavel com endereço de arquivo 2\n",
        "path2 = 'gs://projeto-ab-bc26/datasets-originais/DF-CAT-200204-original.csv'"
      ],
      "metadata": {
        "id": "Dje7-rbq8zuP"
      },
      "execution_count": null,
      "outputs": []
    },
    {
      "cell_type": "code",
      "source": [
        "bucket.blob('datasets-originais/DF-CAT-200210-original.csv')\n",
        "\n",
        "#Criando variavel com endereço de arquivo 3\n",
        "path3 = 'gs://projeto-ab-bc26/datasets-originais/DF-CAT-200210-original.csv'"
      ],
      "metadata": {
        "id": "D5dw38DY5EAi"
      },
      "execution_count": null,
      "outputs": []
    },
    {
      "cell_type": "code",
      "source": [
        "# Criando os DataFrames\n",
        "df_cat1 = pd.read_csv(path1, sep=';', encoding='ISO-8859-1')\n",
        "df_cat2 = pd.read_csv(path2, sep=';', encoding='ISO-8859-1')\n",
        "df_cat3 = pd.read_csv(path3, sep=';', encoding='ISO-8859-1')"
      ],
      "metadata": {
        "id": "NxiS9cRe499R"
      },
      "execution_count": null,
      "outputs": []
    },
    {
      "cell_type": "markdown",
      "source": [
        "###☑️ **4.2 - Gerando DataFrame geral**\n",
        "\n",
        "Com os 3 datasets carregados em memória de execução, iremos realizar a concatenação em um arquivo único para tratamento e para consumo das próximas equipes."
      ],
      "metadata": {
        "id": "uB-QvOKuUIR0"
      }
    },
    {
      "cell_type": "code",
      "source": [
        "# Verificando o tamanho dos DataFrames antes de juntá-los\n",
        "count1 = df_cat1.shape[0]\n",
        "count2 = df_cat2.shape[0]\n",
        "count3 = df_cat3.shape[0]\n",
        "sum = count1 + count2 + count3\n",
        "print(count1,count2,count3,sum)"
      ],
      "metadata": {
        "id": "nsuH8j4pUuSd",
        "colab": {
          "base_uri": "https://localhost:8080/"
        },
        "outputId": "897ba287-b177-4cbc-c877-08b2da6f1365"
      },
      "execution_count": null,
      "outputs": [
        {
          "output_type": "stream",
          "name": "stdout",
          "text": [
            "152140 89602 15659 257401\n"
          ]
        }
      ]
    },
    {
      "cell_type": "code",
      "source": [
        "# Concatenando os DataFrames\n",
        "df = pd.concat([df_cat1, df_cat2,df_cat3])"
      ],
      "metadata": {
        "id": "1m5x3r6uKIdK"
      },
      "execution_count": null,
      "outputs": []
    },
    {
      "cell_type": "code",
      "source": [
        "# Verificando o DataFrame\n",
        "df"
      ],
      "metadata": {
        "id": "KtpsQgRE_1_A",
        "colab": {
          "base_uri": "https://localhost:8080/"
        },
        "outputId": "f63220df-e4ec-44b8-8047-5f4e23a74e76"
      },
      "execution_count": null,
      "outputs": [
        {
          "output_type": "execute_result",
          "data": {
            "text/plain": [
              "                          Agente  Causador  Acidente Data Acidente  \\\n",
              "0      {ñ class}                                           2022/01   \n",
              "1      Motocicleta, Motoneta                               2022/02   \n",
              "2      Motocicleta, Motoneta                               2022/02   \n",
              "3      Aprision. Em, Sobre ou Entre Dois ou Mai            2022/02   \n",
              "4      Impacto de Pes. Contra Objeto em Movimento          2022/01   \n",
              "...                                              ...           ...   \n",
              "15654  Piso de Edificio - Superficie Utilizada Para        2022/09   \n",
              "15655  Escada Permanente Cujos Degraus Permitem Apoi       2022/10   \n",
              "15656  Andaime, Plataforma - Edificio ou Estrutura         2022/09   \n",
              "15657  Martelo, Malho, Marreta- Ferramenta Manual Se       2022/10   \n",
              "15658  Impacto de Pes. Contra Objeto Parado                2022/10   \n",
              "\n",
              "                                                 CBO  \\\n",
              "0      515105-Agente Comunitário de Saúde              \n",
              "1      519110-Motociclista no Transporte de Document   \n",
              "2      519110-Motociclista no Transporte de Document   \n",
              "3      514205-Coletor Lixo                             \n",
              "4      {ñ class}                                       \n",
              "...                                              ...   \n",
              "15654  {ñ class}                                       \n",
              "15655  232130-Prof. Física no Ensino Médio             \n",
              "15656  517330-Vigilante                                \n",
              "15657  724315-Soldador                                 \n",
              "15658  721215-Oper. Máquinas-Ferramenta Convencionai   \n",
              "\n",
              "                                              CID-10  CNAE2.0 Empregador  \\\n",
              "0      B34.2 Infecc p/Coronavirus Ne                                8630   \n",
              "1      S52.5 Frat da Extremidade Distal do Radio                    4930   \n",
              "2      S52.5 Frat da Extremidade Distal do Radio                    4930   \n",
              "3      S60.0 Contusao de Dedos s/Lesao da Unha                      3811   \n",
              "4      S90.0 Contusao do Tornozelo                                  4639   \n",
              "...                                              ...                 ...   \n",
              "15654  S62   Frat ao Nivel do Punho e da Mao                        2330   \n",
              "15655  S82   Frat da Perna Incl Tornozelo                           8520   \n",
              "15656  S82.7 Frat Mult da Perna                                     8112   \n",
              "15657  S62.6 Frat de Outr Dedos                                     7112   \n",
              "15658  S62.3 Frat de Outr Ossos do Metacarpo                        2815   \n",
              "\n",
              "                                CNAE2.0 Empregador.1         Emitente CAT  \\\n",
              "0      Atividades de Atencao Ambulatorial Executadas  Empregador            \n",
              "1      Transporte Rodoviario de Carga                 Segurado/Dependente   \n",
              "2      Transporte Rodoviario de Carga                 Segurado/Dependente   \n",
              "3      Coleta de Residuos Nao-Perigosos               Empregador            \n",
              "4      Comercio Atacadista de Produtos Alimenticios   Empregador            \n",
              "...                                              ...                  ...   \n",
              "15654  Fabricacao de Artefatos de Concreto, Cimento,  {ñ class}             \n",
              "15655  Ensino Medio                                   Autoridade Pública    \n",
              "15656  Condominios Prediais                           Segurado/Dependente   \n",
              "15657  Servicos de Engenharia                         Empregador            \n",
              "15658  Fabricacao de Equipamentos de Transmissao par  Segurado/Dependente   \n",
              "\n",
              "                                Espécie do benefício  \\\n",
              "0      Pa                                              \n",
              "1      Pa                                              \n",
              "2      Pa                                              \n",
              "3      Pa                                              \n",
              "4      Pa                                              \n",
              "...                                              ...   \n",
              "15654  Auxílio Doenca por Acidente do Trabalho         \n",
              "15655  Auxílio Doenca por Acidente do Trabalho         \n",
              "15656  Auxílio Doenca por Acidente do Trabalho         \n",
              "15657  Auxílio Doenca por Acidente do Trabalho         \n",
              "15658  Auxílio Doenca por Acidente do Trabalho         \n",
              "\n",
              "                                   Filiação Segurado Indica Óbito Acidente  \\\n",
              "0      Empregado                                                       Não   \n",
              "1      Empregado                                                       Não   \n",
              "2      Empregado                                                       Não   \n",
              "3      Empregado                                                       Não   \n",
              "4      Empregado                                                       Não   \n",
              "...                                              ...                   ...   \n",
              "15654  Empregado                                                       Não   \n",
              "15655  Empregado                                                       Não   \n",
              "15656  Empregado                                                       Não   \n",
              "15657  Empregado                                                       Não   \n",
              "15658  Empregado                                                       Não   \n",
              "\n",
              "                                      Munic Empr  \\\n",
              "0      354780-Santo André-Sp                       \n",
              "1      355030-São Paulo                            \n",
              "2      355030-São Paulo                            \n",
              "3      520110-Anápolis                             \n",
              "4      330100-Campos dos Goytacazes                \n",
              "...                                          ...   \n",
              "15654  410960-Guaratuba                            \n",
              "15655  410690-Curitiba                             \n",
              "15656  420460-Criciúma                             \n",
              "15657  411000-Iguaraçu                             \n",
              "15658  353130-Monte Alto                           \n",
              "\n",
              "                                   Natureza da Lesão  \\\n",
              "0      Doenca Contagiosa ou Infecciosa (Tuberculos     \n",
              "1      Fratura                                         \n",
              "2      Fratura                                         \n",
              "3      Luxacao                                         \n",
              "4      Luxacao                                         \n",
              "...                                              ...   \n",
              "15654  Lesao Imediata                                  \n",
              "15655  Fratura                                         \n",
              "15656  Fratura                                         \n",
              "15657  Fratura                                         \n",
              "15658  Fratura                                         \n",
              "\n",
              "      Origem de Cadastramento CAT  \\\n",
              "0                        Internet   \n",
              "1                        Internet   \n",
              "2                        Internet   \n",
              "3                        Internet   \n",
              "4                        Internet   \n",
              "...                           ...   \n",
              "15654                    Internet   \n",
              "15655                    Internet   \n",
              "15656                    Internet   \n",
              "15657                    Internet   \n",
              "15658                    Internet   \n",
              "\n",
              "                                Parte Corpo Atingida           Sexo  \\\n",
              "0      Aparelho Respiratorio                          Feminino        \n",
              "1      Braco (Entre O Punho a O Ombro)                Masculino       \n",
              "2      Braco (Entre O Punho a O Ombro)                Masculino       \n",
              "3      Punho                                          Masculino       \n",
              "4      Perna (Entre O Tornozelo e a Pelvis)           Masculino       \n",
              "...                                              ...            ...   \n",
              "15654  Mao (Exceto Punho ou Dedos)                    Masculino       \n",
              "15655  Perna (Do Tornozelo, Exclusive, ao Joelho, Ex  Feminino        \n",
              "15656  Membros Inferiores, Partes Multiplas (Qualque  Masculino       \n",
              "15657  Dedo                                           Masculino       \n",
              "15658  Dedo                                           Masculino       \n",
              "\n",
              "      Tipo do Acidente UF  Munic.  Acidente UF Munic. Empregador  \\\n",
              "0             Doença       Maranhão          São Paulo             \n",
              "1             Trajeto      Maranhão          São Paulo             \n",
              "2             Trajeto      Maranhão          São Paulo             \n",
              "3             Típico       {ñ class}         Goiás                 \n",
              "4             Típico       Maranhão          São Paulo             \n",
              "...                ...                  ...                  ...   \n",
              "15654         Típico       Roraima           Paraná                \n",
              "15655         Típico       Roraima           Paraná                \n",
              "15656         Típico       {ñ class}         Santa Catarina        \n",
              "15657         Típico       Roraima           Paraná                \n",
              "15658         Típico       Maranhão          São Paulo             \n",
              "\n",
              "      Data Acidente.1 Data Despacho Benefício Data Acidente.2 Data Nascimento  \\\n",
              "0             2022/01                 0000/00      20/01/2022      02/08/1970   \n",
              "1             2022/02                 0000/00      25/02/2022      16/12/1990   \n",
              "2             2022/02                 0000/00      25/02/2022      16/12/1990   \n",
              "3             2022/02                 0000/00      24/02/2022      19/09/1986   \n",
              "4             2022/01                 0000/00      28/01/2022      25/07/1995   \n",
              "...               ...                     ...             ...             ...   \n",
              "15654         2022/09                 2022/10      29/09/2022      18/09/1993   \n",
              "15655         2022/10                 2022/11      06/10/2022      24/11/1986   \n",
              "15656         2022/09                 2022/10      20/09/2022      02/03/1986   \n",
              "15657         2022/10                 2022/10      05/10/2022      08/04/1984   \n",
              "15658         2022/10                 2022/10      03/10/2022      15/07/1993   \n",
              "\n",
              "      Data Emissão CAT CNPJ/CEI Empregador  \n",
              "0           01/03/2022  57.571.275.002.570  \n",
              "1           01/03/2022  19.578.086.000.162  \n",
              "2           01/03/2022  19.578.086.000.162  \n",
              "3           01/03/2022  00.000.000.000.000  \n",
              "4           01/03/2022  00.000.000.000.000  \n",
              "...                ...                 ...  \n",
              "15654       10/10/2022  21.161.901.000.135  \n",
              "15655       07/10/2022  76.416.965.000.121  \n",
              "15656       10/10/2022  32.994.401.000.109  \n",
              "15657       06/10/2022  34.197.591.000.150  \n",
              "15658       18/10/2022  54.614.813.000.109  \n",
              "\n",
              "[257401 rows x 24 columns]"
            ],
            "text/html": [
              "\n",
              "  <div id=\"df-7a798644-794d-49f1-8385-bb0258b2b87b\">\n",
              "    <div class=\"colab-df-container\">\n",
              "      <div>\n",
              "<style scoped>\n",
              "    .dataframe tbody tr th:only-of-type {\n",
              "        vertical-align: middle;\n",
              "    }\n",
              "\n",
              "    .dataframe tbody tr th {\n",
              "        vertical-align: top;\n",
              "    }\n",
              "\n",
              "    .dataframe thead th {\n",
              "        text-align: right;\n",
              "    }\n",
              "</style>\n",
              "<table border=\"1\" class=\"dataframe\">\n",
              "  <thead>\n",
              "    <tr style=\"text-align: right;\">\n",
              "      <th></th>\n",
              "      <th>Agente  Causador  Acidente</th>\n",
              "      <th>Data Acidente</th>\n",
              "      <th>CBO</th>\n",
              "      <th>CID-10</th>\n",
              "      <th>CNAE2.0 Empregador</th>\n",
              "      <th>CNAE2.0 Empregador.1</th>\n",
              "      <th>Emitente CAT</th>\n",
              "      <th>Espécie do benefício</th>\n",
              "      <th>Filiação Segurado</th>\n",
              "      <th>Indica Óbito Acidente</th>\n",
              "      <th>Munic Empr</th>\n",
              "      <th>Natureza da Lesão</th>\n",
              "      <th>Origem de Cadastramento CAT</th>\n",
              "      <th>Parte Corpo Atingida</th>\n",
              "      <th>Sexo</th>\n",
              "      <th>Tipo do Acidente</th>\n",
              "      <th>UF  Munic.  Acidente</th>\n",
              "      <th>UF Munic. Empregador</th>\n",
              "      <th>Data Acidente.1</th>\n",
              "      <th>Data Despacho Benefício</th>\n",
              "      <th>Data Acidente.2</th>\n",
              "      <th>Data Nascimento</th>\n",
              "      <th>Data Emissão CAT</th>\n",
              "      <th>CNPJ/CEI Empregador</th>\n",
              "    </tr>\n",
              "  </thead>\n",
              "  <tbody>\n",
              "    <tr>\n",
              "      <th>0</th>\n",
              "      <td>{ñ class}</td>\n",
              "      <td>2022/01</td>\n",
              "      <td>515105-Agente Comunitário de Saúde</td>\n",
              "      <td>B34.2 Infecc p/Coronavirus Ne</td>\n",
              "      <td>8630</td>\n",
              "      <td>Atividades de Atencao Ambulatorial Executadas</td>\n",
              "      <td>Empregador</td>\n",
              "      <td>Pa</td>\n",
              "      <td>Empregado</td>\n",
              "      <td>Não</td>\n",
              "      <td>354780-Santo André-Sp</td>\n",
              "      <td>Doenca Contagiosa ou Infecciosa (Tuberculos</td>\n",
              "      <td>Internet</td>\n",
              "      <td>Aparelho Respiratorio</td>\n",
              "      <td>Feminino</td>\n",
              "      <td>Doença</td>\n",
              "      <td>Maranhão</td>\n",
              "      <td>São Paulo</td>\n",
              "      <td>2022/01</td>\n",
              "      <td>0000/00</td>\n",
              "      <td>20/01/2022</td>\n",
              "      <td>02/08/1970</td>\n",
              "      <td>01/03/2022</td>\n",
              "      <td>57.571.275.002.570</td>\n",
              "    </tr>\n",
              "    <tr>\n",
              "      <th>1</th>\n",
              "      <td>Motocicleta, Motoneta</td>\n",
              "      <td>2022/02</td>\n",
              "      <td>519110-Motociclista no Transporte de Document</td>\n",
              "      <td>S52.5 Frat da Extremidade Distal do Radio</td>\n",
              "      <td>4930</td>\n",
              "      <td>Transporte Rodoviario de Carga</td>\n",
              "      <td>Segurado/Dependente</td>\n",
              "      <td>Pa</td>\n",
              "      <td>Empregado</td>\n",
              "      <td>Não</td>\n",
              "      <td>355030-São Paulo</td>\n",
              "      <td>Fratura</td>\n",
              "      <td>Internet</td>\n",
              "      <td>Braco (Entre O Punho a O Ombro)</td>\n",
              "      <td>Masculino</td>\n",
              "      <td>Trajeto</td>\n",
              "      <td>Maranhão</td>\n",
              "      <td>São Paulo</td>\n",
              "      <td>2022/02</td>\n",
              "      <td>0000/00</td>\n",
              "      <td>25/02/2022</td>\n",
              "      <td>16/12/1990</td>\n",
              "      <td>01/03/2022</td>\n",
              "      <td>19.578.086.000.162</td>\n",
              "    </tr>\n",
              "    <tr>\n",
              "      <th>2</th>\n",
              "      <td>Motocicleta, Motoneta</td>\n",
              "      <td>2022/02</td>\n",
              "      <td>519110-Motociclista no Transporte de Document</td>\n",
              "      <td>S52.5 Frat da Extremidade Distal do Radio</td>\n",
              "      <td>4930</td>\n",
              "      <td>Transporte Rodoviario de Carga</td>\n",
              "      <td>Segurado/Dependente</td>\n",
              "      <td>Pa</td>\n",
              "      <td>Empregado</td>\n",
              "      <td>Não</td>\n",
              "      <td>355030-São Paulo</td>\n",
              "      <td>Fratura</td>\n",
              "      <td>Internet</td>\n",
              "      <td>Braco (Entre O Punho a O Ombro)</td>\n",
              "      <td>Masculino</td>\n",
              "      <td>Trajeto</td>\n",
              "      <td>Maranhão</td>\n",
              "      <td>São Paulo</td>\n",
              "      <td>2022/02</td>\n",
              "      <td>0000/00</td>\n",
              "      <td>25/02/2022</td>\n",
              "      <td>16/12/1990</td>\n",
              "      <td>01/03/2022</td>\n",
              "      <td>19.578.086.000.162</td>\n",
              "    </tr>\n",
              "    <tr>\n",
              "      <th>3</th>\n",
              "      <td>Aprision. Em, Sobre ou Entre Dois ou Mai</td>\n",
              "      <td>2022/02</td>\n",
              "      <td>514205-Coletor Lixo</td>\n",
              "      <td>S60.0 Contusao de Dedos s/Lesao da Unha</td>\n",
              "      <td>3811</td>\n",
              "      <td>Coleta de Residuos Nao-Perigosos</td>\n",
              "      <td>Empregador</td>\n",
              "      <td>Pa</td>\n",
              "      <td>Empregado</td>\n",
              "      <td>Não</td>\n",
              "      <td>520110-Anápolis</td>\n",
              "      <td>Luxacao</td>\n",
              "      <td>Internet</td>\n",
              "      <td>Punho</td>\n",
              "      <td>Masculino</td>\n",
              "      <td>Típico</td>\n",
              "      <td>{ñ class}</td>\n",
              "      <td>Goiás</td>\n",
              "      <td>2022/02</td>\n",
              "      <td>0000/00</td>\n",
              "      <td>24/02/2022</td>\n",
              "      <td>19/09/1986</td>\n",
              "      <td>01/03/2022</td>\n",
              "      <td>00.000.000.000.000</td>\n",
              "    </tr>\n",
              "    <tr>\n",
              "      <th>4</th>\n",
              "      <td>Impacto de Pes. Contra Objeto em Movimento</td>\n",
              "      <td>2022/01</td>\n",
              "      <td>{ñ class}</td>\n",
              "      <td>S90.0 Contusao do Tornozelo</td>\n",
              "      <td>4639</td>\n",
              "      <td>Comercio Atacadista de Produtos Alimenticios</td>\n",
              "      <td>Empregador</td>\n",
              "      <td>Pa</td>\n",
              "      <td>Empregado</td>\n",
              "      <td>Não</td>\n",
              "      <td>330100-Campos dos Goytacazes</td>\n",
              "      <td>Luxacao</td>\n",
              "      <td>Internet</td>\n",
              "      <td>Perna (Entre O Tornozelo e a Pelvis)</td>\n",
              "      <td>Masculino</td>\n",
              "      <td>Típico</td>\n",
              "      <td>Maranhão</td>\n",
              "      <td>São Paulo</td>\n",
              "      <td>2022/01</td>\n",
              "      <td>0000/00</td>\n",
              "      <td>28/01/2022</td>\n",
              "      <td>25/07/1995</td>\n",
              "      <td>01/03/2022</td>\n",
              "      <td>00.000.000.000.000</td>\n",
              "    </tr>\n",
              "    <tr>\n",
              "      <th>...</th>\n",
              "      <td>...</td>\n",
              "      <td>...</td>\n",
              "      <td>...</td>\n",
              "      <td>...</td>\n",
              "      <td>...</td>\n",
              "      <td>...</td>\n",
              "      <td>...</td>\n",
              "      <td>...</td>\n",
              "      <td>...</td>\n",
              "      <td>...</td>\n",
              "      <td>...</td>\n",
              "      <td>...</td>\n",
              "      <td>...</td>\n",
              "      <td>...</td>\n",
              "      <td>...</td>\n",
              "      <td>...</td>\n",
              "      <td>...</td>\n",
              "      <td>...</td>\n",
              "      <td>...</td>\n",
              "      <td>...</td>\n",
              "      <td>...</td>\n",
              "      <td>...</td>\n",
              "      <td>...</td>\n",
              "      <td>...</td>\n",
              "    </tr>\n",
              "    <tr>\n",
              "      <th>15654</th>\n",
              "      <td>Piso de Edificio - Superficie Utilizada Para</td>\n",
              "      <td>2022/09</td>\n",
              "      <td>{ñ class}</td>\n",
              "      <td>S62   Frat ao Nivel do Punho e da Mao</td>\n",
              "      <td>2330</td>\n",
              "      <td>Fabricacao de Artefatos de Concreto, Cimento,</td>\n",
              "      <td>{ñ class}</td>\n",
              "      <td>Auxílio Doenca por Acidente do Trabalho</td>\n",
              "      <td>Empregado</td>\n",
              "      <td>Não</td>\n",
              "      <td>410960-Guaratuba</td>\n",
              "      <td>Lesao Imediata</td>\n",
              "      <td>Internet</td>\n",
              "      <td>Mao (Exceto Punho ou Dedos)</td>\n",
              "      <td>Masculino</td>\n",
              "      <td>Típico</td>\n",
              "      <td>Roraima</td>\n",
              "      <td>Paraná</td>\n",
              "      <td>2022/09</td>\n",
              "      <td>2022/10</td>\n",
              "      <td>29/09/2022</td>\n",
              "      <td>18/09/1993</td>\n",
              "      <td>10/10/2022</td>\n",
              "      <td>21.161.901.000.135</td>\n",
              "    </tr>\n",
              "    <tr>\n",
              "      <th>15655</th>\n",
              "      <td>Escada Permanente Cujos Degraus Permitem Apoi</td>\n",
              "      <td>2022/10</td>\n",
              "      <td>232130-Prof. Física no Ensino Médio</td>\n",
              "      <td>S82   Frat da Perna Incl Tornozelo</td>\n",
              "      <td>8520</td>\n",
              "      <td>Ensino Medio</td>\n",
              "      <td>Autoridade Pública</td>\n",
              "      <td>Auxílio Doenca por Acidente do Trabalho</td>\n",
              "      <td>Empregado</td>\n",
              "      <td>Não</td>\n",
              "      <td>410690-Curitiba</td>\n",
              "      <td>Fratura</td>\n",
              "      <td>Internet</td>\n",
              "      <td>Perna (Do Tornozelo, Exclusive, ao Joelho, Ex</td>\n",
              "      <td>Feminino</td>\n",
              "      <td>Típico</td>\n",
              "      <td>Roraima</td>\n",
              "      <td>Paraná</td>\n",
              "      <td>2022/10</td>\n",
              "      <td>2022/11</td>\n",
              "      <td>06/10/2022</td>\n",
              "      <td>24/11/1986</td>\n",
              "      <td>07/10/2022</td>\n",
              "      <td>76.416.965.000.121</td>\n",
              "    </tr>\n",
              "    <tr>\n",
              "      <th>15656</th>\n",
              "      <td>Andaime, Plataforma - Edificio ou Estrutura</td>\n",
              "      <td>2022/09</td>\n",
              "      <td>517330-Vigilante</td>\n",
              "      <td>S82.7 Frat Mult da Perna</td>\n",
              "      <td>8112</td>\n",
              "      <td>Condominios Prediais</td>\n",
              "      <td>Segurado/Dependente</td>\n",
              "      <td>Auxílio Doenca por Acidente do Trabalho</td>\n",
              "      <td>Empregado</td>\n",
              "      <td>Não</td>\n",
              "      <td>420460-Criciúma</td>\n",
              "      <td>Fratura</td>\n",
              "      <td>Internet</td>\n",
              "      <td>Membros Inferiores, Partes Multiplas (Qualque</td>\n",
              "      <td>Masculino</td>\n",
              "      <td>Típico</td>\n",
              "      <td>{ñ class}</td>\n",
              "      <td>Santa Catarina</td>\n",
              "      <td>2022/09</td>\n",
              "      <td>2022/10</td>\n",
              "      <td>20/09/2022</td>\n",
              "      <td>02/03/1986</td>\n",
              "      <td>10/10/2022</td>\n",
              "      <td>32.994.401.000.109</td>\n",
              "    </tr>\n",
              "    <tr>\n",
              "      <th>15657</th>\n",
              "      <td>Martelo, Malho, Marreta- Ferramenta Manual Se</td>\n",
              "      <td>2022/10</td>\n",
              "      <td>724315-Soldador</td>\n",
              "      <td>S62.6 Frat de Outr Dedos</td>\n",
              "      <td>7112</td>\n",
              "      <td>Servicos de Engenharia</td>\n",
              "      <td>Empregador</td>\n",
              "      <td>Auxílio Doenca por Acidente do Trabalho</td>\n",
              "      <td>Empregado</td>\n",
              "      <td>Não</td>\n",
              "      <td>411000-Iguaraçu</td>\n",
              "      <td>Fratura</td>\n",
              "      <td>Internet</td>\n",
              "      <td>Dedo</td>\n",
              "      <td>Masculino</td>\n",
              "      <td>Típico</td>\n",
              "      <td>Roraima</td>\n",
              "      <td>Paraná</td>\n",
              "      <td>2022/10</td>\n",
              "      <td>2022/10</td>\n",
              "      <td>05/10/2022</td>\n",
              "      <td>08/04/1984</td>\n",
              "      <td>06/10/2022</td>\n",
              "      <td>34.197.591.000.150</td>\n",
              "    </tr>\n",
              "    <tr>\n",
              "      <th>15658</th>\n",
              "      <td>Impacto de Pes. Contra Objeto Parado</td>\n",
              "      <td>2022/10</td>\n",
              "      <td>721215-Oper. Máquinas-Ferramenta Convencionai</td>\n",
              "      <td>S62.3 Frat de Outr Ossos do Metacarpo</td>\n",
              "      <td>2815</td>\n",
              "      <td>Fabricacao de Equipamentos de Transmissao par</td>\n",
              "      <td>Segurado/Dependente</td>\n",
              "      <td>Auxílio Doenca por Acidente do Trabalho</td>\n",
              "      <td>Empregado</td>\n",
              "      <td>Não</td>\n",
              "      <td>353130-Monte Alto</td>\n",
              "      <td>Fratura</td>\n",
              "      <td>Internet</td>\n",
              "      <td>Dedo</td>\n",
              "      <td>Masculino</td>\n",
              "      <td>Típico</td>\n",
              "      <td>Maranhão</td>\n",
              "      <td>São Paulo</td>\n",
              "      <td>2022/10</td>\n",
              "      <td>2022/10</td>\n",
              "      <td>03/10/2022</td>\n",
              "      <td>15/07/1993</td>\n",
              "      <td>18/10/2022</td>\n",
              "      <td>54.614.813.000.109</td>\n",
              "    </tr>\n",
              "  </tbody>\n",
              "</table>\n",
              "<p>257401 rows × 24 columns</p>\n",
              "</div>\n",
              "      <button class=\"colab-df-convert\" onclick=\"convertToInteractive('df-7a798644-794d-49f1-8385-bb0258b2b87b')\"\n",
              "              title=\"Convert this dataframe to an interactive table.\"\n",
              "              style=\"display:none;\">\n",
              "        \n",
              "  <svg xmlns=\"http://www.w3.org/2000/svg\" height=\"24px\"viewBox=\"0 0 24 24\"\n",
              "       width=\"24px\">\n",
              "    <path d=\"M0 0h24v24H0V0z\" fill=\"none\"/>\n",
              "    <path d=\"M18.56 5.44l.94 2.06.94-2.06 2.06-.94-2.06-.94-.94-2.06-.94 2.06-2.06.94zm-11 1L8.5 8.5l.94-2.06 2.06-.94-2.06-.94L8.5 2.5l-.94 2.06-2.06.94zm10 10l.94 2.06.94-2.06 2.06-.94-2.06-.94-.94-2.06-.94 2.06-2.06.94z\"/><path d=\"M17.41 7.96l-1.37-1.37c-.4-.4-.92-.59-1.43-.59-.52 0-1.04.2-1.43.59L10.3 9.45l-7.72 7.72c-.78.78-.78 2.05 0 2.83L4 21.41c.39.39.9.59 1.41.59.51 0 1.02-.2 1.41-.59l7.78-7.78 2.81-2.81c.8-.78.8-2.07 0-2.86zM5.41 20L4 18.59l7.72-7.72 1.47 1.35L5.41 20z\"/>\n",
              "  </svg>\n",
              "      </button>\n",
              "      \n",
              "  <style>\n",
              "    .colab-df-container {\n",
              "      display:flex;\n",
              "      flex-wrap:wrap;\n",
              "      gap: 12px;\n",
              "    }\n",
              "\n",
              "    .colab-df-convert {\n",
              "      background-color: #E8F0FE;\n",
              "      border: none;\n",
              "      border-radius: 50%;\n",
              "      cursor: pointer;\n",
              "      display: none;\n",
              "      fill: #1967D2;\n",
              "      height: 32px;\n",
              "      padding: 0 0 0 0;\n",
              "      width: 32px;\n",
              "    }\n",
              "\n",
              "    .colab-df-convert:hover {\n",
              "      background-color: #E2EBFA;\n",
              "      box-shadow: 0px 1px 2px rgba(60, 64, 67, 0.3), 0px 1px 3px 1px rgba(60, 64, 67, 0.15);\n",
              "      fill: #174EA6;\n",
              "    }\n",
              "\n",
              "    [theme=dark] .colab-df-convert {\n",
              "      background-color: #3B4455;\n",
              "      fill: #D2E3FC;\n",
              "    }\n",
              "\n",
              "    [theme=dark] .colab-df-convert:hover {\n",
              "      background-color: #434B5C;\n",
              "      box-shadow: 0px 1px 3px 1px rgba(0, 0, 0, 0.15);\n",
              "      filter: drop-shadow(0px 1px 2px rgba(0, 0, 0, 0.3));\n",
              "      fill: #FFFFFF;\n",
              "    }\n",
              "  </style>\n",
              "\n",
              "      <script>\n",
              "        const buttonEl =\n",
              "          document.querySelector('#df-7a798644-794d-49f1-8385-bb0258b2b87b button.colab-df-convert');\n",
              "        buttonEl.style.display =\n",
              "          google.colab.kernel.accessAllowed ? 'block' : 'none';\n",
              "\n",
              "        async function convertToInteractive(key) {\n",
              "          const element = document.querySelector('#df-7a798644-794d-49f1-8385-bb0258b2b87b');\n",
              "          const dataTable =\n",
              "            await google.colab.kernel.invokeFunction('convertToInteractive',\n",
              "                                                     [key], {});\n",
              "          if (!dataTable) return;\n",
              "\n",
              "          const docLinkHtml = 'Like what you see? Visit the ' +\n",
              "            '<a target=\"_blank\" href=https://colab.research.google.com/notebooks/data_table.ipynb>data table notebook</a>'\n",
              "            + ' to learn more about interactive tables.';\n",
              "          element.innerHTML = '';\n",
              "          dataTable['output_type'] = 'display_data';\n",
              "          await google.colab.output.renderOutput(dataTable, element);\n",
              "          const docLink = document.createElement('div');\n",
              "          docLink.innerHTML = docLinkHtml;\n",
              "          element.appendChild(docLink);\n",
              "        }\n",
              "      </script>\n",
              "    </div>\n",
              "  </div>\n",
              "  "
            ]
          },
          "metadata": {},
          "execution_count": 158
        }
      ]
    },
    {
      "cell_type": "code",
      "source": [
        "df.loc[0, 'Agente  Causador  Acidente']"
      ],
      "metadata": {
        "id": "i9rRbh-c9KUk",
        "colab": {
          "base_uri": "https://localhost:8080/"
        },
        "outputId": "93c0d700-1e76-41f2-95ed-ddae739ee668"
      },
      "execution_count": null,
      "outputs": [
        {
          "output_type": "execute_result",
          "data": {
            "text/plain": [
              "0    {ñ class}                                    \n",
              "0    {ñ class}                                    \n",
              "0    Faca, Facao- Ferramenta Manual sem Forca Motr\n",
              "Name: Agente  Causador  Acidente, dtype: object"
            ]
          },
          "metadata": {},
          "execution_count": 159
        }
      ]
    },
    {
      "cell_type": "markdown",
      "source": [
        "Ao realizar a concatenação dos df's o indice se manteve o original, dessa forma, quando feito o .loc de uma posição, ele retorna mais de uma informação. Para resolver isso, vamos realizar o **reset do index**."
      ],
      "metadata": {
        "id": "nhTdMI3D__P3"
      }
    },
    {
      "cell_type": "code",
      "source": [
        "# Resetando o index\n",
        "df = df.reset_index()"
      ],
      "metadata": {
        "id": "wElfg3gl973p"
      },
      "execution_count": null,
      "outputs": []
    },
    {
      "cell_type": "code",
      "source": [
        "# Verificando se foi corrigido\n",
        "df.tail(3)"
      ],
      "metadata": {
        "id": "qjSBEsRk_PMX",
        "colab": {
          "base_uri": "https://localhost:8080/"
        },
        "outputId": "da082694-b830-4c18-a113-d460802c251f"
      },
      "execution_count": null,
      "outputs": [
        {
          "output_type": "execute_result",
          "data": {
            "text/plain": [
              "        index                     Agente  Causador  Acidente Data Acidente  \\\n",
              "257398  15656  Andaime, Plataforma - Edificio ou Estrutura         2022/09   \n",
              "257399  15657  Martelo, Malho, Marreta- Ferramenta Manual Se       2022/10   \n",
              "257400  15658  Impacto de Pes. Contra Objeto Parado                2022/10   \n",
              "\n",
              "                                                  CBO  \\\n",
              "257398  517330-Vigilante                                \n",
              "257399  724315-Soldador                                 \n",
              "257400  721215-Oper. Máquinas-Ferramenta Convencionai   \n",
              "\n",
              "                                               CID-10  CNAE2.0 Empregador  \\\n",
              "257398  S82.7 Frat Mult da Perna                                     8112   \n",
              "257399  S62.6 Frat de Outr Dedos                                     7112   \n",
              "257400  S62.3 Frat de Outr Ossos do Metacarpo                        2815   \n",
              "\n",
              "                                 CNAE2.0 Empregador.1         Emitente CAT  \\\n",
              "257398  Condominios Prediais                           Segurado/Dependente   \n",
              "257399  Servicos de Engenharia                         Empregador            \n",
              "257400  Fabricacao de Equipamentos de Transmissao par  Segurado/Dependente   \n",
              "\n",
              "                                 Espécie do benefício  \\\n",
              "257398  Auxílio Doenca por Acidente do Trabalho         \n",
              "257399  Auxílio Doenca por Acidente do Trabalho         \n",
              "257400  Auxílio Doenca por Acidente do Trabalho         \n",
              "\n",
              "                                    Filiação Segurado Indica Óbito Acidente  \\\n",
              "257398  Empregado                                                       Não   \n",
              "257399  Empregado                                                       Não   \n",
              "257400  Empregado                                                       Não   \n",
              "\n",
              "                                       Munic Empr  \\\n",
              "257398  420460-Criciúma                             \n",
              "257399  411000-Iguaraçu                             \n",
              "257400  353130-Monte Alto                           \n",
              "\n",
              "                                    Natureza da Lesão  \\\n",
              "257398  Fratura                                         \n",
              "257399  Fratura                                         \n",
              "257400  Fratura                                         \n",
              "\n",
              "       Origem de Cadastramento CAT  \\\n",
              "257398                    Internet   \n",
              "257399                    Internet   \n",
              "257400                    Internet   \n",
              "\n",
              "                                 Parte Corpo Atingida           Sexo  \\\n",
              "257398  Membros Inferiores, Partes Multiplas (Qualque  Masculino       \n",
              "257399  Dedo                                           Masculino       \n",
              "257400  Dedo                                           Masculino       \n",
              "\n",
              "       Tipo do Acidente UF  Munic.  Acidente UF Munic. Empregador  \\\n",
              "257398         Típico       {ñ class}         Santa Catarina        \n",
              "257399         Típico       Roraima           Paraná                \n",
              "257400         Típico       Maranhão          São Paulo             \n",
              "\n",
              "       Data Acidente.1 Data Despacho Benefício Data Acidente.2  \\\n",
              "257398         2022/09                 2022/10      20/09/2022   \n",
              "257399         2022/10                 2022/10      05/10/2022   \n",
              "257400         2022/10                 2022/10      03/10/2022   \n",
              "\n",
              "       Data Nascimento Data Emissão CAT CNPJ/CEI Empregador  \n",
              "257398      02/03/1986       10/10/2022  32.994.401.000.109  \n",
              "257399      08/04/1984       06/10/2022  34.197.591.000.150  \n",
              "257400      15/07/1993       18/10/2022  54.614.813.000.109  "
            ],
            "text/html": [
              "\n",
              "  <div id=\"df-f72c0858-357c-4f79-8165-6634f00296b4\">\n",
              "    <div class=\"colab-df-container\">\n",
              "      <div>\n",
              "<style scoped>\n",
              "    .dataframe tbody tr th:only-of-type {\n",
              "        vertical-align: middle;\n",
              "    }\n",
              "\n",
              "    .dataframe tbody tr th {\n",
              "        vertical-align: top;\n",
              "    }\n",
              "\n",
              "    .dataframe thead th {\n",
              "        text-align: right;\n",
              "    }\n",
              "</style>\n",
              "<table border=\"1\" class=\"dataframe\">\n",
              "  <thead>\n",
              "    <tr style=\"text-align: right;\">\n",
              "      <th></th>\n",
              "      <th>index</th>\n",
              "      <th>Agente  Causador  Acidente</th>\n",
              "      <th>Data Acidente</th>\n",
              "      <th>CBO</th>\n",
              "      <th>CID-10</th>\n",
              "      <th>CNAE2.0 Empregador</th>\n",
              "      <th>CNAE2.0 Empregador.1</th>\n",
              "      <th>Emitente CAT</th>\n",
              "      <th>Espécie do benefício</th>\n",
              "      <th>Filiação Segurado</th>\n",
              "      <th>Indica Óbito Acidente</th>\n",
              "      <th>Munic Empr</th>\n",
              "      <th>Natureza da Lesão</th>\n",
              "      <th>Origem de Cadastramento CAT</th>\n",
              "      <th>Parte Corpo Atingida</th>\n",
              "      <th>Sexo</th>\n",
              "      <th>Tipo do Acidente</th>\n",
              "      <th>UF  Munic.  Acidente</th>\n",
              "      <th>UF Munic. Empregador</th>\n",
              "      <th>Data Acidente.1</th>\n",
              "      <th>Data Despacho Benefício</th>\n",
              "      <th>Data Acidente.2</th>\n",
              "      <th>Data Nascimento</th>\n",
              "      <th>Data Emissão CAT</th>\n",
              "      <th>CNPJ/CEI Empregador</th>\n",
              "    </tr>\n",
              "  </thead>\n",
              "  <tbody>\n",
              "    <tr>\n",
              "      <th>257398</th>\n",
              "      <td>15656</td>\n",
              "      <td>Andaime, Plataforma - Edificio ou Estrutura</td>\n",
              "      <td>2022/09</td>\n",
              "      <td>517330-Vigilante</td>\n",
              "      <td>S82.7 Frat Mult da Perna</td>\n",
              "      <td>8112</td>\n",
              "      <td>Condominios Prediais</td>\n",
              "      <td>Segurado/Dependente</td>\n",
              "      <td>Auxílio Doenca por Acidente do Trabalho</td>\n",
              "      <td>Empregado</td>\n",
              "      <td>Não</td>\n",
              "      <td>420460-Criciúma</td>\n",
              "      <td>Fratura</td>\n",
              "      <td>Internet</td>\n",
              "      <td>Membros Inferiores, Partes Multiplas (Qualque</td>\n",
              "      <td>Masculino</td>\n",
              "      <td>Típico</td>\n",
              "      <td>{ñ class}</td>\n",
              "      <td>Santa Catarina</td>\n",
              "      <td>2022/09</td>\n",
              "      <td>2022/10</td>\n",
              "      <td>20/09/2022</td>\n",
              "      <td>02/03/1986</td>\n",
              "      <td>10/10/2022</td>\n",
              "      <td>32.994.401.000.109</td>\n",
              "    </tr>\n",
              "    <tr>\n",
              "      <th>257399</th>\n",
              "      <td>15657</td>\n",
              "      <td>Martelo, Malho, Marreta- Ferramenta Manual Se</td>\n",
              "      <td>2022/10</td>\n",
              "      <td>724315-Soldador</td>\n",
              "      <td>S62.6 Frat de Outr Dedos</td>\n",
              "      <td>7112</td>\n",
              "      <td>Servicos de Engenharia</td>\n",
              "      <td>Empregador</td>\n",
              "      <td>Auxílio Doenca por Acidente do Trabalho</td>\n",
              "      <td>Empregado</td>\n",
              "      <td>Não</td>\n",
              "      <td>411000-Iguaraçu</td>\n",
              "      <td>Fratura</td>\n",
              "      <td>Internet</td>\n",
              "      <td>Dedo</td>\n",
              "      <td>Masculino</td>\n",
              "      <td>Típico</td>\n",
              "      <td>Roraima</td>\n",
              "      <td>Paraná</td>\n",
              "      <td>2022/10</td>\n",
              "      <td>2022/10</td>\n",
              "      <td>05/10/2022</td>\n",
              "      <td>08/04/1984</td>\n",
              "      <td>06/10/2022</td>\n",
              "      <td>34.197.591.000.150</td>\n",
              "    </tr>\n",
              "    <tr>\n",
              "      <th>257400</th>\n",
              "      <td>15658</td>\n",
              "      <td>Impacto de Pes. Contra Objeto Parado</td>\n",
              "      <td>2022/10</td>\n",
              "      <td>721215-Oper. Máquinas-Ferramenta Convencionai</td>\n",
              "      <td>S62.3 Frat de Outr Ossos do Metacarpo</td>\n",
              "      <td>2815</td>\n",
              "      <td>Fabricacao de Equipamentos de Transmissao par</td>\n",
              "      <td>Segurado/Dependente</td>\n",
              "      <td>Auxílio Doenca por Acidente do Trabalho</td>\n",
              "      <td>Empregado</td>\n",
              "      <td>Não</td>\n",
              "      <td>353130-Monte Alto</td>\n",
              "      <td>Fratura</td>\n",
              "      <td>Internet</td>\n",
              "      <td>Dedo</td>\n",
              "      <td>Masculino</td>\n",
              "      <td>Típico</td>\n",
              "      <td>Maranhão</td>\n",
              "      <td>São Paulo</td>\n",
              "      <td>2022/10</td>\n",
              "      <td>2022/10</td>\n",
              "      <td>03/10/2022</td>\n",
              "      <td>15/07/1993</td>\n",
              "      <td>18/10/2022</td>\n",
              "      <td>54.614.813.000.109</td>\n",
              "    </tr>\n",
              "  </tbody>\n",
              "</table>\n",
              "</div>\n",
              "      <button class=\"colab-df-convert\" onclick=\"convertToInteractive('df-f72c0858-357c-4f79-8165-6634f00296b4')\"\n",
              "              title=\"Convert this dataframe to an interactive table.\"\n",
              "              style=\"display:none;\">\n",
              "        \n",
              "  <svg xmlns=\"http://www.w3.org/2000/svg\" height=\"24px\"viewBox=\"0 0 24 24\"\n",
              "       width=\"24px\">\n",
              "    <path d=\"M0 0h24v24H0V0z\" fill=\"none\"/>\n",
              "    <path d=\"M18.56 5.44l.94 2.06.94-2.06 2.06-.94-2.06-.94-.94-2.06-.94 2.06-2.06.94zm-11 1L8.5 8.5l.94-2.06 2.06-.94-2.06-.94L8.5 2.5l-.94 2.06-2.06.94zm10 10l.94 2.06.94-2.06 2.06-.94-2.06-.94-.94-2.06-.94 2.06-2.06.94z\"/><path d=\"M17.41 7.96l-1.37-1.37c-.4-.4-.92-.59-1.43-.59-.52 0-1.04.2-1.43.59L10.3 9.45l-7.72 7.72c-.78.78-.78 2.05 0 2.83L4 21.41c.39.39.9.59 1.41.59.51 0 1.02-.2 1.41-.59l7.78-7.78 2.81-2.81c.8-.78.8-2.07 0-2.86zM5.41 20L4 18.59l7.72-7.72 1.47 1.35L5.41 20z\"/>\n",
              "  </svg>\n",
              "      </button>\n",
              "      \n",
              "  <style>\n",
              "    .colab-df-container {\n",
              "      display:flex;\n",
              "      flex-wrap:wrap;\n",
              "      gap: 12px;\n",
              "    }\n",
              "\n",
              "    .colab-df-convert {\n",
              "      background-color: #E8F0FE;\n",
              "      border: none;\n",
              "      border-radius: 50%;\n",
              "      cursor: pointer;\n",
              "      display: none;\n",
              "      fill: #1967D2;\n",
              "      height: 32px;\n",
              "      padding: 0 0 0 0;\n",
              "      width: 32px;\n",
              "    }\n",
              "\n",
              "    .colab-df-convert:hover {\n",
              "      background-color: #E2EBFA;\n",
              "      box-shadow: 0px 1px 2px rgba(60, 64, 67, 0.3), 0px 1px 3px 1px rgba(60, 64, 67, 0.15);\n",
              "      fill: #174EA6;\n",
              "    }\n",
              "\n",
              "    [theme=dark] .colab-df-convert {\n",
              "      background-color: #3B4455;\n",
              "      fill: #D2E3FC;\n",
              "    }\n",
              "\n",
              "    [theme=dark] .colab-df-convert:hover {\n",
              "      background-color: #434B5C;\n",
              "      box-shadow: 0px 1px 3px 1px rgba(0, 0, 0, 0.15);\n",
              "      filter: drop-shadow(0px 1px 2px rgba(0, 0, 0, 0.3));\n",
              "      fill: #FFFFFF;\n",
              "    }\n",
              "  </style>\n",
              "\n",
              "      <script>\n",
              "        const buttonEl =\n",
              "          document.querySelector('#df-f72c0858-357c-4f79-8165-6634f00296b4 button.colab-df-convert');\n",
              "        buttonEl.style.display =\n",
              "          google.colab.kernel.accessAllowed ? 'block' : 'none';\n",
              "\n",
              "        async function convertToInteractive(key) {\n",
              "          const element = document.querySelector('#df-f72c0858-357c-4f79-8165-6634f00296b4');\n",
              "          const dataTable =\n",
              "            await google.colab.kernel.invokeFunction('convertToInteractive',\n",
              "                                                     [key], {});\n",
              "          if (!dataTable) return;\n",
              "\n",
              "          const docLinkHtml = 'Like what you see? Visit the ' +\n",
              "            '<a target=\"_blank\" href=https://colab.research.google.com/notebooks/data_table.ipynb>data table notebook</a>'\n",
              "            + ' to learn more about interactive tables.';\n",
              "          element.innerHTML = '';\n",
              "          dataTable['output_type'] = 'display_data';\n",
              "          await google.colab.output.renderOutput(dataTable, element);\n",
              "          const docLink = document.createElement('div');\n",
              "          docLink.innerHTML = docLinkHtml;\n",
              "          element.appendChild(docLink);\n",
              "        }\n",
              "      </script>\n",
              "    </div>\n",
              "  </div>\n",
              "  "
            ]
          },
          "metadata": {},
          "execution_count": 161
        }
      ]
    },
    {
      "cell_type": "code",
      "source": [
        "# Verificando as colunas\n",
        "df.columns"
      ],
      "metadata": {
        "id": "L7y81e6k-fji",
        "colab": {
          "base_uri": "https://localhost:8080/"
        },
        "outputId": "39731b15-9d95-4335-c133-5cf763098bf1"
      },
      "execution_count": null,
      "outputs": [
        {
          "output_type": "execute_result",
          "data": {
            "text/plain": [
              "Index(['index', 'Agente  Causador  Acidente', 'Data Acidente', 'CBO', 'CID-10',\n",
              "       'CNAE2.0 Empregador', 'CNAE2.0 Empregador.1', 'Emitente CAT',\n",
              "       'Espécie do benefício', 'Filiação Segurado', 'Indica Óbito Acidente',\n",
              "       'Munic Empr', 'Natureza da Lesão', 'Origem de Cadastramento CAT',\n",
              "       'Parte Corpo Atingida', 'Sexo', 'Tipo do Acidente',\n",
              "       'UF  Munic.  Acidente', 'UF Munic. Empregador', 'Data Acidente.1',\n",
              "       'Data Despacho Benefício', 'Data Acidente.2', 'Data Nascimento',\n",
              "       'Data Emissão CAT', 'CNPJ/CEI Empregador'],\n",
              "      dtype='object')"
            ]
          },
          "metadata": {},
          "execution_count": 162
        }
      ]
    },
    {
      "cell_type": "code",
      "source": [
        "# Dropando coluna com o index antigo\n",
        "df.drop(['index'], axis=1, inplace= True)\n",
        "\n",
        "# Verificando colunas\n",
        "df.columns"
      ],
      "metadata": {
        "id": "6P_ILqUh86Yj",
        "colab": {
          "base_uri": "https://localhost:8080/"
        },
        "outputId": "f7b88395-fe24-40d3-84e1-4648da43e996"
      },
      "execution_count": null,
      "outputs": [
        {
          "output_type": "execute_result",
          "data": {
            "text/plain": [
              "Index(['Agente  Causador  Acidente', 'Data Acidente', 'CBO', 'CID-10',\n",
              "       'CNAE2.0 Empregador', 'CNAE2.0 Empregador.1', 'Emitente CAT',\n",
              "       'Espécie do benefício', 'Filiação Segurado', 'Indica Óbito Acidente',\n",
              "       'Munic Empr', 'Natureza da Lesão', 'Origem de Cadastramento CAT',\n",
              "       'Parte Corpo Atingida', 'Sexo', 'Tipo do Acidente',\n",
              "       'UF  Munic.  Acidente', 'UF Munic. Empregador', 'Data Acidente.1',\n",
              "       'Data Despacho Benefício', 'Data Acidente.2', 'Data Nascimento',\n",
              "       'Data Emissão CAT', 'CNPJ/CEI Empregador'],\n",
              "      dtype='object')"
            ]
          },
          "metadata": {},
          "execution_count": 163
        }
      ]
    },
    {
      "cell_type": "code",
      "source": [
        "# Verificando o shape do df\n",
        "df.shape"
      ],
      "metadata": {
        "id": "INj0LKtE3hNK",
        "colab": {
          "base_uri": "https://localhost:8080/"
        },
        "outputId": "4cbed1c7-d431-4703-c522-208b390d3dce"
      },
      "execution_count": null,
      "outputs": [
        {
          "output_type": "execute_result",
          "data": {
            "text/plain": [
              "(257401, 24)"
            ]
          },
          "metadata": {},
          "execution_count": 164
        }
      ]
    },
    {
      "cell_type": "code",
      "source": [
        "# Visualizando os dados\n",
        "df"
      ],
      "metadata": {
        "id": "hX5kCQNw27iS",
        "colab": {
          "base_uri": "https://localhost:8080/"
        },
        "outputId": "8e4541c9-bd2b-4e82-c007-907ed0d1140a"
      },
      "execution_count": null,
      "outputs": [
        {
          "output_type": "execute_result",
          "data": {
            "text/plain": [
              "                           Agente  Causador  Acidente Data Acidente  \\\n",
              "0       {ñ class}                                           2022/01   \n",
              "1       Motocicleta, Motoneta                               2022/02   \n",
              "2       Motocicleta, Motoneta                               2022/02   \n",
              "3       Aprision. Em, Sobre ou Entre Dois ou Mai            2022/02   \n",
              "4       Impacto de Pes. Contra Objeto em Movimento          2022/01   \n",
              "...                                               ...           ...   \n",
              "257396  Piso de Edificio - Superficie Utilizada Para        2022/09   \n",
              "257397  Escada Permanente Cujos Degraus Permitem Apoi       2022/10   \n",
              "257398  Andaime, Plataforma - Edificio ou Estrutura         2022/09   \n",
              "257399  Martelo, Malho, Marreta- Ferramenta Manual Se       2022/10   \n",
              "257400  Impacto de Pes. Contra Objeto Parado                2022/10   \n",
              "\n",
              "                                                  CBO  \\\n",
              "0       515105-Agente Comunitário de Saúde              \n",
              "1       519110-Motociclista no Transporte de Document   \n",
              "2       519110-Motociclista no Transporte de Document   \n",
              "3       514205-Coletor Lixo                             \n",
              "4       {ñ class}                                       \n",
              "...                                               ...   \n",
              "257396  {ñ class}                                       \n",
              "257397  232130-Prof. Física no Ensino Médio             \n",
              "257398  517330-Vigilante                                \n",
              "257399  724315-Soldador                                 \n",
              "257400  721215-Oper. Máquinas-Ferramenta Convencionai   \n",
              "\n",
              "                                               CID-10  CNAE2.0 Empregador  \\\n",
              "0       B34.2 Infecc p/Coronavirus Ne                                8630   \n",
              "1       S52.5 Frat da Extremidade Distal do Radio                    4930   \n",
              "2       S52.5 Frat da Extremidade Distal do Radio                    4930   \n",
              "3       S60.0 Contusao de Dedos s/Lesao da Unha                      3811   \n",
              "4       S90.0 Contusao do Tornozelo                                  4639   \n",
              "...                                               ...                 ...   \n",
              "257396  S62   Frat ao Nivel do Punho e da Mao                        2330   \n",
              "257397  S82   Frat da Perna Incl Tornozelo                           8520   \n",
              "257398  S82.7 Frat Mult da Perna                                     8112   \n",
              "257399  S62.6 Frat de Outr Dedos                                     7112   \n",
              "257400  S62.3 Frat de Outr Ossos do Metacarpo                        2815   \n",
              "\n",
              "                                 CNAE2.0 Empregador.1         Emitente CAT  \\\n",
              "0       Atividades de Atencao Ambulatorial Executadas  Empregador            \n",
              "1       Transporte Rodoviario de Carga                 Segurado/Dependente   \n",
              "2       Transporte Rodoviario de Carga                 Segurado/Dependente   \n",
              "3       Coleta de Residuos Nao-Perigosos               Empregador            \n",
              "4       Comercio Atacadista de Produtos Alimenticios   Empregador            \n",
              "...                                               ...                  ...   \n",
              "257396  Fabricacao de Artefatos de Concreto, Cimento,  {ñ class}             \n",
              "257397  Ensino Medio                                   Autoridade Pública    \n",
              "257398  Condominios Prediais                           Segurado/Dependente   \n",
              "257399  Servicos de Engenharia                         Empregador            \n",
              "257400  Fabricacao de Equipamentos de Transmissao par  Segurado/Dependente   \n",
              "\n",
              "                                 Espécie do benefício  \\\n",
              "0       Pa                                              \n",
              "1       Pa                                              \n",
              "2       Pa                                              \n",
              "3       Pa                                              \n",
              "4       Pa                                              \n",
              "...                                               ...   \n",
              "257396  Auxílio Doenca por Acidente do Trabalho         \n",
              "257397  Auxílio Doenca por Acidente do Trabalho         \n",
              "257398  Auxílio Doenca por Acidente do Trabalho         \n",
              "257399  Auxílio Doenca por Acidente do Trabalho         \n",
              "257400  Auxílio Doenca por Acidente do Trabalho         \n",
              "\n",
              "                                    Filiação Segurado Indica Óbito Acidente  \\\n",
              "0       Empregado                                                       Não   \n",
              "1       Empregado                                                       Não   \n",
              "2       Empregado                                                       Não   \n",
              "3       Empregado                                                       Não   \n",
              "4       Empregado                                                       Não   \n",
              "...                                               ...                   ...   \n",
              "257396  Empregado                                                       Não   \n",
              "257397  Empregado                                                       Não   \n",
              "257398  Empregado                                                       Não   \n",
              "257399  Empregado                                                       Não   \n",
              "257400  Empregado                                                       Não   \n",
              "\n",
              "                                       Munic Empr  \\\n",
              "0       354780-Santo André-Sp                       \n",
              "1       355030-São Paulo                            \n",
              "2       355030-São Paulo                            \n",
              "3       520110-Anápolis                             \n",
              "4       330100-Campos dos Goytacazes                \n",
              "...                                           ...   \n",
              "257396  410960-Guaratuba                            \n",
              "257397  410690-Curitiba                             \n",
              "257398  420460-Criciúma                             \n",
              "257399  411000-Iguaraçu                             \n",
              "257400  353130-Monte Alto                           \n",
              "\n",
              "                                    Natureza da Lesão  \\\n",
              "0       Doenca Contagiosa ou Infecciosa (Tuberculos     \n",
              "1       Fratura                                         \n",
              "2       Fratura                                         \n",
              "3       Luxacao                                         \n",
              "4       Luxacao                                         \n",
              "...                                               ...   \n",
              "257396  Lesao Imediata                                  \n",
              "257397  Fratura                                         \n",
              "257398  Fratura                                         \n",
              "257399  Fratura                                         \n",
              "257400  Fratura                                         \n",
              "\n",
              "       Origem de Cadastramento CAT  \\\n",
              "0                         Internet   \n",
              "1                         Internet   \n",
              "2                         Internet   \n",
              "3                         Internet   \n",
              "4                         Internet   \n",
              "...                            ...   \n",
              "257396                    Internet   \n",
              "257397                    Internet   \n",
              "257398                    Internet   \n",
              "257399                    Internet   \n",
              "257400                    Internet   \n",
              "\n",
              "                                 Parte Corpo Atingida           Sexo  \\\n",
              "0       Aparelho Respiratorio                          Feminino        \n",
              "1       Braco (Entre O Punho a O Ombro)                Masculino       \n",
              "2       Braco (Entre O Punho a O Ombro)                Masculino       \n",
              "3       Punho                                          Masculino       \n",
              "4       Perna (Entre O Tornozelo e a Pelvis)           Masculino       \n",
              "...                                               ...            ...   \n",
              "257396  Mao (Exceto Punho ou Dedos)                    Masculino       \n",
              "257397  Perna (Do Tornozelo, Exclusive, ao Joelho, Ex  Feminino        \n",
              "257398  Membros Inferiores, Partes Multiplas (Qualque  Masculino       \n",
              "257399  Dedo                                           Masculino       \n",
              "257400  Dedo                                           Masculino       \n",
              "\n",
              "       Tipo do Acidente UF  Munic.  Acidente UF Munic. Empregador  \\\n",
              "0              Doença       Maranhão          São Paulo             \n",
              "1              Trajeto      Maranhão          São Paulo             \n",
              "2              Trajeto      Maranhão          São Paulo             \n",
              "3              Típico       {ñ class}         Goiás                 \n",
              "4              Típico       Maranhão          São Paulo             \n",
              "...                 ...                  ...                  ...   \n",
              "257396         Típico       Roraima           Paraná                \n",
              "257397         Típico       Roraima           Paraná                \n",
              "257398         Típico       {ñ class}         Santa Catarina        \n",
              "257399         Típico       Roraima           Paraná                \n",
              "257400         Típico       Maranhão          São Paulo             \n",
              "\n",
              "       Data Acidente.1 Data Despacho Benefício Data Acidente.2  \\\n",
              "0              2022/01                 0000/00      20/01/2022   \n",
              "1              2022/02                 0000/00      25/02/2022   \n",
              "2              2022/02                 0000/00      25/02/2022   \n",
              "3              2022/02                 0000/00      24/02/2022   \n",
              "4              2022/01                 0000/00      28/01/2022   \n",
              "...                ...                     ...             ...   \n",
              "257396         2022/09                 2022/10      29/09/2022   \n",
              "257397         2022/10                 2022/11      06/10/2022   \n",
              "257398         2022/09                 2022/10      20/09/2022   \n",
              "257399         2022/10                 2022/10      05/10/2022   \n",
              "257400         2022/10                 2022/10      03/10/2022   \n",
              "\n",
              "       Data Nascimento Data Emissão CAT CNPJ/CEI Empregador  \n",
              "0           02/08/1970       01/03/2022  57.571.275.002.570  \n",
              "1           16/12/1990       01/03/2022  19.578.086.000.162  \n",
              "2           16/12/1990       01/03/2022  19.578.086.000.162  \n",
              "3           19/09/1986       01/03/2022  00.000.000.000.000  \n",
              "4           25/07/1995       01/03/2022  00.000.000.000.000  \n",
              "...                ...              ...                 ...  \n",
              "257396      18/09/1993       10/10/2022  21.161.901.000.135  \n",
              "257397      24/11/1986       07/10/2022  76.416.965.000.121  \n",
              "257398      02/03/1986       10/10/2022  32.994.401.000.109  \n",
              "257399      08/04/1984       06/10/2022  34.197.591.000.150  \n",
              "257400      15/07/1993       18/10/2022  54.614.813.000.109  \n",
              "\n",
              "[257401 rows x 24 columns]"
            ],
            "text/html": [
              "\n",
              "  <div id=\"df-b787c7fb-d859-4c17-a270-a8c2d97983dd\">\n",
              "    <div class=\"colab-df-container\">\n",
              "      <div>\n",
              "<style scoped>\n",
              "    .dataframe tbody tr th:only-of-type {\n",
              "        vertical-align: middle;\n",
              "    }\n",
              "\n",
              "    .dataframe tbody tr th {\n",
              "        vertical-align: top;\n",
              "    }\n",
              "\n",
              "    .dataframe thead th {\n",
              "        text-align: right;\n",
              "    }\n",
              "</style>\n",
              "<table border=\"1\" class=\"dataframe\">\n",
              "  <thead>\n",
              "    <tr style=\"text-align: right;\">\n",
              "      <th></th>\n",
              "      <th>Agente  Causador  Acidente</th>\n",
              "      <th>Data Acidente</th>\n",
              "      <th>CBO</th>\n",
              "      <th>CID-10</th>\n",
              "      <th>CNAE2.0 Empregador</th>\n",
              "      <th>CNAE2.0 Empregador.1</th>\n",
              "      <th>Emitente CAT</th>\n",
              "      <th>Espécie do benefício</th>\n",
              "      <th>Filiação Segurado</th>\n",
              "      <th>Indica Óbito Acidente</th>\n",
              "      <th>Munic Empr</th>\n",
              "      <th>Natureza da Lesão</th>\n",
              "      <th>Origem de Cadastramento CAT</th>\n",
              "      <th>Parte Corpo Atingida</th>\n",
              "      <th>Sexo</th>\n",
              "      <th>Tipo do Acidente</th>\n",
              "      <th>UF  Munic.  Acidente</th>\n",
              "      <th>UF Munic. Empregador</th>\n",
              "      <th>Data Acidente.1</th>\n",
              "      <th>Data Despacho Benefício</th>\n",
              "      <th>Data Acidente.2</th>\n",
              "      <th>Data Nascimento</th>\n",
              "      <th>Data Emissão CAT</th>\n",
              "      <th>CNPJ/CEI Empregador</th>\n",
              "    </tr>\n",
              "  </thead>\n",
              "  <tbody>\n",
              "    <tr>\n",
              "      <th>0</th>\n",
              "      <td>{ñ class}</td>\n",
              "      <td>2022/01</td>\n",
              "      <td>515105-Agente Comunitário de Saúde</td>\n",
              "      <td>B34.2 Infecc p/Coronavirus Ne</td>\n",
              "      <td>8630</td>\n",
              "      <td>Atividades de Atencao Ambulatorial Executadas</td>\n",
              "      <td>Empregador</td>\n",
              "      <td>Pa</td>\n",
              "      <td>Empregado</td>\n",
              "      <td>Não</td>\n",
              "      <td>354780-Santo André-Sp</td>\n",
              "      <td>Doenca Contagiosa ou Infecciosa (Tuberculos</td>\n",
              "      <td>Internet</td>\n",
              "      <td>Aparelho Respiratorio</td>\n",
              "      <td>Feminino</td>\n",
              "      <td>Doença</td>\n",
              "      <td>Maranhão</td>\n",
              "      <td>São Paulo</td>\n",
              "      <td>2022/01</td>\n",
              "      <td>0000/00</td>\n",
              "      <td>20/01/2022</td>\n",
              "      <td>02/08/1970</td>\n",
              "      <td>01/03/2022</td>\n",
              "      <td>57.571.275.002.570</td>\n",
              "    </tr>\n",
              "    <tr>\n",
              "      <th>1</th>\n",
              "      <td>Motocicleta, Motoneta</td>\n",
              "      <td>2022/02</td>\n",
              "      <td>519110-Motociclista no Transporte de Document</td>\n",
              "      <td>S52.5 Frat da Extremidade Distal do Radio</td>\n",
              "      <td>4930</td>\n",
              "      <td>Transporte Rodoviario de Carga</td>\n",
              "      <td>Segurado/Dependente</td>\n",
              "      <td>Pa</td>\n",
              "      <td>Empregado</td>\n",
              "      <td>Não</td>\n",
              "      <td>355030-São Paulo</td>\n",
              "      <td>Fratura</td>\n",
              "      <td>Internet</td>\n",
              "      <td>Braco (Entre O Punho a O Ombro)</td>\n",
              "      <td>Masculino</td>\n",
              "      <td>Trajeto</td>\n",
              "      <td>Maranhão</td>\n",
              "      <td>São Paulo</td>\n",
              "      <td>2022/02</td>\n",
              "      <td>0000/00</td>\n",
              "      <td>25/02/2022</td>\n",
              "      <td>16/12/1990</td>\n",
              "      <td>01/03/2022</td>\n",
              "      <td>19.578.086.000.162</td>\n",
              "    </tr>\n",
              "    <tr>\n",
              "      <th>2</th>\n",
              "      <td>Motocicleta, Motoneta</td>\n",
              "      <td>2022/02</td>\n",
              "      <td>519110-Motociclista no Transporte de Document</td>\n",
              "      <td>S52.5 Frat da Extremidade Distal do Radio</td>\n",
              "      <td>4930</td>\n",
              "      <td>Transporte Rodoviario de Carga</td>\n",
              "      <td>Segurado/Dependente</td>\n",
              "      <td>Pa</td>\n",
              "      <td>Empregado</td>\n",
              "      <td>Não</td>\n",
              "      <td>355030-São Paulo</td>\n",
              "      <td>Fratura</td>\n",
              "      <td>Internet</td>\n",
              "      <td>Braco (Entre O Punho a O Ombro)</td>\n",
              "      <td>Masculino</td>\n",
              "      <td>Trajeto</td>\n",
              "      <td>Maranhão</td>\n",
              "      <td>São Paulo</td>\n",
              "      <td>2022/02</td>\n",
              "      <td>0000/00</td>\n",
              "      <td>25/02/2022</td>\n",
              "      <td>16/12/1990</td>\n",
              "      <td>01/03/2022</td>\n",
              "      <td>19.578.086.000.162</td>\n",
              "    </tr>\n",
              "    <tr>\n",
              "      <th>3</th>\n",
              "      <td>Aprision. Em, Sobre ou Entre Dois ou Mai</td>\n",
              "      <td>2022/02</td>\n",
              "      <td>514205-Coletor Lixo</td>\n",
              "      <td>S60.0 Contusao de Dedos s/Lesao da Unha</td>\n",
              "      <td>3811</td>\n",
              "      <td>Coleta de Residuos Nao-Perigosos</td>\n",
              "      <td>Empregador</td>\n",
              "      <td>Pa</td>\n",
              "      <td>Empregado</td>\n",
              "      <td>Não</td>\n",
              "      <td>520110-Anápolis</td>\n",
              "      <td>Luxacao</td>\n",
              "      <td>Internet</td>\n",
              "      <td>Punho</td>\n",
              "      <td>Masculino</td>\n",
              "      <td>Típico</td>\n",
              "      <td>{ñ class}</td>\n",
              "      <td>Goiás</td>\n",
              "      <td>2022/02</td>\n",
              "      <td>0000/00</td>\n",
              "      <td>24/02/2022</td>\n",
              "      <td>19/09/1986</td>\n",
              "      <td>01/03/2022</td>\n",
              "      <td>00.000.000.000.000</td>\n",
              "    </tr>\n",
              "    <tr>\n",
              "      <th>4</th>\n",
              "      <td>Impacto de Pes. Contra Objeto em Movimento</td>\n",
              "      <td>2022/01</td>\n",
              "      <td>{ñ class}</td>\n",
              "      <td>S90.0 Contusao do Tornozelo</td>\n",
              "      <td>4639</td>\n",
              "      <td>Comercio Atacadista de Produtos Alimenticios</td>\n",
              "      <td>Empregador</td>\n",
              "      <td>Pa</td>\n",
              "      <td>Empregado</td>\n",
              "      <td>Não</td>\n",
              "      <td>330100-Campos dos Goytacazes</td>\n",
              "      <td>Luxacao</td>\n",
              "      <td>Internet</td>\n",
              "      <td>Perna (Entre O Tornozelo e a Pelvis)</td>\n",
              "      <td>Masculino</td>\n",
              "      <td>Típico</td>\n",
              "      <td>Maranhão</td>\n",
              "      <td>São Paulo</td>\n",
              "      <td>2022/01</td>\n",
              "      <td>0000/00</td>\n",
              "      <td>28/01/2022</td>\n",
              "      <td>25/07/1995</td>\n",
              "      <td>01/03/2022</td>\n",
              "      <td>00.000.000.000.000</td>\n",
              "    </tr>\n",
              "    <tr>\n",
              "      <th>...</th>\n",
              "      <td>...</td>\n",
              "      <td>...</td>\n",
              "      <td>...</td>\n",
              "      <td>...</td>\n",
              "      <td>...</td>\n",
              "      <td>...</td>\n",
              "      <td>...</td>\n",
              "      <td>...</td>\n",
              "      <td>...</td>\n",
              "      <td>...</td>\n",
              "      <td>...</td>\n",
              "      <td>...</td>\n",
              "      <td>...</td>\n",
              "      <td>...</td>\n",
              "      <td>...</td>\n",
              "      <td>...</td>\n",
              "      <td>...</td>\n",
              "      <td>...</td>\n",
              "      <td>...</td>\n",
              "      <td>...</td>\n",
              "      <td>...</td>\n",
              "      <td>...</td>\n",
              "      <td>...</td>\n",
              "      <td>...</td>\n",
              "    </tr>\n",
              "    <tr>\n",
              "      <th>257396</th>\n",
              "      <td>Piso de Edificio - Superficie Utilizada Para</td>\n",
              "      <td>2022/09</td>\n",
              "      <td>{ñ class}</td>\n",
              "      <td>S62   Frat ao Nivel do Punho e da Mao</td>\n",
              "      <td>2330</td>\n",
              "      <td>Fabricacao de Artefatos de Concreto, Cimento,</td>\n",
              "      <td>{ñ class}</td>\n",
              "      <td>Auxílio Doenca por Acidente do Trabalho</td>\n",
              "      <td>Empregado</td>\n",
              "      <td>Não</td>\n",
              "      <td>410960-Guaratuba</td>\n",
              "      <td>Lesao Imediata</td>\n",
              "      <td>Internet</td>\n",
              "      <td>Mao (Exceto Punho ou Dedos)</td>\n",
              "      <td>Masculino</td>\n",
              "      <td>Típico</td>\n",
              "      <td>Roraima</td>\n",
              "      <td>Paraná</td>\n",
              "      <td>2022/09</td>\n",
              "      <td>2022/10</td>\n",
              "      <td>29/09/2022</td>\n",
              "      <td>18/09/1993</td>\n",
              "      <td>10/10/2022</td>\n",
              "      <td>21.161.901.000.135</td>\n",
              "    </tr>\n",
              "    <tr>\n",
              "      <th>257397</th>\n",
              "      <td>Escada Permanente Cujos Degraus Permitem Apoi</td>\n",
              "      <td>2022/10</td>\n",
              "      <td>232130-Prof. Física no Ensino Médio</td>\n",
              "      <td>S82   Frat da Perna Incl Tornozelo</td>\n",
              "      <td>8520</td>\n",
              "      <td>Ensino Medio</td>\n",
              "      <td>Autoridade Pública</td>\n",
              "      <td>Auxílio Doenca por Acidente do Trabalho</td>\n",
              "      <td>Empregado</td>\n",
              "      <td>Não</td>\n",
              "      <td>410690-Curitiba</td>\n",
              "      <td>Fratura</td>\n",
              "      <td>Internet</td>\n",
              "      <td>Perna (Do Tornozelo, Exclusive, ao Joelho, Ex</td>\n",
              "      <td>Feminino</td>\n",
              "      <td>Típico</td>\n",
              "      <td>Roraima</td>\n",
              "      <td>Paraná</td>\n",
              "      <td>2022/10</td>\n",
              "      <td>2022/11</td>\n",
              "      <td>06/10/2022</td>\n",
              "      <td>24/11/1986</td>\n",
              "      <td>07/10/2022</td>\n",
              "      <td>76.416.965.000.121</td>\n",
              "    </tr>\n",
              "    <tr>\n",
              "      <th>257398</th>\n",
              "      <td>Andaime, Plataforma - Edificio ou Estrutura</td>\n",
              "      <td>2022/09</td>\n",
              "      <td>517330-Vigilante</td>\n",
              "      <td>S82.7 Frat Mult da Perna</td>\n",
              "      <td>8112</td>\n",
              "      <td>Condominios Prediais</td>\n",
              "      <td>Segurado/Dependente</td>\n",
              "      <td>Auxílio Doenca por Acidente do Trabalho</td>\n",
              "      <td>Empregado</td>\n",
              "      <td>Não</td>\n",
              "      <td>420460-Criciúma</td>\n",
              "      <td>Fratura</td>\n",
              "      <td>Internet</td>\n",
              "      <td>Membros Inferiores, Partes Multiplas (Qualque</td>\n",
              "      <td>Masculino</td>\n",
              "      <td>Típico</td>\n",
              "      <td>{ñ class}</td>\n",
              "      <td>Santa Catarina</td>\n",
              "      <td>2022/09</td>\n",
              "      <td>2022/10</td>\n",
              "      <td>20/09/2022</td>\n",
              "      <td>02/03/1986</td>\n",
              "      <td>10/10/2022</td>\n",
              "      <td>32.994.401.000.109</td>\n",
              "    </tr>\n",
              "    <tr>\n",
              "      <th>257399</th>\n",
              "      <td>Martelo, Malho, Marreta- Ferramenta Manual Se</td>\n",
              "      <td>2022/10</td>\n",
              "      <td>724315-Soldador</td>\n",
              "      <td>S62.6 Frat de Outr Dedos</td>\n",
              "      <td>7112</td>\n",
              "      <td>Servicos de Engenharia</td>\n",
              "      <td>Empregador</td>\n",
              "      <td>Auxílio Doenca por Acidente do Trabalho</td>\n",
              "      <td>Empregado</td>\n",
              "      <td>Não</td>\n",
              "      <td>411000-Iguaraçu</td>\n",
              "      <td>Fratura</td>\n",
              "      <td>Internet</td>\n",
              "      <td>Dedo</td>\n",
              "      <td>Masculino</td>\n",
              "      <td>Típico</td>\n",
              "      <td>Roraima</td>\n",
              "      <td>Paraná</td>\n",
              "      <td>2022/10</td>\n",
              "      <td>2022/10</td>\n",
              "      <td>05/10/2022</td>\n",
              "      <td>08/04/1984</td>\n",
              "      <td>06/10/2022</td>\n",
              "      <td>34.197.591.000.150</td>\n",
              "    </tr>\n",
              "    <tr>\n",
              "      <th>257400</th>\n",
              "      <td>Impacto de Pes. Contra Objeto Parado</td>\n",
              "      <td>2022/10</td>\n",
              "      <td>721215-Oper. Máquinas-Ferramenta Convencionai</td>\n",
              "      <td>S62.3 Frat de Outr Ossos do Metacarpo</td>\n",
              "      <td>2815</td>\n",
              "      <td>Fabricacao de Equipamentos de Transmissao par</td>\n",
              "      <td>Segurado/Dependente</td>\n",
              "      <td>Auxílio Doenca por Acidente do Trabalho</td>\n",
              "      <td>Empregado</td>\n",
              "      <td>Não</td>\n",
              "      <td>353130-Monte Alto</td>\n",
              "      <td>Fratura</td>\n",
              "      <td>Internet</td>\n",
              "      <td>Dedo</td>\n",
              "      <td>Masculino</td>\n",
              "      <td>Típico</td>\n",
              "      <td>Maranhão</td>\n",
              "      <td>São Paulo</td>\n",
              "      <td>2022/10</td>\n",
              "      <td>2022/10</td>\n",
              "      <td>03/10/2022</td>\n",
              "      <td>15/07/1993</td>\n",
              "      <td>18/10/2022</td>\n",
              "      <td>54.614.813.000.109</td>\n",
              "    </tr>\n",
              "  </tbody>\n",
              "</table>\n",
              "<p>257401 rows × 24 columns</p>\n",
              "</div>\n",
              "      <button class=\"colab-df-convert\" onclick=\"convertToInteractive('df-b787c7fb-d859-4c17-a270-a8c2d97983dd')\"\n",
              "              title=\"Convert this dataframe to an interactive table.\"\n",
              "              style=\"display:none;\">\n",
              "        \n",
              "  <svg xmlns=\"http://www.w3.org/2000/svg\" height=\"24px\"viewBox=\"0 0 24 24\"\n",
              "       width=\"24px\">\n",
              "    <path d=\"M0 0h24v24H0V0z\" fill=\"none\"/>\n",
              "    <path d=\"M18.56 5.44l.94 2.06.94-2.06 2.06-.94-2.06-.94-.94-2.06-.94 2.06-2.06.94zm-11 1L8.5 8.5l.94-2.06 2.06-.94-2.06-.94L8.5 2.5l-.94 2.06-2.06.94zm10 10l.94 2.06.94-2.06 2.06-.94-2.06-.94-.94-2.06-.94 2.06-2.06.94z\"/><path d=\"M17.41 7.96l-1.37-1.37c-.4-.4-.92-.59-1.43-.59-.52 0-1.04.2-1.43.59L10.3 9.45l-7.72 7.72c-.78.78-.78 2.05 0 2.83L4 21.41c.39.39.9.59 1.41.59.51 0 1.02-.2 1.41-.59l7.78-7.78 2.81-2.81c.8-.78.8-2.07 0-2.86zM5.41 20L4 18.59l7.72-7.72 1.47 1.35L5.41 20z\"/>\n",
              "  </svg>\n",
              "      </button>\n",
              "      \n",
              "  <style>\n",
              "    .colab-df-container {\n",
              "      display:flex;\n",
              "      flex-wrap:wrap;\n",
              "      gap: 12px;\n",
              "    }\n",
              "\n",
              "    .colab-df-convert {\n",
              "      background-color: #E8F0FE;\n",
              "      border: none;\n",
              "      border-radius: 50%;\n",
              "      cursor: pointer;\n",
              "      display: none;\n",
              "      fill: #1967D2;\n",
              "      height: 32px;\n",
              "      padding: 0 0 0 0;\n",
              "      width: 32px;\n",
              "    }\n",
              "\n",
              "    .colab-df-convert:hover {\n",
              "      background-color: #E2EBFA;\n",
              "      box-shadow: 0px 1px 2px rgba(60, 64, 67, 0.3), 0px 1px 3px 1px rgba(60, 64, 67, 0.15);\n",
              "      fill: #174EA6;\n",
              "    }\n",
              "\n",
              "    [theme=dark] .colab-df-convert {\n",
              "      background-color: #3B4455;\n",
              "      fill: #D2E3FC;\n",
              "    }\n",
              "\n",
              "    [theme=dark] .colab-df-convert:hover {\n",
              "      background-color: #434B5C;\n",
              "      box-shadow: 0px 1px 3px 1px rgba(0, 0, 0, 0.15);\n",
              "      filter: drop-shadow(0px 1px 2px rgba(0, 0, 0, 0.3));\n",
              "      fill: #FFFFFF;\n",
              "    }\n",
              "  </style>\n",
              "\n",
              "      <script>\n",
              "        const buttonEl =\n",
              "          document.querySelector('#df-b787c7fb-d859-4c17-a270-a8c2d97983dd button.colab-df-convert');\n",
              "        buttonEl.style.display =\n",
              "          google.colab.kernel.accessAllowed ? 'block' : 'none';\n",
              "\n",
              "        async function convertToInteractive(key) {\n",
              "          const element = document.querySelector('#df-b787c7fb-d859-4c17-a270-a8c2d97983dd');\n",
              "          const dataTable =\n",
              "            await google.colab.kernel.invokeFunction('convertToInteractive',\n",
              "                                                     [key], {});\n",
              "          if (!dataTable) return;\n",
              "\n",
              "          const docLinkHtml = 'Like what you see? Visit the ' +\n",
              "            '<a target=\"_blank\" href=https://colab.research.google.com/notebooks/data_table.ipynb>data table notebook</a>'\n",
              "            + ' to learn more about interactive tables.';\n",
              "          element.innerHTML = '';\n",
              "          dataTable['output_type'] = 'display_data';\n",
              "          await google.colab.output.renderOutput(dataTable, element);\n",
              "          const docLink = document.createElement('div');\n",
              "          docLink.innerHTML = docLinkHtml;\n",
              "          element.appendChild(docLink);\n",
              "        }\n",
              "      </script>\n",
              "    </div>\n",
              "  </div>\n",
              "  "
            ]
          },
          "metadata": {},
          "execution_count": 165
        }
      ]
    },
    {
      "cell_type": "markdown",
      "source": [
        "**Tornando o arquivo geral bruto disponível**\n",
        "\n",
        "Após a criação do DataFrame contendo os dados gerais da CAT do ano de 2022, disponibilizaremos o mesmo também no bucket do projeto."
      ],
      "metadata": {
        "id": "m24ZwTPPmZkn"
      }
    },
    {
      "cell_type": "code",
      "source": [
        "# Salvando arquivo geral no Cloud Storage\n",
        "\n",
        "# Gerando arquivo csv\n",
        "df.to_csv('DF-CAT-geral-origiral.csv')\n",
        "\n",
        "# Subindo o arquivo para o bucket\n",
        "blob = bucket.blob('datasets-originais/DF-CAT-geral-origiral.csv')\n",
        "blob.upload_from_filename('/content/DF-CAT-geral-origiral.csv')"
      ],
      "metadata": {
        "id": "22QrUnDrZMv-"
      },
      "execution_count": null,
      "outputs": []
    },
    {
      "cell_type": "markdown",
      "source": [
        "O código abaixo mostra como realizar a carga no MongoDB, que por falta de memória no cluster gratuito não será executado, mas fora testado e funciona normalmente.\n",
        "\n",
        "```\n",
        "# Salvando arquivo geral no MongoDB\n",
        "\n",
        "# Escolha do DataBase e Coleção\n",
        "db_projeto = client['projeto_aquecimento']\n",
        "\n",
        "# Criando a coleção para o df_geral\n",
        "colecaocat3 = db_projeto['DF-CAT-geral-orig']\n",
        "\n",
        "# Enviar o df_geral para colecao selecionada no mongo\n",
        "df_dict_geral = df_geral.to_dict(\"records\")\n",
        "\n",
        "colecaocat3.insert_many(df_dict_geral)\n",
        "```\n",
        "\n",
        "🚧**Nota:** Caso precisassemos execultar o envio para ele, teriamos que dividir o envio, assim como fizemos nos anteriores.\n"
      ],
      "metadata": {
        "id": "39whLVJNmimM"
      }
    },
    {
      "cell_type": "markdown",
      "source": [
        "## 🔎 **5 - Análise e tratamento do DF geral**\n",
        "\n",
        "Realizado a primeira carga dos dados e a criação do Data Frame geral, passamos a parte do T do ETL, que é a transformação ou tratamentos dos dados. \n",
        "\n",
        "Para esta etapa utilizaremos as bibliotecas **pandas** e **pyspark** a fim de realizar todas as transformações devidas e necessárias e por fim a validação dos datasets por meio do **pandera**, antes do seu carregamento, com os dados já modificados."
      ],
      "metadata": {
        "id": "PXKpwwz1WFgd"
      }
    },
    {
      "cell_type": "code",
      "source": [
        "df.head()"
      ],
      "metadata": {
        "id": "7flEVBOwCHfg",
        "colab": {
          "base_uri": "https://localhost:8080/",
          "height": 669
        },
        "outputId": "b7f8f9d9-78e1-4d29-cfa4-9f47d80d71cc"
      },
      "execution_count": null,
      "outputs": [
        {
          "output_type": "execute_result",
          "data": {
            "text/plain": [
              "                      Agente  Causador  Acidente Data Acidente  \\\n",
              "0  {ñ class}                                           2022/01   \n",
              "1  Motocicleta, Motoneta                               2022/02   \n",
              "2  Motocicleta, Motoneta                               2022/02   \n",
              "3  Aprision. Em, Sobre ou Entre Dois ou Mai            2022/02   \n",
              "4  Impacto de Pes. Contra Objeto em Movimento          2022/01   \n",
              "\n",
              "                                             CBO  \\\n",
              "0  515105-Agente Comunitário de Saúde              \n",
              "1  519110-Motociclista no Transporte de Document   \n",
              "2  519110-Motociclista no Transporte de Document   \n",
              "3  514205-Coletor Lixo                             \n",
              "4  {ñ class}                                       \n",
              "\n",
              "                                          CID-10  CNAE2.0 Empregador  \\\n",
              "0  B34.2 Infecc p/Coronavirus Ne                                8630   \n",
              "1  S52.5 Frat da Extremidade Distal do Radio                    4930   \n",
              "2  S52.5 Frat da Extremidade Distal do Radio                    4930   \n",
              "3  S60.0 Contusao de Dedos s/Lesao da Unha                      3811   \n",
              "4  S90.0 Contusao do Tornozelo                                  4639   \n",
              "\n",
              "                            CNAE2.0 Empregador.1         Emitente CAT  \\\n",
              "0  Atividades de Atencao Ambulatorial Executadas  Empregador            \n",
              "1  Transporte Rodoviario de Carga                 Segurado/Dependente   \n",
              "2  Transporte Rodoviario de Carga                 Segurado/Dependente   \n",
              "3  Coleta de Residuos Nao-Perigosos               Empregador            \n",
              "4  Comercio Atacadista de Produtos Alimenticios   Empregador            \n",
              "\n",
              "                            Espécie do benefício  \\\n",
              "0  Pa                                              \n",
              "1  Pa                                              \n",
              "2  Pa                                              \n",
              "3  Pa                                              \n",
              "4  Pa                                              \n",
              "\n",
              "                               Filiação Segurado Indica Óbito Acidente  \\\n",
              "0  Empregado                                                       Não   \n",
              "1  Empregado                                                       Não   \n",
              "2  Empregado                                                       Não   \n",
              "3  Empregado                                                       Não   \n",
              "4  Empregado                                                       Não   \n",
              "\n",
              "                                  Munic Empr  \\\n",
              "0  354780-Santo André-Sp                       \n",
              "1  355030-São Paulo                            \n",
              "2  355030-São Paulo                            \n",
              "3  520110-Anápolis                             \n",
              "4  330100-Campos dos Goytacazes                \n",
              "\n",
              "                               Natureza da Lesão Origem de Cadastramento CAT  \\\n",
              "0  Doenca Contagiosa ou Infecciosa (Tuberculos                      Internet   \n",
              "1  Fratura                                                          Internet   \n",
              "2  Fratura                                                          Internet   \n",
              "3  Luxacao                                                          Internet   \n",
              "4  Luxacao                                                          Internet   \n",
              "\n",
              "                            Parte Corpo Atingida           Sexo  \\\n",
              "0  Aparelho Respiratorio                          Feminino        \n",
              "1  Braco (Entre O Punho a O Ombro)                Masculino       \n",
              "2  Braco (Entre O Punho a O Ombro)                Masculino       \n",
              "3  Punho                                          Masculino       \n",
              "4  Perna (Entre O Tornozelo e a Pelvis)           Masculino       \n",
              "\n",
              "  Tipo do Acidente UF  Munic.  Acidente UF Munic. Empregador Data Acidente.1  \\\n",
              "0         Doença       Maranhão          São Paulo                   2022/01   \n",
              "1         Trajeto      Maranhão          São Paulo                   2022/02   \n",
              "2         Trajeto      Maranhão          São Paulo                   2022/02   \n",
              "3         Típico       {ñ class}         Goiás                       2022/02   \n",
              "4         Típico       Maranhão          São Paulo                   2022/01   \n",
              "\n",
              "  Data Despacho Benefício Data Acidente.2 Data Nascimento Data Emissão CAT  \\\n",
              "0                 0000/00      20/01/2022      02/08/1970       01/03/2022   \n",
              "1                 0000/00      25/02/2022      16/12/1990       01/03/2022   \n",
              "2                 0000/00      25/02/2022      16/12/1990       01/03/2022   \n",
              "3                 0000/00      24/02/2022      19/09/1986       01/03/2022   \n",
              "4                 0000/00      28/01/2022      25/07/1995       01/03/2022   \n",
              "\n",
              "  CNPJ/CEI Empregador  \n",
              "0  57.571.275.002.570  \n",
              "1  19.578.086.000.162  \n",
              "2  19.578.086.000.162  \n",
              "3  00.000.000.000.000  \n",
              "4  00.000.000.000.000  "
            ],
            "text/html": [
              "\n",
              "  <div id=\"df-efb923fc-984b-4b4b-8947-043bc503252a\">\n",
              "    <div class=\"colab-df-container\">\n",
              "      <div>\n",
              "<style scoped>\n",
              "    .dataframe tbody tr th:only-of-type {\n",
              "        vertical-align: middle;\n",
              "    }\n",
              "\n",
              "    .dataframe tbody tr th {\n",
              "        vertical-align: top;\n",
              "    }\n",
              "\n",
              "    .dataframe thead th {\n",
              "        text-align: right;\n",
              "    }\n",
              "</style>\n",
              "<table border=\"1\" class=\"dataframe\">\n",
              "  <thead>\n",
              "    <tr style=\"text-align: right;\">\n",
              "      <th></th>\n",
              "      <th>Agente  Causador  Acidente</th>\n",
              "      <th>Data Acidente</th>\n",
              "      <th>CBO</th>\n",
              "      <th>CID-10</th>\n",
              "      <th>CNAE2.0 Empregador</th>\n",
              "      <th>CNAE2.0 Empregador.1</th>\n",
              "      <th>Emitente CAT</th>\n",
              "      <th>Espécie do benefício</th>\n",
              "      <th>Filiação Segurado</th>\n",
              "      <th>Indica Óbito Acidente</th>\n",
              "      <th>Munic Empr</th>\n",
              "      <th>Natureza da Lesão</th>\n",
              "      <th>Origem de Cadastramento CAT</th>\n",
              "      <th>Parte Corpo Atingida</th>\n",
              "      <th>Sexo</th>\n",
              "      <th>Tipo do Acidente</th>\n",
              "      <th>UF  Munic.  Acidente</th>\n",
              "      <th>UF Munic. Empregador</th>\n",
              "      <th>Data Acidente.1</th>\n",
              "      <th>Data Despacho Benefício</th>\n",
              "      <th>Data Acidente.2</th>\n",
              "      <th>Data Nascimento</th>\n",
              "      <th>Data Emissão CAT</th>\n",
              "      <th>CNPJ/CEI Empregador</th>\n",
              "    </tr>\n",
              "  </thead>\n",
              "  <tbody>\n",
              "    <tr>\n",
              "      <th>0</th>\n",
              "      <td>{ñ class}</td>\n",
              "      <td>2022/01</td>\n",
              "      <td>515105-Agente Comunitário de Saúde</td>\n",
              "      <td>B34.2 Infecc p/Coronavirus Ne</td>\n",
              "      <td>8630</td>\n",
              "      <td>Atividades de Atencao Ambulatorial Executadas</td>\n",
              "      <td>Empregador</td>\n",
              "      <td>Pa</td>\n",
              "      <td>Empregado</td>\n",
              "      <td>Não</td>\n",
              "      <td>354780-Santo André-Sp</td>\n",
              "      <td>Doenca Contagiosa ou Infecciosa (Tuberculos</td>\n",
              "      <td>Internet</td>\n",
              "      <td>Aparelho Respiratorio</td>\n",
              "      <td>Feminino</td>\n",
              "      <td>Doença</td>\n",
              "      <td>Maranhão</td>\n",
              "      <td>São Paulo</td>\n",
              "      <td>2022/01</td>\n",
              "      <td>0000/00</td>\n",
              "      <td>20/01/2022</td>\n",
              "      <td>02/08/1970</td>\n",
              "      <td>01/03/2022</td>\n",
              "      <td>57.571.275.002.570</td>\n",
              "    </tr>\n",
              "    <tr>\n",
              "      <th>1</th>\n",
              "      <td>Motocicleta, Motoneta</td>\n",
              "      <td>2022/02</td>\n",
              "      <td>519110-Motociclista no Transporte de Document</td>\n",
              "      <td>S52.5 Frat da Extremidade Distal do Radio</td>\n",
              "      <td>4930</td>\n",
              "      <td>Transporte Rodoviario de Carga</td>\n",
              "      <td>Segurado/Dependente</td>\n",
              "      <td>Pa</td>\n",
              "      <td>Empregado</td>\n",
              "      <td>Não</td>\n",
              "      <td>355030-São Paulo</td>\n",
              "      <td>Fratura</td>\n",
              "      <td>Internet</td>\n",
              "      <td>Braco (Entre O Punho a O Ombro)</td>\n",
              "      <td>Masculino</td>\n",
              "      <td>Trajeto</td>\n",
              "      <td>Maranhão</td>\n",
              "      <td>São Paulo</td>\n",
              "      <td>2022/02</td>\n",
              "      <td>0000/00</td>\n",
              "      <td>25/02/2022</td>\n",
              "      <td>16/12/1990</td>\n",
              "      <td>01/03/2022</td>\n",
              "      <td>19.578.086.000.162</td>\n",
              "    </tr>\n",
              "    <tr>\n",
              "      <th>2</th>\n",
              "      <td>Motocicleta, Motoneta</td>\n",
              "      <td>2022/02</td>\n",
              "      <td>519110-Motociclista no Transporte de Document</td>\n",
              "      <td>S52.5 Frat da Extremidade Distal do Radio</td>\n",
              "      <td>4930</td>\n",
              "      <td>Transporte Rodoviario de Carga</td>\n",
              "      <td>Segurado/Dependente</td>\n",
              "      <td>Pa</td>\n",
              "      <td>Empregado</td>\n",
              "      <td>Não</td>\n",
              "      <td>355030-São Paulo</td>\n",
              "      <td>Fratura</td>\n",
              "      <td>Internet</td>\n",
              "      <td>Braco (Entre O Punho a O Ombro)</td>\n",
              "      <td>Masculino</td>\n",
              "      <td>Trajeto</td>\n",
              "      <td>Maranhão</td>\n",
              "      <td>São Paulo</td>\n",
              "      <td>2022/02</td>\n",
              "      <td>0000/00</td>\n",
              "      <td>25/02/2022</td>\n",
              "      <td>16/12/1990</td>\n",
              "      <td>01/03/2022</td>\n",
              "      <td>19.578.086.000.162</td>\n",
              "    </tr>\n",
              "    <tr>\n",
              "      <th>3</th>\n",
              "      <td>Aprision. Em, Sobre ou Entre Dois ou Mai</td>\n",
              "      <td>2022/02</td>\n",
              "      <td>514205-Coletor Lixo</td>\n",
              "      <td>S60.0 Contusao de Dedos s/Lesao da Unha</td>\n",
              "      <td>3811</td>\n",
              "      <td>Coleta de Residuos Nao-Perigosos</td>\n",
              "      <td>Empregador</td>\n",
              "      <td>Pa</td>\n",
              "      <td>Empregado</td>\n",
              "      <td>Não</td>\n",
              "      <td>520110-Anápolis</td>\n",
              "      <td>Luxacao</td>\n",
              "      <td>Internet</td>\n",
              "      <td>Punho</td>\n",
              "      <td>Masculino</td>\n",
              "      <td>Típico</td>\n",
              "      <td>{ñ class}</td>\n",
              "      <td>Goiás</td>\n",
              "      <td>2022/02</td>\n",
              "      <td>0000/00</td>\n",
              "      <td>24/02/2022</td>\n",
              "      <td>19/09/1986</td>\n",
              "      <td>01/03/2022</td>\n",
              "      <td>00.000.000.000.000</td>\n",
              "    </tr>\n",
              "    <tr>\n",
              "      <th>4</th>\n",
              "      <td>Impacto de Pes. Contra Objeto em Movimento</td>\n",
              "      <td>2022/01</td>\n",
              "      <td>{ñ class}</td>\n",
              "      <td>S90.0 Contusao do Tornozelo</td>\n",
              "      <td>4639</td>\n",
              "      <td>Comercio Atacadista de Produtos Alimenticios</td>\n",
              "      <td>Empregador</td>\n",
              "      <td>Pa</td>\n",
              "      <td>Empregado</td>\n",
              "      <td>Não</td>\n",
              "      <td>330100-Campos dos Goytacazes</td>\n",
              "      <td>Luxacao</td>\n",
              "      <td>Internet</td>\n",
              "      <td>Perna (Entre O Tornozelo e a Pelvis)</td>\n",
              "      <td>Masculino</td>\n",
              "      <td>Típico</td>\n",
              "      <td>Maranhão</td>\n",
              "      <td>São Paulo</td>\n",
              "      <td>2022/01</td>\n",
              "      <td>0000/00</td>\n",
              "      <td>28/01/2022</td>\n",
              "      <td>25/07/1995</td>\n",
              "      <td>01/03/2022</td>\n",
              "      <td>00.000.000.000.000</td>\n",
              "    </tr>\n",
              "  </tbody>\n",
              "</table>\n",
              "</div>\n",
              "      <button class=\"colab-df-convert\" onclick=\"convertToInteractive('df-efb923fc-984b-4b4b-8947-043bc503252a')\"\n",
              "              title=\"Convert this dataframe to an interactive table.\"\n",
              "              style=\"display:none;\">\n",
              "        \n",
              "  <svg xmlns=\"http://www.w3.org/2000/svg\" height=\"24px\"viewBox=\"0 0 24 24\"\n",
              "       width=\"24px\">\n",
              "    <path d=\"M0 0h24v24H0V0z\" fill=\"none\"/>\n",
              "    <path d=\"M18.56 5.44l.94 2.06.94-2.06 2.06-.94-2.06-.94-.94-2.06-.94 2.06-2.06.94zm-11 1L8.5 8.5l.94-2.06 2.06-.94-2.06-.94L8.5 2.5l-.94 2.06-2.06.94zm10 10l.94 2.06.94-2.06 2.06-.94-2.06-.94-.94-2.06-.94 2.06-2.06.94z\"/><path d=\"M17.41 7.96l-1.37-1.37c-.4-.4-.92-.59-1.43-.59-.52 0-1.04.2-1.43.59L10.3 9.45l-7.72 7.72c-.78.78-.78 2.05 0 2.83L4 21.41c.39.39.9.59 1.41.59.51 0 1.02-.2 1.41-.59l7.78-7.78 2.81-2.81c.8-.78.8-2.07 0-2.86zM5.41 20L4 18.59l7.72-7.72 1.47 1.35L5.41 20z\"/>\n",
              "  </svg>\n",
              "      </button>\n",
              "      \n",
              "  <style>\n",
              "    .colab-df-container {\n",
              "      display:flex;\n",
              "      flex-wrap:wrap;\n",
              "      gap: 12px;\n",
              "    }\n",
              "\n",
              "    .colab-df-convert {\n",
              "      background-color: #E8F0FE;\n",
              "      border: none;\n",
              "      border-radius: 50%;\n",
              "      cursor: pointer;\n",
              "      display: none;\n",
              "      fill: #1967D2;\n",
              "      height: 32px;\n",
              "      padding: 0 0 0 0;\n",
              "      width: 32px;\n",
              "    }\n",
              "\n",
              "    .colab-df-convert:hover {\n",
              "      background-color: #E2EBFA;\n",
              "      box-shadow: 0px 1px 2px rgba(60, 64, 67, 0.3), 0px 1px 3px 1px rgba(60, 64, 67, 0.15);\n",
              "      fill: #174EA6;\n",
              "    }\n",
              "\n",
              "    [theme=dark] .colab-df-convert {\n",
              "      background-color: #3B4455;\n",
              "      fill: #D2E3FC;\n",
              "    }\n",
              "\n",
              "    [theme=dark] .colab-df-convert:hover {\n",
              "      background-color: #434B5C;\n",
              "      box-shadow: 0px 1px 3px 1px rgba(0, 0, 0, 0.15);\n",
              "      filter: drop-shadow(0px 1px 2px rgba(0, 0, 0, 0.3));\n",
              "      fill: #FFFFFF;\n",
              "    }\n",
              "  </style>\n",
              "\n",
              "      <script>\n",
              "        const buttonEl =\n",
              "          document.querySelector('#df-efb923fc-984b-4b4b-8947-043bc503252a button.colab-df-convert');\n",
              "        buttonEl.style.display =\n",
              "          google.colab.kernel.accessAllowed ? 'block' : 'none';\n",
              "\n",
              "        async function convertToInteractive(key) {\n",
              "          const element = document.querySelector('#df-efb923fc-984b-4b4b-8947-043bc503252a');\n",
              "          const dataTable =\n",
              "            await google.colab.kernel.invokeFunction('convertToInteractive',\n",
              "                                                     [key], {});\n",
              "          if (!dataTable) return;\n",
              "\n",
              "          const docLinkHtml = 'Like what you see? Visit the ' +\n",
              "            '<a target=\"_blank\" href=https://colab.research.google.com/notebooks/data_table.ipynb>data table notebook</a>'\n",
              "            + ' to learn more about interactive tables.';\n",
              "          element.innerHTML = '';\n",
              "          dataTable['output_type'] = 'display_data';\n",
              "          await google.colab.output.renderOutput(dataTable, element);\n",
              "          const docLink = document.createElement('div');\n",
              "          docLink.innerHTML = docLinkHtml;\n",
              "          element.appendChild(docLink);\n",
              "        }\n",
              "      </script>\n",
              "    </div>\n",
              "  </div>\n",
              "  "
            ]
          },
          "metadata": {},
          "execution_count": 167
        }
      ]
    },
    {
      "cell_type": "markdown",
      "source": [
        "###☑️ **5.1 - Tratamento com Pandas**\n",
        "\n",
        "Antes da realização de todos os passos explicados a seguir, fizemos uma análise em todo o DataFrame, onde passamos em todas as colunas, verificando a presença de inconsistências aparentes e de redundância nas informações, com o uso do pandas. Vamos demonstrar a você como chegamos nas conclusões de tratamento.\n"
      ],
      "metadata": {
        "id": "odek-9qWzM04"
      }
    },
    {
      "cell_type": "markdown",
      "source": [
        "####▶️ **Análise do DataFrame**\n",
        "\n",
        "Os passos a seguir foram feitos para cada uma das colunas, onde verificamos a presença de algumas particularidades que serão comentadas no momento devido."
      ],
      "metadata": {
        "id": "Ra1NPiHJ6ySp"
      }
    },
    {
      "cell_type": "code",
      "source": [
        "# Verifica os dados únicos na coluna\n",
        "df['Agente  Causador  Acidente'].unique()"
      ],
      "metadata": {
        "colab": {
          "base_uri": "https://localhost:8080/"
        },
        "id": "8UDSGxI47G3l",
        "outputId": "4aa89d69-0613-42e3-a4a3-c8a9ce4e3874"
      },
      "execution_count": null,
      "outputs": [
        {
          "output_type": "execute_result",
          "data": {
            "text/plain": [
              "array(['{ñ class}                                    ',\n",
              "       'Motocicleta, Motoneta                        ',\n",
              "       'Aprision. Em, Sobre ou Entre Dois ou Mai     ',\n",
              "       'Impacto de Pes. Contra Objeto em Movimento   ',\n",
              "       'Temperatura Muito Alta, Contato com Objeto Ou',\n",
              "       'Piso de Veiculo - Superficie Utilizada para S',\n",
              "       'Frasco, Garrafa - Embalagem, Recipiente, Vazi',\n",
              "       'Piso de Andaime e Plataforma Desmontavel - Su',\n",
              "       'Produto Biologico (Soro, Toxina, Antitoxina, ',\n",
              "       'Passarela ou Plataforma Permanentes - Superfi',\n",
              "       'Esmeril- Ferramenta Portatil com Forca Motriz',\n",
              "       'Caixa, Engradado, Caixote - Embalagem, Recipi',\n",
              "       'Atrito ou Abrasao por Manusear Objeto        ',\n",
              "       'Talha - Equip. de Guindar                    ',\n",
              "       'Rampa - Superficie Utilizada para Sustentar P',\n",
              "       'Chao - Superficie Utilizada para Sustentar Pe',\n",
              "       'Impacto de Pes. Contra Objeto Parado         ',\n",
              "       'Queda de Pes. com Dif. de Nivel de Esc       ',\n",
              "       'Impacto Sofrido por Pes., Nic                ',\n",
              "       'Bicicleta                                    ',\n",
              "       'Queda de Pes. com Dif. de Nivel de And       ',\n",
              "       'Escada Permanente Cujos Degraus Permitem Apoi',\n",
              "       'Aprision. Em, Sobre ou Entre Objeto Para     ',\n",
              "       'Equip. de Guindar, Nic                       ',\n",
              "       'Queda de Pes. com Dif. de Nivel em Poc       ',\n",
              "       'Empilhadeira                                 ',\n",
              "       'Maquina, Nic                                 ',\n",
              "       'Queda de Pes. com Dif. de Nivel de Vei       ',\n",
              "       'Eletrica, Exposicao a Energia                ',\n",
              "       'Faca, Facao- Ferramenta Manual sem Forca Motr',\n",
              "       'Impacto Sofrido por Pes. de Objeto Que Cai   ',\n",
              "       'Queda de Pes. em Mesmo Nivel Sobre ou Contr  ',\n",
              "       'Impacto Sofrido por Pes. de Objeto Projetad  ',\n",
              "       'Rua e Estrada - Superficie Utilizada para Sus',\n",
              "       'Martelo, Malho, Marreta- Ferramenta Manual Se',\n",
              "       'Deposito Fixo (Tanque, Silo, Paiol, Etc.) - E',\n",
              "       'Veiculo, Nic                                 ',\n",
              "       'Queda de Pes. com Dif. de Nivel em Esc       ',\n",
              "       'Escada Movel ou Fixada, Nic                  ',\n",
              "       'Metal - Inclui Liga Ferrosa e nao Ferrosa, Tu',\n",
              "       'Engrenagem - Dispositivo de Transmissao de En',\n",
              "       'Atrito ou Abrasao, Nic                       ',\n",
              "       'Produto de Limpeza, Sabao, Detergente        ',\n",
              "       'Veiculo Rodoviario Motorizado                ',\n",
              "       'Laminadora, Calandra - Maquina               ',\n",
              "       'Agente Infeccioso ou Parasitario - Inclui Bac',\n",
              "       'Queda de Pes. com Dif. de Nivel, Nic         ',\n",
              "       'Misturador, Batedeira, Agitador - Maquina    ',\n",
              "       'Mesa, Carteira, Exceto Mesa Elastica Desmonta',\n",
              "       'Reacao do Corpo a Movimento Voluntario       ',\n",
              "       'Ferramenta, Maquina, Equip., Veiculo, Ni     ',\n",
              "       'Cadeira Banco - Mobiliario e Acessorios      ',\n",
              "       'Piso de Edificio - Superficie Utilizada Para ',\n",
              "       'Puncao, Ponteiro, Vazador- Ferramenta Portati',\n",
              "       'Aprision. Em, Sob ou Entre, Nic              ',\n",
              "       'Picareta- Ferramenta Manual sem Forca Motriz ',\n",
              "       'Animal Vivo                                  ',\n",
              "       'Superficie de Sustentacao, Nic - Superficie U',\n",
              "       'Serra - Maquina                              ',\n",
              "       'Esforco Excessivo ao Empurrar ou Puxar Objeto',\n",
              "       'Calcada ou Caminho para Pedestre - Superficie',\n",
              "       'Agua - Usar Quando O Estado Iiquido Contribui',\n",
              "       'Equip. Eletrico, Nic                         ',\n",
              "       'Carne e Derivados - Inclusive de Origem Anima',\n",
              "       'Absorcao de Substancia Caustica              ',\n",
              "       'Particulas - nao Identificadas               ',\n",
              "       'Madeira (Toro, Madeira Serrada, Pranchao, Pos',\n",
              "       'Reacao do Corpo a Movimento Involuntario     ',\n",
              "       'Equip. de Aquecimento Eletrico - Equipam     ',\n",
              "       'Transportador, Nic                           ',\n",
              "       'Ferramenta Manual sem Forca Motriz, Nic      ',\n",
              "       'Forno, Estufa, Retorta, Aquecedor de Ambiente',\n",
              "       'Prensa - Maquina                             ',\n",
              "       'Embalagem e Recipiente, Vazio ou Cheio, Nic  ',\n",
              "       'Dispositivo de Transmissao de Energia Mecanic',\n",
              "       'Queda de Pes. em Mesmo Nivel, Nic            ',\n",
              "       'Substancia Quimica, Nic                      ',\n",
              "       'Ataque de Ser Vivo com Peconha               ',\n",
              "       'Legume, Verdura e Derivados                  ',\n",
              "       'Atrito ou Abrasao por Corpo Estranho no Olho ',\n",
              "       'Edificio - Edificio ou Estrutura             ',\n",
              "       'Esforco Excessivo, Nic                       ',\n",
              "       'Ataque de Ser Vivo por Mordedura, Picada, Chi',\n",
              "       'Mobiliario e Acessorios, Nic                 ',\n",
              "       'Tubo Sob Pressao (Mangueira ou Tubo para Iiqu',\n",
              "       'Andaime, Plataforma - Edificio ou Estrutura  ',\n",
              "       'Furadeira, Broqueadeira, Torno, Freza - Maqui',\n",
              "       'Plaina, Tupia - Maquina                      ',\n",
              "       'Alcali                                       ',\n",
              "       'Substancia Quimica, Material, Produto, Nic   ',\n",
              "       'Puncao, Ponteiro, Vazador, Talhadeira- Ferram',\n",
              "       'Serra, Serrote- Ferramenta Manual sem Forca M',\n",
              "       'Queda de Pes. em Mesmo Nivel em Passagem Ou  ',\n",
              "       'Painel de Controle, Barramento, Chave, Interr',\n",
              "       'Tesoura, Tesourao- Ferramenta Manual sem Forc',\n",
              "       'Esforco Excessivo ao Erguer Objeto           ',\n",
              "       'Agente do Acidente, Nic                      ',\n",
              "       'Ser Vivo, Nic                                ',\n",
              "       'Torre, Poste - Edificio ou Estrutura         ',\n",
              "       'Vidraria, Fibra de Vidro, Lamina, Etc., Excet',\n",
              "       'Atrito ou Abrasao por Encostar, Pisar, Ajoelh',\n",
              "       'Sucata, Entulho, Residuo                     ',\n",
              "       'Corda, Cabo, Corrente- Ferramenta Manual Sem ',\n",
              "       'Elevador - Equip. de Guindar                 ',\n",
              "       'Asfalto, Alcatrao, Piche                     ',\n",
              "       'Politriz, Lixadora, Esmeril - Maquina        ',\n",
              "       'Cortadeira, Guilhotina- Ferramenta Portatil C',\n",
              "       'Esforco Excessivo ao Manejar, Sacudir ou Arre',\n",
              "       'Maquina Textil                               ',\n",
              "       'Vaso Sob Pressao (Para Iiquido, Gas ou Vapor)',\n",
              "       'Ferramenta Portatil com Forca Motriz ou Aquec',\n",
              "       'Barril, Barrica, Barrilete, Tambor - Embalage',\n",
              "       'Correia - Dispositivo de Transmissao de Energ',\n",
              "       'Superficie e Estrutura, Nic                  ',\n",
              "       'Produto Mineral nao Metalico - Produto de Min',\n",
              "       'Britador, Moinho - Maquina                   ',\n",
              "       'Balcao, Bancada - Mobiliario e Acessorios    ',\n",
              "       'Aprision. Em, Sobre ou Entre Objetos Em      ',\n",
              "       'Serra- Ferramenta Portatil com Forca Motriz O',\n",
              "       'Tijolo e Telha - Ceramica                    ',\n",
              "       'Maquina de Embalar ou Empacotar              ',\n",
              "       'Politriz, Enceradeira- Ferramenta Portatil Co',\n",
              "       'Ataque de Ser Vivo, Nic                      ',\n",
              "       'Maquina de Fundir, de Forjar, de Soldar      ',\n",
              "       'Vegetal - Planta, Arvore, em Estado Natural, ',\n",
              "       'Chave de Porca ou de Abertura Regulavel, Chav',\n",
              "       'Peneira Mecanica, Maquina Separadora - Maquin',\n",
              "       'Telhado                                      ',\n",
              "       'Arquivo, Fichario, Estante - Mobiliario e Ace',\n",
              "       'Escavacao, Fosso, Tunel, Nic                 ',\n",
              "       'Poco, Entrada, Galeria, Etc., de Mina        ',\n",
              "       'Acido                                        ',\n",
              "       'Agente do Acidente Inexistente               ',\n",
              "       'Temperatura Ambiente Elevada, Exposicao A    ',\n",
              "       'Temperatura Ambiente- nao Inclui a de Objeto ',\n",
              "       'Tubo, Manilha - Ceramica                     ',\n",
              "       'Tambor, Polia, Roldana - Dispositivo de Trans',\n",
              "       'Corrente, Corda, Cabo - Dispositivo de Transm',\n",
              "       'Ruido, Exposicao A                           ',\n",
              "       'Tanque, Cilindro (Transportaveis e nao Sob Pr',\n",
              "       'Exposicao a Pressao Ambiente Baixa           ',\n",
              "       'Transportador com Forca Motriz               ',\n",
              "       'Produto Animal, Nic                          ',\n",
              "       'Tesoura, Guilhotina, Maquina de Cortar - Maqu',\n",
              "       'Arco Eletrico                                ',\n",
              "       'Veiculo Sobre Trilho                         ',\n",
              "       'Chave de Parafuso- Ferramenta Manual sem Forc',\n",
              "       'Carvao                                       ',\n",
              "       'Fogo-Chama,Material Incandescente ou Quente,F',\n",
              "       'Veiculo de Tracao Animal                     ',\n",
              "       'Escavacao (Para Edificio, Estrada, Etc.)     ',\n",
              "       'Aerodispersoides                             ',\n",
              "       'Reostato, Dispositivo de Partida e Aparelho D',\n",
              "       'Queda de Pes. com Dif. de Nivel de Mat       ',\n",
              "       'Maquina Agricola                             ',\n",
              "       'Motor Eletrico - Equip. Eletrico             ',\n",
              "       'Atrito ou Abrasao por Objeto em Vibracao     ',\n",
              "       'Guincho Pneumatico - Equip. de Guindar       ',\n",
              "       'Alavanca, Pe-De-Cabra- Ferramenta Manual Sem ',\n",
              "       'Fruta e Derivados                            ',\n",
              "       'Liquido, Nic                                 ',\n",
              "       'Maquina de Aparafusar - Ferramenta Portatil C',\n",
              "       'Macaco (Mecanico, Hidraulico, Pneumatico) - E',\n",
              "       'Condutor - Equip. Eletrico                   ',\n",
              "       'Atrito ou Abrasao por Compressao Repetitiva  ',\n",
              "       'Ponte, Viaduto - Edificio ou Estrutura       ',\n",
              "       'Ataque de Ser Vivo com Transmissao de Doenca ',\n",
              "       'Masarico - Ferramenta Portatil com Forca Motr',\n",
              "       'Guindaste - Equip. de Guindar                ',\n",
              "       'Equip. para Trabalho em Ambiente de Pres     ',\n",
              "       'Hidrocarboneto Gasoso (Inclui Gas Liquefeito,',\n",
              "       'Texteis - Inclui Fibras Animais Apos O Primei',\n",
              "       'Ceramica                                     ',\n",
              "       'Coque                                        ',\n",
              "       'Veiculo Deslisante                           ',\n",
              "       'Area ou Ambiente de Trabalho - O Agente do Ac',\n",
              "       'Osso - Produto Animal                        ',\n",
              "       'Ruido                                        ',\n",
              "       'Composto Metalico (De Chumbo, Mercurio, Zinco',\n",
              "       'Revestimento Ceramico (Azulejo, Mosaico, Etc.',\n",
              "       'Canal, Fosso                                 ',\n",
              "       'Maquina de Imprimir                          ',\n",
              "       'Trator                                       ',\n",
              "       'Maquina de Mineracao e Perfuracao (De Tunel, ',\n",
              "       'Pressao Ambiente Baixa-Ar Rarefeito          ',\n",
              "       'Inalacao de Substancia Caustica, Toxica ou No',\n",
              "       'Carro de Mao                                 ',\n",
              "       'Alicate, Torques, Tenaz- Ferramenta Manual Se',\n",
              "       'Veiculo de Terraplenagem                     ',\n",
              "       'Plastico - Inclui Po, Folha, Trefilado, Barra',\n",
              "       'Edificio ou Estrutura (Exceto Piso, Superfici',\n",
              "       'Ferramenta de Soldagem- Ferramenta Portatil C',\n",
              "       'Caldeira                                     ',\n",
              "       'Maquina de Costurar e de Pespontar           ',\n",
              "       'Martelete, Socador- Ferramenta Portatil com F',\n",
              "       'Parafina, Oleo Lubrificante e de Corte, Graxa',\n",
              "       'Poluicao da Agua, Acao Da                    ',\n",
              "       'Ponte Rolante - Equip. de Guindar            ',\n",
              "       'Radiacao nao Ionizante, Exposicao A          ',\n",
              "       'Louca de Mesa e Outros Utensilios (De Porcela',\n",
              "       'Produto Alimenticio - Inclusive de Origem Ani',\n",
              "       'Tapete, Forracao de Piso, Capacho - Mobiliari',\n",
              "       'Louca Sanitaria (Pia, Vaso Sanitario, Etc.) -',\n",
              "       'Motor (Combustao Interna, Vapor)             ',\n",
              "       'Motor, Bomba, Turbina, Nic                   ',\n",
              "       'Rebitadeira- Ferramenta Portatil com Forca Mo',\n",
              "       'Piso de Mina - Superficie Utilizada para Sust',\n",
              "       'Oleo Combustivel                             ',\n",
              "       'Energia                                      ',\n",
              "       'Cais, Doca - Edificio ou Estrutura           ',\n",
              "       'Formao, Cinzel- Ferramenta Manual sem Forca M',\n",
              "       'Gas e Vapor                                  ',\n",
              "       'Papel e Pasta para Papel                     ',\n",
              "       'Aprision. Em, Sobre ou Entre Desabamento     ',\n",
              "       'Enxada, Enxadao, Sacho- Ferramenta Manual Sem',\n",
              "       'Gerador - Equip. Eletrico                    ',\n",
              "       'Temperatura Muito Baixa, Contato com Objeto O',\n",
              "       'Machado- Ferramenta Manual sem Forca Motriz  ',\n",
              "       'Alcool                                       ',\n",
              "       'Turbina                                      ',\n",
              "       'Lima, Grosa- Ferramenta Manual sem Forca Motr',\n",
              "       'Inalacao, Ingestao ou Absorcao, Nic          ',\n",
              "       'Maquina de Terraplenagem e Construcao de Estr',\n",
              "       'Equip. Eletrolitico - Equip. Eletri          ',\n",
              "       'Medicamento em Geral (Exceto Produto Biologic',\n",
              "       'Dique, Barragem - Edificio ou Estrutura      ',\n",
              "       'Machadinha, Enxo- Ferramenta Manual sem Forca',\n",
              "       'Rebocador Mecanico, Mula Mecanica            ',\n",
              "       'Produtos Alimenticios-Inclui Carne,Leite e De',\n",
              "       'Pa Mecanica, Draga - Equip. de Guindar       ',\n",
              "       'Pa, Cavadeira- Ferramenta Manual sem Forca Mo',\n",
              "       'Luminaria, Globo, Iampada - Mobiliario e Aces',\n",
              "       'Equip. de Iluminacao - Equip. Emiss          ',\n",
              "       'Pele, Crina, Pelo, La (Em Bruto) - Produto An',\n",
              "       'Bomba                                        ',\n",
              "       'Mesa Elastica Desmontavel - Mobiliario e Aces',\n",
              "       'Exposicao a Pressao Ambiente Elevada         ',\n",
              "       'Aeronave                                     ',\n",
              "       'Nafta e Solvente de Nafta (Eter de Petroleo, ',\n",
              "       'Plaina- Ferramenta Manual sem Forca Motriz   ',\n",
              "       'Embreagem de Friccao - Dispositivo de Transmi',\n",
              "       'Ceramica, Nic                                ',\n",
              "       'Temperatura Ambiente Baixa, Exposicao A      ',\n",
              "       'Poluicao do Ar, Acao Da                      ',\n",
              "       'Equip. Magnetico - Equip. Eletrico           ',\n",
              "       'Arco Eletrico - Equip. Emissor de Radiac     ',\n",
              "       'Produto de Petroleo e de Carvao, Nic         ',\n",
              "       'Caldeira, Vaso Sob Pressao, Nic              ',\n",
              "       'Vestuario, Nic                               ',\n",
              "       'Jato de Areia- Ferramenta Portatil com Forca ',\n",
              "       'Talhadeira- Ferramenta Portatil com Forca Mot',\n",
              "       'Produto Mineral Metalico - Produto de Minerac',\n",
              "       'Guincho Eletrico - Equip. de Guindar         ',\n",
              "       'Transformador, Conversor - Equip. Eletri     ',\n",
              "       'Transportador por Gravidade                  ',\n",
              "       'Pressao Ambiente, Exposicao A                ',\n",
              "       'Equip. de Raios X - Equip. ou Subst          ',\n",
              "       'Gas Carbonico (Dioxido de Carbono, Co2)      ',\n",
              "       'Ferramenta Acionada por Explosivo- Ferramenta',\n",
              "       'Arquibancada, Estadio - Edificio ou Estrutura',\n",
              "       'Perfuratriz- Ferramenta Portatil com Forca Mo',\n",
              "       'Garfo, Ancinho, Forcado- Ferramenta Manual Se',\n",
              "       'Maquina de Escritorio                        ',\n",
              "       'Composto Organico Halogenado (Tricloretileno,',\n",
              "       'Vibracao, Exposicao A                        ',\n",
              "       'Pua, Trado, Verruma, Maquina de Furar Manual-',\n",
              "       'Tunel                                        ',\n",
              "       'Ingestao de Substancia Caustica...           ',\n",
              "       'Veiculo Funicular (Tracao por Cabo)          ',\n",
              "       'Leite e Derivados - Inclusive de Origem Anima',\n",
              "       'Gasoleo, Oleo Diesel                         ',\n",
              "       'Gasolina (Exceto Quando a Ocorrencia For Caus',\n",
              "       'Neblina                                      ',\n",
              "       'Equip. Emissor de Radiacao não Ionizante     ',\n",
              "       'Elevador de Cacamba para Mineracao - Equipame',\n",
              "       'Equip. Emissor de Radiacao nao Ionizante     ',\n",
              "       'Reator (Inclui Combustivel e Residuo) - Equip',\n",
              "       'Couro Cru ou Curtido - Produto Animal        ',\n",
              "       'Oxidos de Nitrogenio (Vapores Nitrosos)      ',\n",
              "       'Cereal e Derivados                           ',\n",
              "       'Pau de Carga - Equip. de Guindar             ',\n",
              "       'Veiculo Aquatico                             ',\n",
              "       'Composto de Fosforo                          ',\n",
              "       'Monoxido de Carbono (Co)                     ',\n",
              "       'Composto Aromatico (Benzol, Toluol, Xilol, An',\n",
              "       'Imersao                                      ',\n",
              "       'Ferro de Passar- Ferramenta Portatil com Forc',\n",
              "       'Equip. de Iluminacao                         ',\n",
              "       'Triciclo                                     ',\n",
              "       'Pena - Produto Animal                        ',\n",
              "       'Petroleo Bruto, Bruto Reduzido               ',\n",
              "       'Radiacao Ionizante, Exposicao A              ',\n",
              "       'Querosene                                    ',\n",
              "       'Poluicao, Nic, Exposicao A                   '], dtype=object)"
            ]
          },
          "metadata": {},
          "execution_count": 168
        }
      ]
    },
    {
      "cell_type": "code",
      "source": [
        "# Outra forma de verificar os dados e contar o numero de ocorrências dele\n",
        "df.groupby(['Agente  Causador  Acidente']).size().sort_values(ascending=False)"
      ],
      "metadata": {
        "colab": {
          "base_uri": "https://localhost:8080/"
        },
        "id": "rFm2788P7NV9",
        "outputId": "413b11b9-7ef1-4a00-9367-c7670b4a66b2"
      },
      "execution_count": null,
      "outputs": [
        {
          "output_type": "execute_result",
          "data": {
            "text/plain": [
              "Agente  Causador  Acidente\n",
              "{ñ class}                                        100213\n",
              "Motocicleta, Motoneta                              8297\n",
              "Impacto de Pes. Contra Objeto em Movimento         8012\n",
              "Rua e Estrada - Superficie Utilizada para Sus      6236\n",
              "Impacto de Pes. Contra Objeto Parado               6145\n",
              "                                                  ...  \n",
              "Couro Cru ou Curtido - Produto Animal                 2\n",
              "Radiacao Ionizante, Exposicao A                       2\n",
              "Equip. de Iluminacao - Equip. Emiss                   2\n",
              "Exposicao a Pressao Ambiente Baixa                    1\n",
              "Gas Carbonico (Dioxido de Carbono, Co2)               1\n",
              "Length: 294, dtype: int64"
            ]
          },
          "metadata": {},
          "execution_count": 169
        }
      ]
    },
    {
      "cell_type": "code",
      "source": [
        "# Filtro da coluna\n",
        "ft = df['Agente  Causador  Acidente'] == '{ñ class}                                    '\n",
        "\n",
        "# Fazendo loc do filtro\n",
        "df.loc[ft].head(5)"
      ],
      "metadata": {
        "colab": {
          "base_uri": "https://localhost:8080/",
          "height": 652
        },
        "id": "jFH8fr2H6-de",
        "outputId": "244b2825-b9ff-4eb5-dabd-48b9aa8f5acc"
      },
      "execution_count": null,
      "outputs": [
        {
          "output_type": "execute_result",
          "data": {
            "text/plain": [
              "                       Agente  Causador  Acidente Data Acidente  \\\n",
              "0   {ñ class}                                           2022/01   \n",
              "7   {ñ class}                                           2022/01   \n",
              "14  {ñ class}                                           2022/01   \n",
              "39  {ñ class}                                           2022/02   \n",
              "55  {ñ class}                                           2022/02   \n",
              "\n",
              "                                              CBO  \\\n",
              "0   515105-Agente Comunitário de Saúde              \n",
              "7   223505-Enfermeiro                               \n",
              "14  {ñ class}                                       \n",
              "39  862150-Oper. Máquinas Fixas, em Geral           \n",
              "55  322205-Tec. de Enfermagem                       \n",
              "\n",
              "                                           CID-10  CNAE2.0 Empregador  \\\n",
              "0   B34.2 Infecc p/Coronavirus Ne                                8630   \n",
              "7   B34.2 Infecc p/Coronavirus Ne                                8630   \n",
              "14  B34.2 Infecc p/Coronavirus Ne                                8630   \n",
              "39  S61.0 Ferim de Dedos s/Lesao da Unha                         1012   \n",
              "55  Z29.0 Isolamento                                             8610   \n",
              "\n",
              "                             CNAE2.0 Empregador.1         Emitente CAT  \\\n",
              "0   Atividades de Atencao Ambulatorial Executadas  Empregador            \n",
              "7   Atividades de Atencao Ambulatorial Executadas  Empregador            \n",
              "14  Atividades de Atencao Ambulatorial Executadas  Empregador            \n",
              "39  Abate de Suinos, Aves e Outros Pequenos Anima  Empregador            \n",
              "55  Atividades de Atendimento Hospitalar           Empregador            \n",
              "\n",
              "                             Espécie do benefício  \\\n",
              "0   Pa                                              \n",
              "7   Pa                                              \n",
              "14  Pa                                              \n",
              "39  Pa                                              \n",
              "55  Pa                                              \n",
              "\n",
              "                                Filiação Segurado Indica Óbito Acidente  \\\n",
              "0   Empregado                                                       Não   \n",
              "7   Empregado                                                       Não   \n",
              "14  Empregado                                                       Não   \n",
              "39  Empregado                                                       Não   \n",
              "55  Empregado                                                       Não   \n",
              "\n",
              "                                   Munic Empr  \\\n",
              "0   354780-Santo André-Sp                       \n",
              "7   354780-Santo André-Sp                       \n",
              "14  354780-Santo André-Sp                       \n",
              "39  500370-Dourados                             \n",
              "55  410690-Curitiba                             \n",
              "\n",
              "                                Natureza da Lesão Origem de Cadastramento CAT  \\\n",
              "0   Doenca Contagiosa ou Infecciosa (Tuberculos                      Internet   \n",
              "7   Doenca Contagiosa ou Infecciosa (Tuberculos                      Internet   \n",
              "14  Doenca Contagiosa ou Infecciosa (Tuberculos                      Internet   \n",
              "39  Corte, Laceracao, Ferida Contusa, Punctura                       Internet   \n",
              "55  Doenca Contagiosa ou Infecciosa (Tuberculos                      Internet   \n",
              "\n",
              "                             Parte Corpo Atingida           Sexo  \\\n",
              "0   Aparelho Respiratorio                          Feminino        \n",
              "7   Aparelho Respiratorio                          Feminino        \n",
              "14  Aparelho Respiratorio                          Feminino        \n",
              "39  Dedo                                           Masculino       \n",
              "55  Aparelho Respiratorio                          Feminino        \n",
              "\n",
              "   Tipo do Acidente UF  Munic.  Acidente UF Munic. Empregador Data Acidente.1  \\\n",
              "0          Doença       Maranhão          São Paulo                   2022/01   \n",
              "7          Doença       Maranhão          São Paulo                   2022/01   \n",
              "14         Doença       Maranhão          São Paulo                   2022/01   \n",
              "39         Típico       {ñ class}         Mato Grosso do Sul          2022/02   \n",
              "55         Doença       Roraima           Paraná                      2022/02   \n",
              "\n",
              "   Data Despacho Benefício Data Acidente.2 Data Nascimento Data Emissão CAT  \\\n",
              "0                  0000/00      20/01/2022      02/08/1970       01/03/2022   \n",
              "7                  0000/00      18/01/2022      13/05/1982       01/03/2022   \n",
              "14                 0000/00      20/01/2022      16/02/1965       01/03/2022   \n",
              "39                 0000/00      28/02/2022      24/03/1984       01/03/2022   \n",
              "55                 0000/00      09/02/2022      11/06/1991       01/03/2022   \n",
              "\n",
              "   CNPJ/CEI Empregador  \n",
              "0   57.571.275.002.570  \n",
              "7   57.571.275.002.570  \n",
              "14  57.571.275.002.570  \n",
              "39  00.000.000.000.000  \n",
              "55  00.000.000.000.000  "
            ],
            "text/html": [
              "\n",
              "  <div id=\"df-804d4277-e3d0-49fc-aba0-129ef9c9231b\">\n",
              "    <div class=\"colab-df-container\">\n",
              "      <div>\n",
              "<style scoped>\n",
              "    .dataframe tbody tr th:only-of-type {\n",
              "        vertical-align: middle;\n",
              "    }\n",
              "\n",
              "    .dataframe tbody tr th {\n",
              "        vertical-align: top;\n",
              "    }\n",
              "\n",
              "    .dataframe thead th {\n",
              "        text-align: right;\n",
              "    }\n",
              "</style>\n",
              "<table border=\"1\" class=\"dataframe\">\n",
              "  <thead>\n",
              "    <tr style=\"text-align: right;\">\n",
              "      <th></th>\n",
              "      <th>Agente  Causador  Acidente</th>\n",
              "      <th>Data Acidente</th>\n",
              "      <th>CBO</th>\n",
              "      <th>CID-10</th>\n",
              "      <th>CNAE2.0 Empregador</th>\n",
              "      <th>CNAE2.0 Empregador.1</th>\n",
              "      <th>Emitente CAT</th>\n",
              "      <th>Espécie do benefício</th>\n",
              "      <th>Filiação Segurado</th>\n",
              "      <th>Indica Óbito Acidente</th>\n",
              "      <th>Munic Empr</th>\n",
              "      <th>Natureza da Lesão</th>\n",
              "      <th>Origem de Cadastramento CAT</th>\n",
              "      <th>Parte Corpo Atingida</th>\n",
              "      <th>Sexo</th>\n",
              "      <th>Tipo do Acidente</th>\n",
              "      <th>UF  Munic.  Acidente</th>\n",
              "      <th>UF Munic. Empregador</th>\n",
              "      <th>Data Acidente.1</th>\n",
              "      <th>Data Despacho Benefício</th>\n",
              "      <th>Data Acidente.2</th>\n",
              "      <th>Data Nascimento</th>\n",
              "      <th>Data Emissão CAT</th>\n",
              "      <th>CNPJ/CEI Empregador</th>\n",
              "    </tr>\n",
              "  </thead>\n",
              "  <tbody>\n",
              "    <tr>\n",
              "      <th>0</th>\n",
              "      <td>{ñ class}</td>\n",
              "      <td>2022/01</td>\n",
              "      <td>515105-Agente Comunitário de Saúde</td>\n",
              "      <td>B34.2 Infecc p/Coronavirus Ne</td>\n",
              "      <td>8630</td>\n",
              "      <td>Atividades de Atencao Ambulatorial Executadas</td>\n",
              "      <td>Empregador</td>\n",
              "      <td>Pa</td>\n",
              "      <td>Empregado</td>\n",
              "      <td>Não</td>\n",
              "      <td>354780-Santo André-Sp</td>\n",
              "      <td>Doenca Contagiosa ou Infecciosa (Tuberculos</td>\n",
              "      <td>Internet</td>\n",
              "      <td>Aparelho Respiratorio</td>\n",
              "      <td>Feminino</td>\n",
              "      <td>Doença</td>\n",
              "      <td>Maranhão</td>\n",
              "      <td>São Paulo</td>\n",
              "      <td>2022/01</td>\n",
              "      <td>0000/00</td>\n",
              "      <td>20/01/2022</td>\n",
              "      <td>02/08/1970</td>\n",
              "      <td>01/03/2022</td>\n",
              "      <td>57.571.275.002.570</td>\n",
              "    </tr>\n",
              "    <tr>\n",
              "      <th>7</th>\n",
              "      <td>{ñ class}</td>\n",
              "      <td>2022/01</td>\n",
              "      <td>223505-Enfermeiro</td>\n",
              "      <td>B34.2 Infecc p/Coronavirus Ne</td>\n",
              "      <td>8630</td>\n",
              "      <td>Atividades de Atencao Ambulatorial Executadas</td>\n",
              "      <td>Empregador</td>\n",
              "      <td>Pa</td>\n",
              "      <td>Empregado</td>\n",
              "      <td>Não</td>\n",
              "      <td>354780-Santo André-Sp</td>\n",
              "      <td>Doenca Contagiosa ou Infecciosa (Tuberculos</td>\n",
              "      <td>Internet</td>\n",
              "      <td>Aparelho Respiratorio</td>\n",
              "      <td>Feminino</td>\n",
              "      <td>Doença</td>\n",
              "      <td>Maranhão</td>\n",
              "      <td>São Paulo</td>\n",
              "      <td>2022/01</td>\n",
              "      <td>0000/00</td>\n",
              "      <td>18/01/2022</td>\n",
              "      <td>13/05/1982</td>\n",
              "      <td>01/03/2022</td>\n",
              "      <td>57.571.275.002.570</td>\n",
              "    </tr>\n",
              "    <tr>\n",
              "      <th>14</th>\n",
              "      <td>{ñ class}</td>\n",
              "      <td>2022/01</td>\n",
              "      <td>{ñ class}</td>\n",
              "      <td>B34.2 Infecc p/Coronavirus Ne</td>\n",
              "      <td>8630</td>\n",
              "      <td>Atividades de Atencao Ambulatorial Executadas</td>\n",
              "      <td>Empregador</td>\n",
              "      <td>Pa</td>\n",
              "      <td>Empregado</td>\n",
              "      <td>Não</td>\n",
              "      <td>354780-Santo André-Sp</td>\n",
              "      <td>Doenca Contagiosa ou Infecciosa (Tuberculos</td>\n",
              "      <td>Internet</td>\n",
              "      <td>Aparelho Respiratorio</td>\n",
              "      <td>Feminino</td>\n",
              "      <td>Doença</td>\n",
              "      <td>Maranhão</td>\n",
              "      <td>São Paulo</td>\n",
              "      <td>2022/01</td>\n",
              "      <td>0000/00</td>\n",
              "      <td>20/01/2022</td>\n",
              "      <td>16/02/1965</td>\n",
              "      <td>01/03/2022</td>\n",
              "      <td>57.571.275.002.570</td>\n",
              "    </tr>\n",
              "    <tr>\n",
              "      <th>39</th>\n",
              "      <td>{ñ class}</td>\n",
              "      <td>2022/02</td>\n",
              "      <td>862150-Oper. Máquinas Fixas, em Geral</td>\n",
              "      <td>S61.0 Ferim de Dedos s/Lesao da Unha</td>\n",
              "      <td>1012</td>\n",
              "      <td>Abate de Suinos, Aves e Outros Pequenos Anima</td>\n",
              "      <td>Empregador</td>\n",
              "      <td>Pa</td>\n",
              "      <td>Empregado</td>\n",
              "      <td>Não</td>\n",
              "      <td>500370-Dourados</td>\n",
              "      <td>Corte, Laceracao, Ferida Contusa, Punctura</td>\n",
              "      <td>Internet</td>\n",
              "      <td>Dedo</td>\n",
              "      <td>Masculino</td>\n",
              "      <td>Típico</td>\n",
              "      <td>{ñ class}</td>\n",
              "      <td>Mato Grosso do Sul</td>\n",
              "      <td>2022/02</td>\n",
              "      <td>0000/00</td>\n",
              "      <td>28/02/2022</td>\n",
              "      <td>24/03/1984</td>\n",
              "      <td>01/03/2022</td>\n",
              "      <td>00.000.000.000.000</td>\n",
              "    </tr>\n",
              "    <tr>\n",
              "      <th>55</th>\n",
              "      <td>{ñ class}</td>\n",
              "      <td>2022/02</td>\n",
              "      <td>322205-Tec. de Enfermagem</td>\n",
              "      <td>Z29.0 Isolamento</td>\n",
              "      <td>8610</td>\n",
              "      <td>Atividades de Atendimento Hospitalar</td>\n",
              "      <td>Empregador</td>\n",
              "      <td>Pa</td>\n",
              "      <td>Empregado</td>\n",
              "      <td>Não</td>\n",
              "      <td>410690-Curitiba</td>\n",
              "      <td>Doenca Contagiosa ou Infecciosa (Tuberculos</td>\n",
              "      <td>Internet</td>\n",
              "      <td>Aparelho Respiratorio</td>\n",
              "      <td>Feminino</td>\n",
              "      <td>Doença</td>\n",
              "      <td>Roraima</td>\n",
              "      <td>Paraná</td>\n",
              "      <td>2022/02</td>\n",
              "      <td>0000/00</td>\n",
              "      <td>09/02/2022</td>\n",
              "      <td>11/06/1991</td>\n",
              "      <td>01/03/2022</td>\n",
              "      <td>00.000.000.000.000</td>\n",
              "    </tr>\n",
              "  </tbody>\n",
              "</table>\n",
              "</div>\n",
              "      <button class=\"colab-df-convert\" onclick=\"convertToInteractive('df-804d4277-e3d0-49fc-aba0-129ef9c9231b')\"\n",
              "              title=\"Convert this dataframe to an interactive table.\"\n",
              "              style=\"display:none;\">\n",
              "        \n",
              "  <svg xmlns=\"http://www.w3.org/2000/svg\" height=\"24px\"viewBox=\"0 0 24 24\"\n",
              "       width=\"24px\">\n",
              "    <path d=\"M0 0h24v24H0V0z\" fill=\"none\"/>\n",
              "    <path d=\"M18.56 5.44l.94 2.06.94-2.06 2.06-.94-2.06-.94-.94-2.06-.94 2.06-2.06.94zm-11 1L8.5 8.5l.94-2.06 2.06-.94-2.06-.94L8.5 2.5l-.94 2.06-2.06.94zm10 10l.94 2.06.94-2.06 2.06-.94-2.06-.94-.94-2.06-.94 2.06-2.06.94z\"/><path d=\"M17.41 7.96l-1.37-1.37c-.4-.4-.92-.59-1.43-.59-.52 0-1.04.2-1.43.59L10.3 9.45l-7.72 7.72c-.78.78-.78 2.05 0 2.83L4 21.41c.39.39.9.59 1.41.59.51 0 1.02-.2 1.41-.59l7.78-7.78 2.81-2.81c.8-.78.8-2.07 0-2.86zM5.41 20L4 18.59l7.72-7.72 1.47 1.35L5.41 20z\"/>\n",
              "  </svg>\n",
              "      </button>\n",
              "      \n",
              "  <style>\n",
              "    .colab-df-container {\n",
              "      display:flex;\n",
              "      flex-wrap:wrap;\n",
              "      gap: 12px;\n",
              "    }\n",
              "\n",
              "    .colab-df-convert {\n",
              "      background-color: #E8F0FE;\n",
              "      border: none;\n",
              "      border-radius: 50%;\n",
              "      cursor: pointer;\n",
              "      display: none;\n",
              "      fill: #1967D2;\n",
              "      height: 32px;\n",
              "      padding: 0 0 0 0;\n",
              "      width: 32px;\n",
              "    }\n",
              "\n",
              "    .colab-df-convert:hover {\n",
              "      background-color: #E2EBFA;\n",
              "      box-shadow: 0px 1px 2px rgba(60, 64, 67, 0.3), 0px 1px 3px 1px rgba(60, 64, 67, 0.15);\n",
              "      fill: #174EA6;\n",
              "    }\n",
              "\n",
              "    [theme=dark] .colab-df-convert {\n",
              "      background-color: #3B4455;\n",
              "      fill: #D2E3FC;\n",
              "    }\n",
              "\n",
              "    [theme=dark] .colab-df-convert:hover {\n",
              "      background-color: #434B5C;\n",
              "      box-shadow: 0px 1px 3px 1px rgba(0, 0, 0, 0.15);\n",
              "      filter: drop-shadow(0px 1px 2px rgba(0, 0, 0, 0.3));\n",
              "      fill: #FFFFFF;\n",
              "    }\n",
              "  </style>\n",
              "\n",
              "      <script>\n",
              "        const buttonEl =\n",
              "          document.querySelector('#df-804d4277-e3d0-49fc-aba0-129ef9c9231b button.colab-df-convert');\n",
              "        buttonEl.style.display =\n",
              "          google.colab.kernel.accessAllowed ? 'block' : 'none';\n",
              "\n",
              "        async function convertToInteractive(key) {\n",
              "          const element = document.querySelector('#df-804d4277-e3d0-49fc-aba0-129ef9c9231b');\n",
              "          const dataTable =\n",
              "            await google.colab.kernel.invokeFunction('convertToInteractive',\n",
              "                                                     [key], {});\n",
              "          if (!dataTable) return;\n",
              "\n",
              "          const docLinkHtml = 'Like what you see? Visit the ' +\n",
              "            '<a target=\"_blank\" href=https://colab.research.google.com/notebooks/data_table.ipynb>data table notebook</a>'\n",
              "            + ' to learn more about interactive tables.';\n",
              "          element.innerHTML = '';\n",
              "          dataTable['output_type'] = 'display_data';\n",
              "          await google.colab.output.renderOutput(dataTable, element);\n",
              "          const docLink = document.createElement('div');\n",
              "          docLink.innerHTML = docLinkHtml;\n",
              "          element.appendChild(docLink);\n",
              "        }\n",
              "      </script>\n",
              "    </div>\n",
              "  </div>\n",
              "  "
            ]
          },
          "metadata": {},
          "execution_count": 170
        }
      ]
    },
    {
      "cell_type": "markdown",
      "source": [
        "Nesse caso por exemplo, identificamos que há espaços em branco no começo e no final das strings (o que ocorre em todo o df) e que iremos tratar, além da presença da string *{ñ class}* que seria um dado que não fora preenchido, o famoso *NULL*."
      ],
      "metadata": {
        "id": "MaLsyGZ58fqP"
      }
    },
    {
      "cell_type": "markdown",
      "source": [
        "Antes de realizar as alterações vamos fazer um DataFrame de BackUp, para o caso de errarmos e precisarmos voltar ao início dos tratamentos."
      ],
      "metadata": {
        "id": "FJks1SllEbiN"
      }
    },
    {
      "cell_type": "code",
      "source": [
        "# BackUp\n",
        "df_backup = df.copy()"
      ],
      "metadata": {
        "id": "x5KwUarDE0BC"
      },
      "execution_count": null,
      "outputs": []
    },
    {
      "cell_type": "markdown",
      "source": [
        "Para retornar, caso precise é só fazer:\n",
        "\n",
        "```\n",
        "df = df_backup.copy()\n",
        "```\n",
        "\n"
      ],
      "metadata": {
        "id": "qscphRMlNcAw"
      }
    },
    {
      "cell_type": "markdown",
      "source": [
        "####▶️ **Renomeando as colunas**\n",
        "\n",
        "Primeiro renomearemos as colunas para facilitar a consulta e gerar um padrão mais geral.\n",
        "\n",
        "Aqui vai uma breve descrição do que se trata cada coluna, que segue o formato\n",
        "\n",
        "```\n",
        "NOME-COLUNA-ORIGINAL (nome-coluna-modificada): Descrição do dado\n",
        "```\n",
        "---\n",
        "\n",
        "\n",
        "- Agente Causador Acidente (**causador_acidente)**: Descrição e código do agente causador do acidente;\n",
        "- Data Acidente (**dt_acidente**): Data do acidente de trabalho registrada na CAT;\n",
        "- CBO (**cbo)**:Codigo Brasileiro de ocupação; CBO Descrição(**cbo_descricao**):Codigo Brasileiro de ocupação;\n",
        "- CID-10 (**cod_cid10)**:Identificador de doença de acordo com o CID-10-Código Internacional de doenças;\n",
        "- CID Descrição(**cid10**):Identificador de doença de acordo com o CID-10-Código Internacional de doenças;\n",
        "- CNAE(**cod_cnae2.0**): Classificação Nacional de Atividade Econômica no AEPS;\n",
        "- CNAE Descrição (**cnae2.0**):Classificação Nacional de Atividade Econômica no AEPS;\n",
        "- Emitente da CAT(**emitente)**: Emitente da CAT;\n",
        "- Espécie do Benefício(**beneficio_tipo**): Espécie do Benefício;\n",
        "- Filiação do Segurado(**filiacao_segurado**): Tipo de Filiação á Previdencia Social do Segurado da CAT;\n",
        "- Indicador de Óbito Acidente(**obito**): Indicador de Óbito do segurado;\n",
        "- UF Munic. Acidente(**munic_emp**): Código da unidade da Federação do Município do Empregador;\n",
        "- Natureza da Lesão**(natureza_lesao)**: Descrição e Código da Natureza da Lesão do Segurado;\n",
        "- Origem do Cadastramento CAT(**origem_cad**):Origem do Cadastramento CAT\n",
        "- Parte do Corpo Atingida(**parte_corpo)**: Parte do Corpo Atingida;\n",
        "- Sexo**(sexo)**:Sexo do segurado informado no CAT;\n",
        "- Tipo de Acidente**(tipo_acidente):**Tipo do acidente de trabalho pelo segurado;\n",
        "- UF Municipio do Acidente(**uf_acidente)**: Unidade de Federação do local do acidente;\n",
        "- UF Municipio do Empregador(**uf_empregador**): Município do Empregador;\n",
        "- Data Acidente 1: vai ser retirada;\n",
        "- Data despacho **(dt_despacho):** Data do despacho do benefício;\n",
        "- Data Acidente 2**(dt_acidente)**: Data do Acidente de trabalho registrada na CAT;\n",
        "- Data de nasicmento(**dt_nasc**): Data de nascimento do empregador;\n",
        "- Data Emissão da CAT(**dt_emissao**): Data de Emissão da CAT;\n",
        "- CNPJ/CEI Empregador(**cnpj**): CNPJ do empregador."
      ],
      "metadata": {
        "id": "V52OXI47rih1"
      }
    },
    {
      "cell_type": "code",
      "source": [
        "#RENOMEANDO AS COLUNAS:\n",
        "df = df.rename(columns={'Agente  Causador  Acidente': 'causador_acidente',                        \n",
        "                        'CBO': 'cbo',\n",
        "                        'CID-10': 'cod_cid10',\n",
        "                        'CNAE2.0 Empregador': 'cod_cnae2.0',\n",
        "                        'CNAE2.0 Empregador.1': 'cnae2.0',\n",
        "                        'Emitente CAT': 'emitente',\n",
        "                        'Espécie do benefício': 'beneficio_tipo',\n",
        "                        'Filiação Segurado': 'filiacao_segurado',\n",
        "                        'Indica Óbito Acidente': 'obito',\n",
        "                        'Munic Empr': 'munic_emp', \n",
        "                        'Natureza da Lesão': 'natureza_lesao',\n",
        "                        'Origem de Cadastramento CAT': 'origem_cad',\n",
        "                        'Parte Corpo Atingida': 'parte_corpo',\n",
        "                        'Sexo': 'sexo',\n",
        "                        'Tipo do Acidente': 'tipo_acidente',\n",
        "                        'UF  Munic.  Acidente': 'uf_acidente',\n",
        "                        'UF Munic. Empregador': 'uf_empregador',\n",
        "                        'Data Despacho Benefício': 'dt_despacho',\n",
        "                        'Data Acidente.2': 'dt_acidente',\n",
        "                        'Data Nascimento': 'dt_nasc',\n",
        "                        'Data Emissão CAT': 'dt_emissao',\n",
        "                        'CNPJ/CEI Empregador': 'cnpj'}) \n"
      ],
      "metadata": {
        "id": "M3OEfuIdzUzB"
      },
      "execution_count": null,
      "outputs": []
    },
    {
      "cell_type": "markdown",
      "source": [
        "####▶️ **Removendo espaços em branco**\n",
        "\n",
        "Agora trataremos os espaços em branco, onde verificamos a presença deles em quase todas as colunas."
      ],
      "metadata": {
        "id": "aNkCgRSdrni9"
      }
    },
    {
      "cell_type": "code",
      "source": [
        "#Tirando os espaços em brancos do data frame\n",
        "df['causador_acidente'] = df['causador_acidente'].str.strip()\n",
        "df['cbo'] = df['cbo'].str.strip()\n",
        "df['cod_cid10'] = df['cod_cid10'].str.strip()\n",
        "df['emitente'] = df['emitente'].str.strip()\n",
        "df['cnae2.0'] = df['cnae2.0'].str.strip()\n",
        "df['beneficio_tipo'] = df['beneficio_tipo'].str.strip()\n",
        "df['filiacao_segurado'] = df['filiacao_segurado'].str.strip()\n",
        "df['munic_emp'] = df['munic_emp'].str.strip()\n",
        "df['natureza_lesao'] = df['natureza_lesao'].str.strip()\n",
        "df['parte_corpo'] = df['parte_corpo'].str.strip()\n",
        "df['sexo'] = df['sexo'].str.strip()\n",
        "df['tipo_acidente'] = df['tipo_acidente'].str.strip()\n",
        "df['uf_acidente'] = df['uf_acidente'].str.strip()\n",
        "df['uf_empregador'] = df['uf_empregador'].str.strip()\n",
        "df['cnpj'] = df['cnpj'].str.strip()"
      ],
      "metadata": {
        "id": "eeHz9bmqO5rQ"
      },
      "execution_count": null,
      "outputs": []
    },
    {
      "cell_type": "markdown",
      "source": [
        "####▶️ **Drop da coluna Data Acidente**\n",
        "\n",
        "Durante a análise verificamos a presença de 3 colunas que representam o mesmo dado, são elas:\n",
        "- Data Acidente\n",
        "- Data Acidente.1\n",
        "- Data Acidente.2\n",
        "\n",
        "Como a coluna Data Acidente.2 têm a data completa (dia-mês-hora), deixaremos apenas ela e droparemos as demais"
      ],
      "metadata": {
        "id": "kYFgCTIAruTF"
      }
    },
    {
      "cell_type": "code",
      "source": [
        "# Dropando a coluna Data Acidente\n",
        "df.drop(['Data Acidente'], axis=1,inplace=True) "
      ],
      "metadata": {
        "id": "GAVYx4JiO76y"
      },
      "execution_count": null,
      "outputs": []
    },
    {
      "cell_type": "markdown",
      "source": [
        "####▶️ **Alterar o formato das colunas dt_acidente, data_nasc e dt_emissao para Data**\n",
        "\n",
        "Alteramos as colunas informadas para o formato de data, o qual fica mais interessante para algumas aplicações."
      ],
      "metadata": {
        "id": "V8T9xto3_3tv"
      }
    },
    {
      "cell_type": "code",
      "source": [
        "# Verificando o tipo das colunas\n",
        "df.dtypes"
      ],
      "metadata": {
        "colab": {
          "base_uri": "https://localhost:8080/"
        },
        "id": "G7XMhCcEAxh8",
        "outputId": "a9f523ac-8897-4506-e301-60f8103115a1"
      },
      "execution_count": null,
      "outputs": [
        {
          "output_type": "execute_result",
          "data": {
            "text/plain": [
              "causador_acidente    object\n",
              "cbo                  object\n",
              "cod_cid10            object\n",
              "cod_cnae2.0           int64\n",
              "cnae2.0              object\n",
              "emitente             object\n",
              "beneficio_tipo       object\n",
              "filiacao_segurado    object\n",
              "obito                object\n",
              "munic_emp            object\n",
              "natureza_lesao       object\n",
              "origem_cad           object\n",
              "parte_corpo          object\n",
              "sexo                 object\n",
              "tipo_acidente        object\n",
              "uf_acidente          object\n",
              "uf_empregador        object\n",
              "Data Acidente.1      object\n",
              "dt_despacho          object\n",
              "dt_acidente          object\n",
              "dt_nasc              object\n",
              "dt_emissao           object\n",
              "cnpj                 object\n",
              "dtype: object"
            ]
          },
          "metadata": {},
          "execution_count": 175
        }
      ]
    },
    {
      "cell_type": "code",
      "source": [
        "df.head(1)"
      ],
      "metadata": {
        "colab": {
          "base_uri": "https://localhost:8080/",
          "height": 214
        },
        "id": "sZfrr437C2Ie",
        "outputId": "e74d72f4-3fba-4608-8d73-bcc8695e5bb0"
      },
      "execution_count": null,
      "outputs": [
        {
          "output_type": "execute_result",
          "data": {
            "text/plain": [
              "  causador_acidente                                 cbo  \\\n",
              "0         {ñ class}  515105-Agente Comunitário de Saúde   \n",
              "\n",
              "                       cod_cid10  cod_cnae2.0  \\\n",
              "0  B34.2 Infecc p/Coronavirus Ne         8630   \n",
              "\n",
              "                                         cnae2.0    emitente beneficio_tipo  \\\n",
              "0  Atividades de Atencao Ambulatorial Executadas  Empregador             Pa   \n",
              "\n",
              "  filiacao_segurado obito              munic_emp  \\\n",
              "0         Empregado   Não  354780-Santo André-Sp   \n",
              "\n",
              "                                natureza_lesao origem_cad  \\\n",
              "0  Doenca Contagiosa ou Infecciosa (Tuberculos   Internet   \n",
              "\n",
              "             parte_corpo      sexo tipo_acidente uf_acidente uf_empregador  \\\n",
              "0  Aparelho Respiratorio  Feminino        Doença    Maranhão     São Paulo   \n",
              "\n",
              "  Data Acidente.1 dt_despacho dt_acidente     dt_nasc  dt_emissao  \\\n",
              "0         2022/01     0000/00  20/01/2022  02/08/1970  01/03/2022   \n",
              "\n",
              "                 cnpj  \n",
              "0  57.571.275.002.570  "
            ],
            "text/html": [
              "\n",
              "  <div id=\"df-3376a5ad-fad8-4c64-a881-e02bb114aeab\">\n",
              "    <div class=\"colab-df-container\">\n",
              "      <div>\n",
              "<style scoped>\n",
              "    .dataframe tbody tr th:only-of-type {\n",
              "        vertical-align: middle;\n",
              "    }\n",
              "\n",
              "    .dataframe tbody tr th {\n",
              "        vertical-align: top;\n",
              "    }\n",
              "\n",
              "    .dataframe thead th {\n",
              "        text-align: right;\n",
              "    }\n",
              "</style>\n",
              "<table border=\"1\" class=\"dataframe\">\n",
              "  <thead>\n",
              "    <tr style=\"text-align: right;\">\n",
              "      <th></th>\n",
              "      <th>causador_acidente</th>\n",
              "      <th>cbo</th>\n",
              "      <th>cod_cid10</th>\n",
              "      <th>cod_cnae2.0</th>\n",
              "      <th>cnae2.0</th>\n",
              "      <th>emitente</th>\n",
              "      <th>beneficio_tipo</th>\n",
              "      <th>filiacao_segurado</th>\n",
              "      <th>obito</th>\n",
              "      <th>munic_emp</th>\n",
              "      <th>natureza_lesao</th>\n",
              "      <th>origem_cad</th>\n",
              "      <th>parte_corpo</th>\n",
              "      <th>sexo</th>\n",
              "      <th>tipo_acidente</th>\n",
              "      <th>uf_acidente</th>\n",
              "      <th>uf_empregador</th>\n",
              "      <th>Data Acidente.1</th>\n",
              "      <th>dt_despacho</th>\n",
              "      <th>dt_acidente</th>\n",
              "      <th>dt_nasc</th>\n",
              "      <th>dt_emissao</th>\n",
              "      <th>cnpj</th>\n",
              "    </tr>\n",
              "  </thead>\n",
              "  <tbody>\n",
              "    <tr>\n",
              "      <th>0</th>\n",
              "      <td>{ñ class}</td>\n",
              "      <td>515105-Agente Comunitário de Saúde</td>\n",
              "      <td>B34.2 Infecc p/Coronavirus Ne</td>\n",
              "      <td>8630</td>\n",
              "      <td>Atividades de Atencao Ambulatorial Executadas</td>\n",
              "      <td>Empregador</td>\n",
              "      <td>Pa</td>\n",
              "      <td>Empregado</td>\n",
              "      <td>Não</td>\n",
              "      <td>354780-Santo André-Sp</td>\n",
              "      <td>Doenca Contagiosa ou Infecciosa (Tuberculos</td>\n",
              "      <td>Internet</td>\n",
              "      <td>Aparelho Respiratorio</td>\n",
              "      <td>Feminino</td>\n",
              "      <td>Doença</td>\n",
              "      <td>Maranhão</td>\n",
              "      <td>São Paulo</td>\n",
              "      <td>2022/01</td>\n",
              "      <td>0000/00</td>\n",
              "      <td>20/01/2022</td>\n",
              "      <td>02/08/1970</td>\n",
              "      <td>01/03/2022</td>\n",
              "      <td>57.571.275.002.570</td>\n",
              "    </tr>\n",
              "  </tbody>\n",
              "</table>\n",
              "</div>\n",
              "      <button class=\"colab-df-convert\" onclick=\"convertToInteractive('df-3376a5ad-fad8-4c64-a881-e02bb114aeab')\"\n",
              "              title=\"Convert this dataframe to an interactive table.\"\n",
              "              style=\"display:none;\">\n",
              "        \n",
              "  <svg xmlns=\"http://www.w3.org/2000/svg\" height=\"24px\"viewBox=\"0 0 24 24\"\n",
              "       width=\"24px\">\n",
              "    <path d=\"M0 0h24v24H0V0z\" fill=\"none\"/>\n",
              "    <path d=\"M18.56 5.44l.94 2.06.94-2.06 2.06-.94-2.06-.94-.94-2.06-.94 2.06-2.06.94zm-11 1L8.5 8.5l.94-2.06 2.06-.94-2.06-.94L8.5 2.5l-.94 2.06-2.06.94zm10 10l.94 2.06.94-2.06 2.06-.94-2.06-.94-.94-2.06-.94 2.06-2.06.94z\"/><path d=\"M17.41 7.96l-1.37-1.37c-.4-.4-.92-.59-1.43-.59-.52 0-1.04.2-1.43.59L10.3 9.45l-7.72 7.72c-.78.78-.78 2.05 0 2.83L4 21.41c.39.39.9.59 1.41.59.51 0 1.02-.2 1.41-.59l7.78-7.78 2.81-2.81c.8-.78.8-2.07 0-2.86zM5.41 20L4 18.59l7.72-7.72 1.47 1.35L5.41 20z\"/>\n",
              "  </svg>\n",
              "      </button>\n",
              "      \n",
              "  <style>\n",
              "    .colab-df-container {\n",
              "      display:flex;\n",
              "      flex-wrap:wrap;\n",
              "      gap: 12px;\n",
              "    }\n",
              "\n",
              "    .colab-df-convert {\n",
              "      background-color: #E8F0FE;\n",
              "      border: none;\n",
              "      border-radius: 50%;\n",
              "      cursor: pointer;\n",
              "      display: none;\n",
              "      fill: #1967D2;\n",
              "      height: 32px;\n",
              "      padding: 0 0 0 0;\n",
              "      width: 32px;\n",
              "    }\n",
              "\n",
              "    .colab-df-convert:hover {\n",
              "      background-color: #E2EBFA;\n",
              "      box-shadow: 0px 1px 2px rgba(60, 64, 67, 0.3), 0px 1px 3px 1px rgba(60, 64, 67, 0.15);\n",
              "      fill: #174EA6;\n",
              "    }\n",
              "\n",
              "    [theme=dark] .colab-df-convert {\n",
              "      background-color: #3B4455;\n",
              "      fill: #D2E3FC;\n",
              "    }\n",
              "\n",
              "    [theme=dark] .colab-df-convert:hover {\n",
              "      background-color: #434B5C;\n",
              "      box-shadow: 0px 1px 3px 1px rgba(0, 0, 0, 0.15);\n",
              "      filter: drop-shadow(0px 1px 2px rgba(0, 0, 0, 0.3));\n",
              "      fill: #FFFFFF;\n",
              "    }\n",
              "  </style>\n",
              "\n",
              "      <script>\n",
              "        const buttonEl =\n",
              "          document.querySelector('#df-3376a5ad-fad8-4c64-a881-e02bb114aeab button.colab-df-convert');\n",
              "        buttonEl.style.display =\n",
              "          google.colab.kernel.accessAllowed ? 'block' : 'none';\n",
              "\n",
              "        async function convertToInteractive(key) {\n",
              "          const element = document.querySelector('#df-3376a5ad-fad8-4c64-a881-e02bb114aeab');\n",
              "          const dataTable =\n",
              "            await google.colab.kernel.invokeFunction('convertToInteractive',\n",
              "                                                     [key], {});\n",
              "          if (!dataTable) return;\n",
              "\n",
              "          const docLinkHtml = 'Like what you see? Visit the ' +\n",
              "            '<a target=\"_blank\" href=https://colab.research.google.com/notebooks/data_table.ipynb>data table notebook</a>'\n",
              "            + ' to learn more about interactive tables.';\n",
              "          element.innerHTML = '';\n",
              "          dataTable['output_type'] = 'display_data';\n",
              "          await google.colab.output.renderOutput(dataTable, element);\n",
              "          const docLink = document.createElement('div');\n",
              "          docLink.innerHTML = docLinkHtml;\n",
              "          element.appendChild(docLink);\n",
              "        }\n",
              "      </script>\n",
              "    </div>\n",
              "  </div>\n",
              "  "
            ]
          },
          "metadata": {},
          "execution_count": 176
        }
      ]
    },
    {
      "cell_type": "markdown",
      "source": [
        "Antes disso, vamos fazer o replace das datas inconsistentes (*'00/00/0000'*) para *pd.NA*, pois o pandas não aceita o formato de ano = 0."
      ],
      "metadata": {
        "id": "6asuX93dIfSH"
      }
    },
    {
      "cell_type": "code",
      "source": [
        "# Coluna dt_nasc\n",
        "df['dt_nasc'].replace('00/00/0000', pd.NA, inplace=True)\n",
        "\n",
        "# Coluna dt_emissao\n",
        "df['dt_emissao'].replace('00/00/0000', pd.NA, inplace=True)\n",
        "\n",
        "# Coluna dt_acidente\n",
        "df['dt_acidente'].replace('00/00/0000', pd.NA, inplace=True)"
      ],
      "metadata": {
        "id": "LrBhcHzrC8fm"
      },
      "execution_count": null,
      "outputs": []
    },
    {
      "cell_type": "code",
      "source": [
        "# Alterando tipo das colunas\n",
        "\n",
        "# Coluna dt_nasc\n",
        "df['dt_nasc'] = pd.to_datetime(df['dt_nasc'], dayfirst=True)\n",
        "\n",
        "# Coluna dt_emissao\n",
        "df['dt_emissao'] = pd.to_datetime(df['dt_emissao'], dayfirst=True)\n",
        "\n",
        "# Coluna dt_acidente\n",
        "df['dt_acidente'] = pd.to_datetime(df['dt_acidente'], dayfirst=True)"
      ],
      "metadata": {
        "id": "-m66t7R3Bo1E"
      },
      "execution_count": null,
      "outputs": []
    },
    {
      "cell_type": "code",
      "source": [
        "df.dtypes"
      ],
      "metadata": {
        "colab": {
          "base_uri": "https://localhost:8080/"
        },
        "id": "91gPDHn3CcKz",
        "outputId": "8ae3932d-656c-4539-89f4-45b440aa6219"
      },
      "execution_count": null,
      "outputs": [
        {
          "output_type": "execute_result",
          "data": {
            "text/plain": [
              "causador_acidente            object\n",
              "cbo                          object\n",
              "cod_cid10                    object\n",
              "cod_cnae2.0                   int64\n",
              "cnae2.0                      object\n",
              "emitente                     object\n",
              "beneficio_tipo               object\n",
              "filiacao_segurado            object\n",
              "obito                        object\n",
              "munic_emp                    object\n",
              "natureza_lesao               object\n",
              "origem_cad                   object\n",
              "parte_corpo                  object\n",
              "sexo                         object\n",
              "tipo_acidente                object\n",
              "uf_acidente                  object\n",
              "uf_empregador                object\n",
              "Data Acidente.1              object\n",
              "dt_despacho                  object\n",
              "dt_acidente          datetime64[ns]\n",
              "dt_nasc              datetime64[ns]\n",
              "dt_emissao           datetime64[ns]\n",
              "cnpj                         object\n",
              "dtype: object"
            ]
          },
          "metadata": {},
          "execution_count": 179
        }
      ]
    },
    {
      "cell_type": "code",
      "source": [
        "# verificando dados nulos\n",
        "df.isnull().sum()"
      ],
      "metadata": {
        "colab": {
          "base_uri": "https://localhost:8080/"
        },
        "id": "EkYwFkzEJ8VU",
        "outputId": "1a47dd5e-2945-413d-c12d-8a508c3198f4"
      },
      "execution_count": null,
      "outputs": [
        {
          "output_type": "execute_result",
          "data": {
            "text/plain": [
              "causador_acidente        0\n",
              "cbo                      0\n",
              "cod_cid10                0\n",
              "cod_cnae2.0              0\n",
              "cnae2.0                  0\n",
              "emitente                 0\n",
              "beneficio_tipo           0\n",
              "filiacao_segurado        0\n",
              "obito                    0\n",
              "munic_emp                0\n",
              "natureza_lesao           0\n",
              "origem_cad               0\n",
              "parte_corpo              0\n",
              "sexo                     0\n",
              "tipo_acidente            0\n",
              "uf_acidente              0\n",
              "uf_empregador            0\n",
              "Data Acidente.1          0\n",
              "dt_despacho              0\n",
              "dt_acidente              0\n",
              "dt_nasc                386\n",
              "dt_emissao           90844\n",
              "cnpj                     0\n",
              "dtype: int64"
            ]
          },
          "metadata": {},
          "execution_count": 180
        }
      ]
    },
    {
      "cell_type": "markdown",
      "source": [
        "####▶️ **Tratando inconsistências nos dados**\n",
        "\n",
        "Como já dito, alguns dados possuem inconsistências do formato *'{ñ class}'*, *'{ñ '* e *'{ñ class'*, que por sua vez são dados que não foram digitados pelo usuário, assim com na coluna **uf_empregador** aparece a string *'zerado'* e em **sexo** que aparece *'Não Informado'*. vamos realizar a troca deles todos para **Não Classificado**, afim de não gerar erros ao converter para o Spark, demonstrar como trata esse tipo de inconsistência no pandas e no pyspark, faremos a alteração deles para nulo, reduzindo o tamanho físico dos nossos dados. "
      ],
      "metadata": {
        "id": "i-USiup-JPdE"
      }
    },
    {
      "cell_type": "code",
      "source": [
        "# Replace para pd.NA \n",
        "df.replace(['{ñ class}', '{ñ class', 'Não Informado','Zerado','{ñ '], 'Não Classificado', inplace=True)"
      ],
      "metadata": {
        "id": "8V6RaDVZJPJU"
      },
      "execution_count": null,
      "outputs": []
    },
    {
      "cell_type": "code",
      "source": [
        "# Verificando valores nulos\n",
        "df.isnull().sum()"
      ],
      "metadata": {
        "colab": {
          "base_uri": "https://localhost:8080/"
        },
        "id": "e4f_iUmOK0Tb",
        "outputId": "3415dc21-fe2b-4cf7-bf5e-2d5db97d4010"
      },
      "execution_count": null,
      "outputs": [
        {
          "output_type": "execute_result",
          "data": {
            "text/plain": [
              "causador_acidente        0\n",
              "cbo                      0\n",
              "cod_cid10                0\n",
              "cod_cnae2.0              0\n",
              "cnae2.0                  0\n",
              "emitente                 0\n",
              "beneficio_tipo           0\n",
              "filiacao_segurado        0\n",
              "obito                    0\n",
              "munic_emp                0\n",
              "natureza_lesao           0\n",
              "origem_cad               0\n",
              "parte_corpo              0\n",
              "sexo                     0\n",
              "tipo_acidente            0\n",
              "uf_acidente              0\n",
              "uf_empregador            0\n",
              "Data Acidente.1          0\n",
              "dt_despacho              0\n",
              "dt_acidente              0\n",
              "dt_nasc                386\n",
              "dt_emissao           90844\n",
              "cnpj                     0\n",
              "dtype: int64"
            ]
          },
          "metadata": {},
          "execution_count": 182
        }
      ]
    },
    {
      "cell_type": "markdown",
      "source": [
        "####▶️ **Realizando insights**\n",
        "\n",
        "🚧**Nota:** Os dados utilizados para realização dos insights foram os do DataFrame final (**com o tratamento do pyspark**), caso queira primeiro concluir a parte de tratamento, pule para o item 5.2 e retorne aqui ao final dele. 😄✌🏾\n",
        "\n",
        "Para saber se o nosso dataset encontra-se em um bom estado para as equipes de análise, iremos responder as seguintes perguntas de negócios:\n",
        "\n",
        "1. Quais os estados com maior número de ocorrencias registrados no CAT WEB?\n",
        "2. Qual o tipo de acidente que foi mais recorrente registrado no CAT WEB?\n",
        "3.Qual foi o agente causador com mais registros no mês de janeiro?\n",
        "4.Quais lesões mais recorrentes entre os meses de janeiro e fevereiro?\n",
        "5.Qual CBO (ocupacao_acidentado) mais registrado entre os meses de abril e maio?"
      ],
      "metadata": {
        "id": "nMlLQJGVQt7Z"
      }
    },
    {
      "cell_type": "code",
      "source": [
        "df_pandas_final.head(1)"
      ],
      "metadata": {
        "colab": {
          "base_uri": "https://localhost:8080/",
          "height": 197
        },
        "id": "1pgsn7Px-qvY",
        "outputId": "e843a2ef-ab81-45e6-a9f2-02ad1e688737"
      },
      "execution_count": null,
      "outputs": [
        {
          "output_type": "execute_result",
          "data": {
            "text/plain": [
              "     emitente dt_emissao dt_acidente cod_local_acidente local_acidente  \\\n",
              "0  Empregador 2022-10-31  2022-10-31             240420      Goianinha   \n",
              "\n",
              "  uf_acidente cod_doenca                             doenca  \\\n",
              "0        None      S60.1  Contusao de Dedos c/Lesao da Unha   \n",
              "\n",
              "                               natureza_lesao parte_corpo  \\\n",
              "0  Corte, Laceracao, Ferida Contusa, Punctura        Dedo   \n",
              "\n",
              "                      causador_acidente tipo_acidente    dt_nasc  idade  \\\n",
              "0  Impacto de Pes. Contra Objeto Parado        Típico 1994-01-09   28.0   \n",
              "\n",
              "        sexo cod_ocupacao_acidentado             ocupacao_acidentado  \\\n",
              "0  Masculino                  862150  Oper. Máquinas Fixas, em Geral   \n",
              "\n",
              "   cod_ativ_economica                                  atv_economica obito  \\\n",
              "0              2342.0  Fabricacao de Produtos Ceramicos Nao-Refratar   Não   \n",
              "\n",
              "  filiacao_segurado beneficio_tipo dt_despacho        uf_empregador  cnpj  \n",
              "0         Empregado             Pa        None  Rio Grande do Norte  None  "
            ],
            "text/html": [
              "\n",
              "  <div id=\"df-cfd150c2-1d5e-421b-9fd9-3a75bce6d512\">\n",
              "    <div class=\"colab-df-container\">\n",
              "      <div>\n",
              "<style scoped>\n",
              "    .dataframe tbody tr th:only-of-type {\n",
              "        vertical-align: middle;\n",
              "    }\n",
              "\n",
              "    .dataframe tbody tr th {\n",
              "        vertical-align: top;\n",
              "    }\n",
              "\n",
              "    .dataframe thead th {\n",
              "        text-align: right;\n",
              "    }\n",
              "</style>\n",
              "<table border=\"1\" class=\"dataframe\">\n",
              "  <thead>\n",
              "    <tr style=\"text-align: right;\">\n",
              "      <th></th>\n",
              "      <th>emitente</th>\n",
              "      <th>dt_emissao</th>\n",
              "      <th>dt_acidente</th>\n",
              "      <th>cod_local_acidente</th>\n",
              "      <th>local_acidente</th>\n",
              "      <th>uf_acidente</th>\n",
              "      <th>cod_doenca</th>\n",
              "      <th>doenca</th>\n",
              "      <th>natureza_lesao</th>\n",
              "      <th>parte_corpo</th>\n",
              "      <th>causador_acidente</th>\n",
              "      <th>tipo_acidente</th>\n",
              "      <th>dt_nasc</th>\n",
              "      <th>idade</th>\n",
              "      <th>sexo</th>\n",
              "      <th>cod_ocupacao_acidentado</th>\n",
              "      <th>ocupacao_acidentado</th>\n",
              "      <th>cod_ativ_economica</th>\n",
              "      <th>atv_economica</th>\n",
              "      <th>obito</th>\n",
              "      <th>filiacao_segurado</th>\n",
              "      <th>beneficio_tipo</th>\n",
              "      <th>dt_despacho</th>\n",
              "      <th>uf_empregador</th>\n",
              "      <th>cnpj</th>\n",
              "    </tr>\n",
              "  </thead>\n",
              "  <tbody>\n",
              "    <tr>\n",
              "      <th>0</th>\n",
              "      <td>Empregador</td>\n",
              "      <td>2022-10-31</td>\n",
              "      <td>2022-10-31</td>\n",
              "      <td>240420</td>\n",
              "      <td>Goianinha</td>\n",
              "      <td>None</td>\n",
              "      <td>S60.1</td>\n",
              "      <td>Contusao de Dedos c/Lesao da Unha</td>\n",
              "      <td>Corte, Laceracao, Ferida Contusa, Punctura</td>\n",
              "      <td>Dedo</td>\n",
              "      <td>Impacto de Pes. Contra Objeto Parado</td>\n",
              "      <td>Típico</td>\n",
              "      <td>1994-01-09</td>\n",
              "      <td>28.0</td>\n",
              "      <td>Masculino</td>\n",
              "      <td>862150</td>\n",
              "      <td>Oper. Máquinas Fixas, em Geral</td>\n",
              "      <td>2342.0</td>\n",
              "      <td>Fabricacao de Produtos Ceramicos Nao-Refratar</td>\n",
              "      <td>Não</td>\n",
              "      <td>Empregado</td>\n",
              "      <td>Pa</td>\n",
              "      <td>None</td>\n",
              "      <td>Rio Grande do Norte</td>\n",
              "      <td>None</td>\n",
              "    </tr>\n",
              "  </tbody>\n",
              "</table>\n",
              "</div>\n",
              "      <button class=\"colab-df-convert\" onclick=\"convertToInteractive('df-cfd150c2-1d5e-421b-9fd9-3a75bce6d512')\"\n",
              "              title=\"Convert this dataframe to an interactive table.\"\n",
              "              style=\"display:none;\">\n",
              "        \n",
              "  <svg xmlns=\"http://www.w3.org/2000/svg\" height=\"24px\"viewBox=\"0 0 24 24\"\n",
              "       width=\"24px\">\n",
              "    <path d=\"M0 0h24v24H0V0z\" fill=\"none\"/>\n",
              "    <path d=\"M18.56 5.44l.94 2.06.94-2.06 2.06-.94-2.06-.94-.94-2.06-.94 2.06-2.06.94zm-11 1L8.5 8.5l.94-2.06 2.06-.94-2.06-.94L8.5 2.5l-.94 2.06-2.06.94zm10 10l.94 2.06.94-2.06 2.06-.94-2.06-.94-.94-2.06-.94 2.06-2.06.94z\"/><path d=\"M17.41 7.96l-1.37-1.37c-.4-.4-.92-.59-1.43-.59-.52 0-1.04.2-1.43.59L10.3 9.45l-7.72 7.72c-.78.78-.78 2.05 0 2.83L4 21.41c.39.39.9.59 1.41.59.51 0 1.02-.2 1.41-.59l7.78-7.78 2.81-2.81c.8-.78.8-2.07 0-2.86zM5.41 20L4 18.59l7.72-7.72 1.47 1.35L5.41 20z\"/>\n",
              "  </svg>\n",
              "      </button>\n",
              "      \n",
              "  <style>\n",
              "    .colab-df-container {\n",
              "      display:flex;\n",
              "      flex-wrap:wrap;\n",
              "      gap: 12px;\n",
              "    }\n",
              "\n",
              "    .colab-df-convert {\n",
              "      background-color: #E8F0FE;\n",
              "      border: none;\n",
              "      border-radius: 50%;\n",
              "      cursor: pointer;\n",
              "      display: none;\n",
              "      fill: #1967D2;\n",
              "      height: 32px;\n",
              "      padding: 0 0 0 0;\n",
              "      width: 32px;\n",
              "    }\n",
              "\n",
              "    .colab-df-convert:hover {\n",
              "      background-color: #E2EBFA;\n",
              "      box-shadow: 0px 1px 2px rgba(60, 64, 67, 0.3), 0px 1px 3px 1px rgba(60, 64, 67, 0.15);\n",
              "      fill: #174EA6;\n",
              "    }\n",
              "\n",
              "    [theme=dark] .colab-df-convert {\n",
              "      background-color: #3B4455;\n",
              "      fill: #D2E3FC;\n",
              "    }\n",
              "\n",
              "    [theme=dark] .colab-df-convert:hover {\n",
              "      background-color: #434B5C;\n",
              "      box-shadow: 0px 1px 3px 1px rgba(0, 0, 0, 0.15);\n",
              "      filter: drop-shadow(0px 1px 2px rgba(0, 0, 0, 0.3));\n",
              "      fill: #FFFFFF;\n",
              "    }\n",
              "  </style>\n",
              "\n",
              "      <script>\n",
              "        const buttonEl =\n",
              "          document.querySelector('#df-cfd150c2-1d5e-421b-9fd9-3a75bce6d512 button.colab-df-convert');\n",
              "        buttonEl.style.display =\n",
              "          google.colab.kernel.accessAllowed ? 'block' : 'none';\n",
              "\n",
              "        async function convertToInteractive(key) {\n",
              "          const element = document.querySelector('#df-cfd150c2-1d5e-421b-9fd9-3a75bce6d512');\n",
              "          const dataTable =\n",
              "            await google.colab.kernel.invokeFunction('convertToInteractive',\n",
              "                                                     [key], {});\n",
              "          if (!dataTable) return;\n",
              "\n",
              "          const docLinkHtml = 'Like what you see? Visit the ' +\n",
              "            '<a target=\"_blank\" href=https://colab.research.google.com/notebooks/data_table.ipynb>data table notebook</a>'\n",
              "            + ' to learn more about interactive tables.';\n",
              "          element.innerHTML = '';\n",
              "          dataTable['output_type'] = 'display_data';\n",
              "          await google.colab.output.renderOutput(dataTable, element);\n",
              "          const docLink = document.createElement('div');\n",
              "          docLink.innerHTML = docLinkHtml;\n",
              "          element.appendChild(docLink);\n",
              "        }\n",
              "      </script>\n",
              "    </div>\n",
              "  </div>\n",
              "  "
            ]
          },
          "metadata": {},
          "execution_count": 245
        }
      ]
    },
    {
      "cell_type": "code",
      "source": [
        "#INSIGHT 1\n",
        "# Quais os estados com maior número de ocorrencias\n",
        "df2 = df_pandas_final.groupby(['uf_acidente']).size().sort_values(ascending=False).head(5)"
      ],
      "metadata": {
        "id": "CPNByTkwhkQZ"
      },
      "execution_count": null,
      "outputs": []
    },
    {
      "cell_type": "code",
      "source": [
        "df2"
      ],
      "metadata": {
        "id": "zGRUFXrahuBT",
        "colab": {
          "base_uri": "https://localhost:8080/"
        },
        "outputId": "d4df146d-8f0a-46f1-c529-a09c2798ebdd"
      },
      "execution_count": null,
      "outputs": [
        {
          "output_type": "execute_result",
          "data": {
            "text/plain": [
              "uf_acidente\n",
              "Maranhão     53145\n",
              "Rondônia     17018\n",
              "Roraima      11058\n",
              "Tocantins     9863\n",
              "Pará          3352\n",
              "dtype: int64"
            ]
          },
          "metadata": {},
          "execution_count": 247
        }
      ]
    },
    {
      "cell_type": "code",
      "source": [
        "df2.plot.bar(figsize=(12,8),xlabel='UF do Acidente',ylabel='numero de ocorrencias')"
      ],
      "metadata": {
        "id": "MgIyJMZJhyon",
        "colab": {
          "base_uri": "https://localhost:8080/",
          "height": 555
        },
        "outputId": "247ed94e-80f2-456d-9c4d-6bd2cf53f5be"
      },
      "execution_count": null,
      "outputs": [
        {
          "output_type": "execute_result",
          "data": {
            "text/plain": [
              "<matplotlib.axes._subplots.AxesSubplot at 0x7f933d085ee0>"
            ]
          },
          "metadata": {},
          "execution_count": 248
        },
        {
          "output_type": "display_data",
          "data": {
            "text/plain": [
              "<Figure size 864x576 with 1 Axes>"
            ],
            "image/png": "[encoded data removed]"
          },
          "metadata": {
            "needs_background": "light"
          }
        }
      ]
    },
    {
      "cell_type": "code",
      "source": [
        "# INSIGHT 2\n",
        "# Qual o tipo de acidente que foi mais recorrente registrado no CAT WEB?\n",
        "df3 = df_pandas_final.groupby(['doenca']).size().sort_values(ascending=False).head(5)"
      ],
      "metadata": {
        "id": "yYG9eAJVh9MU"
      },
      "execution_count": null,
      "outputs": []
    },
    {
      "cell_type": "code",
      "source": [
        "df3"
      ],
      "metadata": {
        "id": "pTDFJFsHiDlG",
        "colab": {
          "base_uri": "https://localhost:8080/"
        },
        "outputId": "07f23523-96c9-4500-8816-e9b27cc48ec1"
      },
      "execution_count": null,
      "outputs": [
        {
          "output_type": "execute_result",
          "data": {
            "text/plain": [
              "doenca\n",
              "Ferim de Dedos s/Lesao da Unha      6257\n",
              "Frat de Outr Dedos                  6121\n",
              "Ferim de Dedos c/Lesao da Unha      5207\n",
              "Entorse e Distensao do Tornozelo    4509\n",
              "Contusao do Joelho                  2947\n",
              "dtype: int64"
            ]
          },
          "metadata": {},
          "execution_count": 250
        }
      ]
    },
    {
      "cell_type": "code",
      "source": [
        "df3.plot.bar(figsize=(12,8),xlabel='Doença',ylabel='Registros')"
      ],
      "metadata": {
        "id": "zv6R7I_oiHN_",
        "colab": {
          "base_uri": "https://localhost:8080/",
          "height": 670
        },
        "outputId": "cb430d8e-79bf-4ca8-bf1f-e5f5b64f95d1"
      },
      "execution_count": null,
      "outputs": [
        {
          "output_type": "execute_result",
          "data": {
            "text/plain": [
              "<matplotlib.axes._subplots.AxesSubplot at 0x7f933fe28bb0>"
            ]
          },
          "metadata": {},
          "execution_count": 251
        },
        {
          "output_type": "display_data",
          "data": {
            "text/plain": [
              "<Figure size 864x576 with 1 Axes>"
            ],
            "image/png": "[encoded data removed]"
          },
          "metadata": {
            "needs_background": "light"
          }
        }
      ]
    },
    {
      "cell_type": "code",
      "source": [
        "# insight 3\n",
        "# Qual foi o agente causador com mais registros no mês de janeiro?\n",
        "ft1 = df_pandas_final['dt_acidente'].dt.month == 1\n",
        "df1 = df_pandas_final.loc[ft1]\n",
        "df1 = df1.groupby(['causador_acidente']).size().sort_values(ascending=False).head(5)\n",
        "df1"
      ],
      "metadata": {
        "colab": {
          "base_uri": "https://localhost:8080/"
        },
        "id": "tN_pGAnbcro8",
        "outputId": "b8f9e338-1428-49ac-8943-a83bbd00e2e1"
      },
      "execution_count": null,
      "outputs": [
        {
          "output_type": "execute_result",
          "data": {
            "text/plain": [
              "causador_acidente\n",
              "Agente Infeccioso ou Parasitario - Inclui Bac    338\n",
              "Motocicleta, Motoneta                            110\n",
              "Rua e Estrada - Superficie Utilizada para Sus     94\n",
              "Impacto de Pes. Contra Objeto em Movimento        87\n",
              "Agente do Acidente, Nic                           79\n",
              "dtype: int64"
            ]
          },
          "metadata": {},
          "execution_count": 252
        }
      ]
    },
    {
      "cell_type": "code",
      "source": [
        "df1.plot.bar(figsize=(12,8),xlabel='Causador do Acidente',ylabel='Número de ocorrências')"
      ],
      "metadata": {
        "id": "l3wGyTF9jH5M",
        "colab": {
          "base_uri": "https://localhost:8080/",
          "height": 734
        },
        "outputId": "fe37c426-8950-43f7-9099-f324f4b95ea0"
      },
      "execution_count": null,
      "outputs": [
        {
          "output_type": "execute_result",
          "data": {
            "text/plain": [
              "<matplotlib.axes._subplots.AxesSubplot at 0x7f93332c3b50>"
            ]
          },
          "metadata": {},
          "execution_count": 253
        },
        {
          "output_type": "display_data",
          "data": {
            "text/plain": [
              "<Figure size 864x576 with 1 Axes>"
            ],
            "image/png": "[encoded data removed]"
          },
          "metadata": {
            "needs_background": "light"
          }
        }
      ]
    },
    {
      "cell_type": "code",
      "source": [
        "# insight 4\n",
        "# Quais lesões mais recorrentes entre os meses de janeiro e fevereiro?\n",
        "ft2 = df_pandas_final['dt_acidente'].dt.month > 1\n",
        "ft3 = df_pandas_final['dt_acidente'].dt.month < 2\n",
        "df4 = df_pandas_final.loc[ft2 & ft3]\n",
        "df4 = df_pandas_final.groupby(['natureza_lesao']).size().sort_values(ascending=False).head(5)\n",
        "df4"
      ],
      "metadata": {
        "id": "s8_PPxO8jlhE",
        "colab": {
          "base_uri": "https://localhost:8080/"
        },
        "outputId": "811358c0-71b4-4b96-9c7b-f789e04f8e54"
      },
      "execution_count": null,
      "outputs": [
        {
          "output_type": "execute_result",
          "data": {
            "text/plain": [
              "natureza_lesao\n",
              "Fratura                                        21578\n",
              "Corte, Laceracao, Ferida Contusa, Punctura     20372\n",
              "Lesao Imediata                                 12712\n",
              "Contusao, Esmagamento (Superficie Cutanea I    11909\n",
              "Escoriacao, Abrasao (Ferimento Superficial)    10409\n",
              "dtype: int64"
            ]
          },
          "metadata": {},
          "execution_count": 254
        }
      ]
    },
    {
      "cell_type": "code",
      "source": [
        "df4.plot.bar(figsize=(12,8),xlabel='Natureza da lesão',ylabel='Número de resgistros de Jan à Fev')"
      ],
      "metadata": {
        "id": "vriu-28_jvyZ",
        "colab": {
          "base_uri": "https://localhost:8080/",
          "height": 738
        },
        "outputId": "ba2118ae-cf75-4e26-9324-55de62020039"
      },
      "execution_count": null,
      "outputs": [
        {
          "output_type": "execute_result",
          "data": {
            "text/plain": [
              "<matplotlib.axes._subplots.AxesSubplot at 0x7f93345f6d30>"
            ]
          },
          "metadata": {},
          "execution_count": 255
        },
        {
          "output_type": "display_data",
          "data": {
            "text/plain": [
              "<Figure size 864x576 with 1 Axes>"
            ],
            "image/png": "[encoded data removed]"
          },
          "metadata": {
            "needs_background": "light"
          }
        }
      ]
    },
    {
      "cell_type": "code",
      "source": [
        "# insight 5\n",
        "# Qual CBO mais registrado entre os meses de abril e maio?\n",
        "ft4 = df_pandas_final['dt_acidente'].dt.month >= 3\n",
        "ft5 = df_pandas_final['dt_acidente'].dt.month <= 4\n",
        "df5 = df_pandas_final.loc[ft4 & ft5].dropna()\n",
        "df5 = df_pandas_final.groupby(['ocupacao_acidentado']).size().sort_values(ascending=False).head(5)\n",
        "df5"
      ],
      "metadata": {
        "id": "j_BJxTvgj3DL",
        "colab": {
          "base_uri": "https://localhost:8080/"
        },
        "outputId": "472a9fd3-94c4-4f70-ed7a-685071eb10f4"
      },
      "execution_count": null,
      "outputs": [
        {
          "output_type": "execute_result",
          "data": {
            "text/plain": [
              "ocupacao_acidentado\n",
              "Tec. de Enfermagem                        8182\n",
              "Alimentador de Linha de Prod.             7516\n",
              "Motorista de Caminhão (Rotas Regionais    2866\n",
              "Servente de Obras                         2647\n",
              "Enfermeiro                                1958\n",
              "dtype: int64"
            ]
          },
          "metadata": {},
          "execution_count": 261
        }
      ]
    },
    {
      "cell_type": "code",
      "source": [
        "df5.plot.bar(figsize=(12,8),xlabel='Ocupação do Acidentado',ylabel='Número de registros')"
      ],
      "metadata": {
        "id": "TsQgHcc1kAWJ",
        "colab": {
          "base_uri": "https://localhost:8080/",
          "height": 707
        },
        "outputId": "b5f2075f-8d89-463e-ad20-42c06abf40c5"
      },
      "execution_count": null,
      "outputs": [
        {
          "output_type": "execute_result",
          "data": {
            "text/plain": [
              "<matplotlib.axes._subplots.AxesSubplot at 0x7f933f7b0310>"
            ]
          },
          "metadata": {},
          "execution_count": 262
        },
        {
          "output_type": "display_data",
          "data": {
            "text/plain": [
              "<Figure size 864x576 with 1 Axes>"
            ],
            "image/png": "[encoded data removed]"
          },
          "metadata": {
            "needs_background": "light"
          }
        }
      ]
    },
    {
      "cell_type": "markdown",
      "source": [
        "###☑️ **5.2 - Tratamento com Pyspark**\n",
        "\n",
        "O primeiro item a ser validado com o pyspark será o drop da coluna **Data Acidente.1**, onde o motivo já foi dito anteriormente, mas antes disso precisamos converter o DataFrame para o formato spark.\n",
        "\n",
        "Podemos fazer isso de duas formas, a primeira seria convertendo o df que usamos no pandas direto para o pyspark e a segunda seria reutornando direto do Data Lake."
      ],
      "metadata": {
        "id": "xWyT2qItzWIv"
      }
    },
    {
      "cell_type": "markdown",
      "source": [
        "####▶️ **Convertendo direto do pandas**"
      ],
      "metadata": {
        "id": "--alq6QJ8thf"
      }
    },
    {
      "cell_type": "markdown",
      "source": [
        "**Montando estrutura com o StructType**\n",
        "\n"
      ],
      "metadata": {
        "id": "fde35C0oIFl1"
      }
    },
    {
      "cell_type": "code",
      "source": [
        "df.columns"
      ],
      "metadata": {
        "colab": {
          "base_uri": "https://localhost:8080/"
        },
        "id": "g4Z_IV_LNdtK",
        "outputId": "b3b0bb5a-f296-4cf3-a0e9-40dbfab89c2a"
      },
      "execution_count": null,
      "outputs": [
        {
          "output_type": "execute_result",
          "data": {
            "text/plain": [
              "Index(['causador_acidente', 'cbo', 'cod_cid10', 'cod_cnae2.0', 'cnae2.0',\n",
              "       'emitente', 'beneficio_tipo', 'filiacao_segurado', 'obito', 'munic_emp',\n",
              "       'natureza_lesao', 'origem_cad', 'parte_corpo', 'sexo', 'tipo_acidente',\n",
              "       'uf_acidente', 'uf_empregador', 'Data Acidente.1', 'dt_despacho',\n",
              "       'dt_acidente', 'dt_nasc', 'dt_emissao', 'cnpj'],\n",
              "      dtype='object')"
            ]
          },
          "metadata": {},
          "execution_count": 196
        }
      ]
    },
    {
      "cell_type": "code",
      "source": [
        "# Schema\n",
        "esquema = (\n",
        "    StructType([\n",
        "        StructField('causador_acidente', StringType()),\n",
        "        StructField('cbo', StringType()),\n",
        "        StructField('cod_cid10', StringType()),\n",
        "        StructField('cod_cnae2.0', IntegerType()),\n",
        "        StructField('cnae2.0', StringType()),\n",
        "        StructField('emitente', StringType()),\n",
        "        StructField('beneficio_tipo', StringType()),\n",
        "        StructField('filiacao_segurado', StringType()),\n",
        "        StructField('obito', StringType()),\n",
        "        StructField('munic_emp', StringType()),\n",
        "        StructField('natureza_lesao', StringType()),\n",
        "        StructField('origem_cad', StringType()),\n",
        "        StructField('parte_corpo', StringType()),\n",
        "        StructField('sexo', StringType()),\n",
        "        StructField('tipo_acidente', StringType()),\n",
        "        StructField('uf_acidente', StringType()),\n",
        "        StructField('uf_empregador', StringType()),\n",
        "        StructField('Data Acidente.1', StringType()),\n",
        "        StructField('dt_despacho', StringType()),\n",
        "        StructField('dt_acidente', DateType()),\n",
        "        StructField('dt_nasc', DateType()),\n",
        "        StructField('dt_emissao', DateType()),\n",
        "        StructField('cnpj', StringType()),\n",
        "    ])\n",
        ")"
      ],
      "metadata": {
        "id": "N9URaaf-EkEh"
      },
      "execution_count": null,
      "outputs": []
    },
    {
      "cell_type": "code",
      "source": [
        "#Converter do Pandas para o spark\n",
        "df_spark = spark.createDataFrame(df, schema=esquema)"
      ],
      "metadata": {
        "id": "-t2YPLhE7nVm"
      },
      "execution_count": null,
      "outputs": []
    },
    {
      "cell_type": "markdown",
      "source": [
        "**Observação:** Caso queira voltar ao pandas, usamos o seguinte comando:\n",
        "\n",
        "```\n",
        " df_pandas = df_spark.toPandas()\n",
        "```\n",
        "\n"
      ],
      "metadata": {
        "id": "CKl0L1D88y38"
      }
    },
    {
      "cell_type": "markdown",
      "source": [
        "####▶️ **Puxando arquivo do Data Lake**\n",
        "\n",
        "Caso queira puxar direto do bucket esse é o caminho:\n",
        "```\n",
        "# Localizando arquivo no bucket\n",
        "path = 'gs://NOME-DO-BUCKET/PASTA-DESTINO/NOME-DO-ARQUIVO.csv'\n",
        "\n",
        "#Lendo o arquivo CSV que está vindo do bucket\n",
        "df_spark = ( spark.read.format('csv')\n",
        "                 .option('header', 'true')\n",
        "                 .option('inferschema', 'true')\n",
        "                 .option('delimiter', ';')\n",
        "                 .load(path)\n",
        ")\n",
        "```\n",
        "\n"
      ],
      "metadata": {
        "id": "7TikPNbs8iHE"
      }
    },
    {
      "cell_type": "code",
      "source": [
        "# Visualizando o Schema\n",
        "df_spark.printSchema()"
      ],
      "metadata": {
        "id": "Ih4aAwOHB-NY",
        "colab": {
          "base_uri": "https://localhost:8080/"
        },
        "outputId": "fb07fa7f-f19c-44ef-e9ef-d5f41d8fc1a9"
      },
      "execution_count": null,
      "outputs": [
        {
          "output_type": "stream",
          "name": "stdout",
          "text": [
            "root\n",
            " |-- causador_acidente: string (nullable = true)\n",
            " |-- cbo: string (nullable = true)\n",
            " |-- cod_cid10: string (nullable = true)\n",
            " |-- cod_cnae2.0: integer (nullable = true)\n",
            " |-- cnae2.0: string (nullable = true)\n",
            " |-- emitente: string (nullable = true)\n",
            " |-- beneficio_tipo: string (nullable = true)\n",
            " |-- filiacao_segurado: string (nullable = true)\n",
            " |-- obito: string (nullable = true)\n",
            " |-- munic_emp: string (nullable = true)\n",
            " |-- natureza_lesao: string (nullable = true)\n",
            " |-- origem_cad: string (nullable = true)\n",
            " |-- parte_corpo: string (nullable = true)\n",
            " |-- sexo: string (nullable = true)\n",
            " |-- tipo_acidente: string (nullable = true)\n",
            " |-- uf_acidente: string (nullable = true)\n",
            " |-- uf_empregador: string (nullable = true)\n",
            " |-- Data Acidente.1: string (nullable = true)\n",
            " |-- dt_despacho: string (nullable = true)\n",
            " |-- dt_acidente: date (nullable = true)\n",
            " |-- dt_nasc: date (nullable = true)\n",
            " |-- dt_emissao: date (nullable = true)\n",
            " |-- cnpj: string (nullable = true)\n",
            "\n"
          ]
        }
      ]
    },
    {
      "cell_type": "code",
      "source": [
        "# Verificando tamanho do df\n",
        "df_spark.count()"
      ],
      "metadata": {
        "colab": {
          "base_uri": "https://localhost:8080/"
        },
        "id": "P8mQ86uJIbU4",
        "outputId": "28f18929-28bb-48c7-ba31-d72b912215c2"
      },
      "execution_count": null,
      "outputs": [
        {
          "output_type": "execute_result",
          "data": {
            "text/plain": [
              "257401"
            ]
          },
          "metadata": {},
          "execution_count": 200
        }
      ]
    },
    {
      "cell_type": "code",
      "source": [
        "# Visualizando o DF spark\n",
        "df_spark.show(truncate = False)"
      ],
      "metadata": {
        "id": "iwOrTzuJ_ST7",
        "colab": {
          "base_uri": "https://localhost:8080/"
        },
        "outputId": "600d0e40-2bc2-4a50-eff3-894ac74b2fd4"
      },
      "execution_count": null,
      "outputs": [
        {
          "output_type": "stream",
          "name": "stdout",
          "text": [
            "+---------------------------------------------+---------------------------------------------+---------------------------------------------+-----------+---------------------------------------------+-------------------+--------------+------------------+-----+----------------------------+-------------------------------------------+----------+---------------------------------------------+---------+-------------+----------------+-----------------+---------------+-----------+-----------+----------+----------+------------------+\n",
            "|causador_acidente                            |cbo                                          |cod_cid10                                    |cod_cnae2.0|cnae2.0                                      |emitente           |beneficio_tipo|filiacao_segurado |obito|munic_emp                   |natureza_lesao                             |origem_cad|parte_corpo                                  |sexo     |tipo_acidente|uf_acidente     |uf_empregador    |Data Acidente.1|dt_despacho|dt_acidente|dt_nasc   |dt_emissao|cnpj              |\n",
            "+---------------------------------------------+---------------------------------------------+---------------------------------------------+-----------+---------------------------------------------+-------------------+--------------+------------------+-----+----------------------------+-------------------------------------------+----------+---------------------------------------------+---------+-------------+----------------+-----------------+---------------+-----------+-----------+----------+----------+------------------+\n",
            "|Não Classificado                             |515105-Agente Comunitário de Saúde           |B34.2 Infecc p/Coronavirus Ne                |8630       |Atividades de Atencao Ambulatorial Executadas|Empregador         |Pa            |Empregado         |Não  |354780-Santo André-Sp       |Doenca Contagiosa ou Infecciosa (Tuberculos|Internet  |Aparelho Respiratorio                        |Feminino |Doença       |Maranhão        |São Paulo        |2022/01        |0000/00    |2022-01-20 |1970-08-02|2022-03-01|57.571.275.002.570|\n",
            "|Motocicleta, Motoneta                        |519110-Motociclista no Transporte de Document|S52.5 Frat da Extremidade Distal do Radio    |4930       |Transporte Rodoviario de Carga               |Segurado/Dependente|Pa            |Empregado         |Não  |355030-São Paulo            |Fratura                                    |Internet  |Braco (Entre O Punho a O Ombro)              |Masculino|Trajeto      |Maranhão        |São Paulo        |2022/02        |0000/00    |2022-02-25 |1990-12-16|2022-03-01|19.578.086.000.162|\n",
            "|Motocicleta, Motoneta                        |519110-Motociclista no Transporte de Document|S52.5 Frat da Extremidade Distal do Radio    |4930       |Transporte Rodoviario de Carga               |Segurado/Dependente|Pa            |Empregado         |Não  |355030-São Paulo            |Fratura                                    |Internet  |Braco (Entre O Punho a O Ombro)              |Masculino|Trajeto      |Maranhão        |São Paulo        |2022/02        |0000/00    |2022-02-25 |1990-12-16|2022-03-01|19.578.086.000.162|\n",
            "|Aprision. Em, Sobre ou Entre Dois ou Mai     |514205-Coletor Lixo                          |S60.0 Contusao de Dedos s/Lesao da Unha      |3811       |Coleta de Residuos Nao-Perigosos             |Empregador         |Pa            |Empregado         |Não  |520110-Anápolis             |Luxacao                                    |Internet  |Punho                                        |Masculino|Típico       |Não Classificado|Goiás            |2022/02        |0000/00    |2022-02-24 |1986-09-19|2022-03-01|00.000.000.000.000|\n",
            "|Impacto de Pes. Contra Objeto em Movimento   |Não Classificado                             |S90.0 Contusao do Tornozelo                  |4639       |Comercio Atacadista de Produtos Alimenticios |Empregador         |Pa            |Empregado         |Não  |330100-Campos dos Goytacazes|Luxacao                                    |Internet  |Perna (Entre O Tornozelo e a Pelvis)         |Masculino|Típico       |Maranhão        |São Paulo        |2022/01        |0000/00    |2022-01-28 |1995-07-25|2022-03-01|00.000.000.000.000|\n",
            "|Temperatura Muito Alta, Contato com Objeto Ou|784205-Alimentador de Linha de Prod.         |T24.4 Corros Quadr Membr Inf Exc Tornoz Pe Gr|1011       |Abate de Reses, Exceto Suinos                |Empregador         |Pa            |Empregado         |Não  |293330-Vitória da Conquista |Queimadura ou Escaldadura - Efeito de Tempe|Internet  |Perna (Entre O Tornozelo e a Pelvis)         |Masculino|Típico       |Não Classificado|Bahia            |2022/02        |0000/00    |2022-02-25 |1989-10-06|2022-03-01|00.000.000.000.000|\n",
            "|Piso de Veiculo - Superficie Utilizada para S|521135-Frentista                             |S82.3 Frat da Extremidade Distal da Tibia    |4731       |Comercio Varejista de Combustiveis para Veicu|Empregador         |Pa            |Empregado         |Não  |261110-Petrolina            |Fratura                                    |Internet  |Perna (Do Tornozelo, Exclusive, ao Joelho, Ex|Masculino|Trajeto      |Pará            |Pernambuco       |2022/02        |0000/00    |2022-02-28 |1993-05-22|2022-03-01|24.574.403.000.102|\n",
            "|Não Classificado                             |223505-Enfermeiro                            |B34.2 Infecc p/Coronavirus Ne                |8630       |Atividades de Atencao Ambulatorial Executadas|Empregador         |Pa            |Empregado         |Não  |354780-Santo André-Sp       |Doenca Contagiosa ou Infecciosa (Tuberculos|Internet  |Aparelho Respiratorio                        |Feminino |Doença       |Maranhão        |São Paulo        |2022/01        |0000/00    |2022-01-18 |1982-05-13|2022-03-01|57.571.275.002.570|\n",
            "|Frasco, Garrafa - Embalagem, Recipiente, Vazi|322205-Tec. de Enfermagem                    |S90.8 Outr Traum Superf do Tornozelo e do Pe |8411       |Administracao Publica em Geral               |Médico             |Pa            |Empregado         |Não  |410690-Curitiba             |Contusao, Esmagamento (Superficie Cutanea I|Internet  |Membros Inferiores, Partes Multiplas (Qualque|Feminino |Típico       |Roraima         |Paraná           |2022/03        |0000/00    |2022-03-01 |1977-11-09|2022-03-01|76.417.005.000.429|\n",
            "|Piso de Andaime e Plataforma Desmontavel - Su|752305-Ceramista                             |S90.3 Contusao de Outr Partes e Partes Ne Do |2342       |Fabricacao de Produtos Ceramicos Nao-Refratar|Empregador         |Pa            |Empregado         |Não  |230765-Maracanaú            |Distensao, Torcao                          |Internet  |Articulacao do Tornozelo                     |Masculino|Típico       |Não Classificado|Ceará            |2022/02        |0000/00    |2022-02-23 |1998-12-06|2022-03-01|00.000.000.000.000|\n",
            "|Produto Biologico (Soro, Toxina, Antitoxina, |322205-Tec. de Enfermagem                    |Z57.9 Exposicao Ocupacional a Fator de Risco |8610       |Atividades de Atendimento Hospitalar         |Empregador         |Pa            |Empregado         |Não  |410690-Curitiba             |Outras Lesoes, Nic                         |Internet  |Face, Partes Multiplas (Qualquer Combinacao D|Feminino |Típico       |Roraima         |Paraná           |2022/02        |0000/00    |2022-02-27 |1980-12-29|2022-03-01|00.000.000.000.000|\n",
            "|Passarela ou Plataforma Permanentes - Superfi|951105-Eletricista de Manut. Eletroeletrônica|S12.2 Frat de Outr Vertebras Cervicais Espec |1610       |Desdobramento de Madeira                     |Empregador         |Pa            |Empregado         |Não  |421500-Rio Negrinho         |Fratura                                    |Internet  |Dorso (Inclusive Musculos Dorsais, Coluna e M|Masculino|Típico       |Não Classificado|Santa Catarina   |2022/01        |0000/00    |2022-01-28 |1990-03-21|2022-03-01|00.000.000.000.000|\n",
            "|Esmeril- Ferramenta Portatil com Forca Motriz|722215-Oper. Acabamento de Peças Fundidas    |S52.8 Frat de Outr Partes do Antebraco       |2941       |Fabricacao de Pecas e Acessorios para O Siste|Empregador         |Pa            |Empregado         |Não  |410690-Curitiba             |Corte, Laceracao, Ferida Contusa, Punctura |Internet  |Antebraco (Entre O Punho e O Cotovelo)       |Masculino|Típico       |Roraima         |Paraná           |2022/02        |0000/00    |2022-02-24 |1999-02-03|2022-03-01|00.000.000.000.000|\n",
            "|Caixa, Engradado, Caixote - Embalagem, Recipi|314715-Tec. de Fundição em Siderurgia        |S90.9 Traum Superf do Tornozelo e do Pe Ne   |2941       |Fabricacao de Pecas e Acessorios para O Siste|Empregador         |Pa            |Empregado         |Não  |410690-Curitiba             |Luxacao                                    |Internet  |Pe (Exceto Artelhos)                         |Masculino|Típico       |Roraima         |Paraná           |2022/02        |0000/00    |2022-02-26 |1996-07-03|2022-03-01|00.000.000.000.000|\n",
            "|Não Classificado                             |Não Classificado                             |B34.2 Infecc p/Coronavirus Ne                |8630       |Atividades de Atencao Ambulatorial Executadas|Empregador         |Pa            |Empregado         |Não  |354780-Santo André-Sp       |Doenca Contagiosa ou Infecciosa (Tuberculos|Internet  |Aparelho Respiratorio                        |Feminino |Doença       |Maranhão        |São Paulo        |2022/01        |0000/00    |2022-01-20 |1965-02-16|2022-03-01|57.571.275.002.570|\n",
            "|Atrito ou Abrasao por Manusear Objeto        |784205-Alimentador de Linha de Prod.         |S61.1 Ferim de Dedos c/Lesao da Unha         |7820       |Locacao de Mao-De-Obra Temporaria            |Empregador         |Pa            |Empregado         |Não  |350750-Botucatu             |Lesao Imediata                             |Internet  |Dedo                                         |Masculino|Típico       |Maranhão        |São Paulo        |2022/02        |0000/00    |2022-02-26 |1992-08-24|2022-03-01|00.000.000.000.000|\n",
            "|Talha - Equip. de Guindar                    |722205-Fundidor de Metais                    |T75.4 Efeitos da Corrente Eletrica           |2451       |Fundicao de Ferro e Aco                      |Empregador         |Pa            |Empregado         |Não  |354580-Santa Bárbara D'Oeste|Choque Eletrico e Eletroplessao (Eletrocuss|Internet  |Braco (Entre O Punho a O Ombro)              |Masculino|Típico       |Maranhão        |São Paulo        |2022/02        |0000/00    |2022-02-27 |1963-01-26|2022-03-01|00.000.000.000.000|\n",
            "|Rampa - Superficie Utilizada para Sustentar P|411010-Assistente Administrativo             |T14.0 Traum Superf de Regiao Ne do Corpo     |4711       |Comercio Varejista de Mercadorias em Geral, c|Empregador         |Pa            |Empregado         |Não  |431720-Santa Rosa           |Distensao, Torcao                          |Internet  |Articulacao do Tornozelo                     |Feminino |Típico       |Não Classificado|Rio Grande do Sul|2022/02        |0000/00    |2022-02-25 |1993-12-31|2022-03-01|00.000.000.000.000|\n",
            "|Passarela ou Plataforma Permanentes - Superfi|Não Classificado                             |S93.4 Entorse e Distensao do Tornozelo       |9412       |Atividades de Organizacoes Associativas Profi|Não Classificado   |Pa            |Trabalhador Avulso|Não  |000000-Ignorado             |Luxacao                                    |Internet  |Articulacao do Tornozelo                     |Masculino|Típico       |Não Classificado|Não Classificado |2022/01        |0000/00    |2022-01-24 |1976-06-07|2022-03-01|00.000.000.000.000|\n",
            "|Piso de Veiculo - Superficie Utilizada para S|783225-Ajudante de Motorista                 |S50.0 Contusao do Cotovelo                   |5212       |Carga e Descarga                             |Empregador         |Pa            |Empregado         |Não  |355030-São Paulo            |Contusao, Esmagamento (Superficie Cutanea I|Internet  |Cotovelo                                     |Masculino|Típico       |Maranhão        |São Paulo        |2022/02        |0000/00    |2022-02-25 |2002-08-05|2022-03-01|00.000.000.000.000|\n",
            "+---------------------------------------------+---------------------------------------------+---------------------------------------------+-----------+---------------------------------------------+-------------------+--------------+------------------+-----+----------------------------+-------------------------------------------+----------+---------------------------------------------+---------+-------------+----------------+-----------------+---------------+-----------+-----------+----------+----------+------------------+\n",
            "only showing top 20 rows\n",
            "\n"
          ]
        }
      ]
    },
    {
      "cell_type": "markdown",
      "source": [
        "Agora que já temos o df no formato pyspark, vamos realizar os tratamentos necessários.\n",
        "\n"
      ],
      "metadata": {
        "id": "QiIXpz4v_rGz"
      }
    },
    {
      "cell_type": "markdown",
      "source": [
        "####▶️ **Conversão de datas para formato TimeStamp**\n",
        "\n",
        "Como o MongoDB não aceita o formato DateTime, precisamos converter as colunas para o formato aceito por ele, para que posteiormente não nos acarrete nenhum erro."
      ],
      "metadata": {
        "id": "43myBDrhS04y"
      }
    },
    {
      "cell_type": "code",
      "source": [
        "# Convertendo datas\n",
        "df_spark = df_spark.withColumn(\"dt_nasc\", to_timestamp(col(\"dt_nasc\"),\"dd/MM/yyyy\")) \\\n",
        "                 .withColumn(\"dt_acidente\", to_timestamp(col(\"dt_acidente\"),\"dd/MM/yyyy\")) \\\n",
        "                 .withColumn(\"dt_emissao\", to_timestamp(col(\"dt_emissao\"),\"dd/MM/yyyy\"))"
      ],
      "metadata": {
        "id": "AjEyygtlS8J0"
      },
      "execution_count": null,
      "outputs": []
    },
    {
      "cell_type": "code",
      "source": [
        "# Verificando resultando\n",
        "df_spark.show(3)"
      ],
      "metadata": {
        "colab": {
          "base_uri": "https://localhost:8080/"
        },
        "id": "oJ7XAKUiWNWJ",
        "outputId": "332ba88f-234c-4b0c-df37-ea1885abe65c"
      },
      "execution_count": null,
      "outputs": [
        {
          "output_type": "stream",
          "name": "stdout",
          "text": [
            "+--------------------+--------------------+--------------------+-----------+--------------------+-------------------+--------------+-----------------+-----+--------------------+--------------------+----------+--------------------+---------+-------------+-----------+-------------+---------------+-----------+-------------------+-------------------+-------------------+------------------+\n",
            "|   causador_acidente|                 cbo|           cod_cid10|cod_cnae2.0|             cnae2.0|           emitente|beneficio_tipo|filiacao_segurado|obito|           munic_emp|      natureza_lesao|origem_cad|         parte_corpo|     sexo|tipo_acidente|uf_acidente|uf_empregador|Data Acidente.1|dt_despacho|        dt_acidente|            dt_nasc|         dt_emissao|              cnpj|\n",
            "+--------------------+--------------------+--------------------+-----------+--------------------+-------------------+--------------+-----------------+-----+--------------------+--------------------+----------+--------------------+---------+-------------+-----------+-------------+---------------+-----------+-------------------+-------------------+-------------------+------------------+\n",
            "|    Não Classificado|515105-Agente Com...|B34.2 Infecc p/Co...|       8630|Atividades de Ate...|         Empregador|            Pa|        Empregado|  Não|354780-Santo Andr...|Doenca Contagiosa...|  Internet|Aparelho Respirat...| Feminino|       Doença|   Maranhão|    São Paulo|        2022/01|    0000/00|2022-01-20 00:00:00|1970-08-02 00:00:00|2022-03-01 00:00:00|57.571.275.002.570|\n",
            "|Motocicleta, Moto...|519110-Motociclis...|S52.5 Frat da Ext...|       4930|Transporte Rodovi...|Segurado/Dependente|            Pa|        Empregado|  Não|    355030-São Paulo|             Fratura|  Internet|Braco (Entre O Pu...|Masculino|      Trajeto|   Maranhão|    São Paulo|        2022/02|    0000/00|2022-02-25 00:00:00|1990-12-16 00:00:00|2022-03-01 00:00:00|19.578.086.000.162|\n",
            "|Motocicleta, Moto...|519110-Motociclis...|S52.5 Frat da Ext...|       4930|Transporte Rodovi...|Segurado/Dependente|            Pa|        Empregado|  Não|    355030-São Paulo|             Fratura|  Internet|Braco (Entre O Pu...|Masculino|      Trajeto|   Maranhão|    São Paulo|        2022/02|    0000/00|2022-02-25 00:00:00|1990-12-16 00:00:00|2022-03-01 00:00:00|19.578.086.000.162|\n",
            "+--------------------+--------------------+--------------------+-----------+--------------------+-------------------+--------------+-----------------+-----+--------------------+--------------------+----------+--------------------+---------+-------------+-----------+-------------+---------------+-----------+-------------------+-------------------+-------------------+------------------+\n",
            "only showing top 3 rows\n",
            "\n"
          ]
        }
      ]
    },
    {
      "cell_type": "markdown",
      "source": [
        "####▶️ **Drop das colunas Data Acidente.1 e origem_cad**\n",
        "\n",
        "Antes de realizar esse passo, aqui vai uma observação relevante, caso necessário realizar a troca do nome de alguma coluna, esse é o caminho:\n",
        "\n",
        "```\n",
        "df_spark = df_spark.withColumnRenamed('COLUNA-ORIGINAL', 'coluna-renomeada')\n",
        "```\n",
        "\n",
        "A coluna Data Acidente.1 já foi explicado o motivo de exclusão, já a coluna origem_cad está sendo retirada pois só há dois tipos de informação, ou a informação foi cadastrada pela internet ou está nulo, dessa forma optamos por retirá-la também.\n"
      ],
      "metadata": {
        "id": "-ukNcNRECSOE"
      }
    },
    {
      "cell_type": "code",
      "source": [
        "# Visualizar colunas\n",
        "df_spark.columns"
      ],
      "metadata": {
        "id": "QLwUJ_mXCKh6",
        "colab": {
          "base_uri": "https://localhost:8080/"
        },
        "outputId": "6552790a-f11f-4f09-eaab-4a10a1e5dadb"
      },
      "execution_count": null,
      "outputs": [
        {
          "output_type": "execute_result",
          "data": {
            "text/plain": [
              "['causador_acidente',\n",
              " 'cbo',\n",
              " 'cod_cid10',\n",
              " 'cod_cnae2.0',\n",
              " 'cnae2.0',\n",
              " 'emitente',\n",
              " 'beneficio_tipo',\n",
              " 'filiacao_segurado',\n",
              " 'obito',\n",
              " 'munic_emp',\n",
              " 'natureza_lesao',\n",
              " 'origem_cad',\n",
              " 'parte_corpo',\n",
              " 'sexo',\n",
              " 'tipo_acidente',\n",
              " 'uf_acidente',\n",
              " 'uf_empregador',\n",
              " 'Data Acidente.1',\n",
              " 'dt_despacho',\n",
              " 'dt_acidente',\n",
              " 'dt_nasc',\n",
              " 'dt_emissao',\n",
              " 'cnpj']"
            ]
          },
          "metadata": {},
          "execution_count": 204
        }
      ]
    },
    {
      "cell_type": "code",
      "source": [
        "# Remover coluna\n",
        "df_spark.drop('Data Acidente.1').show()"
      ],
      "metadata": {
        "id": "3G-5hZcuCTmL",
        "colab": {
          "base_uri": "https://localhost:8080/"
        },
        "outputId": "924be80f-e39e-482b-b9fe-5c97bd3430bb"
      },
      "execution_count": null,
      "outputs": [
        {
          "output_type": "stream",
          "name": "stdout",
          "text": [
            "+--------------------+--------------------+--------------------+-----------+--------------------+-------------------+--------------+------------------+-----+--------------------+--------------------+----------+--------------------+---------+-------------+----------------+-----------------+-----------+-------------------+-------------------+-------------------+------------------+\n",
            "|   causador_acidente|                 cbo|           cod_cid10|cod_cnae2.0|             cnae2.0|           emitente|beneficio_tipo| filiacao_segurado|obito|           munic_emp|      natureza_lesao|origem_cad|         parte_corpo|     sexo|tipo_acidente|     uf_acidente|    uf_empregador|dt_despacho|        dt_acidente|            dt_nasc|         dt_emissao|              cnpj|\n",
            "+--------------------+--------------------+--------------------+-----------+--------------------+-------------------+--------------+------------------+-----+--------------------+--------------------+----------+--------------------+---------+-------------+----------------+-----------------+-----------+-------------------+-------------------+-------------------+------------------+\n",
            "|    Não Classificado|515105-Agente Com...|B34.2 Infecc p/Co...|       8630|Atividades de Ate...|         Empregador|            Pa|         Empregado|  Não|354780-Santo Andr...|Doenca Contagiosa...|  Internet|Aparelho Respirat...| Feminino|       Doença|        Maranhão|        São Paulo|    0000/00|2022-01-20 00:00:00|1970-08-02 00:00:00|2022-03-01 00:00:00|57.571.275.002.570|\n",
            "|Motocicleta, Moto...|519110-Motociclis...|S52.5 Frat da Ext...|       4930|Transporte Rodovi...|Segurado/Dependente|            Pa|         Empregado|  Não|    355030-São Paulo|             Fratura|  Internet|Braco (Entre O Pu...|Masculino|      Trajeto|        Maranhão|        São Paulo|    0000/00|2022-02-25 00:00:00|1990-12-16 00:00:00|2022-03-01 00:00:00|19.578.086.000.162|\n",
            "|Motocicleta, Moto...|519110-Motociclis...|S52.5 Frat da Ext...|       4930|Transporte Rodovi...|Segurado/Dependente|            Pa|         Empregado|  Não|    355030-São Paulo|             Fratura|  Internet|Braco (Entre O Pu...|Masculino|      Trajeto|        Maranhão|        São Paulo|    0000/00|2022-02-25 00:00:00|1990-12-16 00:00:00|2022-03-01 00:00:00|19.578.086.000.162|\n",
            "|Aprision. Em, Sob...| 514205-Coletor Lixo|S60.0 Contusao de...|       3811|Coleta de Residuo...|         Empregador|            Pa|         Empregado|  Não|     520110-Anápolis|             Luxacao|  Internet|               Punho|Masculino|       Típico|Não Classificado|            Goiás|    0000/00|2022-02-24 00:00:00|1986-09-19 00:00:00|2022-03-01 00:00:00|00.000.000.000.000|\n",
            "|Impacto de Pes. C...|    Não Classificado|S90.0 Contusao do...|       4639|Comercio Atacadis...|         Empregador|            Pa|         Empregado|  Não|330100-Campos dos...|             Luxacao|  Internet|Perna (Entre O To...|Masculino|       Típico|        Maranhão|        São Paulo|    0000/00|2022-01-28 00:00:00|1995-07-25 00:00:00|2022-03-01 00:00:00|00.000.000.000.000|\n",
            "|Temperatura Muito...|784205-Alimentado...|T24.4 Corros Quad...|       1011|Abate de Reses, E...|         Empregador|            Pa|         Empregado|  Não|293330-Vitória da...|Queimadura ou Esc...|  Internet|Perna (Entre O To...|Masculino|       Típico|Não Classificado|            Bahia|    0000/00|2022-02-25 00:00:00|1989-10-06 00:00:00|2022-03-01 00:00:00|00.000.000.000.000|\n",
            "|Piso de Veiculo -...|    521135-Frentista|S82.3 Frat da Ext...|       4731|Comercio Varejist...|         Empregador|            Pa|         Empregado|  Não|    261110-Petrolina|             Fratura|  Internet|Perna (Do Tornoze...|Masculino|      Trajeto|            Pará|       Pernambuco|    0000/00|2022-02-28 00:00:00|1993-05-22 00:00:00|2022-03-01 00:00:00|24.574.403.000.102|\n",
            "|    Não Classificado|   223505-Enfermeiro|B34.2 Infecc p/Co...|       8630|Atividades de Ate...|         Empregador|            Pa|         Empregado|  Não|354780-Santo Andr...|Doenca Contagiosa...|  Internet|Aparelho Respirat...| Feminino|       Doença|        Maranhão|        São Paulo|    0000/00|2022-01-18 00:00:00|1982-05-13 00:00:00|2022-03-01 00:00:00|57.571.275.002.570|\n",
            "|Frasco, Garrafa -...|322205-Tec. de En...|S90.8 Outr Traum ...|       8411|Administracao Pub...|             Médico|            Pa|         Empregado|  Não|     410690-Curitiba|Contusao, Esmagam...|  Internet|Membros Inferiore...| Feminino|       Típico|         Roraima|           Paraná|    0000/00|2022-03-01 00:00:00|1977-11-09 00:00:00|2022-03-01 00:00:00|76.417.005.000.429|\n",
            "|Piso de Andaime e...|    752305-Ceramista|S90.3 Contusao de...|       2342|Fabricacao de Pro...|         Empregador|            Pa|         Empregado|  Não|    230765-Maracanaú|   Distensao, Torcao|  Internet|Articulacao do To...|Masculino|       Típico|Não Classificado|            Ceará|    0000/00|2022-02-23 00:00:00|1998-12-06 00:00:00|2022-03-01 00:00:00|00.000.000.000.000|\n",
            "|Produto Biologico...|322205-Tec. de En...|Z57.9 Exposicao O...|       8610|Atividades de Ate...|         Empregador|            Pa|         Empregado|  Não|     410690-Curitiba|  Outras Lesoes, Nic|  Internet|Face, Partes Mult...| Feminino|       Típico|         Roraima|           Paraná|    0000/00|2022-02-27 00:00:00|1980-12-29 00:00:00|2022-03-01 00:00:00|00.000.000.000.000|\n",
            "|Passarela ou Plat...|951105-Eletricist...|S12.2 Frat de Out...|       1610|Desdobramento de ...|         Empregador|            Pa|         Empregado|  Não| 421500-Rio Negrinho|             Fratura|  Internet|Dorso (Inclusive ...|Masculino|       Típico|Não Classificado|   Santa Catarina|    0000/00|2022-01-28 00:00:00|1990-03-21 00:00:00|2022-03-01 00:00:00|00.000.000.000.000|\n",
            "|Esmeril- Ferramen...|722215-Oper. Acab...|S52.8 Frat de Out...|       2941|Fabricacao de Pec...|         Empregador|            Pa|         Empregado|  Não|     410690-Curitiba|Corte, Laceracao,...|  Internet|Antebraco (Entre ...|Masculino|       Típico|         Roraima|           Paraná|    0000/00|2022-02-24 00:00:00|1999-02-03 00:00:00|2022-03-01 00:00:00|00.000.000.000.000|\n",
            "|Caixa, Engradado,...|314715-Tec. de Fu...|S90.9 Traum Super...|       2941|Fabricacao de Pec...|         Empregador|            Pa|         Empregado|  Não|     410690-Curitiba|             Luxacao|  Internet|Pe (Exceto Artelhos)|Masculino|       Típico|         Roraima|           Paraná|    0000/00|2022-02-26 00:00:00|1996-07-03 00:00:00|2022-03-01 00:00:00|00.000.000.000.000|\n",
            "|    Não Classificado|    Não Classificado|B34.2 Infecc p/Co...|       8630|Atividades de Ate...|         Empregador|            Pa|         Empregado|  Não|354780-Santo Andr...|Doenca Contagiosa...|  Internet|Aparelho Respirat...| Feminino|       Doença|        Maranhão|        São Paulo|    0000/00|2022-01-20 00:00:00|1965-02-16 00:00:00|2022-03-01 00:00:00|57.571.275.002.570|\n",
            "|Atrito ou Abrasao...|784205-Alimentado...|S61.1 Ferim de De...|       7820|Locacao de Mao-De...|         Empregador|            Pa|         Empregado|  Não|     350750-Botucatu|      Lesao Imediata|  Internet|                Dedo|Masculino|       Típico|        Maranhão|        São Paulo|    0000/00|2022-02-26 00:00:00|1992-08-24 00:00:00|2022-03-01 00:00:00|00.000.000.000.000|\n",
            "|Talha - Equip. de...|722205-Fundidor d...|T75.4 Efeitos da ...|       2451|Fundicao de Ferro...|         Empregador|            Pa|         Empregado|  Não|354580-Santa Bárb...|Choque Eletrico e...|  Internet|Braco (Entre O Pu...|Masculino|       Típico|        Maranhão|        São Paulo|    0000/00|2022-02-27 00:00:00|1963-01-26 00:00:00|2022-03-01 00:00:00|00.000.000.000.000|\n",
            "|Rampa - Superfici...|411010-Assistente...|T14.0 Traum Super...|       4711|Comercio Varejist...|         Empregador|            Pa|         Empregado|  Não|   431720-Santa Rosa|   Distensao, Torcao|  Internet|Articulacao do To...| Feminino|       Típico|Não Classificado|Rio Grande do Sul|    0000/00|2022-02-25 00:00:00|1993-12-31 00:00:00|2022-03-01 00:00:00|00.000.000.000.000|\n",
            "|Passarela ou Plat...|    Não Classificado|S93.4 Entorse e D...|       9412|Atividades de Org...|   Não Classificado|            Pa|Trabalhador Avulso|  Não|     000000-Ignorado|             Luxacao|  Internet|Articulacao do To...|Masculino|       Típico|Não Classificado| Não Classificado|    0000/00|2022-01-24 00:00:00|1976-06-07 00:00:00|2022-03-01 00:00:00|00.000.000.000.000|\n",
            "|Piso de Veiculo -...|783225-Ajudante d...|S50.0 Contusao do...|       5212|    Carga e Descarga|         Empregador|            Pa|         Empregado|  Não|    355030-São Paulo|Contusao, Esmagam...|  Internet|            Cotovelo|Masculino|       Típico|        Maranhão|        São Paulo|    0000/00|2022-02-25 00:00:00|2002-08-05 00:00:00|2022-03-01 00:00:00|00.000.000.000.000|\n",
            "+--------------------+--------------------+--------------------+-----------+--------------------+-------------------+--------------+------------------+-----+--------------------+--------------------+----------+--------------------+---------+-------------+----------------+-----------------+-----------+-------------------+-------------------+-------------------+------------------+\n",
            "only showing top 20 rows\n",
            "\n"
          ]
        }
      ]
    },
    {
      "cell_type": "code",
      "source": [
        "# Verificando se foi alterada\n",
        "df_spark.columns"
      ],
      "metadata": {
        "id": "dxjLkrIiGtV7",
        "colab": {
          "base_uri": "https://localhost:8080/"
        },
        "outputId": "1da6e045-d30e-4c68-c627-c76add0e05fc"
      },
      "execution_count": null,
      "outputs": [
        {
          "output_type": "execute_result",
          "data": {
            "text/plain": [
              "['causador_acidente',\n",
              " 'cbo',\n",
              " 'cod_cid10',\n",
              " 'cod_cnae2.0',\n",
              " 'cnae2.0',\n",
              " 'emitente',\n",
              " 'beneficio_tipo',\n",
              " 'filiacao_segurado',\n",
              " 'obito',\n",
              " 'munic_emp',\n",
              " 'natureza_lesao',\n",
              " 'origem_cad',\n",
              " 'parte_corpo',\n",
              " 'sexo',\n",
              " 'tipo_acidente',\n",
              " 'uf_acidente',\n",
              " 'uf_empregador',\n",
              " 'Data Acidente.1',\n",
              " 'dt_despacho',\n",
              " 'dt_acidente',\n",
              " 'dt_nasc',\n",
              " 'dt_emissao',\n",
              " 'cnpj']"
            ]
          },
          "metadata": {},
          "execution_count": 206
        }
      ]
    },
    {
      "cell_type": "markdown",
      "source": [
        "A alteração ainda não foi realizada, pois não houve atribuição, o que você vê é apenas uma pré visualização de como ficará o seu DF caso seja aplicado a alteração."
      ],
      "metadata": {
        "id": "eAv3dI2GDuc6"
      }
    },
    {
      "cell_type": "code",
      "source": [
        "# Remover coluna com atribuição Data Acidente.1\n",
        "df_spark = df_spark.drop('Data Acidente.1')\n",
        "\n",
        "# Remover coluna com atribuição origem_cad\n",
        "df_spark = df_spark.drop('origem_cad')\n",
        "\n",
        "# Verificando se foi alterada\n",
        "df_spark.columns"
      ],
      "metadata": {
        "id": "pHGhTVOiEJIz",
        "colab": {
          "base_uri": "https://localhost:8080/"
        },
        "outputId": "7ee1a30c-daac-47ed-8839-4a161b5f1c45"
      },
      "execution_count": null,
      "outputs": [
        {
          "output_type": "execute_result",
          "data": {
            "text/plain": [
              "['causador_acidente',\n",
              " 'cbo',\n",
              " 'cod_cid10',\n",
              " 'cod_cnae2.0',\n",
              " 'cnae2.0',\n",
              " 'emitente',\n",
              " 'beneficio_tipo',\n",
              " 'filiacao_segurado',\n",
              " 'obito',\n",
              " 'munic_emp',\n",
              " 'natureza_lesao',\n",
              " 'parte_corpo',\n",
              " 'sexo',\n",
              " 'tipo_acidente',\n",
              " 'uf_acidente',\n",
              " 'uf_empregador',\n",
              " 'dt_despacho',\n",
              " 'dt_acidente',\n",
              " 'dt_nasc',\n",
              " 'dt_emissao',\n",
              " 'cnpj']"
            ]
          },
          "metadata": {},
          "execution_count": 207
        }
      ]
    },
    {
      "cell_type": "markdown",
      "source": [
        "Note que agora já não há mais a coluna **Data Acidente.1** e nem **origem_cad**."
      ],
      "metadata": {
        "id": "pwZN-VdQEdIS"
      }
    },
    {
      "cell_type": "markdown",
      "source": [
        "####▶️ **Verificando existência de linhas duplicadas**\n",
        "\n",
        "Uma das diretrizes do projeto era verificar a existência de linhas duplicadas, faremos isso agora."
      ],
      "metadata": {
        "id": "-GV7zTTKM2Ri"
      }
    },
    {
      "cell_type": "code",
      "source": [
        "# Verificando tamanho do DataFrame\n",
        "df_spark.count()"
      ],
      "metadata": {
        "colab": {
          "base_uri": "https://localhost:8080/"
        },
        "id": "P5u20Z1aNH3q",
        "outputId": "913a7fa0-80d3-4b77-be12-60a8d0e69ec9"
      },
      "execution_count": null,
      "outputs": [
        {
          "output_type": "execute_result",
          "data": {
            "text/plain": [
              "257401"
            ]
          },
          "metadata": {},
          "execution_count": 208
        }
      ]
    },
    {
      "cell_type": "code",
      "source": [
        "# Contando as linhas duplicadas\n",
        "print(f' {df.duplicated().sum()}  Linhas Duplicadas ')"
      ],
      "metadata": {
        "colab": {
          "base_uri": "https://localhost:8080/"
        },
        "id": "i64al6tVSd5J",
        "outputId": "47285265-00fa-4451-d207-35eb2baebff1"
      },
      "execution_count": null,
      "outputs": [
        {
          "output_type": "stream",
          "name": "stdout",
          "text": [
            " 100652  Linhas Duplicadas \n"
          ]
        }
      ]
    },
    {
      "cell_type": "code",
      "source": [
        "# Realizando drop de linhas duplicadas\n",
        "df_spark = df_spark.dropDuplicates()"
      ],
      "metadata": {
        "id": "j3NHWikEtn8D"
      },
      "execution_count": null,
      "outputs": []
    },
    {
      "cell_type": "code",
      "source": [
        "# Verificando tamanho do DataFrame pós alteração\n",
        "df_spark.count()"
      ],
      "metadata": {
        "colab": {
          "base_uri": "https://localhost:8080/"
        },
        "id": "fkHnkjWPtzjx",
        "outputId": "e7875dc6-5067-446f-851b-bf9769461dd2"
      },
      "execution_count": null,
      "outputs": [
        {
          "output_type": "execute_result",
          "data": {
            "text/plain": [
              "156749"
            ]
          },
          "metadata": {},
          "execution_count": 211
        }
      ]
    },
    {
      "cell_type": "markdown",
      "source": [
        "Como verificado, não só há linhas duplicadas, como a quantidade delas é bem considerável, algo em torno de 39% do total."
      ],
      "metadata": {
        "id": "UzfCPappu4mU"
      }
    },
    {
      "cell_type": "markdown",
      "source": [
        "####▶️ **Verificando inconsistências**\n",
        "\n",
        "Da mesma forma que no pandas, com o pyspark nós filtramos cada coluna para fazer a verificação de possíveis dados inconsistentes."
      ],
      "metadata": {
        "id": "badi1A8xUmtd"
      }
    },
    {
      "cell_type": "code",
      "source": [
        "df_spark.columns"
      ],
      "metadata": {
        "colab": {
          "base_uri": "https://localhost:8080/"
        },
        "id": "73rk_dydV4YN",
        "outputId": "fc85b06a-9a2e-4c13-aefe-6d3866689af1"
      },
      "execution_count": null,
      "outputs": [
        {
          "output_type": "execute_result",
          "data": {
            "text/plain": [
              "['causador_acidente',\n",
              " 'cbo',\n",
              " 'cod_cid10',\n",
              " 'cod_cnae2.0',\n",
              " 'cnae2.0',\n",
              " 'emitente',\n",
              " 'beneficio_tipo',\n",
              " 'filiacao_segurado',\n",
              " 'obito',\n",
              " 'munic_emp',\n",
              " 'natureza_lesao',\n",
              " 'parte_corpo',\n",
              " 'sexo',\n",
              " 'tipo_acidente',\n",
              " 'uf_acidente',\n",
              " 'uf_empregador',\n",
              " 'dt_despacho',\n",
              " 'dt_acidente',\n",
              " 'dt_nasc',\n",
              " 'dt_emissao',\n",
              " 'cnpj']"
            ]
          },
          "metadata": {},
          "execution_count": 212
        }
      ]
    },
    {
      "cell_type": "code",
      "source": [
        "# Verificando colunas\n",
        "df_spark.groupBy('causador_acidente').count().orderBy(F.col('count').desc()).show(truncate = False)"
      ],
      "metadata": {
        "colab": {
          "base_uri": "https://localhost:8080/"
        },
        "id": "uSZ_KL6pUvWg",
        "outputId": "e7123a9a-ddda-4b1d-b044-be4f358baf99"
      },
      "execution_count": null,
      "outputs": [
        {
          "output_type": "stream",
          "name": "stdout",
          "text": [
            "+---------------------------------------------+-----+\n",
            "|causador_acidente                            |count|\n",
            "+---------------------------------------------+-----+\n",
            "|Não Classificado                             |46288|\n",
            "|Motocicleta, Motoneta                        |5769 |\n",
            "|Impacto de Pes. Contra Objeto em Movimento   |5682 |\n",
            "|Impacto de Pes. Contra Objeto Parado         |4373 |\n",
            "|Rua e Estrada - Superficie Utilizada para Sus|4333 |\n",
            "|Chao - Superficie Utilizada para Sustentar Pe|3849 |\n",
            "|Impacto Sofrido por Pes. de Objeto Que Cai   |3559 |\n",
            "|Metal - Inclui Liga Ferrosa e nao Ferrosa, Tu|3486 |\n",
            "|Veiculo, Nic                                 |3462 |\n",
            "|Veiculo Rodoviario Motorizado                |3420 |\n",
            "|Queda de Pes. com Dif. de Nivel de Vei       |3362 |\n",
            "|Faca, Facao- Ferramenta Manual sem Forca Motr|2788 |\n",
            "|Agente Infeccioso ou Parasitario - Inclui Bac|2557 |\n",
            "|Queda de Pes. em Mesmo Nivel, Nic            |2238 |\n",
            "|Impacto Sofrido por Pes., Nic                |2162 |\n",
            "|Escada Permanente Cujos Degraus Permitem Apoi|2144 |\n",
            "|Maquina, Nic                                 |1839 |\n",
            "|Calcada ou Caminho para Pedestre - Superficie|1771 |\n",
            "|Impacto Sofrido por Pes. de Objeto Projetad  |1587 |\n",
            "|Escada Movel ou Fixada, Nic                  |1508 |\n",
            "+---------------------------------------------+-----+\n",
            "only showing top 20 rows\n",
            "\n"
          ]
        }
      ]
    },
    {
      "cell_type": "markdown",
      "source": [
        "Resultado que encontramos:\n",
        "- **dt_despacho** com cerca de 75% dos dados *0000/00* que vamos deixar como nulo, não vamos dropar a coluna, pois a mesma representa um dado relevante, nem todas as pessoas que se acidentam se afastam por tempo suficiente para receber o benefício;\n",
        "- **cnpj** com dados *00.000.000.000.000* além de muitos outros com numeros faltantes mas decidimos por retirar a principio apenas os zerados;\n",
        "- **tipo_acidente** identificamos um valor como *'Ignorado'* que faremos a conversão para Null também, junto com os dados Não Classificados, pois se trata de dado não respondido pelo usuário;\n",
        "- **munic_emp** identificamos o dado *000000-Ignorado*, que se trata de valor inconsistente, a coluna será renomeada para **local_acidente**, que é o municipio do empregador e local onde aconteceu o acidente, e trataremos o dado como nulo;\n",
        "- **beneficio_tipo** encontramos um dado com no Pa, mas por não já que não encontramos nenhuma informação adicional, resolvemos passar a frente;\n",
        "- **cbo** da mesma forma que munic_emp, possui o dado *000000-Ignorado* e será tratado igual, além de ser alterado para **ocupacao_acidentado**;\n",
        "- As colunas **cod_cnae2.0** e **cnae2.0** não conseguem ser lidas no pyspark e também serão renomeadas para **cod_ativ_economica** e **atv_economica** respectivamente e na coluna cod_ativ_economica os valores *0* presentes representam nulos e também serão considerados como tal.\n",
        "- A coluna **cod_cid10** também será renomeada para algo mais intuitivo, trocaremos para **doenca**.\n"
      ],
      "metadata": {
        "id": "IiQK4iX9VvbF"
      }
    },
    {
      "cell_type": "markdown",
      "source": [
        "####▶️ **Renomeando colunas**"
      ],
      "metadata": {
        "id": "RWI7C4G7iCfa"
      }
    },
    {
      "cell_type": "code",
      "source": [
        "# Renomeando Colunas\n",
        "df_spark = (df_spark.withColumnRenamed('munic_emp', 'local_acidente')\n",
        "                   .withColumnRenamed('cbo', 'ocupacao_acidentado')\n",
        "                   .withColumnRenamed('cod_cnae2.0', 'cod_ativ_economica')\n",
        "                   .withColumnRenamed('cnae2.0', 'atv_economica')\n",
        "                   .withColumnRenamed('cod_cid10', 'doenca'))"
      ],
      "metadata": {
        "id": "zIibaZsTiA86"
      },
      "execution_count": null,
      "outputs": []
    },
    {
      "cell_type": "code",
      "source": [
        "df_spark.show()"
      ],
      "metadata": {
        "colab": {
          "base_uri": "https://localhost:8080/"
        },
        "id": "S6dNDMa-p9kR",
        "outputId": "f9271e86-ecd3-452f-ae44-ea631d40370f"
      },
      "execution_count": null,
      "outputs": [
        {
          "output_type": "stream",
          "name": "stdout",
          "text": [
            "+--------------------+--------------------+--------------------+------------------+--------------------+----------+--------------+-----------------+-----+--------------------+--------------------+--------------------+---------+-------------+----------------+-----------------+-----------+-------------------+-------------------+-------------------+------------------+\n",
            "|   causador_acidente| ocupacao_acidentado|              doenca|cod_ativ_economica|       atv_economica|  emitente|beneficio_tipo|filiacao_segurado|obito|      local_acidente|      natureza_lesao|         parte_corpo|     sexo|tipo_acidente|     uf_acidente|    uf_empregador|dt_despacho|        dt_acidente|            dt_nasc|         dt_emissao|              cnpj|\n",
            "+--------------------+--------------------+--------------------+------------------+--------------------+----------+--------------+-----------------+-----+--------------------+--------------------+--------------------+---------+-------------+----------------+-----------------+-----------+-------------------+-------------------+-------------------+------------------+\n",
            "|Faca, Facao- Ferr...|911305-Mec. Manut...|S61.8 Ferim de Ou...|              2222|Fabricacao de Emb...|Empregador|            Pa|        Empregado|  Não|     355620-Valinhos|Corte, Laceracao,...|Mao (Exceto Punho...| Feminino|       Típico|        Maranhão|        São Paulo|    0000/00|2022-02-04 00:00:00|1987-05-20 00:00:00|2022-03-01 00:00:00|00.000.000.000.000|\n",
            "|Ferramenta Portat...|991305-Funileiro ...|S61.1 Ferim de De...|              4520|Manutencao e Repa...|Empregador|            Pa|        Empregado|  Não|     420240-Blumenau|Corte, Laceracao,...|                Dedo|Masculino|       Típico|Não Classificado|   Santa Catarina|    0000/00|2022-02-15 00:00:00|1998-01-04 00:00:00|2022-03-01 00:00:00|00.000.000.000.000|\n",
            "|Caixa, Engradado,...|    Não Classificado|T13.0 Traum Super...|              1412|Confeccao de Peca...|Empregador|            Pa|        Empregado|  Não|       420710-Ilhota|Escoriacao, Abras...|Articulacao do To...| Feminino|       Típico|Não Classificado|   Santa Catarina|    0000/00|2022-02-28 00:00:00|1992-11-07 00:00:00|2022-03-01 00:00:00|00.000.000.000.000|\n",
            "|Impacto de Pes. C...|    Não Classificado|S80.0 Contusao do...|              4711|Comercio Varejist...|Empregador|            Pa|        Empregado|  Não|        350600-Bauru|Contusao, Esmagam...|              Joelho| Feminino|       Típico|        Maranhão|        São Paulo|    0000/00|2022-02-22 00:00:00|1974-03-27 00:00:00|2022-03-01 00:00:00|00.000.000.000.000|\n",
            "|Impacto de Pes. C...|914405-Mec. Manut...|S52.3 Frat da Dia...|              4732|Comercio Varejist...|Empregador|            Pa|        Empregado|  Não|    420910-Joinville|Contusao, Esmagam...|Antebraco (Entre ...|Masculino|       Típico|Não Classificado|   Santa Catarina|    0000/00|2022-03-01 00:00:00|1995-03-12 00:00:00|2022-03-02 00:00:00|00.000.000.000.000|\n",
            "|Atrito ou Abrasao...|   414105-Almoxarife| S92.4 Frat do Halux|              2710|Fabricacao de Ger...|Empregador|            Pa|        Empregado|  Não|       420820-Itajaí|             Fratura|                Dedo| Feminino|       Típico|Não Classificado|   Santa Catarina|    0000/00|2022-02-11 00:00:00|1991-09-06 00:00:00|2022-03-02 00:00:00|00.000.000.000.000|\n",
            "|Veiculo Rodoviari...|841810-Oper. Máqu...|S50.9 Traum Super...|              1066|Fabricacao de Ali...|Empregador|            Pa|        Empregado|  Não|354340-Ribeirão P...|  Outras Lesoes, Nic|Antebraco (Entre ...| Feminino|      Trajeto|        Maranhão|        São Paulo|    0000/00|2022-02-25 00:00:00|1989-10-26 00:00:00|2022-03-02 00:00:00|00.000.000.000.000|\n",
            "|Impacto de Pes. C...|    Não Classificado|T14.4 Traum de Ne...|              7820|Locacao de Mao-De...|Empregador|            Pa|        Empregado|  Não|     000000-Ignorado|      Lesao Imediata|Face, Partes Mult...| Feminino|       Típico|Não Classificado| Não Classificado|    0000/00|2022-02-25 00:00:00|2003-09-03 00:00:00|2022-03-02 00:00:00|00.000.000.000.000|\n",
            "|Motocicleta, Moto...|   223505-Enfermeiro|V29.0 Condutor Co...|              8610|Atividades de Ate...|Empregador|            Pa|        Empregado|  Não|430300-Cachoeira ...|Escoriacao, Abras...|Partes Multiplas ...| Feminino|      Trajeto|Não Classificado|Rio Grande do Sul|    0000/00|2022-02-25 00:00:00|1996-12-26 00:00:00|2022-03-02 00:00:00|00.000.000.000.000|\n",
            "|Serra- Ferramenta...|715140-Oper. Pavi...|S51.8 Ferim de Ou...|              4120|Construcao de Edi...|Empregador|            Pa|        Empregado|  Não|     000000-Ignorado|Corte, Laceracao,...|Antebraco (Entre ...|Masculino|       Típico|Não Classificado| Não Classificado|    0000/00|2022-02-28 00:00:00|1982-01-06 00:00:00|2022-03-03 00:00:00|00.000.000.000.000|\n",
            "|Impacto de Pes. C...|715525-Carpinteir...|S66.3 Traum Musc ...|              4120|Construcao de Edi...|Empregador|            Pa|        Empregado|  Não|     000000-Ignorado|  Outras Lesoes, Nic|                Dedo|Masculino|       Doença|Não Classificado| Não Classificado|    0000/00|2022-01-17 00:00:00|1976-08-09 00:00:00|2022-03-03 00:00:00|00.000.000.000.000|\n",
            "|Impacto de Pes. C...|911305-Mec. Manut...|S80.0 Contusao do...|              2399|Fabricacao de Pro...|Empregador|            Pa|        Empregado|  Não|315180-Poços de C...|Contusao, Esmagam...|Perna (Entre O To...|Masculino|       Típico|        Rondônia|     Minas Gerais|    0000/00|2022-03-02 00:00:00|1995-10-04 00:00:00|2022-03-03 00:00:00|00.000.000.000.000|\n",
            "|Escada Permanente...|515105-Agente Com...|    W22.0 Residencia|              8630|Atividades de Ate...|Empregador|            Pa|        Empregado|  Não|    355030-São Paulo|             Luxacao|Articulacao do To...| Feminino|       Típico|        Maranhão|        São Paulo|    0000/00|2022-02-25 00:00:00|1958-12-22 00:00:00|2022-03-03 00:00:00|61.699.567.006.042|\n",
            "|Atrito ou Abrasao...|414215-Conferente...|    Não Classificado|              2532|Producao de Artef...|Empregador|            Pa|        Empregado|  Não|354330-Ribeirão P...|Corte, Laceracao,...|Antebraco (Entre ...|Masculino|       Típico|        Maranhão|        São Paulo|    0000/00|2022-03-03 00:00:00|2001-03-15 00:00:00|2022-03-03 00:00:00|00.000.000.000.000|\n",
            "|Produto Alimentic...|    Não Classificado|T14.0 Traum Super...|              8299|Atividades de Ser...|Empregador|            Pa|        Empregado|  Não|     530010-Brasília|Queimadura ou Esc...|Perna (Entre O To...| Feminino|       Típico|           Ceará| Distrito Federal|    0000/00|2022-02-28 00:00:00|1976-12-30 00:00:00|2022-03-03 00:00:00|00.000.000.000.000|\n",
            "|Motocicleta, Moto...|    517330-Vigilante|S93.6 Entorse Dis...|              8011|Atividades de Vig...|Empregador|            Pa|        Empregado|  Não| 431870-São Leopoldo|      Lesao Imediata|Pe (Exceto Artelhos)| Feminino|      Trajeto|Não Classificado|Rio Grande do Sul|    0000/00|2022-01-28 00:00:00|1986-12-28 00:00:00|2022-03-03 00:00:00|00.000.000.000.000|\n",
            "|Queda de Pes. em ...|784205-Alimentado...|S70.1 Contusao da...|              2222|Fabricacao de Emb...|Empregador|            Pa|        Empregado|  Não|   350320-Araraquara|Contusao, Esmagam...|                Coxa|Masculino|       Típico|        Maranhão|        São Paulo|    0000/00|2022-03-01 00:00:00|2000-05-05 00:00:00|2022-03-03 00:00:00|00.000.000.000.000|\n",
            "|Impacto Sofrido p...|724435-Funileiro ...|S62.6 Frat de Out...|              4329|Obras de Instalac...|Empregador|            Pa|        Empregado|  Não|    355030-São Paulo|             Fratura|                Dedo|Masculino|       Típico|        Maranhão|        São Paulo|    0000/00|2022-02-14 00:00:00|1985-04-12 00:00:00|2022-03-03 00:00:00|00.000.000.000.000|\n",
            "|Atrito ou Abrasao...|   848510-Açougueiro|S61.0 Ferim de De...|              4711|Comercio Varejist...|Empregador|            Pa|        Empregado|  Não|    355030-São Paulo|Corte, Laceracao,...|                Dedo|Masculino|       Típico|        Maranhão|        São Paulo|    0000/00|2022-03-01 00:00:00|1994-08-01 00:00:00|2022-03-03 00:00:00|00.000.000.000.000|\n",
            "|Impacto de Pes. C...|420125-Superv. Re...|S80.0 Contusao do...|              8640|Atividades de Ser...|Empregador|            Pa|        Empregado|  Não|     292740-Salvador|Contusao, Esmagam...|              Joelho| Feminino|      Trajeto|Não Classificado|            Bahia|    0000/00|2022-01-19 00:00:00|1981-01-11 00:00:00|2022-03-03 00:00:00|00.000.000.000.000|\n",
            "+--------------------+--------------------+--------------------+------------------+--------------------+----------+--------------+-----------------+-----+--------------------+--------------------+--------------------+---------+-------------+----------------+-----------------+-----------+-------------------+-------------------+-------------------+------------------+\n",
            "only showing top 20 rows\n",
            "\n"
          ]
        }
      ]
    },
    {
      "cell_type": "markdown",
      "source": [
        "####▶️ **Tratando nulos**\n",
        "\n",
        "Escolhemos realizar o tratamento para nulo pois além de diminuir o tamanho do arquivo final, os valores nulos acabam não influenciando nos resultados dos insights"
      ],
      "metadata": {
        "id": "XpB1BADdrRro"
      }
    },
    {
      "cell_type": "code",
      "source": [
        "# Tratando coluna dt_despacho\n",
        "df_spark = df_spark.withColumn('dt_despacho', \\\n",
        "          F.when(F.col('dt_despacho')==\"0000/00\" ,None) \\\n",
        "          .otherwise(F.col('dt_despacho')))\n",
        "\n",
        "# Tratando coluna cnpj\n",
        "df_spark = df_spark.withColumn('cnpj', \\\n",
        "          F.when(F.col('cnpj')==\"00.000.000.000.000\" ,None) \\\n",
        "          .otherwise(F.col('cnpj')))\n",
        "\n",
        "# Tratando coluna cod_ativ_economica\n",
        "df_spark = df_spark.withColumn('cod_ativ_economica', \\\n",
        "          F.when(F.col('cod_ativ_economica')==0 ,None) \\\n",
        "          .otherwise(F.col('cod_ativ_economica')))"
      ],
      "metadata": {
        "id": "-JOb4gX4rJ7w"
      },
      "execution_count": null,
      "outputs": []
    },
    {
      "cell_type": "code",
      "source": [
        "df_spark.show(5)"
      ],
      "metadata": {
        "colab": {
          "base_uri": "https://localhost:8080/"
        },
        "id": "wIl7mhnOXY_A",
        "outputId": "ea7dc502-bfbe-460b-da50-e3f03a25e5e4"
      },
      "execution_count": null,
      "outputs": [
        {
          "output_type": "stream",
          "name": "stdout",
          "text": [
            "+--------------------+--------------------+--------------------+------------------+--------------------+----------+--------------+-----------------+-----+----------------+--------------------+--------------------+---------+-------------+----------------+--------------+-----------+-------------------+-------------------+-------------------+----+\n",
            "|   causador_acidente| ocupacao_acidentado|              doenca|cod_ativ_economica|       atv_economica|  emitente|beneficio_tipo|filiacao_segurado|obito|  local_acidente|      natureza_lesao|         parte_corpo|     sexo|tipo_acidente|     uf_acidente| uf_empregador|dt_despacho|        dt_acidente|            dt_nasc|         dt_emissao|cnpj|\n",
            "+--------------------+--------------------+--------------------+------------------+--------------------+----------+--------------+-----------------+-----+----------------+--------------------+--------------------+---------+-------------+----------------+--------------+-----------+-------------------+-------------------+-------------------+----+\n",
            "|Faca, Facao- Ferr...|911305-Mec. Manut...|S61.8 Ferim de Ou...|              2222|Fabricacao de Emb...|Empregador|            Pa|        Empregado|  Não| 355620-Valinhos|Corte, Laceracao,...|Mao (Exceto Punho...| Feminino|       Típico|        Maranhão|     São Paulo|       null|2022-02-04 00:00:00|1987-05-20 00:00:00|2022-03-01 00:00:00|null|\n",
            "|Ferramenta Portat...|991305-Funileiro ...|S61.1 Ferim de De...|              4520|Manutencao e Repa...|Empregador|            Pa|        Empregado|  Não| 420240-Blumenau|Corte, Laceracao,...|                Dedo|Masculino|       Típico|Não Classificado|Santa Catarina|       null|2022-02-15 00:00:00|1998-01-04 00:00:00|2022-03-01 00:00:00|null|\n",
            "|Caixa, Engradado,...|    Não Classificado|T13.0 Traum Super...|              1412|Confeccao de Peca...|Empregador|            Pa|        Empregado|  Não|   420710-Ilhota|Escoriacao, Abras...|Articulacao do To...| Feminino|       Típico|Não Classificado|Santa Catarina|       null|2022-02-28 00:00:00|1992-11-07 00:00:00|2022-03-01 00:00:00|null|\n",
            "|Impacto de Pes. C...|    Não Classificado|S80.0 Contusao do...|              4711|Comercio Varejist...|Empregador|            Pa|        Empregado|  Não|    350600-Bauru|Contusao, Esmagam...|              Joelho| Feminino|       Típico|        Maranhão|     São Paulo|       null|2022-02-22 00:00:00|1974-03-27 00:00:00|2022-03-01 00:00:00|null|\n",
            "|Impacto de Pes. C...|914405-Mec. Manut...|S52.3 Frat da Dia...|              4732|Comercio Varejist...|Empregador|            Pa|        Empregado|  Não|420910-Joinville|Contusao, Esmagam...|Antebraco (Entre ...|Masculino|       Típico|Não Classificado|Santa Catarina|       null|2022-03-01 00:00:00|1995-03-12 00:00:00|2022-03-02 00:00:00|null|\n",
            "+--------------------+--------------------+--------------------+------------------+--------------------+----------+--------------+-----------------+-----+----------------+--------------------+--------------------+---------+-------------+----------------+--------------+-----------+-------------------+-------------------+-------------------+----+\n",
            "only showing top 5 rows\n",
            "\n"
          ]
        }
      ]
    },
    {
      "cell_type": "code",
      "source": [
        "# Tratando todo DataFrame\n",
        "\n",
        "# Retirando 000000-Ignorado\n",
        "df_spark =  df_spark.select([F.when(F.col(x)==\"000000-Ignorado\",None) \\\n",
        "                 .otherwise(F.col(x)) \\\n",
        "                 .alias(x) for x in df_spark.columns])\n",
        "\n",
        "# Retirando Ignorado\n",
        "df_spark = df_spark.select([F.when(F.col(x)==\"Ignorado\",None) \\\n",
        "                 .otherwise(F.col(x)) \\\n",
        "                 .alias(x) for x in df_spark.columns])\n",
        "\n",
        "# Retirando Não Classificado\n",
        "df_spark = df_spark.select([F.when(F.col(x)==\"Não Classificado\",None) \\\n",
        "                 .otherwise(F.col(x)) \\\n",
        "                 .alias(x) for x in df_spark.columns])"
      ],
      "metadata": {
        "id": "W6zFq1Wj9zMN"
      },
      "execution_count": null,
      "outputs": []
    },
    {
      "cell_type": "code",
      "source": [
        "# Retirando 00/00/0000\n",
        "df_spark =  df_spark.select([F.when(F.col(x)==\"00/00/0000\",None) \\\n",
        "                 .otherwise(F.col(x)) \\\n",
        "                 .alias(x) for x in df_spark.columns])"
      ],
      "metadata": {
        "id": "un2n84-KlHwu"
      },
      "execution_count": null,
      "outputs": []
    },
    {
      "cell_type": "code",
      "source": [
        "# Retirando Não Informado\n",
        "df_spark =  df_spark.select([F.when(F.col(x)==\"Não Informado\",None) \\\n",
        "                 .otherwise(F.col(x)) \\\n",
        "                 .alias(x) for x in df_spark.columns])"
      ],
      "metadata": {
        "id": "mOx3oXq4d2lo"
      },
      "execution_count": null,
      "outputs": []
    },
    {
      "cell_type": "code",
      "source": [
        "df_spark.show(200)"
      ],
      "metadata": {
        "colab": {
          "base_uri": "https://localhost:8080/"
        },
        "id": "e1YGO3zo7uXF",
        "outputId": "c766defc-10fc-4586-cb91-1a44eed18411"
      },
      "execution_count": null,
      "outputs": [
        {
          "output_type": "stream",
          "name": "stdout",
          "text": [
            "+--------------------+--------------------+--------------------+------------------+--------------------+-------------------+--------------+-----------------+-----+--------------------+--------------------+--------------------+---------+-------------+----------------+-------------------+-----------+-------------------+-------------------+-------------------+------------------+\n",
            "|   causador_acidente| ocupacao_acidentado|              doenca|cod_ativ_economica|       atv_economica|           emitente|beneficio_tipo|filiacao_segurado|obito|      local_acidente|      natureza_lesao|         parte_corpo|     sexo|tipo_acidente|     uf_acidente|      uf_empregador|dt_despacho|        dt_acidente|            dt_nasc|         dt_emissao|              cnpj|\n",
            "+--------------------+--------------------+--------------------+------------------+--------------------+-------------------+--------------+-----------------+-----+--------------------+--------------------+--------------------+---------+-------------+----------------+-------------------+-----------+-------------------+-------------------+-------------------+------------------+\n",
            "|Faca, Facao- Ferr...|911305-Mec. Manut...|S61.8 Ferim de Ou...|              2222|Fabricacao de Emb...|         Empregador|            Pa|        Empregado|  Não|     355620-Valinhos|Corte, Laceracao,...|Mao (Exceto Punho...| Feminino|       Típico|        Maranhão|          São Paulo|       null|2022-02-04 00:00:00|1987-05-20 00:00:00|2022-03-01 00:00:00|              null|\n",
            "|Ferramenta Portat...|991305-Funileiro ...|S61.1 Ferim de De...|              4520|Manutencao e Repa...|         Empregador|            Pa|        Empregado|  Não|     420240-Blumenau|Corte, Laceracao,...|                Dedo|Masculino|       Típico|            null|     Santa Catarina|       null|2022-02-15 00:00:00|1998-01-04 00:00:00|2022-03-01 00:00:00|              null|\n",
            "|Caixa, Engradado,...|                null|T13.0 Traum Super...|              1412|Confeccao de Peca...|         Empregador|            Pa|        Empregado|  Não|       420710-Ilhota|Escoriacao, Abras...|Articulacao do To...| Feminino|       Típico|            null|     Santa Catarina|       null|2022-02-28 00:00:00|1992-11-07 00:00:00|2022-03-01 00:00:00|              null|\n",
            "|Impacto de Pes. C...|                null|S80.0 Contusao do...|              4711|Comercio Varejist...|         Empregador|            Pa|        Empregado|  Não|        350600-Bauru|Contusao, Esmagam...|              Joelho| Feminino|       Típico|        Maranhão|          São Paulo|       null|2022-02-22 00:00:00|1974-03-27 00:00:00|2022-03-01 00:00:00|              null|\n",
            "|Impacto de Pes. C...|914405-Mec. Manut...|S52.3 Frat da Dia...|              4732|Comercio Varejist...|         Empregador|            Pa|        Empregado|  Não|    420910-Joinville|Contusao, Esmagam...|Antebraco (Entre ...|Masculino|       Típico|            null|     Santa Catarina|       null|2022-03-01 00:00:00|1995-03-12 00:00:00|2022-03-02 00:00:00|              null|\n",
            "|Atrito ou Abrasao...|   414105-Almoxarife| S92.4 Frat do Halux|              2710|Fabricacao de Ger...|         Empregador|            Pa|        Empregado|  Não|       420820-Itajaí|             Fratura|                Dedo| Feminino|       Típico|            null|     Santa Catarina|       null|2022-02-11 00:00:00|1991-09-06 00:00:00|2022-03-02 00:00:00|              null|\n",
            "|Veiculo Rodoviari...|841810-Oper. Máqu...|S50.9 Traum Super...|              1066|Fabricacao de Ali...|         Empregador|            Pa|        Empregado|  Não|354340-Ribeirão P...|  Outras Lesoes, Nic|Antebraco (Entre ...| Feminino|      Trajeto|        Maranhão|          São Paulo|       null|2022-02-25 00:00:00|1989-10-26 00:00:00|2022-03-02 00:00:00|              null|\n",
            "|Impacto de Pes. C...|                null|T14.4 Traum de Ne...|              7820|Locacao de Mao-De...|         Empregador|            Pa|        Empregado|  Não|                null|      Lesao Imediata|Face, Partes Mult...| Feminino|       Típico|            null|               null|       null|2022-02-25 00:00:00|2003-09-03 00:00:00|2022-03-02 00:00:00|              null|\n",
            "|Motocicleta, Moto...|   223505-Enfermeiro|V29.0 Condutor Co...|              8610|Atividades de Ate...|         Empregador|            Pa|        Empregado|  Não|430300-Cachoeira ...|Escoriacao, Abras...|Partes Multiplas ...| Feminino|      Trajeto|            null|  Rio Grande do Sul|       null|2022-02-25 00:00:00|1996-12-26 00:00:00|2022-03-02 00:00:00|              null|\n",
            "|Serra- Ferramenta...|715140-Oper. Pavi...|S51.8 Ferim de Ou...|              4120|Construcao de Edi...|         Empregador|            Pa|        Empregado|  Não|                null|Corte, Laceracao,...|Antebraco (Entre ...|Masculino|       Típico|            null|               null|       null|2022-02-28 00:00:00|1982-01-06 00:00:00|2022-03-03 00:00:00|              null|\n",
            "|Impacto de Pes. C...|715525-Carpinteir...|S66.3 Traum Musc ...|              4120|Construcao de Edi...|         Empregador|            Pa|        Empregado|  Não|                null|  Outras Lesoes, Nic|                Dedo|Masculino|       Doença|            null|               null|       null|2022-01-17 00:00:00|1976-08-09 00:00:00|2022-03-03 00:00:00|              null|\n",
            "|Impacto de Pes. C...|911305-Mec. Manut...|S80.0 Contusao do...|              2399|Fabricacao de Pro...|         Empregador|            Pa|        Empregado|  Não|315180-Poços de C...|Contusao, Esmagam...|Perna (Entre O To...|Masculino|       Típico|        Rondônia|       Minas Gerais|       null|2022-03-02 00:00:00|1995-10-04 00:00:00|2022-03-03 00:00:00|              null|\n",
            "|Escada Permanente...|515105-Agente Com...|    W22.0 Residencia|              8630|Atividades de Ate...|         Empregador|            Pa|        Empregado|  Não|    355030-São Paulo|             Luxacao|Articulacao do To...| Feminino|       Típico|        Maranhão|          São Paulo|       null|2022-02-25 00:00:00|1958-12-22 00:00:00|2022-03-03 00:00:00|61.699.567.006.042|\n",
            "|Atrito ou Abrasao...|414215-Conferente...|                null|              2532|Producao de Artef...|         Empregador|            Pa|        Empregado|  Não|354330-Ribeirão P...|Corte, Laceracao,...|Antebraco (Entre ...|Masculino|       Típico|        Maranhão|          São Paulo|       null|2022-03-03 00:00:00|2001-03-15 00:00:00|2022-03-03 00:00:00|              null|\n",
            "|Produto Alimentic...|                null|T14.0 Traum Super...|              8299|Atividades de Ser...|         Empregador|            Pa|        Empregado|  Não|     530010-Brasília|Queimadura ou Esc...|Perna (Entre O To...| Feminino|       Típico|           Ceará|   Distrito Federal|       null|2022-02-28 00:00:00|1976-12-30 00:00:00|2022-03-03 00:00:00|              null|\n",
            "|Motocicleta, Moto...|    517330-Vigilante|S93.6 Entorse Dis...|              8011|Atividades de Vig...|         Empregador|            Pa|        Empregado|  Não| 431870-São Leopoldo|      Lesao Imediata|Pe (Exceto Artelhos)| Feminino|      Trajeto|            null|  Rio Grande do Sul|       null|2022-01-28 00:00:00|1986-12-28 00:00:00|2022-03-03 00:00:00|              null|\n",
            "|Queda de Pes. em ...|784205-Alimentado...|S70.1 Contusao da...|              2222|Fabricacao de Emb...|         Empregador|            Pa|        Empregado|  Não|   350320-Araraquara|Contusao, Esmagam...|                Coxa|Masculino|       Típico|        Maranhão|          São Paulo|       null|2022-03-01 00:00:00|2000-05-05 00:00:00|2022-03-03 00:00:00|              null|\n",
            "|Impacto Sofrido p...|724435-Funileiro ...|S62.6 Frat de Out...|              4329|Obras de Instalac...|         Empregador|            Pa|        Empregado|  Não|    355030-São Paulo|             Fratura|                Dedo|Masculino|       Típico|        Maranhão|          São Paulo|       null|2022-02-14 00:00:00|1985-04-12 00:00:00|2022-03-03 00:00:00|              null|\n",
            "|Atrito ou Abrasao...|   848510-Açougueiro|S61.0 Ferim de De...|              4711|Comercio Varejist...|         Empregador|            Pa|        Empregado|  Não|    355030-São Paulo|Corte, Laceracao,...|                Dedo|Masculino|       Típico|        Maranhão|          São Paulo|       null|2022-03-01 00:00:00|1994-08-01 00:00:00|2022-03-03 00:00:00|              null|\n",
            "|Impacto de Pes. C...|420125-Superv. Re...|S80.0 Contusao do...|              8640|Atividades de Ser...|         Empregador|            Pa|        Empregado|  Não|     292740-Salvador|Contusao, Esmagam...|              Joelho| Feminino|      Trajeto|            null|              Bahia|       null|2022-01-19 00:00:00|1981-01-11 00:00:00|2022-03-03 00:00:00|              null|\n",
            "|Motocicleta, Moto...|     848520-Magarefe|S52.6 Frat da Ext...|              1012|Abate de Suinos, ...|         Empregador|            Pa|        Empregado|  Não|      420420-Chapecó|             Fratura|Partes Multiplas ...| Feminino|      Trajeto|            null|     Santa Catarina|       null|2022-02-16 00:00:00|1985-06-04 00:00:00|2022-03-04 00:00:00|              null|\n",
            "|Aprision. Em, Sob...|782510-Motorista ...|S62.1 Frat de Out...|              4930|Transporte Rodovi...|         Empregador|            Pa|        Empregado|  Não|        421970-Xaxim|             Fratura|Mao (Exceto Punho...|Masculino|       Típico|            null|     Santa Catarina|       null|2022-02-28 00:00:00|1983-05-27 00:00:00|2022-03-04 00:00:00|              null|\n",
            "|Calcada ou Caminh...|725105-Mont. Máqu...|S93.4 Entorse e D...|              2943|Fabricacao de Pec...|         Empregador|            Pa|        Empregado|  Não|355650-Várzea Pau...|             Luxacao|Articulacao do To...|Masculino|       Típico|        Maranhão|          São Paulo|       null|2022-03-01 00:00:00|1982-03-28 00:00:00|2022-03-04 00:00:00|              null|\n",
            "|                null|322230-Auxiliar d...|J11.1 Influenza c...|              8610|Atividades de Ate...|         Empregador|            Pa|        Empregado|  Não|      351440-Dracena|         Doenca, Nic|Sistemas e Aparel...| Feminino|       Doença|        Maranhão|          São Paulo|       null|2022-02-21 00:00:00|1984-02-26 00:00:00|2022-03-04 00:00:00|              null|\n",
            "|        Empilhadeira|782220-Oper. de E...|S32.0 Frat de Ver...|              2814|Fabricacao de Com...|         Empregador|            Pa|        Empregado|  Não|    420910-Joinville|             Fratura|Quadris (Inclusiv...|Masculino|       Típico|            null|     Santa Catarina|       null|2022-02-24 00:00:00|1978-05-30 00:00:00|2022-03-04 00:00:00|              null|\n",
            "|Queda de Pes. com...|784205-Alimentado...|T02.2 Frat Envolv...|              2342|Fabricacao de Pro...|         Empregador|            Pa|        Empregado|  Não|240310-Currais Novos|    Lesoes Multiplas|Braco (Acima do C...|Masculino|       Típico|            null|Rio Grande do Norte|       null|2022-02-24 00:00:00|1967-08-29 00:00:00|2022-03-04 00:00:00|35.280.569.000.132|\n",
            "|Piso de Veiculo -...|        517420-Vigia|S93.6 Entorse Dis...|              8112|Condominios Prediais|         Empregador|            Pa|        Empregado|  Não|354340-Ribeirão P...|   Distensao, Torcao|Pe (Exceto Artelhos)|Masculino|       Típico|        Maranhão|          São Paulo|       null|2022-03-02 00:00:00|1973-10-10 00:00:00|2022-03-04 00:00:00|57.722.894.000.140|\n",
            "|Metal - Inclui Li...|725205-Mont. Máqu...|S01.8 Ferim na Ca...|              2822|Fabricacao de Maq...|         Empregador|            Pa|        Empregado|  Não|430510-Caxias do Sul|Corte, Laceracao,...|         Cabeca, Nic|Masculino|       Típico|            null|  Rio Grande do Sul|       null|2022-03-03 00:00:00|1991-10-28 00:00:00|2022-03-04 00:00:00|              null|\n",
            "|Rua e Estrada - S...|422105-Recepcioni...|S00.0 Traum Super...|              5510|  Hoteis e Similares|         Empregador|            Pa|        Empregado|  Não|410830-Foz do Iguaçu|Escoriacao, Abras...|Braco (Entre O Pu...|Masculino|      Trajeto|         Roraima|             Paraná|       null|2022-03-02 00:00:00|1997-08-20 00:00:00|2022-03-04 00:00:00|              null|\n",
            "|                null|322205-Tec. de En...|Z20.8 Contato Exp...|              8610|Atividades de Ate...|         Empregador|            Pa|        Empregado|  Não|    355030-São Paulo|Doenca Contagiosa...|                Dedo| Feminino|       Típico|        Maranhão|          São Paulo|       null|2022-03-04 00:00:00|1976-01-07 00:00:00|2022-03-04 00:00:00|              null|\n",
            "|Rua e Estrada - S...|784205-Alimentado...|M99.9 Lesao Biome...|              1066|Fabricacao de Ali...|         Empregador|            Pa|        Empregado|  Não|354340-Ribeirão P...|Escoriacao, Abras...|Partes Multiplas ...| Feminino|      Trajeto|        Maranhão|          São Paulo|       null|2022-03-03 00:00:00|1992-11-05 00:00:00|2022-03-04 00:00:00|              null|\n",
            "|Metal - Inclui Li...|784205-Alimentado...|S00.0 Traum Super...|              1122|Fabricacao de Ref...|         Empregador|            Pa|        Empregado|  Não|       130260-Manaus|Escoriacao, Abras...|         Cabeca, Nic|Masculino|       Típico|            null|           Amazonas|       null|2022-03-03 00:00:00|1987-11-09 00:00:00|2022-03-04 00:00:00|              null|\n",
            "|        Maquina, Nic|773335-Oper. de P...|S62.6 Frat de Out...|              1610|Desdobramento de ...|         Empregador|            Pa|        Empregado|  Não|        355450-Tietê|             Fratura|                Dedo|Masculino|       Típico|        Maranhão|          São Paulo|       null|2022-03-04 00:00:00|1974-06-29 00:00:00|2022-03-04 00:00:00|              null|\n",
            "|Agua - Usar Quand...|391205-Inspetor d...|T06.8 Outr Traum ...|              1012|Abate de Suinos, ...|         Empregador|            Pa|        Empregado|  Não|    521880-Rio Verde|Contusao, Esmagam...|Partes Multiplas ...| Feminino|       Típico|            null|              Goiás|       null|2022-03-03 00:00:00|1999-06-27 00:00:00|2022-03-04 00:00:00|              null|\n",
            "|                null|223272-Cirurgião ...|Z20.9 Contato Exp...|              8610|Atividades de Ate...|         Empregador|            Pa|        Empregado|  Não| 431490-Porto Alegre| Lesao Imediata, Nic|                Dedo| Feminino|       Típico|            null|  Rio Grande do Sul|       null|2022-02-10 00:00:00|1991-06-11 00:00:00|2022-03-07 00:00:00|              null|\n",
            "|Escada Permanente...|510110-Administra...|S82.6 Frat do Mal...|              9312|Clubes Sociais, E...|         Empregador|            Pa|        Empregado|  Não|      351870-Guarujá|             Fratura|Articulacao do To...| Feminino|       Típico|        Maranhão|          São Paulo|       null|2022-03-04 00:00:00|1979-02-19 00:00:00|2022-03-07 00:00:00|48.693.832.000.248|\n",
            "|Aprision. Em, Sob...|810110-Mestre de ...|S62.2 Frat do Pri...|              2093|Fabricacao de Adi...|         Empregador|            Pa|        Empregado|  Não|    351880-Guarulhos|Amputacao ou Enuc...|Mao (Exceto Punho...|Masculino|       Típico|        Maranhão|          São Paulo|       null|2022-02-05 00:00:00|1983-11-27 00:00:00|2022-03-07 00:00:00|              null|\n",
            "|Impacto de Pes. C...|715615-Eletricist...|S91.1 Ferim de Ar...|              2862|Fabricacao de Maq...|         Empregador|            Pa|        Empregado|  Não|430587-Coronel Ba...|      Lesao Imediata|Membros Inferiore...|Masculino|       Típico|            null|  Rio Grande do Sul|       null|2022-03-05 00:00:00|1987-08-15 00:00:00|2022-03-07 00:00:00|              null|\n",
            "|Ataque de Ser Viv...|                null| W54.4 Rua e Estrada|              8111|Servicos Combinad...|         Empregador|            Pa|        Empregado|  Não|       353440-Osasco|    Lesoes Multiplas|Pe (Exceto Artelhos)| Feminino|       Típico|        Maranhão|          São Paulo|       null|2022-03-02 00:00:00|1992-12-25 00:00:00|2022-03-07 00:00:00|              null|\n",
            "|                null|322205-Tec. de En...|Z20.9 Contato Exp...|              8610|Atividades de Ate...|         Empregador|            Pa|        Empregado|  Não|  330490-São Gonçalo|      Lesao Imediata|                Dedo| Feminino|       Típico|       Tocantins|     Rio de Janeiro|       null|2022-03-06 00:00:00|1981-12-17 00:00:00|2022-03-07 00:00:00|44.563.716.001.730|\n",
            "|Impacto de Pes. C...|514120-Zelador Ed...|                null|              4080|                null|         Empregador|            Pa|        Empregado|  Não|       353440-Osasco|Contusao, Esmagam...|                Dedo| Feminino|       Típico|            null|     Santa Catarina|       null|2022-03-04 00:00:00|1987-08-29 00:00:00|2022-03-07 00:00:00|              null|\n",
            "|Agua - Usar Quand...|521110-Vendedor d...|T25.2 Queim de 2....|              4711|Comercio Varejist...|         Empregador|            Pa|        Empregado|  Não|353060-Moji das C...|Queimadura ou Esc...|Pe (Exceto Artelhos)|Masculino|       Típico|        Maranhão|          São Paulo|       null|2022-03-04 00:00:00|2003-12-17 00:00:00|2022-03-07 00:00:00|              null|\n",
            "|Impacto de Pes. C...|521125-Repositor ...| M25.5 Dor Articular|              5212|    Carga e Descarga|         Empregador|            Pa|        Empregado|  Não|       130260-Manaus|      Lesao Imediata|Pe (Exceto Artelhos)|Masculino|       Típico|        Rondônia|       Minas Gerais|       null|2022-03-04 00:00:00|1996-03-04 00:00:00|2022-03-07 00:00:00|              null|\n",
            "|                null|                null|Y28.8 Outr Locais...|              8121|Limpeza em Predio...|         Empregador|            Pa|        Empregado|  Não|      350570-Barueri| Lesao Imediata, Nic|                Dedo|     null|       Típico|        Maranhão|          São Paulo|       null|2022-03-05 00:00:00|1981-07-15 00:00:00|2022-03-07 00:00:00|              null|\n",
            "|Puncao, Ponteiro,...|322230-Auxiliar d...|    Y28.0 Residencia|              8690|Atividades de Ate...|         Empregador|            Pa|        Empregado|  Não|        351300-Cotia|Escoriacao, Abras...|Mao (Exceto Punho...| Feminino|       Típico|        Maranhão|          São Paulo|       null|2022-03-05 00:00:00|1984-05-29 00:00:00|2022-03-07 00:00:00|              null|\n",
            "|                null|322205-Tec. de En...|Z20.9 Contato Exp...|              8610|Atividades de Ate...|         Empregador|            Pa|        Empregado|  Não|      260410-Caruaru|Corte, Laceracao,...|               Punho| Feminino|       Doença|            Pará|         Pernambuco|       null|2022-03-06 00:00:00|2000-12-06 00:00:00|2022-03-07 00:00:00|              null|\n",
            "|Queda de Pes. com...|   223505-Enfermeiro|S93.5 Entorse e D...|              8630|Atividades de Ate...|         Empregador|            Pa|        Empregado|  Não|    355030-São Paulo|   Distensao, Torcao|Articulacao do To...| Feminino|      Trajeto|        Maranhão|          São Paulo|       null|2022-03-06 00:00:00|1993-07-17 00:00:00|2022-03-07 00:00:00|              null|\n",
            "|        Veiculo, Nic|    517330-Vigilante| W50.4 Rua e Estrada|              8011|Atividades de Vig...|         Empregador|            Pa|        Empregado|  Não|       420820-Itajaí|Escoriacao, Abras...|              Joelho|Masculino|      Trajeto|            null|     Santa Catarina|       null|2022-03-08 00:00:00|1971-03-02 00:00:00|2022-03-08 00:00:00|19.167.547.000.104|\n",
            "|Veiculo Rodoviari...| 514205-Coletor Lixo|T14.1 Ferim de Re...|              3811|Coleta de Residuo...|         Empregador|            Pa|        Empregado|  Não|    355030-São Paulo|Corte, Laceracao,...|            Cotovelo|Masculino|       Típico|        Maranhão|          São Paulo|       null|2022-03-04 00:00:00|1976-05-25 00:00:00|2022-03-07 00:00:00|              null|\n",
            "|Politriz, Lixador...|721325-Polidor Me...|S61.0 Ferim de De...|              2599|Fabricacao de Pro...|         Empregador|            Pa|        Empregado|  Não|         351500-Embu|Corte, Laceracao,...|                Dedo|Masculino|       Típico|        Maranhão|          São Paulo|       null|2022-03-02 00:00:00|1974-09-04 00:00:00|2022-03-07 00:00:00|              null|\n",
            "|Queda de Pes. com...|717020-Servente d...|S83.3 Ruptura Atu...|              4222|Construcao de Red...|         Empregador|            Pa|        Empregado|  Não|315460-Ribeirão d...|   Distensao, Torcao|              Joelho|Masculino|       Típico|        Rondônia|       Minas Gerais|       null|2022-03-07 00:00:00|1993-12-07 00:00:00|2022-03-08 00:00:00|              null|\n",
            "|                null|        517420-Vigia|                null|              8610|Atividades de Ate...|         Empregador|            Pa|        Empregado|  Não|    310560-Barbacena|         Doenca, Nic|Aparelho Respirat...|Masculino|       Doença|        Rondônia|       Minas Gerais|       null|2022-01-16 00:00:00|1988-08-05 00:00:00|2022-03-08 00:00:00|              null|\n",
            "|Produto Biologico...|                null|Z20.9 Contato Exp...|              8610|Atividades de Ate...|         Empregador|            Pa|        Empregado|  Não|   317020-Uberlândia|      Lesao Imediata|Pe (Exceto Artelhos)| Feminino|       Típico|        Rondônia|       Minas Gerais|       null|2022-03-02 00:00:00|1982-07-23 00:00:00|2022-03-08 00:00:00|              null|\n",
            "|Escada Permanente...|                null|S93.4 Entorse e D...|              8640|Atividades de Ser...|         Empregador|            Pa|        Empregado|  Não|       270430-Maceió|   Distensao, Torcao|Articulacao do To...| Feminino|       Típico|            null|            Alagoas|       null|2022-03-07 00:00:00|1965-07-09 00:00:00|2022-03-08 00:00:00|              null|\n",
            "|        Maquina, Nic|811770-Moldador d...|S22.2 Frat do Est...|              1540|Fabricacao de Par...|         Empregador|            Pa|        Empregado|  Não|431340-Novo Hamburgo|             Fratura|         Tronco, Nic|Masculino|       Típico|            null|  Rio Grande do Sul|       null|2022-03-07 00:00:00|2000-05-05 00:00:00|2022-03-08 00:00:00|              null|\n",
            "|Impacto de Pes. C...|   783110-Manobrador|S82.2 Frat da Dia...|              5223|Estacionamento de...|         Empregador|            Pa|        Empregado|  Não|    355030-São Paulo|             Fratura|Perna (Entre O To...|Masculino|       Típico|        Maranhão|          São Paulo|       null|2022-02-22 00:00:00|1982-04-19 00:00:00|2022-03-08 00:00:00|              null|\n",
            "|Impacto de Pes. C...|811770-Moldador d...|S61.1 Ferim de De...|              2229|Fabricacao de Art...|         Empregador|            Pa|        Empregado|  Não|354870-São Bernar...|      Lesao Imediata|                Dedo|Masculino|       Típico|        Maranhão|          São Paulo|       null|2022-03-07 00:00:00|1981-06-25 00:00:00|2022-03-08 00:00:00|              null|\n",
            "| Maquina de Imprimir|766250-Impressor ...|S67.8 Lesao p/Esm...|              5829|Edicao Integrada ...|         Empregador|            Pa|        Empregado|  Não|     311860-Contagem|Contusao, Esmagam...|Mao (Exceto Punho...|Masculino|       Típico|        Rondônia|       Minas Gerais|       null|2022-02-17 00:00:00|1984-01-16 00:00:00|2022-03-08 00:00:00|              null|\n",
            "|Atrito ou Abrasao...|                null|T14.8 Outr Traum ...|              4634|Comercio Atacadis...|         Empregador|            Pa|        Empregado|  Não| 411990-Ponta Grossa|      Lesao Imediata|                Dedo|Masculino|       Típico|         Roraima|             Paraná|       null|2022-01-15 00:00:00|1985-02-08 00:00:00|2022-03-08 00:00:00|              null|\n",
            "|Equip. Eletrico, Nic|322205-Tec. de En...|S40.0 Contusao do...|              9499|Atividades Associ...|         Empregador|            Pa|        Empregado|  Não|330455-Rio de Jan...|  Outras Lesoes, Nic|               Ombro| Feminino|       Típico|       Tocantins|     Rio de Janeiro|       null|2022-02-02 00:00:00|1985-03-08 00:00:00|2022-03-08 00:00:00|              null|\n",
            "|Substancia Quimic...|                null|S63.3 Ruptura Tra...|              8610|Atividades de Ate...|         Empregador|            Pa|        Empregado|  Não|       261160-Recife|   Distensao, Torcao|                Dedo| Feminino|       Típico|            Pará|         Pernambuco|       null|2022-01-27 00:00:00|1974-07-08 00:00:00|2022-03-08 00:00:00|              null|\n",
            "|Mesa, Carteira, E...|322205-Tec. de En...|S10.9 Traum Super...|              8610|Atividades de Ate...|         Empregador|            Pa|        Empregado|  Não|     292740-Salvador|Contusao, Esmagam...|         Cabeca, Nic| Feminino|       Típico|            null|              Bahia|       null|2022-03-04 00:00:00|1971-07-13 00:00:00|2022-03-09 00:00:00|11.858.570.001.377|\n",
            "|Motocicleta, Moto...|322205-Tec. de En...|S80.0 Contusao do...|              8610|Atividades de Ate...|         Empregador|            Pa|        Empregado|  Não|     350950-Campinas|Contusao, Esmagam...|              Joelho|Masculino|      Trajeto|        Maranhão|          São Paulo|       null|2022-03-07 00:00:00|1982-02-24 00:00:00|2022-03-09 00:00:00|46.020.301.000.269|\n",
            "|Queda de Pes. com...|352210-Agente de ...| M25.5 Dor Articular|              3600|Captacao, Tratame...|         Empregador|            Pa|        Empregado|  Não|      520870-Goiânia|      Lesao Imediata|            Cotovelo|Masculino|       Típico|            null|              Goiás|       null|2022-03-07 00:00:00|1965-05-15 00:00:00|2022-03-09 00:00:00|              null|\n",
            "|        Empilhadeira|782220-Oper. de E...|S86.0 Traum do Te...|              1721| Fabricacao de Papel|               null|            Pa|        Empregado|  Não|330470-Santo Antô...|      Lesao Imediata|Pe (Exceto Artelhos)|Masculino|       Típico|       Tocantins|     Rio de Janeiro|       null|2022-03-07 00:00:00|1967-06-14 00:00:00|2022-03-09 00:00:00|08.508.086.000.170|\n",
            "|Aprision. Em, Sob...|784205-Alimentado...|S61.0 Ferim de De...|              4292|Montagem de Insta...|         Empregador|            Pa|        Empregado|  Não|  410480-Cascavel-Pr|Corte, Laceracao,...|Mao (Exceto Punho...|Masculino|       Típico|         Roraima|             Paraná|       null|2022-03-04 00:00:00|1996-06-10 00:00:00|2022-03-09 00:00:00|              null|\n",
            "|Substancia Quimic...|                null|T26.4 Queim do Ol...|              1012|Abate de Suinos, ...|         Empregador|            Pa|        Empregado|  Não|  430790-Farroupilha|Queimadura Quimic...|Olho (Inclusive N...| Feminino|       Típico|            null|  Rio Grande do Sul|       null|2022-03-08 00:00:00|1991-06-05 00:00:00|2022-03-09 00:00:00|              null|\n",
            "|Substancia Quimic...|725205-Mont. Máqu...|T24.4 Corros Quad...|              4299|Obras de Engenhar...|         Empregador|            Pa|        Empregado|  Não|353800-Pindamonha...|Queimadura Quimic...|Perna (Do Tornoze...|Masculino|       Típico|        Maranhão|          São Paulo|       null|2022-03-07 00:00:00|1999-06-10 00:00:00|2022-03-09 00:00:00|              null|\n",
            "|Impacto de Pes. C...|    724110-Encanador|S60.0 Contusao de...|              2823|Fabricacao de Maq...|         Empregador|            Pa|        Empregado|  Não|    355030-São Paulo|Escoriacao, Abras...|                Dedo|Masculino|       Típico|        Maranhão|          São Paulo|       null|2022-03-09 00:00:00|1998-01-17 00:00:00|2022-03-09 00:00:00|              null|\n",
            "|Caixa, Engradado,...|782510-Motorista ...|S50.0 Contusao do...|              1053|Fabricacao de Sor...|         Empregador|            Pa|        Empregado|  Não|354870-São Bernar...|Contusao, Esmagam...|Braco (Entre O Pu...|Masculino|       Típico|        Maranhão|          São Paulo|       null|2022-03-08 00:00:00|1969-11-29 00:00:00|2022-03-09 00:00:00|              null|\n",
            "|Queda de Pes. com...|732120-Inst. de L...|S82.2 Frat da Dia...|              3514|Distribuicao de E...|         Empregador|            Pa|        Empregado|  Não|  250750-João Pessoa|             Fratura|Partes Multiplas ...|Masculino|       Típico|        Amazonas|            Paraíba|       null|2022-03-08 00:00:00|1984-01-30 00:00:00|2022-03-09 00:00:00|              null|\n",
            "|Motocicleta, Moto...|322205-Tec. de En...|S42.0 Frat da Cla...|              8610|Atividades de Ate...|         Empregador|            Pa|        Empregado|  Não|    355030-São Paulo|             Fratura|Localizacao da Le...|Masculino|      Trajeto|        Maranhão|          São Paulo|       null|2022-03-08 00:00:00|1980-04-08 00:00:00|2022-03-09 00:00:00|              null|\n",
            "|Aprision. Em, Sob...|761309-Tecelão (T...|S90.9 Traum Super...|              1359|Fabricacao de Out...|         Empregador|            Pa|        Empregado|  Não|    355030-São Paulo|Contusao, Esmagam...|Pe (Exceto Artelhos)|Masculino|       Típico|            null|     Santa Catarina|       null|2022-03-07 00:00:00|2005-02-15 00:00:00|2022-03-09 00:00:00|              null|\n",
            "|                null|212405-Analista d...|B34.2 Infecc p/Co...|              8610|Atividades de Ate...|         Empregador|            Pa|        Empregado|  Não|        310400-Araxá|Doenca Contagiosa...|Aparelho Respirat...| Feminino|       Doença|        Rondônia|       Minas Gerais|       null|2022-03-09 00:00:00|1974-03-29 00:00:00|2022-03-09 00:00:00|              null|\n",
            "|Atrito ou Abrasao...|   848510-Açougueiro|S61.0 Ferim de De...|              4711|Comercio Varejist...|         Empregador|            Pa|        Empregado|  Não|    410150-Arapongas|Corte, Laceracao,...|                Dedo|Masculino|       Típico|         Roraima|             Paraná|       null|2022-03-07 00:00:00|2001-04-23 00:00:00|2022-03-10 00:00:00|              null|\n",
            "|Queda de Pes. com...|   414105-Almoxarife|S80.0 Contusao do...|              2029|Fabricacao de Pro...|         Empregador|            Pa|        Empregado|  Não|     410690-Curitiba|Escoriacao, Abras...|Perna (Do Tornoze...|Masculino|      Trajeto|        Maranhão|          São Paulo|       null|2022-03-02 00:00:00|1961-11-19 00:00:00|2022-03-10 00:00:00|              null|\n",
            "|Impacto Sofrido p...|     724315-Soldador|S91.0 Ferim do To...|              4742|Comercio Varejist...|         Empregador|            Pa|        Empregado|  Não|410640-Cornélio P...|             Luxacao|Perna (Do Tornoze...|Masculino|       Típico|         Roraima|             Paraná|       null|2022-03-09 00:00:00|2001-10-24 00:00:00|2022-03-10 00:00:00|              null|\n",
            "|Motocicleta, Moto...|                null|V28.4 Condutor Ac...|              8610|Atividades de Ate...|         Empregador|            Pa|        Empregado|  Não|         431020-Ijuí|    Lesoes Multiplas|Partes Multiplas ...| Feminino|      Trajeto|            null|  Rio Grande do Sul|       null|2022-03-08 00:00:00|1979-05-29 00:00:00|2022-03-10 00:00:00|              null|\n",
            "|Metal - Inclui Li...|721105-Ferramenteiro|S61.1 Ferim de De...|              2543|Fabricacao de Fer...|         Empregador|            Pa|        Empregado|  Não|      352400-Itupeva|Corte, Laceracao,...|                Dedo|Masculino|       Típico|        Maranhão|          São Paulo|       null|2022-03-07 00:00:00|1986-01-02 00:00:00|2022-03-10 00:00:00|              null|\n",
            "|Impacto de Pes. C...|                null|T14.4 Traum de Ne...|              8121|Limpeza em Predio...|         Empregador|            Pa|        Empregado|  Não|    230523-Horizonte|    Lesoes Multiplas|              Joelho| Feminino|       Típico|        Maranhão|          São Paulo|       null|2022-03-09 00:00:00|1965-11-01 00:00:00|2022-03-10 00:00:00|              null|\n",
            "|Impacto de Pes. C...|391205-Inspetor d...|T11.1 Ferim do Me...|              2869|Fabricacao de Maq...|         Empregador|            Pa|        Empregado|  Não|    420910-Joinville|Corte, Laceracao,...|Antebraco (Entre ...|Masculino|       Típico|            null|     Santa Catarina|       null|2022-03-02 00:00:00|1981-07-14 00:00:00|2022-03-10 00:00:00|              null|\n",
            "|Queda de Pes. em ...|521110-Vendedor d...|S90.0 Contusao do...|              4781|Comercio Varejist...|         Empregador|            Pa|        Empregado|  Não| 521380-Morrinhos-Go|             Luxacao|Articulacao do To...| Feminino|       Típico|            null|              Goiás|       null|2022-03-10 00:00:00|1992-06-16 00:00:00|2022-03-10 00:00:00|              null|\n",
            "|Impacto Sofrido p...|766315-Oper. de A...|S63.1 Luxacao do ...|              1813|Impressao de Mate...|         Empregador|            Pa|        Empregado|  Não|     411480-Marialva|             Luxacao|                Dedo|Masculino|       Típico|         Roraima|             Paraná|       null|2022-03-09 00:00:00|2001-12-20 00:00:00|2022-03-10 00:00:00|              null|\n",
            "|Rua e Estrada - S...|142205-Ger. Recur...|                null|              8660|Atividades de Apo...|         Empregador|            Pa|        Empregado|  Não|     150140-Belém-Pa|Escoriacao, Abras...|                Dedo|Masculino|      Trajeto|            Acre|               Pará|       null|2022-03-11 00:00:00|1978-09-29 00:00:00|2022-03-11 00:00:00|18.963.002.001.113|\n",
            "|Impacto de Pes. C...|515105-Agente Com...|M75.5 Bursite do ...|              8610|Atividades de Ate...|         Empregador|            Pa|        Empregado|  Não|     292740-Salvador|      Lesao Imediata|Braco (Entre O Pu...| Feminino|       Típico|            null|              Bahia|       null|2022-03-11 00:00:00|1970-12-20 00:00:00|2022-03-11 00:00:00|11.344.038.000.106|\n",
            "|Impacto Sofrido p...|621005-Trab. Agro...|S62.2 Frat do Pri...|              null|                null|         Empregador|            Pa|        Empregado|  Não|                null|             Fratura|Mao (Exceto Punho...|Masculino|       Típico|            null|               null|       null|2022-02-27 00:00:00|1984-11-03 00:00:00|2022-03-11 00:00:00|              null|\n",
            "|Queda de Pes. em ...|841505-Trab. Trat...|S80.0 Contusao do...|              1051| Preparacao do Leite|         Empregador|            Pa|        Empregado|  Não|   411560-Matelândia|Contusao, Esmagam...|              Joelho| Feminino|       Típico|         Roraima|             Paraná|       null|2022-03-09 00:00:00|1968-04-28 00:00:00|2022-03-11 00:00:00|              null|\n",
            "|Ferramenta, Maqui...|862150-Oper. Máqu...|S82.7 Frat Mult d...|              1061|Beneficiamento de...|         Empregador|            Pa|        Empregado|  Não|    431570-Rio Pardo|             Fratura|Membros Inferiore...|Masculino|       Típico|            null|  Rio Grande do Sul|       null|2022-03-10 00:00:00|1982-11-11 00:00:00|2022-03-11 00:00:00|              null|\n",
            "|Impacto de Pes. C...|313315-Tec. de Te...|     R52.0 Dor Aguda|              4221|Obras para Geraca...|         Empregador|            Pa|        Empregado|  Não|    355030-São Paulo|      Lesao Imediata|Dorso (Inclusive ...|Masculino|       Típico|        Maranhão|          São Paulo|       null|2022-03-07 00:00:00|1986-07-16 00:00:00|2022-03-11 00:00:00|              null|\n",
            "|Furadeira, Broque...|784205-Alimentado...|S63.6 Entorse e D...|              2832|Fabricacao de Equ...|         Empregador|            Pa|        Empregado|  Não|      411915-Pinhais|   Distensao, Torcao|                Dedo|Masculino|       Típico|         Roraima|             Paraná|       null|2022-03-10 00:00:00|2002-01-01 00:00:00|2022-03-11 00:00:00|              null|\n",
            "|Inalacao de Subst...|513435-Atendente ...|L23.3 Dermatite A...|              5611|Restaurantes e Ou...|         Empregador|            Pa|        Empregado|  Não|354980-São José d...|Envenenamento Sis...|Cabeca, Partes Mu...| Feminino|       Típico|        Maranhão|          São Paulo|       null|2022-03-08 00:00:00|2003-05-21 00:00:00|2022-03-11 00:00:00|              null|\n",
            "|Metal - Inclui Li...|     724315-Soldador|S60.0 Contusao de...|              2930|Fabricacao de Cab...|         Empregador|            Pa|        Empregado|  Não|430510-Caxias do Sul|Contusao, Esmagam...|                Dedo|Masculino|       Típico|            null|  Rio Grande do Sul|       null|2022-03-11 00:00:00|1987-09-09 00:00:00|2022-03-11 00:00:00|              null|\n",
            "|Misturador, Bated...|   848510-Açougueiro|S90.3 Contusao de...|              4711|Comercio Varejist...|         Empregador|            Pa|        Empregado|  Não| 311100-Campestre-Mg|      Lesao Imediata|Pe (Exceto Artelhos)|Masculino|       Típico|        Rondônia|       Minas Gerais|       null|2022-03-12 00:00:00|1980-01-10 00:00:00|2022-03-14 00:00:00|              null|\n",
            "|Agente do Acident...|   414105-Almoxarife|S01.1 Ferim da Pa...|              2222|Fabricacao de Emb...|         Empregador|            Pa|        Empregado|  Não|  421700-São Ludgero|Corte, Laceracao,...|         Cabeca, Nic|Masculino|      Trajeto|            null|     Santa Catarina|       null|2022-03-13 00:00:00|1987-01-10 00:00:00|2022-03-14 00:00:00|              null|\n",
            "|       Ser Vivo, Nic|322205-Tec. de En...|S51.9 Ferim do An...|              8610|Atividades de Ate...|         Empregador|            Pa|        Empregado|  Não| 431750-Santo Ângelo|Escoriacao, Abras...|Braco (Entre O Pu...|Masculino|       Típico|            null|  Rio Grande do Sul|       null|2022-03-12 00:00:00|1969-01-24 00:00:00|2022-03-14 00:00:00|              null|\n",
            "|Reacao do Corpo a...|622020-Trab. Vola...|S93.3 Luxacao de ...|              1071|Fabricacao de Acu...|         Empregador|            Pa|        Empregado|  Não| 352140-Iracemápolis|   Distensao, Torcao|Perna (Entre O To...|Masculino|       Típico|        Maranhão|          São Paulo|       null|2022-03-11 00:00:00|1985-11-25 00:00:00|2022-03-14 00:00:00|              null|\n",
            "|Martelo, Malho, M...|821305-Oper. Lami...|S62.6 Frat de Out...|              2423|Producao de Lamin...|         Empregador|            Pa|        Empregado|  Não|  312230-Divinópolis|             Fratura|Mao (Exceto Punho...|Masculino|       Típico|        Rondônia|       Minas Gerais|       null|2022-03-13 00:00:00|1986-02-03 00:00:00|2022-03-14 00:00:00|              null|\n",
            "|Plaina, Tupia - M...|773325-Oper. de M...|S62.2 Frat do Pri...|              3101|Fabricacao de Mov...|         Empregador|            Pa|        Empregado|  Não|     412270-Sabáudia|Amputacao ou Enuc...|                Dedo|Masculino|       Típico|         Roraima|             Paraná|       null|2022-03-10 00:00:00|1971-11-09 00:00:00|2022-03-14 00:00:00|              null|\n",
            "|Reacao do Corpo a...|521125-Repositor ...|S99.9 Traum Ne do...|              4711|Comercio Varejist...|         Empregador|            Pa|        Empregado|  Não|        310670-Betim|   Distensao, Torcao|Pe (Exceto Artelhos)| Feminino|       Típico|        Rondônia|       Minas Gerais|       null|2022-02-15 00:00:00|1997-07-28 00:00:00|2022-03-14 00:00:00|              null|\n",
            "|                null|322230-Auxiliar d...|B34.2 Infecc p/Co...|              8630|Atividades de Ate...|         Empregador|            Pa|        Empregado|  Não|354780-Santo Andr...|Doenca Contagiosa...|Aparelho Respirat...| Feminino|       Doença|        Maranhão|          São Paulo|       null|2022-02-23 00:00:00|1970-01-15 00:00:00|2022-03-14 00:00:00|57.571.275.002.570|\n",
            "|        Veiculo, Nic|784105-Embalador,...|S63.7 Entorse e D...|              6399|Outras Atividades...|         Empregador|            Pa|        Empregado|  Não|     530010-Brasília|             Fratura|                Dedo| Feminino|      Trajeto|           Ceará|   Distrito Federal|       null|2022-03-12 00:00:00|2001-07-09 00:00:00|2022-03-15 00:00:00|42.073.249.000.177|\n",
            "|Escada Permanente...|742115-Confec. de...|S61.9 Ferim do Pu...|              4756|Comercio Varejist...|         Empregador|            Pa|        Empregado|  Não|    355030-São Paulo|      Lesao Imediata|Mao (Exceto Punho...|Masculino|       Típico|        Maranhão|          São Paulo|       null|2022-03-14 00:00:00|1997-01-03 00:00:00|2022-03-15 00:00:00|38.769.899.000.184|\n",
            "|Maquina de Embala...|141205-Gerente de...|S61.1 Ferim de De...|              8299|Atividades de Ser...|         Empregador|            Pa|        Empregado|  Não|      350570-Barueri|      Lesao Imediata|                Dedo| Feminino|       Típico|        Maranhão|          São Paulo|       null|2022-03-14 00:00:00|1997-11-03 00:00:00|2022-03-15 00:00:00|38.302.384.000.170|\n",
            "|Veiculo Rodoviari...|521125-Repositor ...|S20.0 Contusao da...|              4711|Comercio Varejist...|         Empregador|            Pa|        Empregado|  Não|330455-Rio de Jan...|Contusao, Esmagam...|Torax (Inclusive ...|Masculino|       Típico|       Tocantins|     Rio de Janeiro|       null|2022-03-10 00:00:00|1999-08-09 00:00:00|2022-03-15 00:00:00|              null|\n",
            "|Chao - Superficie...|321105-Tec. Agrícola|S40.0 Contusao do...|              8411|Administracao Pub...|         Empregador|            Pa|        Empregado|  Não|   351820-Guararapes|   Distensao, Torcao|Braco (Entre O Pu...|Masculino|       Típico|        Maranhão|          São Paulo|       null|2022-02-28 00:00:00|1972-07-04 00:00:00|2022-03-15 00:00:00|48.468.284.000.171|\n",
            "|Substancia Quimic...|                null|T23.0 Queim do Pu...|              2071|Fabricacao de Tin...|         Empregador|            Pa|        Empregado|  Não|      350920-Cajamar| Lesao Imediata, Nic|                Dedo|Masculino|       Típico|        Maranhão|          São Paulo|       null|2022-03-14 00:00:00|1972-01-03 00:00:00|2022-03-15 00:00:00|              null|\n",
            "|Impacto de Pes. C...|848525-Retalhador...|M79.9 Transt dos ...|              1012|Abate de Suinos, ...|         Empregador|            Pa|        Empregado|  Não|    431660-Sananduva|  Outras Lesoes, Nic|Mao (Exceto Punho...|Masculino|       Típico|            null|  Rio Grande do Sul|       null|2022-03-14 00:00:00|1998-03-03 00:00:00|2022-03-15 00:00:00|              null|\n",
            "|Ataque de Ser Viv...|322205-Tec. de En...|    W50.0 Residencia|              8610|Atividades de Ate...|         Empregador|            Pa|        Empregado|  Não|       510340-Cuiabá|  Outras Lesoes, Nic|                Dedo| Feminino|       Típico|            null|        Mato Grosso|       null|2022-03-02 00:00:00|1995-12-01 00:00:00|2022-03-15 00:00:00|              null|\n",
            "|Maquina de Escrit...|411005-Auxiliar d...|S60.0 Contusao de...|              1812|Impressao de Mate...|         Empregador|            Pa|        Empregado|  Não|       270430-Maceió|Contusao, Esmagam...|                Dedo| Feminino|       Típico|            null|            Alagoas|       null|2022-03-15 00:00:00|1994-09-03 00:00:00|2022-03-15 00:00:00|              null|\n",
            "|        Veiculo, Nic|782510-Motorista ...|S62.3 Frat de Out...|              2599|Fabricacao de Pro...|         Empregador|            Pa|        Empregado|  Não|     355220-Sorocaba|             Fratura|Mao (Exceto Punho...|Masculino|       Típico|        Maranhão|          São Paulo|       null|2022-03-10 00:00:00|1995-05-24 00:00:00|2022-03-15 00:00:00|              null|\n",
            "|Aprision. Em, Sob...|521115-Promotor d...|S90.3 Contusao de...|              7820|Locacao de Mao-De...|         Empregador|            Pa|        Empregado|  Não|    355030-São Paulo|Contusao, Esmagam...|Pe (Exceto Artelhos)|Masculino|       Típico|        Maranhão|          São Paulo|       null|2022-03-12 00:00:00|2002-10-01 00:00:00|2022-03-15 00:00:00|              null|\n",
            "|Vidraria, Fibra d...|514225-Trab. de S...|S61.8 Ferim de Ou...|              8800|Servicos de Assis...|         Empregador|            Pa|        Empregado|  Não|310620-Belo Horiz...|Corte, Laceracao,...|               Punho| Feminino|       Típico|        Rondônia|       Minas Gerais|       null|2022-03-15 00:00:00|1975-05-24 00:00:00|2022-03-15 00:00:00|              null|\n",
            "|Impacto de Pes. C...|421110-Bilheteiro...|S40.0 Contusao do...|              4922|Transporte Rodovi...|         Empregador|            Pa|        Empregado|  Não|      520870-Goiânia|  Outras Lesoes, Nic|               Ombro|Masculino|       Típico|            null|              Goiás|       null|2022-03-07 00:00:00|1972-03-10 00:00:00|2022-03-15 00:00:00|              null|\n",
            "|Ataque de Ser Viv...|                null|  R41.3 Outr Amnesia|              8630|Atividades de Ate...|         Empregador|            Pa|        Empregado|  Não|354780-Santo Andr...|  Outras Lesoes, Nic|     Sistema Nervoso| Feminino|       Típico|        Maranhão|          São Paulo|       null|2022-03-11 00:00:00|1962-10-09 00:00:00|2022-03-16 00:00:00|57.571.275.002.570|\n",
            "|Rua e Estrada - S...|                null|S93.3 Luxacao de ...|              8411|Administracao Pub...|         Empregador|            Pa|        Empregado|  Não|      421170-Orleans|             Luxacao|Pe (Exceto Artelhos)| Feminino|       Típico|            null|     Santa Catarina|       null|2022-03-15 00:00:00|1969-05-29 00:00:00|2022-03-16 00:00:00|82.926.544.000.143|\n",
            "|Rua e Estrada - S...|521115-Promotor d...|S83.7 Traum de Es...|              8230|Atividades de Org...|         Empregador|            Pa|        Empregado|  Não|    355030-São Paulo|             Luxacao|Perna (Entre O To...|Masculino|       Típico|        Maranhão|          São Paulo|       null|2022-03-14 00:00:00|1993-09-09 00:00:00|2022-03-16 00:00:00|05.467.566.000.141|\n",
            "|Queda de Pes. com...|                null|S32.2 Frat do Coccix|              8211|Servicos Combinad...|         Empregador|            Pa|        Empregado|  Não|    355030-São Paulo|             Fratura|Dorso (Inclusive ...| Feminino|       Típico|        Maranhão|          São Paulo|       null|2022-03-01 00:00:00|1996-08-22 00:00:00|2022-03-16 00:00:00|44.654.190.000.136|\n",
            "|Metal - Inclui Li...|414215-Conferente...|                null|              5212|    Carga e Descarga|         Empregador|            Pa|        Empregado|  Não|        310670-Betim|      Lesao Imediata|Cabeca, Partes Mu...|Masculino|       Típico|        Rondônia|       Minas Gerais|       null|2022-03-15 00:00:00|1999-04-18 00:00:00|2022-03-16 00:00:00|29.379.490.000.160|\n",
            "|Cadeira Banco - M...|                null|S00.0 Traum Super...|              8411|Administracao Pub...|         Empregador|            Pa|        Empregado|  Não|293135-Teixeira d...|Contusao, Esmagam...|Cabeca, Partes Mu...| Feminino|       Típico|            null|              Bahia|       null|2022-01-13 00:00:00|1986-11-25 00:00:00|2022-03-17 00:00:00|13.650.403.000.128|\n",
            "|Deposito Fixo (Ta...|622020-Trab. Vola...|       R09.0 Asfixia|               115|     Cultivo de Soja|         Empregador|            Pa|        Empregado|  Sim|  510040-Alto Garças|Asfixia, Estrangu...|Partes Multiplas ...|Masculino|       Típico|            null|        Mato Grosso|       null|2022-03-16 00:00:00|1949-07-28 00:00:00|2022-03-17 00:00:00|08.147.500.000.162|\n",
            "|Esforco Excessivo...|783225-Ajudante d...|M75.1 Sindr do Ma...|              4744|Comercio Varejist...| Autoridade Pública|            Pa|        Empregado|  Não| 313670-Juiz de Fora|Inflamacao de Art...|               Ombro|Masculino|       Doença|        Rondônia|       Minas Gerais|       null|2022-03-03 00:00:00|1961-10-30 00:00:00|2022-03-17 00:00:00|04.899.474.000.178|\n",
            "|Impacto Sofrido p...|411010-Assistente...|S52.5 Frat da Ext...|              2840|Fabricacao de Maq...|         Empregador|            Pa|        Empregado|  Não|      350700-Boituva|             Fratura|               Punho| Feminino|      Trajeto|        Maranhão|          São Paulo|       null|2022-03-15 00:00:00|1993-12-02 00:00:00|2022-03-16 00:00:00|              null|\n",
            "|Impacto Sofrido p...|411010-Assistente...|Z04.4 Exame e Obs...|              9430|Atividades de Ass...|         Empregador|            Pa|        Empregado|  Não| 431490-Porto Alegre|Escoriacao, Abras...|         Cabeca, Nic| Feminino|       Típico|            null|  Rio Grande do Sul|       null|2022-03-11 00:00:00|1991-09-12 00:00:00|2022-03-16 00:00:00|              null|\n",
            "|Reacao do Corpo a...|                null|M54.4 Lumbago c/C...|              2061|Fabricacao de Sab...|         Empregador|            Pa|        Empregado|  Não|430100-Arroio do ...|  Outras Lesoes, Nic|         Tronco, Nic|Masculino|       Típico|            null|  Rio Grande do Sul|       null|2022-03-15 00:00:00|1991-12-06 00:00:00|2022-03-16 00:00:00|              null|\n",
            "|Reacao do Corpo a...|623115-Trab. Pecu...|S82.6 Frat do Mal...|              null|                null|         Empregador|            Pa|        Empregado|  Não|                null|             Fratura|Pe (Exceto Artelhos)|Masculino|       Típico|            null|               null|       null|2022-02-03 00:00:00|1968-03-18 00:00:00|2022-03-16 00:00:00|              null|\n",
            "|Impacto de Pes. C...|951105-Eletricist...|S61.0 Ferim de De...|              8299|Atividades de Ser...|         Empregador|            Pa|        Empregado|  Não|     150140-Belém-Pa|Contusao, Esmagam...|                Dedo|Masculino|       Típico|            Acre|               Pará|       null|2022-03-16 00:00:00|1975-11-27 00:00:00|2022-03-17 00:00:00|              null|\n",
            "|Motocicleta, Moto...|                null|Z51.9 Cuidado Med...|              4761|Comercio Varejist...|         Empregador|            Pa|        Empregado|  Não|   500660-Ponta Porã|      Lesao Imediata|              Joelho| Feminino|      Trajeto|            null| Mato Grosso do Sul|       null|2022-03-16 00:00:00|1985-04-13 00:00:00|2022-03-17 00:00:00|              null|\n",
            "|Impacto Sofrido p...|724515-Prensista ...| M79.6 Dor em Membro|              4530|Comercio de Pecas...|         Empregador|            Pa|        Empregado|  Não|354980-São José d...|Contusao, Esmagam...|Mao (Exceto Punho...|Masculino|       Típico|        Maranhão|          São Paulo|       null|2022-03-10 00:00:00|1970-10-19 00:00:00|2022-03-17 00:00:00|              null|\n",
            "|Veiculo Rodoviari...|142305-Ger. Comer...|S42.3 Frat da Dia...|              4783|Comercio Varejist...|         Empregador|            Pa|        Empregado|  Não|      421190-Palhoça|             Fratura|Braco (Entre O Pu...| Feminino|      Trajeto|            null|     Santa Catarina|       null|2022-03-03 00:00:00|1990-08-04 00:00:00|2022-03-17 00:00:00|              null|\n",
            "|Impacto de Pes. C...|141205-Gerente de...|                null|              8640|Atividades de Ser...|         Empregador|            Pa|        Empregado|  Não|  431410-Passo Fundo| Lesao Imediata, Nic|         Cabeca, Nic| Feminino|       Típico|            null|  Rio Grande do Sul|       null|2022-03-15 00:00:00|1990-11-16 00:00:00|2022-03-17 00:00:00|              null|\n",
            "|Queda de Pes. em ...|322205-Tec. de En...|W01.1 Habitacao C...|              8610|Atividades de Ate...|         Empregador|            Pa|        Empregado|  Não|       351620-Franca|      Lesao Imediata|Membros Inferiore...|Masculino|       Típico|        Maranhão|          São Paulo|       null|2022-03-15 00:00:00|1985-11-10 00:00:00|2022-03-18 00:00:00|              null|\n",
            "|Ferramenta, Maqui...|784205-Alimentado...|S92.7 Frat Mult d...|              1066|Fabricacao de Ali...|         Empregador|            Pa|        Empregado|  Não|430510-Caxias do Sul|             Fratura|                Dedo|Masculino|       Típico|        Maranhão|          São Paulo|       null|2022-03-16 00:00:00|1965-01-21 00:00:00|2022-03-18 00:00:00|              null|\n",
            "|Impacto de Pes. C...|821445-Preparador...|S41.1 Ferim do Braco|              8219|Fotocopias, Prepa...|         Empregador|            Pa|        Empregado|  Não|350760-Bragança P...|Corte, Laceracao,...|Braco (Entre O Pu...|Masculino|       Típico|        Maranhão|          São Paulo|       null|2022-03-18 00:00:00|2001-05-14 00:00:00|2022-03-18 00:00:00|              null|\n",
            "|Rua e Estrada - S...|782305-Motorista ...|S42.2 Frat da Ext...|              4744|Comercio Varejist...|         Empregador|            Pa|        Empregado|  Não|420200-Balneário ...|             Fratura|               Ombro|Masculino|      Trajeto|            null|     Santa Catarina|       null|2022-03-14 00:00:00|1970-12-11 00:00:00|2022-03-18 00:00:00|              null|\n",
            "|Veiculo Rodoviari...|783225-Ajudante d...|S82.1 Frat da Ext...|              4930|Transporte Rodovi...|         Empregador|            Pa|        Empregado|  Não|   353870-Piracicaba|Contusao, Esmagam...|Perna (Do Tornoze...|Masculino|       Típico|        Maranhão|          São Paulo|       null|2022-03-10 00:00:00|1989-12-19 00:00:00|2022-03-18 00:00:00|              null|\n",
            "|Chao - Superficie...|377110-Atleta Pro...|M23.3 Outr Transt...|              9312|Clubes Sociais, E...|         Empregador|            Pa|        Empregado|  Não|     410690-Curitiba|      Lesao Imediata|              Joelho|Masculino|       Típico|         Roraima|             Paraná|       null|2022-02-25 00:00:00|2003-05-13 00:00:00|2022-03-20 00:00:00|76.710.649.000.249|\n",
            "|Faca, Facao- Ferr...|513205-Cozinheiro...|S61.1 Ferim de De...|              5611|Restaurantes e Ou...|         Empregador|            Pa|        Empregado|  Não|     411370-Londrina|Corte, Laceracao,...|                Dedo|Masculino|       Típico|         Roraima|             Paraná|       null|2022-03-01 00:00:00|2000-03-06 00:00:00|2022-03-21 00:00:00|35.155.602.000.100|\n",
            "|Calcada ou Caminh...|331205-Prof. de N...|S52.2 Frat da Dia...|              8411|Administracao Pub...|         Empregador|            Pa|        Empregado|  Não|354580-Santa Bárb...|             Fratura|            Cotovelo| Feminino|      Trajeto|        Maranhão|          São Paulo|       null|2022-02-08 00:00:00|1954-12-31 00:00:00|2022-03-21 00:00:00|46.422.408.000.152|\n",
            "|        Veiculo, Nic|313320-Tec. de Tr...|V29.4 Condutor Co...|              6110|Telecomunicacoes ...|         Empregador|            Pa|        Empregado|  Não|      230428-Eusébio|Escoriacao, Abras...|Membros Superiore...|Masculino|      Trajeto|            null|              Ceará|       null|2022-03-20 00:00:00|1998-05-11 00:00:00|2022-03-21 00:00:00|06.099.370.000.104|\n",
            "| Maquina de Imprimir|783225-Ajudante d...|S80.0 Contusao do...|              8211|Servicos Combinad...|         Empregador|            Pa|        Empregado|  Não|       130260-Manaus|Contusao, Esmagam...|                Coxa|Masculino|       Típico|            null|           Amazonas|       null|2022-03-19 00:00:00|1992-09-24 00:00:00|2022-03-21 00:00:00|27.272.809.000.129|\n",
            "|Corda, Cabo, Corr...|914405-Mec. Manut...|S62.6 Frat de Out...|              7732|Aluguel de Maquin...|         Empregador|            Pa|        Empregado|  Não|     311860-Contagem|      Lesao Imediata|                Dedo|Masculino|       Típico|        Rondônia|       Minas Gerais|       null|2022-02-18 00:00:00|1985-04-13 00:00:00|2022-03-21 00:00:00|15.261.136.000.122|\n",
            "|Rua e Estrada - S...|622005-Caseiro (A...|S92.0 Frat do Cal...|              1512|                null|         Empregador|            Pa|        Empregado|  Não|                null|      Lesao Imediata|Perna (Entre O To...|Masculino|      Trajeto|            null|               null|       null|2022-01-27 00:00:00|1956-05-05 00:00:00|2022-03-22 00:00:00|              null|\n",
            "|Escada Permanente...|212420-Analista d...|S93.4 Entorse e D...|              6190|Outras Atividades...|         Empregador|            Pa|        Empregado|  Não|  110020-Porto Velho|Escoriacao, Abras...|Articulacao do To...| Feminino|       Típico|      Pernambuco|           Rondônia|       null|2022-03-21 00:00:00|1996-02-02 00:00:00|2022-03-22 00:00:00|14.629.705.000.187|\n",
            "|Impacto de Pes. C...|721215-Oper. Máqu...|S61.9 Ferim do Pu...|              2949|Fabricacao de Pec...|         Empregador|            Pa|        Empregado|  Não|  316720-Sete Lagoas|Corte, Laceracao,...|Mao (Exceto Punho...|Masculino|       Típico|        Rondônia|       Minas Gerais|       null|2022-01-19 00:00:00|1979-07-04 00:00:00|2022-03-16 00:00:00|              null|\n",
            "|Calcada ou Caminh...|    783220-Estivador|S93.4 Entorse e D...|              8121|Limpeza em Predio...|         Empregador|            Pa|        Empregado|  Não|      230015-Acarapé|             Luxacao|Articulacao do To...|Masculino|       Típico|            null|              Ceará|       null|2022-02-02 00:00:00|1994-09-11 00:00:00|2022-03-16 00:00:00|              null|\n",
            "|Atrito ou Abrasao...|  414110-Armazenista|S90.3 Contusao de...|              1012|Abate de Suinos, ...|         Empregador|            Pa|        Empregado|  Não|  410480-Cascavel-Pr|             Fratura|Pe (Exceto Artelhos)|Masculino|       Típico|         Roraima|             Paraná|       null|2022-03-16 00:00:00|1973-10-05 00:00:00|2022-03-17 00:00:00|              null|\n",
            "|Reacao do Corpo a...|783225-Ajudante d...|M54.5 Dor Lombar ...|              2330|Fabricacao de Art...|         Empregador|            Pa|        Empregado|  Não|        510790-Sinop|   Distensao, Torcao|         Tronco, Nic|Masculino|       Típico|            null|        Mato Grosso|       null|2022-03-14 00:00:00|1990-10-16 00:00:00|2022-03-15 00:00:00|              null|\n",
            "|Aprision. Em, Sob...|911305-Mec. Manut...|Z04.2 Exame e Obs...|              1621|Fabricacao de Mad...|         Empregador|            Pa|        Empregado|  Não|120040-Rio Branco-Ac|Corte, Laceracao,...|                Dedo|Masculino|       Típico|Rio Grande Norte|               Acre|       null|2022-03-17 00:00:00|2000-10-30 00:00:00|2022-03-17 00:00:00|              null|\n",
            "|Agente do Acident...|731325-Inst.-Repa...|M62.6 Distensao M...|              7112|Servicos de Engen...|         Empregador|            Pa|        Empregado|  Não|330455-Rio de Jan...|   Distensao, Torcao|                Coxa|Masculino|       Típico|       Tocantins|     Rio de Janeiro|       null|2022-03-14 00:00:00|1979-10-31 00:00:00|2022-03-15 00:00:00|              null|\n",
            "|Queda de Pes. em ...|783225-Ajudante d...|S43.0 Luxacao da ...|              4634|Comercio Atacadis...|         Empregador|            Pa|        Empregado|  Não|       110004-Cacoal|             Luxacao|Membros Superiore...|Masculino|       Típico|      Pernambuco|           Rondônia|       null|2022-03-14 00:00:00|2000-03-14 00:00:00|2022-03-17 00:00:00|              null|\n",
            "|Ferramenta, Maqui...|721225-Preparador...|M75.5 Bursite do ...|              2949|Fabricacao de Pec...|         Empregador|            Pa|        Empregado|  Não|      352690-Limeira|  Outras Lesoes, Nic|               Ombro|Masculino|       Típico|        Maranhão|          São Paulo|       null|2022-02-05 00:00:00|1998-02-23 00:00:00|2022-03-17 00:00:00|              null|\n",
            "|Chao - Superficie...|622110-Trab. Cult...|S93.4 Entorse e D...|              1071|Fabricacao de Acu...|         Empregador|            Pa|        Empregado|  Não|270510-Matriz de ...|      Lesao Imediata|Articulacao do To...|Masculino|       Típico|            null|            Alagoas|       null|2022-03-17 00:00:00|1981-07-15 00:00:00|2022-03-17 00:00:00|              null|\n",
            "|                null|521110-Vendedor d...|F41.1 Ansiedade G...|              6120|Telecomunicacoes ...|         Empregador|            Pa|        Empregado|  Não|      352590-Jundiaí|         Doenca, Nic|Sistemas e Aparel...| Feminino|       Doença|        Rondônia|       Minas Gerais|       null|2022-02-17 00:00:00|1991-10-20 00:00:00|2022-03-15 00:00:00|              null|\n",
            "|Metal - Inclui Li...|913115-Mec. Manut...|S61.1 Ferim de De...|              3314|Manutencao e Repa...|         Empregador|            Pa|        Empregado|  Não|354980-São José d...|Contusao, Esmagam...|                Dedo|Masculino|       Típico|        Maranhão|          São Paulo|       null|2022-03-09 00:00:00|1993-04-23 00:00:00|2022-03-16 00:00:00|              null|\n",
            "|        Veiculo, Nic|391115-Controlado...|V49.6 Ocupante Ne...|              1710|Fabricacao de Cel...|         Empregador|            Pa|        Empregado|  Não|       292200-Mucuri|Corte, Laceracao,...|         Cabeca, Nic|Masculino|      Trajeto|            null|              Bahia|       null|2022-02-26 00:00:00|1980-08-01 00:00:00|2022-03-17 00:00:00|              null|\n",
            "|Veiculo Rodoviari...|000000-Não Informado|S22.3 Frat de Cos...|              1012|Abate de Suinos, ...|         Empregador|            Pa|        Empregado|  Não|                null|             Fratura|Dorso (Inclusive ...| Feminino|       Típico|            null|               null|       null|2022-03-16 00:00:00|2004-06-25 00:00:00|2022-03-18 00:00:00|              null|\n",
            "|Impacto Sofrido p...|411005-Auxiliar d...|S83.3 Ruptura Atu...|              5011|Transporte Mariti...|         Empregador|            Pa|        Empregado|  Não|330455-Rio de Jan...|      Lesao Imediata|              Joelho| Feminino|       Típico|       Tocantins|     Rio de Janeiro|       null|2022-03-17 00:00:00|1969-09-09 00:00:00|2022-03-18 00:00:00|              null|\n",
            "|Queda de Pes. com...|141615-Ger. Logís...| M25.5 Dor Articular|              4930|Transporte Rodovi...|         Empregador|            Pa|        Empregado|  Não|     311860-Contagem|             Luxacao|               Ombro|Masculino|       Típico|        Rondônia|       Minas Gerais|       null|2022-03-14 00:00:00|1976-02-21 00:00:00|2022-03-18 00:00:00|              null|\n",
            "|Queda de Pes. em ...|                null|                null|              7020|Atividades de Con...|         Empregador|            Pa|        Empregado|  Não|   280150-Carmópolis|Corte, Laceracao,...|Perna (Entre O To...|Masculino|       Típico|           Piauí|            Sergipe|       null|2022-03-14 00:00:00|1975-04-24 00:00:00|2022-03-18 00:00:00|              null|\n",
            "|Impacto de Pes. C...|521105-Vendedor e...|S60.2 Contusao de...|              4644|Comercio Atacadis...|         Empregador|            Pa|        Empregado|  Não|        310670-Betim|Contusao, Esmagam...|Mao (Exceto Punho...|Masculino|      Trajeto|        Rondônia|       Minas Gerais|       null|2022-02-24 00:00:00|1981-04-09 00:00:00|2022-03-18 00:00:00|              null|\n",
            "|Cadeira Banco - M...|223208-Cirurgião ...|S73.0 Luxacao da ...|              8411|Administracao Pub...|         Empregador|            Pa|        Empregado|  Não|    355030-São Paulo|             Luxacao|Quadris (Inclusiv...| Feminino|       Típico|        Maranhão|          São Paulo|       null|2022-03-03 00:00:00|1963-08-14 00:00:00|2022-03-23 00:00:00|46.319.000.000.150|\n",
            "|Veiculo Rodoviari...|715615-Eletricist...|S90.3 Contusao de...|              2790|Fabricacao de Equ...|         Empregador|            Pa|        Empregado|  Não|354880-São Caetan...|Contusao, Esmagam...|Pe (Exceto Artelhos)|Masculino|      Trajeto|        Maranhão|          São Paulo|       null|2022-03-23 00:00:00|1992-05-19 00:00:00|2022-03-23 00:00:00|05.120.015.000.107|\n",
            "|Ataque de Ser Viv...|                null|Y04.2 Escolas Out...|              8129|Atividades de Lim...|         Empregador|            Pa|        Empregado|  Não| 431490-Porto Alegre|  Outras Lesoes, Nic|Face, Partes Mult...| Feminino|       Típico|            null|  Rio Grande do Sul|       null|2022-03-15 00:00:00|1986-03-11 00:00:00|2022-03-23 00:00:00|05.995.177.000.199|\n",
            "|Ferramenta Manual...|                null|Z20.9 Contato Exp...|              8610|Atividades de Ate...|         Empregador|            Pa|        Empregado|  Não|430510-Caxias do Sul|Escoriacao, Abras...|Mao (Exceto Punho...| Feminino|       Típico|            null|  Rio Grande do Sul|       null|2022-03-20 00:00:00|1981-06-26 00:00:00|2022-03-24 00:00:00|88.645.403.001.372|\n",
            "|    Maquina Agricola|641010-Oper. Máqu...|S68.1 Amput Traum...|              1512|                null|         Empregador|            Pa|        Empregado|  Não|                null|Amputacao ou Enuc...|                Dedo|Masculino|       Típico|            null|               null|       null|2022-03-07 00:00:00|1973-10-28 00:00:00|2022-03-24 00:00:00|              null|\n",
            "|                null|322210-Tec. de En...|   Z73.0 Esgotamento|              8411|Administracao Pub...|         Empregador|            Pa|        Empregado|  Não|     315280-Prata-Mg|Perda ou Diminuic...|     Sistema Nervoso| Feminino|       Doença|        Rondônia|       Minas Gerais|       null|2022-03-18 00:00:00|1982-03-24 00:00:00|2022-03-24 00:00:00|18.260.505.000.150|\n",
            "|         Animal Vivo|632120-Oper. Moto...|    T78.4 Alergia Ne|              4211|Construcao de Rod...|         Empregador|            Pa|        Empregado|  Não|   431240-Montenegro|      Lesao Imediata|Partes Multiplas ...|Masculino|       Típico|            null|  Rio Grande do Sul|       null|2022-03-23 00:00:00|1972-08-17 00:00:00|2022-03-24 00:00:00|14.151.695.000.117|\n",
            "|Queda de Pes. com...|  421125-Oper. Caixa|S93.4 Entorse e D...|              4781|Comercio Varejist...|Segurado/Dependente|            Pa|        Empregado|  Não| 431490-Porto Alegre|   Distensao, Torcao|Pe (Exceto Artelhos)| Feminino|       Típico|            null|  Rio Grande do Sul|       null|2022-03-22 00:00:00|1993-07-20 00:00:00|2022-03-24 00:00:00|07.027.977.000.141|\n",
            "|Chao - Superficie...|422305-Oper. Tele...|S50.0 Contusao do...|              5611|Restaurantes e Ou...|         Empregador|            Pa|        Empregado|  Não|      411520-Maringá|  Outras Lesoes, Nic|Braco (Entre O Pu...|Masculino|       Doença|         Roraima|             Paraná|       null|2022-03-20 00:00:00|1999-08-20 00:00:00|2022-03-21 00:00:00|              null|\n",
            "|Ferramenta Manual...|783225-Ajudante d...|S61.0 Ferim de De...|              1095|Fabricacao de Esp...|         Empregador|            Pa|        Empregado|  Não|353250-Neves Paul...|Corte, Laceracao,...|                Dedo|Masculino|       Típico|        Maranhão|          São Paulo|       null|2022-03-19 00:00:00|1977-09-19 00:00:00|2022-03-21 00:00:00|              null|\n",
            "|Queda de Pes. com...|521110-Vendedor d...|S93.6 Entorse Dis...|              4782|Comercio Varejist...|         Empregador|            Pa|        Empregado|  Não|     530010-Brasília|   Distensao, Torcao|Pe (Exceto Artelhos)| Feminino|      Trajeto|        Rondônia|       Minas Gerais|       null|2022-03-18 00:00:00|1999-02-05 00:00:00|2022-03-21 00:00:00|              null|\n",
            "|Rua e Estrada - S...|720135-Mestre Pin...|S42.9 Frat da Cin...|              4520|Manutencao e Repa...|         Empregador|            Pa|        Empregado|  Não|      352400-Itupeva|             Fratura|               Ombro|Masculino|      Trajeto|            null|        Mato Grosso|       null|2022-03-16 00:00:00|1978-12-10 00:00:00|2022-03-21 00:00:00|              null|\n",
            "|Impacto Sofrido p...|725010-Ajust. Mec...|S68.1 Amput Traum...|              3314|Manutencao e Repa...|         Empregador|            Pa|        Empregado|  Não|        352100-Iperó|Amputacao ou Enuc...|                Dedo|Masculino|       Típico|        Maranhão|          São Paulo|       null|2022-03-18 00:00:00|1965-06-19 00:00:00|2022-03-22 00:00:00|              null|\n",
            "|Impacto de Pes. C...|715410-Oper. Bomb...|S80.8 Outr Traum ...|              2330|Fabricacao de Art...|         Empregador|            Pa|        Empregado|  Não|      411520-Maringá|Contusao, Esmagam...|Perna (Do Tornoze...|Masculino|       Típico|         Roraima|             Paraná|       null|2022-03-16 00:00:00|2002-02-07 00:00:00|2022-03-22 00:00:00|              null|\n",
            "|Temperatura Muito...|                null|T22.1 Queim 1.Gra...|              4711|Comercio Varejist...|         Empregador|            Pa|        Empregado|  Não|    350160-Americana|Queimadura ou Esc...|Membros Superiore...| Feminino|       Típico|        Maranhão|          São Paulo|       null|2022-03-21 00:00:00|1973-06-09 00:00:00|2022-03-22 00:00:00|              null|\n",
            "|        Veiculo, Nic|    312320-Topógrafo|S62.2 Frat do Pri...|              4110|Incorporacao de E...|         Empregador|            Pa|        Empregado|  Não|       261160-Recife|             Fratura|Membros Superiore...|Masculino|      Trajeto|            Pará|         Pernambuco|       null|2022-03-18 00:00:00|1980-08-23 00:00:00|2022-03-22 00:00:00|              null|\n",
            "|Impacto Sofrido p...|784205-Alimentado...|S68.1 Amput Traum...|              2424|Producao de Relam...|         Empregador|            Pa|        Empregado|  Não|355610-Valentim G...|Corte, Laceracao,...|                Dedo|Masculino|       Típico|        Maranhão|          São Paulo|       null|2022-03-21 00:00:00|1994-07-31 00:00:00|2022-03-22 00:00:00|              null|\n",
            "|Atrito ou Abrasao...|141510-Ger. Resta...|S61.1 Ferim de De...|              5611|Restaurantes e Ou...|         Empregador|            Pa|        Empregado|  Não|354780-Santo Andr...|Corte, Laceracao,...|Mao (Exceto Punho...| Feminino|       Típico|        Maranhão|          São Paulo|       null|2022-03-20 00:00:00|1996-10-04 00:00:00|2022-03-23 00:00:00|              null|\n",
            "|Motocicleta, Moto...|782510-Motorista ...|S63.6 Entorse e D...|              1122|Fabricacao de Ref...|         Empregador|            Pa|        Empregado|  Não| 431490-Porto Alegre|   Distensao, Torcao|Partes Multiplas ...|Masculino|      Trajeto|            null|  Rio Grande do Sul|       null|2022-02-08 00:00:00|1988-08-23 00:00:00|2022-03-23 00:00:00|              null|\n",
            "|Impacto de Pes. C...|313505-Tec. em Fo...|S23.4 Entorse e D...|              6190|Outras Atividades...|         Empregador|            Pa|        Empregado|  Não|       311060-Cambuí|             Luxacao|         Tronco, Nic|Masculino|       Típico|        Rondônia|       Minas Gerais|       null|2022-03-22 00:00:00|1988-12-07 00:00:00|2022-03-23 00:00:00|              null|\n",
            "|Faca, Facao- Ferr...|951105-Eletricist...|S61.0 Ferim de De...|              1012|Abate de Suinos, ...|         Empregador|            Pa|        Empregado|  Não|   431720-Santa Rosa|Corte, Laceracao,...|                Dedo|Masculino|       Típico|            null|  Rio Grande do Sul|       null|2022-03-22 00:00:00|1996-09-04 00:00:00|2022-03-23 00:00:00|              null|\n",
            "|Impacto de Pes. C...|     724315-Soldador|S60.1 Contusao de...|              2833|Fabricacao de Maq...|         Empregador|            Pa|        Empregado|  Não|  410480-Cascavel-Pr|Contusao, Esmagam...|                Dedo|Masculino|       Típico|         Roraima|             Paraná|       null|2022-02-03 00:00:00|1993-02-12 00:00:00|2022-03-23 00:00:00|              null|\n",
            "|Atrito ou Abrasao...|                null|T15.1 Corpo Estra...|              4292|Montagem de Insta...|         Empregador|            Pa|        Empregado|  Não|    355030-São Paulo|  Outras Lesoes, Nic|Olho (Inclusive N...|Masculino|       Típico|        Maranhão|          São Paulo|       null|2022-03-17 00:00:00|1997-03-01 00:00:00|2022-03-23 00:00:00|              null|\n",
            "|Queda de Pes. com...|322205-Tec. de En...|S80.0 Contusao do...|              8610|Atividades de Ate...|         Empregador|            Pa|        Empregado|  Não|       261160-Recife|Escoriacao, Abras...|              Joelho| Feminino|      Trajeto|            Pará|         Pernambuco|       null|2022-03-22 00:00:00|1987-12-17 00:00:00|2022-03-23 00:00:00|              null|\n",
            "|Impacto Sofrido p...|715615-Eletricist...|S02.4 Frat dos Os...|              4759|Comercio Varejist...|         Empregador|            Pa|        Empregado|  Não|       291800-Jequié|             Fratura|Face, Partes Mult...|Masculino|       Típico|            null|              Bahia|       null|2022-03-22 00:00:00|1970-10-01 00:00:00|2022-03-23 00:00:00|              null|\n",
            "|Queda de Pes. com...|717020-Servente d...|S60.2 Contusao de...|              4221|Obras para Geraca...|         Empregador|            Pa|        Empregado|  Não|                null|Contusao, Esmagam...|               Punho|Masculino|       Típico|            null|               null|       null|2022-03-04 00:00:00|1982-03-15 00:00:00|2022-03-23 00:00:00|              null|\n",
            "|Veiculo Rodoviari...|322205-Tec. de En...|V29.3 Motociclist...|              8610|Atividades de Ate...|         Empregador|            Pa|        Empregado|  Não|    355030-São Paulo|Contusao, Esmagam...|               Punho|Masculino|      Trajeto|        Maranhão|          São Paulo|       null|2022-03-20 00:00:00|1974-08-14 00:00:00|2022-03-23 00:00:00|              null|\n",
            "|Queda de Pes. com...|841115-Oper. de P...|S01.8 Ferim na Ca...|               141|Producao de Semen...|         Empregador|            Pa|        Empregado|  Não|       130260-Manaus|    Lesoes Multiplas|Cabeca, Partes Mu...|Masculino|      Trajeto|         Roraima|             Paraná|       null|2022-03-22 00:00:00|1956-01-15 00:00:00|2022-03-23 00:00:00|              null|\n",
            "|Chao - Superficie...|                null|S92.3 Frat de Oss...|              8511|Educacao Infantil...|         Empregador|            Pa|        Empregado|  Não|330455-Rio de Jan...|             Fratura|Pe (Exceto Artelhos)| Feminino|       Típico|            null|  Rio Grande do Sul|       null|2022-03-17 00:00:00|1963-10-30 00:00:00|2022-03-23 00:00:00|              null|\n",
            "|                null|142105-Ger. Admin...|B34.2 Infecc p/Co...|              8610|Atividades de Ate...|         Empregador|            Pa|        Empregado|  Não|312770-Governador...|         Doenca, Nic|Aparelho Respirat...| Feminino|       Doença|        Rondônia|       Minas Gerais|       null|2022-01-13 00:00:00|1993-07-09 00:00:00|2022-03-23 00:00:00|              null|\n",
            "|    Maquina Agricola|621005-Trab. Agro...|S62.6 Frat de Out...|              null|                null|         Empregador|            Pa|        Empregado|  Não|                null|             Fratura|Mao (Exceto Punho...|Masculino|       Típico|            null|               null|       null|2022-03-21 00:00:00|1975-11-03 00:00:00|2022-03-24 00:00:00|              null|\n",
            "|Impacto de Pes. C...|                null|S02.6 Frat de Man...|              4731|Comercio Varejist...|         Empregador|            Pa|        Empregado|  Não|       430460-Canoas|             Fratura|Mandibula (Inclus...|Masculino|       Típico|            null|  Rio Grande do Sul|       null|2022-03-16 00:00:00|1993-03-09 00:00:00|2022-03-24 00:00:00|              null|\n",
            "|Impacto Sofrido p...|   771105-Marceneiro|M54.4 Lumbago c/C...|              3329|Instalacao de Equ...|         Empregador|            Pa|        Empregado|  Não|    350160-Americana|   Distensao, Torcao|Membros Superiore...|Masculino|       Típico|        Maranhão|          São Paulo|       null|2022-03-14 00:00:00|1988-02-07 00:00:00|2022-03-24 00:00:00|              null|\n",
            "|Motocicleta, Moto...|784205-Alimentado...|S42.0 Frat da Cla...|              2822|Fabricacao de Maq...|         Empregador|            Pa|        Empregado|  Não|       430930-Guaíba|             Fratura|               Ombro|Masculino|      Trajeto|            null|  Rio Grande do Sul|       null|2022-02-23 00:00:00|1993-07-06 00:00:00|2022-03-24 00:00:00|              null|\n",
            "|Escada Permanente...|951105-Eletricist...|S92.3 Frat de Oss...|              1910|           Coquerias|         Empregador|            Pa|        Empregado|  Não|        320500-Serra|             Fratura|Membros Inferiore...|Masculino|       Típico|            null|     Espírito Santo|       null|2022-03-24 00:00:00|1983-01-05 00:00:00|2022-03-24 00:00:00|              null|\n",
            "|Ferramenta Manual...|   771105-Marceneiro|S91.2 Ferim de Ar...|              4754|Comercio Varejist...|         Empregador|            Pa|        Empregado|  Não|        352100-Iperó|      Lesao Imediata|                Dedo|Masculino|       Típico|        Maranhão|          São Paulo|       null|2022-03-18 00:00:00|1983-06-16 00:00:00|2022-03-24 00:00:00|              null|\n",
            "|Atrito ou Abrasao...|775110-Folheador ...|S61.1 Ferim de De...|              1629|Fabricacao de Art...|         Empregador|            Pa|        Empregado|  Não|355610-Valentim G...|Escoriacao, Abras...|                Dedo| Feminino|       Típico|        Maranhão|          São Paulo|       null|2022-03-23 00:00:00|1998-04-20 00:00:00|2022-03-25 00:00:00|              null|\n",
            "|Aprision. Em, Sob...|784205-Alimentado...|S60.0 Contusao de...|              1094|Fabricacao de Mas...|         Empregador|            Pa|        Empregado|  Não|       351970-Ibiúna|Contusao, Esmagam...|                Dedo| Feminino|       Típico|        Maranhão|          São Paulo|       null|2022-03-23 00:00:00|1986-03-31 00:00:00|2022-03-25 00:00:00|              null|\n",
            "|Queda de Pes. com...|782510-Motorista ...|S70.1 Contusao da...|              1931|Fabricacao de Alcool|         Empregador|            Pa|        Empregado|  Não|      521000-Inhumas|Contusao, Esmagam...|                Coxa|Masculino|       Típico|            null|              Goiás|       null|2022-03-21 00:00:00|1969-09-10 00:00:00|2022-03-25 00:00:00|              null|\n",
            "|Tesoura, Tesourao...|514120-Zelador Ed...|Z54.0 Convalescen...|              8112|Condominios Prediais|         Empregador|            Pa|        Empregado|  Não|     530010-Brasília|Corte, Laceracao,...|                Dedo|Masculino|       Típico|           Ceará|   Distrito Federal|       null|2022-03-24 00:00:00|1970-08-07 00:00:00|2022-03-25 00:00:00|              null|\n",
            "+--------------------+--------------------+--------------------+------------------+--------------------+-------------------+--------------+-----------------+-----+--------------------+--------------------+--------------------+---------+-------------+----------------+-------------------+-----------+-------------------+-------------------+-------------------+------------------+\n",
            "only showing top 200 rows\n",
            "\n"
          ]
        }
      ]
    },
    {
      "cell_type": "markdown",
      "source": [
        "####▶️ **Criando novas colunas**\n",
        "\n",
        "Para esse ponto, vamos utilizar as colunas **ocupacao_acidentado**, **doenca** e **local_acidente**. Os dados pruesentes nessa três colunas possuem o código e a descrição da informação nele, para facilitar a visualização e ajudar nos trabalhos de análise das próximas equipes vamos desmembrá-los em duas colunas cada, uma contendo o cod e a outra o nome propriamente dito.\n",
        "\n",
        "Além disso, vamos criar uma nova coluna com a idade do acidentado na data da ocorrência, que chamaremos de **idade**."
      ],
      "metadata": {
        "id": "W8NRvJNYEN2z"
      }
    },
    {
      "cell_type": "code",
      "source": [
        "# Separar ocupacao_acidentado\n",
        "df_spark = (df_spark.withColumn('cod_ocupacao_acidentado', F.substring(F.col('ocupacao_acidentado'), 1, 6))\n",
        "                     .withColumn('ocupacao_acidentado', F.substring(F.col('ocupacao_acidentado'), 8, 10000)))"
      ],
      "metadata": {
        "id": "et3gdlezFJU9"
      },
      "execution_count": null,
      "outputs": []
    },
    {
      "cell_type": "code",
      "source": [
        "# Separar doenca\n",
        "df_spark = (df_spark.withColumn('cod_doenca', F.substring(F.col('doenca'), 1, 5))\n",
        "                    .withColumn('doenca', F.substring(F.col('doenca'), 7, 10000)))"
      ],
      "metadata": {
        "id": "Pumi0TouGcZS"
      },
      "execution_count": null,
      "outputs": []
    },
    {
      "cell_type": "code",
      "source": [
        "# Separar local_acidente\n",
        "df_spark = (df_spark.withColumn('cod_local_acidente', F.substring(F.col('local_acidente'), 1, 6))\n",
        "                    .withColumn('local_acidente', F.substring(F.col('local_acidente'), 8, 10000)))"
      ],
      "metadata": {
        "id": "zJngrLFvIS2x"
      },
      "execution_count": null,
      "outputs": []
    },
    {
      "cell_type": "code",
      "source": [
        "# Criando coluna idade\n",
        "df_spark = df_spark.withColumn('idade', \\\n",
        "          (F.datediff(F.col('dt_acidente'), F.col('dt_nasc'))/365).cast('int'))"
      ],
      "metadata": {
        "id": "kCCzd2rwOQnw"
      },
      "execution_count": null,
      "outputs": []
    },
    {
      "cell_type": "code",
      "source": [
        "# Verificando alterações\n",
        "df_spark.show(3)"
      ],
      "metadata": {
        "colab": {
          "base_uri": "https://localhost:8080/"
        },
        "id": "XjUmvt34J2zN",
        "outputId": "aa5754e6-434b-4a6a-c6ec-3d548fd9e28b"
      },
      "execution_count": null,
      "outputs": [
        {
          "output_type": "stream",
          "name": "stdout",
          "text": [
            "+--------------------+--------------------+--------------------+------------------+--------------------+----------+--------------+-----------------+-----+--------------+--------------------+--------------------+---------+-------------+-----------+--------------+-----------+-------------------+-------------------+-------------------+----+-----------------------+----------+------------------+-----+\n",
            "|   causador_acidente| ocupacao_acidentado|              doenca|cod_ativ_economica|       atv_economica|  emitente|beneficio_tipo|filiacao_segurado|obito|local_acidente|      natureza_lesao|         parte_corpo|     sexo|tipo_acidente|uf_acidente| uf_empregador|dt_despacho|        dt_acidente|            dt_nasc|         dt_emissao|cnpj|cod_ocupacao_acidentado|cod_doenca|cod_local_acidente|idade|\n",
            "+--------------------+--------------------+--------------------+------------------+--------------------+----------+--------------+-----------------+-----+--------------+--------------------+--------------------+---------+-------------+-----------+--------------+-----------+-------------------+-------------------+-------------------+----+-----------------------+----------+------------------+-----+\n",
            "|Faca, Facao- Ferr...|Mec. Manut. Máqui...|Ferim de Outr Par...|              2222|Fabricacao de Emb...|Empregador|            Pa|        Empregado|  Não|      Valinhos|Corte, Laceracao,...|Mao (Exceto Punho...| Feminino|       Típico|   Maranhão|     São Paulo|       null|2022-02-04 00:00:00|1987-05-20 00:00:00|2022-03-01 00:00:00|null|                 911305|     S61.8|            355620|   34|\n",
            "|Ferramenta Portat...|Funileiro de Veíc...|Ferim de Dedos c/...|              4520|Manutencao e Repa...|Empregador|            Pa|        Empregado|  Não|      Blumenau|Corte, Laceracao,...|                Dedo|Masculino|       Típico|       null|Santa Catarina|       null|2022-02-15 00:00:00|1998-01-04 00:00:00|2022-03-01 00:00:00|null|                 991305|     S61.1|            420240|   24|\n",
            "|Caixa, Engradado,...|                null|Traum Superf de M...|              1412|Confeccao de Peca...|Empregador|            Pa|        Empregado|  Não|        Ilhota|Escoriacao, Abras...|Articulacao do To...| Feminino|       Típico|       null|Santa Catarina|       null|2022-02-28 00:00:00|1992-11-07 00:00:00|2022-03-01 00:00:00|null|                   null|     T13.0|            420710|   29|\n",
            "+--------------------+--------------------+--------------------+------------------+--------------------+----------+--------------+-----------------+-----+--------------+--------------------+--------------------+---------+-------------+-----------+--------------+-----------+-------------------+-------------------+-------------------+----+-----------------------+----------+------------------+-----+\n",
            "only showing top 3 rows\n",
            "\n"
          ]
        }
      ]
    },
    {
      "cell_type": "markdown",
      "source": [
        "####▶️ **Organizando Data Frame**\n",
        "\n",
        "Agora que já tratamos todo o DataFrame, vamos organizá-lo de forma a ordenar as informações para facilitar o seu entendimento."
      ],
      "metadata": {
        "id": "elmlqGA_sGDl"
      }
    },
    {
      "cell_type": "code",
      "source": [
        "df_spark.show(5,truncate = False)"
      ],
      "metadata": {
        "id": "QFiJ8XrpsKHi",
        "colab": {
          "base_uri": "https://localhost:8080/"
        },
        "outputId": "9d19b0b5-ea6a-45ca-c9ac-0d5b72693d93"
      },
      "execution_count": null,
      "outputs": [
        {
          "output_type": "stream",
          "name": "stdout",
          "text": [
            "+---------------------------------------------+--------------------------------------+--------------------------------------+------------------+---------------------------------------------+----------+--------------+-----------------+-----+--------------+-------------------------------------------+--------------------------------------+---------+-------------+-----------+--------------+-----------+-------------------+-------------------+-------------------+----+-----------------------+----------+------------------+-----+\n",
            "|causador_acidente                            |ocupacao_acidentado                   |doenca                                |cod_ativ_economica|atv_economica                                |emitente  |beneficio_tipo|filiacao_segurado|obito|local_acidente|natureza_lesao                             |parte_corpo                           |sexo     |tipo_acidente|uf_acidente|uf_empregador |dt_despacho|dt_acidente        |dt_nasc            |dt_emissao         |cnpj|cod_ocupacao_acidentado|cod_doenca|cod_local_acidente|idade|\n",
            "+---------------------------------------------+--------------------------------------+--------------------------------------+------------------+---------------------------------------------+----------+--------------+-----------------+-----+--------------+-------------------------------------------+--------------------------------------+---------+-------------+-----------+--------------+-----------+-------------------+-------------------+-------------------+----+-----------------------+----------+------------------+-----+\n",
            "|Faca, Facao- Ferramenta Manual sem Forca Motr|Mec. Manut. Máquinas, em Geral        |Ferim de Outr Partes do Punho e da Mao|2222              |Fabricacao de Embalagens de Material Plastico|Empregador|Pa            |Empregado        |Não  |Valinhos      |Corte, Laceracao, Ferida Contusa, Punctura |Mao (Exceto Punho ou Dedos)           |Feminino |Típico       |Maranhão   |São Paulo     |null       |2022-02-04 00:00:00|1987-05-20 00:00:00|2022-03-01 00:00:00|null|911305                 |S61.8     |355620            |34   |\n",
            "|Ferramenta Portatil com Forca Motriz ou Aquec|Funileiro de Veículos (Rep.)          |Ferim de Dedos c/Lesao da Unha        |4520              |Manutencao e Reparacao de Veiculos Automotore|Empregador|Pa            |Empregado        |Não  |Blumenau      |Corte, Laceracao, Ferida Contusa, Punctura |Dedo                                  |Masculino|Típico       |null       |Santa Catarina|null       |2022-02-15 00:00:00|1998-01-04 00:00:00|2022-03-01 00:00:00|null|991305                 |S61.1     |420240            |24   |\n",
            "|Caixa, Engradado, Caixote - Embalagem, Recipi|null                                  |Traum Superf de Membro Infer Nivel Ne |1412              |Confeccao de Pecas do Vestuario, Exceto Roupa|Empregador|Pa            |Empregado        |Não  |Ilhota        |Escoriacao, Abrasao (Ferimento Superficial)|Articulacao do Tornozelo              |Feminino |Típico       |null       |Santa Catarina|null       |2022-02-28 00:00:00|1992-11-07 00:00:00|2022-03-01 00:00:00|null|null                   |T13.0     |420710            |29   |\n",
            "|Impacto de Pes. Contra Objeto Parado         |null                                  |Contusao do Joelho                    |4711              |Comercio Varejista de Mercadorias em Geral, c|Empregador|Pa            |Empregado        |Não  |Bauru         |Contusao, Esmagamento (Superficie Cutanea I|Joelho                                |Feminino |Típico       |Maranhão   |São Paulo     |null       |2022-02-22 00:00:00|1974-03-27 00:00:00|2022-03-01 00:00:00|null|null                   |S80.0     |350600            |47   |\n",
            "|Impacto de Pes. Contra Objeto em Movimento   |Mec. Manut. Automóveis, Motocicletas E|Frat da Diafise do Radio              |4732              |Comercio Varejista de Lubrificantes          |Empregador|Pa            |Empregado        |Não  |Joinville     |Contusao, Esmagamento (Superficie Cutanea I|Antebraco (Entre O Punho e O Cotovelo)|Masculino|Típico       |null       |Santa Catarina|null       |2022-03-01 00:00:00|1995-03-12 00:00:00|2022-03-02 00:00:00|null|914405                 |S52.3     |420910            |26   |\n",
            "+---------------------------------------------+--------------------------------------+--------------------------------------+------------------+---------------------------------------------+----------+--------------+-----------------+-----+--------------+-------------------------------------------+--------------------------------------+---------+-------------+-----------+--------------+-----------+-------------------+-------------------+-------------------+----+-----------------------+----------+------------------+-----+\n",
            "only showing top 5 rows\n",
            "\n"
          ]
        }
      ]
    },
    {
      "cell_type": "code",
      "source": [
        "# verificando a quantidade de colunas para conferir depois\n",
        "len(df_spark.columns)"
      ],
      "metadata": {
        "colab": {
          "base_uri": "https://localhost:8080/"
        },
        "id": "NBGTkUfhT27_",
        "outputId": "51b5735b-48b5-4dc5-a9cf-978033ef669f"
      },
      "execution_count": null,
      "outputs": [
        {
          "output_type": "execute_result",
          "data": {
            "text/plain": [
              "25"
            ]
          },
          "metadata": {},
          "execution_count": 228
        }
      ]
    },
    {
      "cell_type": "code",
      "source": [
        "# Organizando DataFrame\n",
        "df_spark = (df_spark.select(F.col('emitente'), F.col('dt_emissao'), F.col('dt_acidente'), F.col('cod_local_acidente'),\n",
        "                 F.col('local_acidente'), F.col('uf_acidente'), F.col('cod_doenca'), F.col('doenca'),\n",
        "                 F.col('natureza_lesao'), F.col('parte_corpo'), F.col('causador_acidente'), F.col('tipo_acidente'),\n",
        "                 F.col('dt_nasc'), F.col('idade'), F.col('sexo'), F.col('cod_ocupacao_acidentado'),\n",
        "                 F.col('ocupacao_acidentado'), F.col('cod_ativ_economica'), F.col('atv_economica'), F.col('obito'), \n",
        "                 F.col('filiacao_segurado'), F.col('beneficio_tipo'), F.col('dt_despacho'), F.col('uf_empregador'), \n",
        "                 F.col('cnpj')\n",
        "                 ).orderBy(F.col('dt_acidente').desc()))"
      ],
      "metadata": {
        "id": "WvaPTn9DSrT_"
      },
      "execution_count": null,
      "outputs": []
    },
    {
      "cell_type": "code",
      "source": [
        "# Contando as colunas DataFrame finalizado\n",
        "len(df_spark.columns)"
      ],
      "metadata": {
        "colab": {
          "base_uri": "https://localhost:8080/"
        },
        "id": "7AXgH9N8XMXO",
        "outputId": "03b4d83d-8c23-41e3-90ef-b23f636c2c8b"
      },
      "execution_count": null,
      "outputs": [
        {
          "output_type": "execute_result",
          "data": {
            "text/plain": [
              "25"
            ]
          },
          "metadata": {},
          "execution_count": 230
        }
      ]
    },
    {
      "cell_type": "code",
      "source": [
        "# Contado as linhas DataFrame finalizado\n",
        "df_spark.count()"
      ],
      "metadata": {
        "colab": {
          "base_uri": "https://localhost:8080/"
        },
        "id": "xaKz5WdpiVIE",
        "outputId": "63e6286d-07c7-4b0c-fc61-05361351388b"
      },
      "execution_count": null,
      "outputs": [
        {
          "output_type": "execute_result",
          "data": {
            "text/plain": [
              "156749"
            ]
          },
          "metadata": {},
          "execution_count": 231
        }
      ]
    },
    {
      "cell_type": "code",
      "source": [
        "# Visualizando DataFrame finalizado\n",
        "df_spark_final = df_spark\n",
        "df_spark_final.show(5)"
      ],
      "metadata": {
        "colab": {
          "base_uri": "https://localhost:8080/"
        },
        "id": "95satbUiiM28",
        "outputId": "e0dec573-5d91-424c-bc37-1637aeec47ab"
      },
      "execution_count": null,
      "outputs": [
        {
          "output_type": "stream",
          "name": "stdout",
          "text": [
            "+----------+-------------------+-------------------+------------------+--------------+-----------+----------+--------------------+--------------------+--------------------+--------------------+-------------+-------------------+-----+---------+-----------------------+--------------------+------------------+--------------------+-----+-----------------+--------------+-----------+-------------------+----+\n",
            "|  emitente|         dt_emissao|        dt_acidente|cod_local_acidente|local_acidente|uf_acidente|cod_doenca|              doenca|      natureza_lesao|         parte_corpo|   causador_acidente|tipo_acidente|            dt_nasc|idade|     sexo|cod_ocupacao_acidentado| ocupacao_acidentado|cod_ativ_economica|       atv_economica|obito|filiacao_segurado|beneficio_tipo|dt_despacho|      uf_empregador|cnpj|\n",
            "+----------+-------------------+-------------------+------------------+--------------+-----------+----------+--------------------+--------------------+--------------------+--------------------+-------------+-------------------+-----+---------+-----------------------+--------------------+------------------+--------------------+-----+-----------------+--------------+-----------+-------------------+----+\n",
            "|Empregador|2022-10-31 00:00:00|2022-10-31 00:00:00|            330240|         Macaé|  Tocantins|     S61.0|Ferim de Dedos s/...|Corte, Laceracao,...|                Dedo|Embalagem e Recip...|       Típico|2000-10-18 00:00:00|   22|Masculino|                 513315|     Camareiro Hotel|              4729|Comercio Varejist...|  Não|        Empregado|            Pa|       null|     Rio de Janeiro|null|\n",
            "|      null|2022-10-31 00:00:00|2022-10-31 00:00:00|              null|          null|       null|     S52.2|Frat da Diafise d...|             Fratura|Antebraco (Entre ...|Queda de Pes. em ...|       Típico|1961-06-30 00:00:00|   61| Feminino|                 512105|Empregado Domésti...|              null|                null|  Não|             null|            Pa|       null|               null|null|\n",
            "|Empregador|2022-10-31 00:00:00|2022-10-31 00:00:00|            352400|       Itupeva|   Maranhão|     W00.5|Areas de Comercio...|  Outras Lesoes, Nic|Partes Multiplas ...|Agente do Acident...|       Típico|1979-12-10 00:00:00|   42|Masculino|                 411010|Assistente Admini...|              2071|Fabricacao de Tin...|  Não|        Empregado|            Pa|       null|          São Paulo|null|\n",
            "|Empregador|2022-10-31 00:00:00|2022-10-31 00:00:00|            240420|     Goianinha|       null|     S60.1|Contusao de Dedos...|Corte, Laceracao,...|                Dedo|Impacto de Pes. C...|       Típico|1994-01-09 00:00:00|   28|Masculino|                 862150|Oper. Máquinas Fi...|              2342|Fabricacao de Pro...|  Não|        Empregado|            Pa|       null|Rio Grande do Norte|null|\n",
            "|Empregador|2022-10-31 00:00:00|2022-10-31 00:00:00|            430790|   Farroupilha|       null|     S61.0|Ferim de Dedos s/...|Escoriacao, Abras...|                Dedo|Faca, Facao- Ferr...|       Típico|1989-11-10 00:00:00|   32|Masculino|                 765235| Estofador de Móveis|              3101|Fabricacao de Mov...|  Não|        Empregado|            Pa|       null|  Rio Grande do Sul|null|\n",
            "+----------+-------------------+-------------------+------------------+--------------+-----------+----------+--------------------+--------------------+--------------------+--------------------+-------------+-------------------+-----+---------+-----------------------+--------------------+------------------+--------------------+-----+-----------------+--------------+-----------+-------------------+----+\n",
            "only showing top 5 rows\n",
            "\n"
          ]
        }
      ]
    },
    {
      "cell_type": "code",
      "source": [
        "df_spark_final.printSchema()"
      ],
      "metadata": {
        "colab": {
          "base_uri": "https://localhost:8080/"
        },
        "id": "hTwgyjr4RA8q",
        "outputId": "75bb1115-4118-4c58-8d0e-c692ae178bee"
      },
      "execution_count": null,
      "outputs": [
        {
          "output_type": "stream",
          "name": "stdout",
          "text": [
            "root\n",
            " |-- emitente: string (nullable = true)\n",
            " |-- dt_emissao: timestamp (nullable = true)\n",
            " |-- dt_acidente: timestamp (nullable = true)\n",
            " |-- cod_local_acidente: string (nullable = true)\n",
            " |-- local_acidente: string (nullable = true)\n",
            " |-- uf_acidente: string (nullable = true)\n",
            " |-- cod_doenca: string (nullable = true)\n",
            " |-- doenca: string (nullable = true)\n",
            " |-- natureza_lesao: string (nullable = true)\n",
            " |-- parte_corpo: string (nullable = true)\n",
            " |-- causador_acidente: string (nullable = true)\n",
            " |-- tipo_acidente: string (nullable = true)\n",
            " |-- dt_nasc: timestamp (nullable = true)\n",
            " |-- idade: integer (nullable = true)\n",
            " |-- sexo: string (nullable = true)\n",
            " |-- cod_ocupacao_acidentado: string (nullable = true)\n",
            " |-- ocupacao_acidentado: string (nullable = true)\n",
            " |-- cod_ativ_economica: integer (nullable = true)\n",
            " |-- atv_economica: string (nullable = true)\n",
            " |-- obito: string (nullable = true)\n",
            " |-- filiacao_segurado: string (nullable = true)\n",
            " |-- beneficio_tipo: string (nullable = true)\n",
            " |-- dt_despacho: string (nullable = true)\n",
            " |-- uf_empregador: string (nullable = true)\n",
            " |-- cnpj: string (nullable = true)\n",
            "\n"
          ]
        }
      ]
    },
    {
      "cell_type": "markdown",
      "source": [
        "####▶️ **Realizando insights com pyspark**\n",
        "\n",
        "Vamos realizar agora alguns insights com o pyspark, para verificar se nosso dataframe encontra-se usual."
      ],
      "metadata": {
        "id": "SOp9e--E4c8m"
      }
    },
    {
      "cell_type": "code",
      "source": [
        "# window fuctions\n",
        "\n",
        "#CRIAR UMA PARTIÇÃO SOBRE O DATAFRAME PARA UTILIZAR ALGUM TIPO DE CLASSIFICAÇÃO\n",
        "w0 = Window.partitionBy(F.col('dt_acidente').isNotNull()).orderBy(F.col('local_acidente').desc())\n",
        "\n",
        "#CRIAR UMA PARTIÇÃO SOBRE O DATAFRAME PARA UTILIZAR ALGUM TIPO DE CLASSIFICAÇÃO\n",
        "w1 = Window.partitionBy(F.col('doenca')).orderBy(F.col('dt_acidente').desc())"
      ],
      "metadata": {
        "id": "OF7iDgkr4hEC"
      },
      "execution_count": null,
      "outputs": []
    },
    {
      "cell_type": "code",
      "source": [
        "(df_spark_final.select(F.col('dt_acidente'), F.col('local_acidente'), F.col('doenca'))\n",
        "          .withColumn('numero_linha', F.row_number().over(w0))).show(truncate = False)"
      ],
      "metadata": {
        "colab": {
          "base_uri": "https://localhost:8080/"
        },
        "id": "BEs2Qy8b5bQc",
        "outputId": "a19ca614-1e1b-4433-a293-2983cc33185c"
      },
      "execution_count": null,
      "outputs": [
        {
          "output_type": "stream",
          "name": "stdout",
          "text": [
            "+-------------------+------------------+---------------------------------------+------------+\n",
            "|dt_acidente        |local_acidente    |doenca                                 |numero_linha|\n",
            "+-------------------+------------------+---------------------------------------+------------+\n",
            "|2022-06-22 00:00:00|Óleo              |Entorse e Distensao do Tornozelo       |1           |\n",
            "|2022-10-18 00:00:00|Óbidos            |null                                   |2           |\n",
            "|2022-10-11 00:00:00|Óbidos            |Frat do Esterno                        |3           |\n",
            "|2022-10-10 00:00:00|Óbidos            |Entorse e Distensao do Tornozelo       |4           |\n",
            "|2022-06-22 00:00:00|Óbidos            |Contusao de Outr Partes e Partes Ne Do |5           |\n",
            "|2022-06-16 00:00:00|Óbidos            |Frat de Outr Ossos do Metacarpo        |6           |\n",
            "|2022-06-01 00:00:00|Óbidos            |Queim de 2.Grau da Cabeca e do Pescoco |7           |\n",
            "|2022-03-16 00:00:00|Óbidos            |Dor em Membro                          |8           |\n",
            "|2022-10-19 00:00:00|Álvares Machado   |Ferim do Couro Cabeludo                |9           |\n",
            "|2022-03-17 00:00:00|Álvares Machado   |Frat do Primeiro Metacarpiano          |10          |\n",
            "|2022-03-17 00:00:00|Álvares Machado   |Entorse Distensao Outr Partes e Partes |11          |\n",
            "|2022-05-31 00:00:00|Álvares Florence  |Ferim Penetr Globo Ocular c/Corpo Estra|12          |\n",
            "|2022-03-21 00:00:00|Álvares Florence  |Ferim de Dedos c/Lesao da Unha         |13          |\n",
            "|2022-06-15 00:00:00|Águia Branca      |Luxacao da Articulacao do Ombro        |14          |\n",
            "|2022-02-10 00:00:00|Águia Branca      |Traum Superf Mult do Punho e da Mao    |15          |\n",
            "|2022-03-11 00:00:00|Águas de São Pedro|Contusao da Mama                       |16          |\n",
            "|2022-03-11 00:00:00|Águas de São Pedro|Contusao do Torax                      |17          |\n",
            "|2022-02-25 00:00:00|Águas de São Pedro|Ferim de Dedos c/Lesao da Unha         |18          |\n",
            "|2022-06-19 00:00:00|Águas de Lindóia  |Ferim de Dedos c/Lesao da Unha         |19          |\n",
            "|2022-06-07 00:00:00|Águas de Lindóia  |Ferim de Dedos c/Lesao da Unha         |20          |\n",
            "+-------------------+------------------+---------------------------------------+------------+\n",
            "only showing top 20 rows\n",
            "\n"
          ]
        }
      ]
    },
    {
      "cell_type": "code",
      "source": [
        "# Insight 1\n",
        "# 1. Mostrar a media de idade por sexo das ocorrencias do CATWEB\n",
        "(df_spark_final.select(F.col('sexo'), F.col('idade'))\n",
        "               .dropna()\n",
        "               .groupBy('sexo')\n",
        "               .agg(F.mean(F.col('idade')).cast('int').alias('media_idade'))\n",
        "               .show())"
      ],
      "metadata": {
        "colab": {
          "base_uri": "https://localhost:8080/"
        },
        "id": "hSPW6BoaCBFf",
        "outputId": "a8fbfb91-9aaa-4299-e292-a16859ed6f8d"
      },
      "execution_count": null,
      "outputs": [
        {
          "output_type": "stream",
          "name": "stdout",
          "text": [
            "+-------------+-----------+\n",
            "|         sexo|media_idade|\n",
            "+-------------+-----------+\n",
            "|Indeterminado|         42|\n",
            "|     Feminino|         37|\n",
            "|    Masculino|         36|\n",
            "+-------------+-----------+\n",
            "\n"
          ]
        }
      ]
    },
    {
      "cell_type": "markdown",
      "source": [
        "Daí temos a média de idade por sexo, lembrando que realizamos o drop dos valores nulos (nesse caso), pois não faria sentido para a insight."
      ],
      "metadata": {
        "id": "uH5ajdXTOg6R"
      }
    },
    {
      "cell_type": "code",
      "source": [
        "#Insight 2\n",
        "# 2. mostrar as ocorrencias  em que houve obito e que o causador_acidente comece com a palavra motocicleta\n",
        "df_spark_final.filter(F.col('obito') == 'Sim').filter('causador_acidente like \"Motocicleta%\"').count()"
      ],
      "metadata": {
        "colab": {
          "base_uri": "https://localhost:8080/"
        },
        "id": "FnR8C_MGCV3p",
        "outputId": "e8b2621d-63e8-4e9f-d8fe-6383a5d5a77c"
      },
      "execution_count": null,
      "outputs": [
        {
          "output_type": "execute_result",
          "data": {
            "text/plain": [
              "32"
            ]
          },
          "metadata": {},
          "execution_count": 237
        }
      ]
    },
    {
      "cell_type": "markdown",
      "source": [
        "Com isso vemos que houveram 32 ocorrências relatadas em que o causador do acidente começou com motocicleta e a pessoa veio à óbito."
      ],
      "metadata": {
        "id": "K925uWUyEtjK"
      }
    },
    {
      "cell_type": "code",
      "source": [
        "# Verificando as linhas do Insight 2\n",
        "df_spark_final.filter(F.col('obito') == 'Sim').filter('causador_acidente like \"Motocicleta%\"').show()"
      ],
      "metadata": {
        "colab": {
          "base_uri": "https://localhost:8080/"
        },
        "id": "hrtlyYtUEojh",
        "outputId": "8a4b4700-8d30-4535-be9e-0bac23b95793"
      },
      "execution_count": null,
      "outputs": [
        {
          "output_type": "stream",
          "name": "stdout",
          "text": [
            "+----------+-------------------+-------------------+------------------+--------------------+-----------+----------+--------------------+--------------------+--------------------+--------------------+-------------+-------------------+-----+---------+-----------------------+--------------------+------------------+--------------------+-----+-----------------+--------------+-----------+-------------------+------------------+\n",
            "|  emitente|         dt_emissao|        dt_acidente|cod_local_acidente|      local_acidente|uf_acidente|cod_doenca|              doenca|      natureza_lesao|         parte_corpo|   causador_acidente|tipo_acidente|            dt_nasc|idade|     sexo|cod_ocupacao_acidentado| ocupacao_acidentado|cod_ativ_economica|       atv_economica|obito|filiacao_segurado|beneficio_tipo|dt_despacho|      uf_empregador|              cnpj|\n",
            "+----------+-------------------+-------------------+------------------+--------------------+-----------+----------+--------------------+--------------------+--------------------+--------------------+-------------+-------------------+-----+---------+-----------------------+--------------------+------------------+--------------------+-----+-----------------+--------------+-----------+-------------------+------------------+\n",
            "|Empregador|2022-10-18 00:00:00|2022-10-17 00:00:00|            130260|              Manaus|       null|     V29.9|Motociclista Acid...|      Lesao Imediata|Cabeca, Partes Mu...|Motocicleta, Moto...|      Trajeto|1998-01-07 00:00:00|   24|Masculino|                 314105|Tec. em Mecânica ...|              3091|Fabricacao de Mot...|  Sim|        Empregado|            Pa|       null|           Amazonas|              null|\n",
            "|Empregador|2022-10-17 00:00:00|2022-10-10 00:00:00|            230440|           Fortaleza|       null|     S06.2|Traum Cerebral Di...|  Outras Lesoes, Nic|Cranio (Inclusive...|Motocicleta, Moto...|      Trajeto|1965-12-09 00:00:00|   56|Masculino|                 514120|    Zelador Edifício|              8112|Condominios Prediais|  Sim|        Empregado|            Pa|       null|              Ceará|              null|\n",
            "|Empregador|2022-10-03 00:00:00|2022-09-30 00:00:00|            520870|             Goiânia|       null|     S06.6|Hemorragia Subara...|    Lesoes Multiplas|Partes Multiplas ...|Motocicleta, Moto...|      Trajeto|1980-06-29 00:00:00|   42|Masculino|                 411010|Assistente Admini...|              5211|       Armazenamento|  Sim|        Empregado|            Pa|       null|              Goiás|              null|\n",
            "|Empregador|2022-10-10 00:00:00|2022-09-26 00:00:00|            354340|      Ribeirão Preto|   Maranhão|     S06.6|Hemorragia Subara...|Contusao, Esmagam...|Cabeca, Partes Mu...|Motocicleta, Moto...|      Trajeto|1991-02-06 00:00:00|   31|Masculino|                 724440|         Serralheiro|              4685|Comercio Atacadis...|  Sim|        Empregado|            Pa|       null|          São Paulo|              null|\n",
            "|Empregador|2022-10-06 00:00:00|2022-09-20 00:00:00|            260120|           Arcoverde|       Pará|     S06.6|Hemorragia Subara...|             Fratura|Cranio (Inclusive...|Motocicleta, Moto...|      Trajeto|1976-06-18 00:00:00|   46|Masculino|                   null|                null|              8411|Administracao Pub...|  Sim|        Empregado|            Pa|       null|         Pernambuco|11.462.454.000.109|\n",
            "|Empregador|2022-10-03 00:00:00|2022-08-23 00:00:00|            317020|          Uberlândia|   Rondônia|      null|                null|             Fratura|Partes Multiplas ...|Motocicleta, Moto...|      Trajeto|1978-02-06 00:00:00|   44|Masculino|                 911305|Mec. Manut. Máqui...|              1220|Fabricacao de Pro...|  Sim|        Empregado|            Pa|       null|       Minas Gerais|              null|\n",
            "|Empregador|2022-06-22 00:00:00|2022-06-22 00:00:00|            310620|      Belo Horizonte|   Rondônia|     I46.9|  Parada Cardiaca Ne|    Lesoes Multiplas|Torax (Inclusive ...|Motocicleta, Moto...|      Trajeto|1974-06-06 00:00:00|   48|Masculino|                 710205|Mestre (Construçã...|              4110|Incorporacao de E...|  Sim|        Empregado|            Pa|       null|       Minas Gerais|              null|\n",
            "|Empregador|2022-06-22 00:00:00|2022-06-21 00:00:00|            350950|            Campinas|   Maranhão|      null|                null|    Lesoes Multiplas|Localizacao da Le...|Motocicleta, Moto...|       Típico|1979-09-07 00:00:00|   42|Masculino|                 519110|Motociclista no T...|              5320|Atividades de Mal...|  Sim|        Empregado|            Pa|       null|          São Paulo|              null|\n",
            "|Empregador|2022-06-21 00:00:00|2022-06-19 00:00:00|            315670|              Sabará|   Rondônia|      null|                null|    Lesoes Multiplas|Partes Multiplas ...|Motocicleta, Moto...|      Trajeto|1977-08-30 00:00:00|   44|Masculino|                 711205|Oper. Caminhão (M...|               724|Extracao de Miner...|  Sim|        Empregado|            Pa|       null|       Minas Gerais|              null|\n",
            "|Empregador|2022-06-24 00:00:00|2022-06-15 00:00:00|            355030|           São Paulo|   Maranhão|      null|                null|  Outras Lesoes, Nic|Localizacao da Le...|Motocicleta, Moto...|      Trajeto|1978-07-20 00:00:00|   43|Masculino|                 710205|Mestre (Construçã...|              4120|Construcao de Edi...|  Sim|        Empregado|            Pa|       null|          São Paulo|              null|\n",
            "|Empregador|2022-06-20 00:00:00|2022-06-14 00:00:00|            510170|     Barra do Bugres|       null|     R96.0|   Morte Instantanea|  Outras Lesoes, Nic|Cranio (Inclusive...|Motocicleta, Moto...|      Trajeto|2000-12-30 00:00:00|   21|Masculino|                 784205|Alimentador de Li...|              1011|Abate de Reses, E...|  Sim|        Empregado|            Pa|       null|        Mato Grosso|              null|\n",
            "|Empregador|2022-06-15 00:00:00|2022-06-09 00:00:00|            313670|        Juiz de Fora|   Rondônia|     T94.0|Sequelas de Traum...|      Lesao Imediata|Tronco, Parte Mul...|Motocicleta, Moto...|      Trajeto|1995-04-02 00:00:00|   27|Masculino|                 783210|Carregador (Armazém)|              4691|Comercio Atacadis...|  Sim|        Empregado|            Pa|       null|       Minas Gerais|              null|\n",
            "|Empregador|2022-06-15 00:00:00|2022-06-08 00:00:00|            410690|            Curitiba|    Roraima|     S06.9|Traum Intracrania...|      Lesao Imediata|Cranio (Inclusive...|Motocicleta, Moto...|      Trajeto|1989-08-29 00:00:00|   32|Masculino|                 234616|Prof. Língua Inglesa|              8513|  Ensino Fundamental|  Sim|        Empregado|            Pa|       null|             Paraná|04.665.952.000.185|\n",
            "|Empregador|2022-06-09 00:00:00|2022-06-08 00:00:00|            350320|          Araraquara|   Maranhão|     S04.4|Traum do Nervo Ab...|      Lesao Imediata|Membros Superiore...|Motocicleta, Moto...|      Trajeto|2002-04-06 00:00:00|   20|Masculino|                 784205|Alimentador de Li...|              2219|Fabricacao de Art...|  Sim|        Empregado|            Pa|       null|          São Paulo|              null|\n",
            "|Empregador|2022-06-13 00:00:00|2022-06-08 00:00:00|            421010|               Mafra|       null|     R10.0|        Abdome Agudo|    Lesoes Multiplas|Abdome (Inclusive...|Motocicleta, Moto...|      Trajeto|1997-08-26 00:00:00|   24|Masculino|                 784205|Alimentador de Li...|              1621|Fabricacao de Mad...|  Sim|        Empregado|            Pa|       null|     Santa Catarina|              null|\n",
            "|Empregador|2022-06-09 00:00:00|2022-06-07 00:00:00|            355645|Vargem Grande Pau...|   Maranhão|     S02.2|Frat dos Ossos Na...|      Lesao Imediata|Face, Partes Mult...|Motocicleta, Moto...|      Trajeto|1978-01-29 00:00:00|   44|Masculino|                 214205|    Engenheiro Civil|              7732|Aluguel de Maquin...|  Sim|        Empregado|            Pa|       null|          São Paulo|              null|\n",
            "|Empregador|2022-06-03 00:00:00|2022-06-03 00:00:00|            240810|               Natal|       null|     S09.9|  Traum Ne da Cabeca|Contusao, Esmagam...|Cranio (Inclusive...|Motocicleta, Moto...|       Típico|1988-05-11 00:00:00|   34|Masculino|                 517330|           Vigilante|              4759|Comercio Varejist...|  Sim|        Empregado|            Pa|       null|Rio Grande do Norte|              null|\n",
            "|Empregador|2022-06-03 00:00:00|2022-06-02 00:00:00|            231290|              Sobral|       null|     V29.4|Condutor Colis Ou...|      Lesao Imediata|Partes Multiplas ...|Motocicleta, Moto...|      Trajeto|1989-06-18 00:00:00|   32|Masculino|                   null|                null|              5611|Restaurantes e Ou...|  Sim|        Empregado|            Pa|       null|              Ceará|              null|\n",
            "|Empregador|2022-06-09 00:00:00|2022-06-02 00:00:00|            172100|           Palmas-To|    Sergipe|     V23.3|Pessoa ao Subir o...|      Lesao Imediata|Membros Inferiore...|Motocicleta, Moto...|      Trajeto|1973-07-25 00:00:00|   48|Masculino|                 622010|          Jardineiro|              7020|Atividades de Con...|  Sim|        Empregado|            Pa|       null|          Tocantins|              null|\n",
            "|Empregador|2022-06-01 00:00:00|2022-05-31 00:00:00|            353460|        Osvaldo Cruz|   Maranhão|      null|                null| Lesao Imediata, Nic|         Cabeca, Nic|Motocicleta, Moto...|      Trajeto|1996-07-13 00:00:00|   25|Masculino|                 951105|Eletricista de Ma...|              4742|Comercio Varejist...|  Sim|        Empregado|            Pa|       null|          São Paulo|              null|\n",
            "+----------+-------------------+-------------------+------------------+--------------------+-----------+----------+--------------------+--------------------+--------------------+--------------------+-------------+-------------------+-----+---------+-----------------------+--------------------+------------------+--------------------+-----+-----------------+--------------+-----------+-------------------+------------------+\n",
            "only showing top 20 rows\n",
            "\n"
          ]
        }
      ]
    },
    {
      "cell_type": "code",
      "source": [
        "# Insight 3\n",
        "# 3. mostrar todas as ocorrencias de Masculino entre 30 e 50 anos que tenha natureza_lesao que contenha fratura\n",
        "(df_spark_final.filter(F.col('sexo') == 'Masculino')\n",
        "               .filter(F.col('idade') >=30)\n",
        "               .filter(F.col('idade') <= 50)\n",
        "               .filter(F.col('natureza_lesao').contains('Fratura'))).count()"
      ],
      "metadata": {
        "colab": {
          "base_uri": "https://localhost:8080/"
        },
        "id": "qeR8i27bChCm",
        "outputId": "4af8e47f-72b3-440d-beb8-64231f2c7173"
      },
      "execution_count": null,
      "outputs": [
        {
          "output_type": "execute_result",
          "data": {
            "text/plain": [
              "8507"
            ]
          },
          "metadata": {},
          "execution_count": 239
        }
      ]
    },
    {
      "cell_type": "markdown",
      "source": [
        "Vemos que 8.507 homens entre 30 e 50 anos registraram uma ocorrência em que a natureza da lesão fora Fratura."
      ],
      "metadata": {
        "id": "nG0SwWp4HER5"
      }
    },
    {
      "cell_type": "code",
      "source": [
        "(df_spark_final.filter(F.col('sexo') == 'Masculino')\n",
        "               .filter(F.col('idade') >=30)\n",
        "               .filter(F.col('idade') <= 50)\n",
        "               .filter(F.col('natureza_lesao').contains('Fratura'))).show()"
      ],
      "metadata": {
        "colab": {
          "base_uri": "https://localhost:8080/"
        },
        "id": "-NpP5vd3GxPE",
        "outputId": "44f818eb-ae63-425e-df7b-b35e7b81cae0"
      },
      "execution_count": null,
      "outputs": [
        {
          "output_type": "stream",
          "name": "stdout",
          "text": [
            "+----------+-------------------+-------------------+------------------+--------------------+-----------+----------+--------------------+--------------+--------------------+--------------------+-------------+-------------------+-----+---------+-----------------------+--------------------+------------------+--------------------+-----+-----------------+--------------+-----------+-----------------+----+\n",
            "|  emitente|         dt_emissao|        dt_acidente|cod_local_acidente|      local_acidente|uf_acidente|cod_doenca|              doenca|natureza_lesao|         parte_corpo|   causador_acidente|tipo_acidente|            dt_nasc|idade|     sexo|cod_ocupacao_acidentado| ocupacao_acidentado|cod_ativ_economica|       atv_economica|obito|filiacao_segurado|beneficio_tipo|dt_despacho|    uf_empregador|cnpj|\n",
            "+----------+-------------------+-------------------+------------------+--------------------+-----------+----------+--------------------+--------------+--------------------+--------------------+-------------+-------------------+-----+---------+-----------------------+--------------------+------------------+--------------------+-----+-----------------+--------------+-----------+-----------------+----+\n",
            "|Empregador|2022-10-31 00:00:00|2022-10-29 00:00:00|            410400|Campina Grande do...|    Roraima|     S42.0|   Frat da Clavicula|       Fratura|               Ombro|Queda de Pes. com...|      Trajeto|1976-07-19 00:00:00|   46|Masculino|                 521135|           Frentista|              4731|Comercio Varejist...|  Não|        Empregado|            Pa|       null|           Paraná|null|\n",
            "|Empregador|2022-10-31 00:00:00|2022-10-28 00:00:00|            292740|            Salvador|       null|     S52.1|Frat da Extremida...|       Fratura|Braco (Entre O Pu...|Queda de Pes. em ...|       Típico|1990-08-18 00:00:00|   32|Masculino|                 514205|        Coletor Lixo|              3821|Tratamento e Disp...|  Não|        Empregado|            Pa|       null|            Bahia|null|\n",
            "|Empregador|2022-10-31 00:00:00|2022-10-28 00:00:00|            521560|      Padre Bernardo|    Roraima|     S92.5|Frat de Outr Artelho|       Fratura|                Dedo|Ferramenta Manual...|       Típico|1978-02-20 00:00:00|   44|Masculino|                 840105|Superv. Prod. da ...|              2229|Fabricacao de Art...|  Não|        Empregado|            Pa|       null|           Paraná|null|\n",
            "|Empregador|2022-10-31 00:00:00|2022-10-28 00:00:00|            351880|           Guarulhos|   Maranhão|     S32.2|      Frat do Coccix|       Fratura|         Tronco, Nic|Impacto de Pes. C...|       Típico|1990-02-19 00:00:00|   32|Masculino|                 783225|Ajudante de Motor...|              4930|Transporte Rodovi...|  Não|        Empregado|            Pa|       null|        São Paulo|null|\n",
            "|Empregador|2022-10-31 00:00:00|2022-10-28 00:00:00|            430930|              Guaíba|       null|     S62.5|     Frat do Polegar|       Fratura|                Dedo|Aprision. Em, Sob...|       Típico|1988-09-15 00:00:00|   34|Masculino|                 723330|Pintor Pistola (E...|              2822|Fabricacao de Maq...|  Não|        Empregado|            Pa|       null|Rio Grande do Sul|null|\n",
            "|Empregador|2022-10-31 00:00:00|2022-10-28 00:00:00|            317010|             Uberaba|   Rondônia|     S82.2|Frat da Diafise d...|       Fratura|Perna (Entre O To...|Impacto de Pes. C...|       Típico|1991-08-10 00:00:00|   31|Masculino|                 519110|Motociclista no T...|              4771|Comercio Varejist...|  Não|        Empregado|            Pa|       null|     Minas Gerais|null|\n",
            "|Empregador|2022-10-28 00:00:00|2022-10-27 00:00:00|            354890|       São Carlos-Sp|   Maranhão|     S22.3|     Frat de Costela|       Fratura|Torax (Inclusive ...|Motocicleta, Moto...|      Trajeto|1976-05-08 00:00:00|   46|Masculino|                 992225|Auxiliar Geral de...|              4311|Demolicao e Prepa...|  Não|        Empregado|            Pa|       null|        São Paulo|null|\n",
            "|Empregador|2022-10-28 00:00:00|2022-10-27 00:00:00|            211130|            São Luís|   Maranhão|     S22.3|     Frat de Costela|       Fratura|Torax (Inclusive ...|Chao - Superficie...|       Típico|1977-04-27 00:00:00|   45|Masculino|                   null|                null|              4744|Comercio Varejist...|  Não|        Empregado|            Pa|       null|        São Paulo|null|\n",
            "|Empregador|2022-10-31 00:00:00|2022-10-27 00:00:00|            431140|          Lajeado-Rs|       null|     S62.3|Frat de Outr Osso...|       Fratura|Mao (Exceto Punho...|        Maquina, Nic|       Típico|1992-02-25 00:00:00|   30|Masculino|                 848520|            Magarefe|              1012|Abate de Suinos, ...|  Não|        Empregado|            Pa|       null|Rio Grande do Sul|null|\n",
            "|Empregador|2022-10-28 00:00:00|2022-10-27 00:00:00|            355410|             Taubaté|   Maranhão|     S52.9|Frat do Antebraco...|       Fratura|Antebraco (Entre ...|Impacto de Pes. C...|       Típico|1992-07-12 00:00:00|   30|Masculino|                 783225|Ajudante de Motor...|              4722|Comercio Varejist...|  Não|        Empregado|            Pa|       null|        São Paulo|null|\n",
            "|Empregador|2022-10-28 00:00:00|2022-10-27 00:00:00|            412820|    União da Vitória|    Roraima|     S62.6|  Frat de Outr Dedos|       Fratura|                Dedo|Aprision. Em, Sob...|       Típico|1988-10-06 00:00:00|   34|Masculino|                 914425|Mec. Veículos Aut...|               810|Extracao de Pedra...|  Não|        Empregado|            Pa|       null|           Paraná|null|\n",
            "|Empregador|2022-10-28 00:00:00|2022-10-27 00:00:00|            350320|          Araraquara|   Maranhão|     S91.2|Ferim de Artelhos...|       Fratura|Pe (Exceto Artelhos)|Impacto Sofrido p...|       Típico|1981-10-01 00:00:00|   41|Masculino|                 911305|Mec. Manut. Máqui...|              1033|Fabricacao de Suc...|  Não|        Empregado|            Pa|       null|        São Paulo|null|\n",
            "|Empregador|2022-10-31 00:00:00|2022-10-27 00:00:00|            355410|             Taubaté|   Maranhão|     S62.6|  Frat de Outr Dedos|       Fratura|                Dedo|Metal - Inclui Li...|       Típico|1974-01-27 00:00:00|   48|Masculino|                 914405|Mec. Manut. Autom...|              4520|Manutencao e Repa...|  Não|        Empregado|            Pa|       null|        São Paulo|null|\n",
            "|Empregador|2022-10-28 00:00:00|2022-10-27 00:00:00|            270630| Palmeira dos Índios|       null|     S92.3|Frat de Ossos do ...|       Fratura|Perna (Do Tornoze...|Motocicleta, Moto...|      Trajeto|1975-05-15 00:00:00|   47|Masculino|                 717020|   Servente de Obras|              1051| Preparacao do Leite|  Não|        Empregado|            Pa|       null|          Alagoas|null|\n",
            "|Empregador|2022-10-31 00:00:00|2022-10-27 00:00:00|            431870|        São Leopoldo|       null|     S52.5|Frat da Extremida...|       Fratura|Partes Multiplas ...|Veiculo Rodoviari...|      Trajeto|1989-02-21 00:00:00|   33|Masculino|                 391205|Inspetor de Quali...|              2550|Fabricacao de Equ...|  Não|        Empregado|            Pa|       null|Rio Grande do Sul|null|\n",
            "|Empregador|2022-10-28 00:00:00|2022-10-27 00:00:00|            311050|         Camanducaia|   Maranhão|     S62.6|  Frat de Outr Dedos|       Fratura|                Dedo|        Maquina, Nic|       Típico|1971-12-22 00:00:00|   50|Masculino|                 828110|Oleiro (Fabricaçã...|              2342|Fabricacao de Pro...|  Não|        Empregado|            Pa|       null|        São Paulo|null|\n",
            "|Empregador|2022-10-28 00:00:00|2022-10-27 00:00:00|            431880| São Lourenço do Sul|       null|     S61.1|Ferim de Dedos c/...|       Fratura|                Dedo|Impacto de Pes. C...|       Típico|1989-12-19 00:00:00|   32|Masculino|                 782510|Motorista de Cami...|              4744|Comercio Varejist...|  Não|        Empregado|            Pa|       null|Rio Grande do Sul|null|\n",
            "|Empregador|2022-10-28 00:00:00|2022-10-27 00:00:00|            355220|            Sorocaba|   Maranhão|      null|                null|       Fratura|Torax (Inclusive ...|Impacto de Pes. C...|      Trajeto|1983-12-04 00:00:00|   38|Masculino|                 517420|               Vigia|              8111|Servicos Combinad...|  Não|        Empregado|            Pa|       null|        São Paulo|null|\n",
            "|Empregador|2022-10-27 00:00:00|2022-10-26 00:00:00|            521890|           Rubiataba|       null|     S82.0|      Frat da Rotula|       Fratura|              Joelho|Queda de Pes. em ...|       Típico|1992-09-27 00:00:00|   30|Masculino|                 784205|Alimentador de Li...|              1931|Fabricacao de Alcool|  Não|        Empregado|            Pa|       null|            Goiás|null|\n",
            "|Empregador|2022-10-26 00:00:00|2022-10-26 00:00:00|            354980|São José do Rio P...|   Maranhão|     S52.2|Frat da Diafise d...|       Fratura|Membros Superiore...|Motocicleta, Moto...|       Típico|1989-07-08 00:00:00|   33|Masculino|                 311710|    Colorista Têxtil|              4741|Comercio Varejist...|  Não|        Empregado|            Pa|       null|        São Paulo|null|\n",
            "+----------+-------------------+-------------------+------------------+--------------------+-----------+----------+--------------------+--------------+--------------------+--------------------+-------------+-------------------+-----+---------+-----------------------+--------------------+------------------+--------------------+-----+-----------------+--------------+-----------+-----------------+----+\n",
            "only showing top 20 rows\n",
            "\n"
          ]
        }
      ]
    },
    {
      "cell_type": "code",
      "source": [
        "# Insight 4\n",
        "# 4. Mostrar acidentes do segundo semestre de 2022 das mulheres em que uf_acidente seja Maranhão\n",
        "(df_spark_final.filter(F.col('sexo') == 'Feminino')\n",
        "               .filter(F.col('uf_acidente').like('Maranhão'))\n",
        "               .filter(F.col('dt_acidente')>= '2022-06-01 00:00:00')).count()"
      ],
      "metadata": {
        "colab": {
          "base_uri": "https://localhost:8080/"
        },
        "id": "5H4lnE1vCn-N",
        "outputId": "a48247ce-d973-4006-b300-0fd7853f01dd"
      },
      "execution_count": null,
      "outputs": [
        {
          "output_type": "execute_result",
          "data": {
            "text/plain": [
              "7302"
            ]
          },
          "metadata": {},
          "execution_count": 241
        }
      ]
    },
    {
      "cell_type": "markdown",
      "source": [
        "Ocorreram no segundo semestre de 2022, 7.302 ocorrências de mulheres onde a uf do acidente foi Maranhão."
      ],
      "metadata": {
        "id": "kZ-EP7TTIQ7n"
      }
    },
    {
      "cell_type": "code",
      "source": [
        "(df_spark_final.filter(F.col('sexo') == 'Feminino')\n",
        "               .filter(F.col('uf_acidente').like('Maranhão'))\n",
        "               .filter(F.col('dt_acidente')>= '2022-06-01 00:00:00')).show()"
      ],
      "metadata": {
        "colab": {
          "base_uri": "https://localhost:8080/"
        },
        "id": "2qzlYLsTIjTf",
        "outputId": "c400da27-06df-4dc2-b081-00fea09bf9dd"
      },
      "execution_count": null,
      "outputs": [
        {
          "output_type": "stream",
          "name": "stdout",
          "text": [
            "+------------------+-------------------+-------------------+------------------+--------------+-----------+----------+--------------------+--------------------+--------------------+--------------------+-------------+-------------------+-----+--------+-----------------------+--------------------+------------------+--------------------+-----+-----------------+--------------+-----------+-------------+------------------+\n",
            "|          emitente|         dt_emissao|        dt_acidente|cod_local_acidente|local_acidente|uf_acidente|cod_doenca|              doenca|      natureza_lesao|         parte_corpo|   causador_acidente|tipo_acidente|            dt_nasc|idade|    sexo|cod_ocupacao_acidentado| ocupacao_acidentado|cod_ativ_economica|       atv_economica|obito|filiacao_segurado|beneficio_tipo|dt_despacho|uf_empregador|              cnpj|\n",
            "+------------------+-------------------+-------------------+------------------+--------------+-----------+----------+--------------------+--------------------+--------------------+--------------------+-------------+-------------------+-----+--------+-----------------------+--------------------+------------------+--------------------+-----+-----------------+--------------+-----------+-------------+------------------+\n",
            "|        Empregador|2022-10-31 00:00:00|2022-10-31 00:00:00|            355030|     São Paulo|   Maranhão|     T00.9|Traum Superf Mult Ne|Escoriacao, Abras...|Partes Multiplas ...|Chao - Superficie...|       Típico|1976-06-28 00:00:00|   46|Feminino|                 223505|          Enfermeiro|              8610|Atividades de Ate...|  Não|        Empregado|            Pa|       null|    São Paulo|              null|\n",
            "|        Empregador|2022-10-31 00:00:00|2022-10-31 00:00:00|            355030|     São Paulo|   Maranhão|     S80.0|  Contusao do Joelho|Escoriacao, Abras...|              Joelho|Calcada ou Caminh...|      Trajeto|1971-07-19 00:00:00|   51|Feminino|                 322205|  Tec. de Enfermagem|              8610|Atividades de Ate...|  Não|        Empregado|            Pa|       null|    São Paulo|              null|\n",
            "|        Empregador|2022-10-31 00:00:00|2022-10-31 00:00:00|            355030|     São Paulo|   Maranhão|     S60.0|Contusao de Dedos...|             Luxacao|                Dedo|Aprision. Em, Sob...|       Típico|1979-03-17 00:00:00|   43|Feminino|                 516210|  Cuidador de Idosos|              9430|Atividades de Ass...|  Não|        Empregado|            Pa|       null|    São Paulo|              null|\n",
            "|        Empregador|2022-10-31 00:00:00|2022-10-31 00:00:00|            355030|     São Paulo|   Maranhão|     S93.4|Entorse e Distens...|Contusao, Esmagam...|Pe (Exceto Artelhos)|Calcada ou Caminh...|      Trajeto|1977-11-29 00:00:00|   44|Feminino|                   null|                null|              8610|Atividades de Ate...|  Não|        Empregado|            Pa|       null|    São Paulo|              null|\n",
            "|Autoridade Pública|2022-10-31 00:00:00|2022-10-30 00:00:00|            355030|     São Paulo|   Maranhão|     Z20.9|Contato Exposicao...|Escoriacao, Abras...|                Dedo|Puncao, Ponteiro,...|       Típico|1968-12-09 00:00:00|   53|Feminino|                 322205|  Tec. de Enfermagem|              8610|Atividades de Ate...|  Não|        Empregado|            Pa|       null|    São Paulo|60.448.040.000.122|\n",
            "|        Empregador|2022-10-31 00:00:00|2022-10-30 00:00:00|            355500|          Tupã|   Maranhão|     W18.8|   Outr Locais Espec|Contusao, Esmagam...|Perna (Do Tornoze...|Queda de Pes. com...|       Típico|1984-10-25 00:00:00|   38|Feminino|                   null|                null|              8610|Atividades de Ate...|  Não|        Empregado|            Pa|       null|    São Paulo|              null|\n",
            "|        Empregador|2022-10-31 00:00:00|2022-10-29 00:00:00|            355030|     São Paulo|   Maranhão|     S54.2|Traum do Nervo Ra...|      Lesao Imediata|               Ombro|Queda de Pes. em ...|       Típico|1964-04-09 00:00:00|   58|Feminino|                   null|                null|              8299|Atividades de Ser...|  Não|        Empregado|            Pa|       null|    São Paulo|              null|\n",
            "|        Empregador|2022-10-31 00:00:00|2022-10-29 00:00:00|            352390|           Itu|   Maranhão|     Z00.0|  Exame Medico Geral|      Lesao Imediata|                Dedo|                null|       Típico|1977-08-27 00:00:00|   45|Feminino|                 322205|  Tec. de Enfermagem|              8610|Atividades de Ate...|  Não|        Empregado|            Pa|       null|    São Paulo|              null|\n",
            "|        Empregador|2022-10-31 00:00:00|2022-10-29 00:00:00|            350280|     Araçatuba|   Maranhão|     Z20.9|Contato Exposicao...|Corte, Laceracao,...|                Dedo|Agente Infeccioso...|       Típico|1992-04-08 00:00:00|   30|Feminino|                 322230|Auxiliar de Enfer...|              8610|Atividades de Ate...|  Não|        Empregado|            Pa|       null|    São Paulo|              null|\n",
            "|        Empregador|2022-10-31 00:00:00|2022-10-29 00:00:00|            353980|           Poá|   Maranhão|     S89.8|Outr Traum Espec ...|Corte, Laceracao,...|Perna (Entre O To...|Motocicleta, Moto...|      Trajeto|1978-01-22 00:00:00|   44|Feminino|                 511210|Despachante Trans...|              4921|Transporte Rodovi...|  Não|        Empregado|            Pa|       null|    São Paulo|              null|\n",
            "|        Empregador|2022-10-31 00:00:00|2022-10-29 00:00:00|            355030|     São Paulo|   Maranhão|     S61.0|Ferim de Dedos s/...|Escoriacao, Abras...|                Dedo|       Ser Vivo, Nic|       Típico|1986-12-25 00:00:00|   35|Feminino|                 322205|  Tec. de Enfermagem|              8610|Atividades de Ate...|  Não|        Empregado|            Pa|       null|    São Paulo|              null|\n",
            "|        Empregador|2022-10-31 00:00:00|2022-10-28 00:00:00|            353080|    Moji-Mirim|   Maranhão|     S90.0|Contusao do Torno...|             Luxacao|Perna (Entre O To...|Escada Permanente...|       Típico|1984-12-28 00:00:00|   37|Feminino|                 421125|         Oper. Caixa|              5221|Concessionarias d...|  Não|        Empregado|            Pa|       null|    São Paulo|              null|\n",
            "|        Empregador|2022-10-31 00:00:00|2022-10-28 00:00:00|            350450|         Avaré|   Maranhão|     Z20.9|Contato Exposicao...|  Outras Lesoes, Nic|                Dedo|                null|       Típico|1995-12-14 00:00:00|   26|Feminino|                   null|                null|              8610|Atividades de Ate...|  Não|        Empregado|            Pa|       null|    São Paulo|              null|\n",
            "|        Empregador|2022-10-28 00:00:00|2022-10-28 00:00:00|            355410|       Taubaté|   Maranhão|     S00.3|Traum Superf do N...|Corte, Laceracao,...|Nariz (Inclusive ...|Ferramenta, Maqui...|       Típico|1969-09-21 00:00:00|   53|Feminino|                 513430|    Copeiro Hospital|              8610|Atividades de Ate...|  Não|        Empregado|            Pa|       null|    São Paulo|              null|\n",
            "|        Empregador|2022-10-28 00:00:00|2022-10-28 00:00:00|            355620|      Valinhos|   Maranhão|     Z20.0|Contato Exposicao...|      Lesao Imediata|              Joelho|                null|       Típico|1975-08-10 00:00:00|   47|Feminino|                   null|                null|              8121|Limpeza em Predio...|  Não|        Empregado|            Pa|       null|    São Paulo|              null|\n",
            "|        Empregador|2022-10-28 00:00:00|2022-10-28 00:00:00|            350950|      Campinas|   Maranhão|     S62.2|Frat do Primeiro ...|             Fratura|                Dedo|        Maquina, Nic|       Típico|1972-09-09 00:00:00|   50|Feminino|                   null|                null|              1412|Confeccao de Peca...|  Não|        Empregado|            Pa|       null|    São Paulo|              null|\n",
            "|        Empregador|2022-10-31 00:00:00|2022-10-28 00:00:00|            351620|        Franca|   Maranhão|     T14.4|Traum de Nervos d...|Contusao, Esmagam...|Membros Inferiore...|Motocicleta, Moto...|      Trajeto|1996-07-25 00:00:00|   26|Feminino|                 331110|Auxiliar de Desen...|              8511|Educacao Infantil...|  Não|        Empregado|            Pa|       null|    São Paulo|              null|\n",
            "|        Empregador|2022-10-31 00:00:00|2022-10-28 00:00:00|            355030|     São Paulo|   Maranhão|     M25.5|       Dor Articular|             Luxacao|Braco (Entre O Pu...|Impacto de Pes. C...|       Típico|1965-01-15 00:00:00|   57|Feminino|                 516215|          Mãe Social|              8513|  Ensino Fundamental|  Não|        Empregado|            Pa|       null|    São Paulo|              null|\n",
            "|        Empregador|2022-10-27 00:00:00|2022-10-27 00:00:00|            355030|     São Paulo|   Maranhão|     S82.6|Frat do Maleolo L...|             Fratura|Articulacao do To...|Queda de Pes. com...|       Típico|1983-07-11 00:00:00|   39|Feminino|                   null|                null|              8220|Atividades de Tel...|  Não|        Empregado|            Pa|       null|    São Paulo|              null|\n",
            "|        Empregador|2022-10-28 00:00:00|2022-10-27 00:00:00|            355400|         Tatuí|   Maranhão|     T78.4|          Alergia Ne| Lesao Imediata, Nic|Nariz (Inclusive ...|    Aerodispersoides|       Típico|1995-11-30 00:00:00|   26|Feminino|                 784205|Alimentador de Li...|              1091|Fabricacao de Pro...|  Não|        Empregado|            Pa|       null|    São Paulo|              null|\n",
            "+------------------+-------------------+-------------------+------------------+--------------+-----------+----------+--------------------+--------------------+--------------------+--------------------+-------------+-------------------+-----+--------+-----------------------+--------------------+------------------+--------------------+-----+-----------------+--------------+-----------+-------------+------------------+\n",
            "only showing top 20 rows\n",
            "\n"
          ]
        }
      ]
    },
    {
      "cell_type": "code",
      "source": [
        "# Insight 5\n",
        "# 5. Mostrar quais são as cinco doenças com maior numeros de ocorrencias\n",
        "\n",
        "# DSelecionando apenas coluna 'doenca'\n",
        "dfteste = df_spark_final.select(F.col('doenca'))\n",
        "\n",
        "# Eliminando nulos\n",
        "dfteste = dfteste.dropna()\n",
        "\n",
        "#visualizando reusultado da insight\n",
        "dfteste.groupBy(F.col('doenca')).count().orderBy(F.col('count').desc()).show(5, truncate = False)"
      ],
      "metadata": {
        "colab": {
          "base_uri": "https://localhost:8080/"
        },
        "id": "vca2iQSvCsuM",
        "outputId": "7a5c0c69-87c2-4141-ea0b-bbe994d4e9d1"
      },
      "execution_count": null,
      "outputs": [
        {
          "output_type": "stream",
          "name": "stdout",
          "text": [
            "+--------------------------------+-----+\n",
            "|doenca                          |count|\n",
            "+--------------------------------+-----+\n",
            "|Ferim de Dedos s/Lesao da Unha  |6257 |\n",
            "|Frat de Outr Dedos              |6121 |\n",
            "|Ferim de Dedos c/Lesao da Unha  |5207 |\n",
            "|Entorse e Distensao do Tornozelo|4509 |\n",
            "|Contusao do Joelho              |2947 |\n",
            "+--------------------------------+-----+\n",
            "only showing top 5 rows\n",
            "\n"
          ]
        }
      ]
    },
    {
      "cell_type": "code",
      "source": [
        "# Gerando arquivo pandas\n",
        "df_pandas_final = df_spark_final.toPandas()"
      ],
      "metadata": {
        "id": "B7uxq8D5a7Vf"
      },
      "execution_count": null,
      "outputs": []
    },
    {
      "cell_type": "markdown",
      "source": [
        "Vimos que as campeãs de ocorrências são as listadas acima."
      ],
      "metadata": {
        "id": "gvmyFKEvMDiu"
      }
    },
    {
      "cell_type": "markdown",
      "source": [
        "## 💿 **6 - Carregando DataFrame tratado nos Data Lakes**\n",
        "\n",
        "Finalizado o processo de tratamento do Dataframe, faremos a parte final do nosso trabalho, que é a de Carga dos arquivos, novamente para nossos Data Lakes e dessa vez, também disponibilizaremos os dados em um banco de dados MySQL no Google Cloud SQL."
      ],
      "metadata": {
        "id": "HkvM1dVtsOp0"
      }
    },
    {
      "cell_type": "markdown",
      "source": [
        "### ☑️**6.1 - Carregando para o MongoDB**\n",
        "\n",
        "Como já fizemos a conexão com o Mongo Atlas, não se faz necessário abrir uma nova seção, então vamos enviar o arquivo tratado para seu destino."
      ],
      "metadata": {
        "id": "m68cM_ZUy5mj"
      }
    },
    {
      "cell_type": "code",
      "source": [
        "# Enderenço do cluster                   \n",
        "uri = \"mongodb+srv://cluster0.2qynihy.mongodb.net/?authSource=%24external&authMechanism=MONGODB-X509&retryWrites=true&w=majority\"\n",
        "\n",
        "# Altenticando o Mongo\n",
        "client = MongoClient(uri,\n",
        "                     tls=True,\n",
        "                     tlsCertificateKeyFile='/content/chave-mongo-projetodupla.pem')\n",
        "\n",
        "#Escolha do DataBase e Coleção\n",
        "db_projeto = client['projeto_aquecimento']\n",
        "\n",
        "# Criando a coleção para o df_cat final\n",
        "colecaocat1 = db_projeto['DF-CAT-2022-trat']"
      ],
      "metadata": {
        "id": "yLyF0HdNy-4q"
      },
      "execution_count": null,
      "outputs": []
    },
    {
      "cell_type": "code",
      "source": [
        "df_pandas_final.head(3)"
      ],
      "metadata": {
        "colab": {
          "base_uri": "https://localhost:8080/",
          "height": 381
        },
        "id": "6LJaB57iSTVp",
        "outputId": "acb4c8c5-f392-481d-b2af-211e5c9a95e0"
      },
      "execution_count": null,
      "outputs": [
        {
          "output_type": "execute_result",
          "data": {
            "text/plain": [
              "     emitente           dt_emissao dt_acidente cod_local_acidente  \\\n",
              "0  Empregador  2022-10-31 00:00:00  2022-10-31             240420   \n",
              "1  Empregador  2022-10-31 00:00:00  2022-10-31             352400   \n",
              "2  Empregador  2022-10-31 00:00:00  2022-10-31             330240   \n",
              "\n",
              "  local_acidente uf_acidente cod_doenca                             doenca  \\\n",
              "0      Goianinha        None      S60.1  Contusao de Dedos c/Lesao da Unha   \n",
              "1        Itupeva    Maranhão      W00.5    Areas de Comercio e de Servicos   \n",
              "2          Macaé   Tocantins      S61.0     Ferim de Dedos s/Lesao da Unha   \n",
              "\n",
              "                               natureza_lesao  \\\n",
              "0  Corte, Laceracao, Ferida Contusa, Punctura   \n",
              "1                          Outras Lesoes, Nic   \n",
              "2  Corte, Laceracao, Ferida Contusa, Punctura   \n",
              "\n",
              "                                     parte_corpo  \\\n",
              "0                                           Dedo   \n",
              "1  Partes Multiplas - Aplica-Se Quando Mais de U   \n",
              "2                                           Dedo   \n",
              "\n",
              "                             causador_acidente tipo_acidente  \\\n",
              "0         Impacto de Pes. Contra Objeto Parado        Típico   \n",
              "1               Agente do Acidente Inexistente        Típico   \n",
              "2  Embalagem e Recipiente, Vazio ou Cheio, Nic        Típico   \n",
              "\n",
              "               dt_nasc  idade       sexo cod_ocupacao_acidentado  \\\n",
              "0  1994-01-09 00:00:00   29.0  Masculino                  862150   \n",
              "1  1979-12-10 00:00:00   43.0  Masculino                  411010   \n",
              "2  2000-10-18 00:00:00   22.0  Masculino                  513315   \n",
              "\n",
              "              ocupacao_acidentado  cod_ativ_economica  \\\n",
              "0  Oper. Máquinas Fixas, em Geral              2342.0   \n",
              "1       Assistente Administrativo              2071.0   \n",
              "2                 Camareiro Hotel              4729.0   \n",
              "\n",
              "                                   atv_economica obito filiacao_segurado  \\\n",
              "0  Fabricacao de Produtos Ceramicos Nao-Refratar   Não         Empregado   \n",
              "1  Fabricacao de Tintas, Vernizes, Esmaltes e La   Não         Empregado   \n",
              "2  Comercio Varejista de Produtos Alimenticios e   Não         Empregado   \n",
              "\n",
              "  beneficio_tipo dt_despacho        uf_empregador  cnpj  \n",
              "0             Pa        None  Rio Grande do Norte  None  \n",
              "1             Pa        None            São Paulo  None  \n",
              "2             Pa        None       Rio de Janeiro  None  "
            ],
            "text/html": [
              "\n",
              "  <div id=\"df-a11074f6-f5a7-4406-821f-11e3233be7ae\">\n",
              "    <div class=\"colab-df-container\">\n",
              "      <div>\n",
              "<style scoped>\n",
              "    .dataframe tbody tr th:only-of-type {\n",
              "        vertical-align: middle;\n",
              "    }\n",
              "\n",
              "    .dataframe tbody tr th {\n",
              "        vertical-align: top;\n",
              "    }\n",
              "\n",
              "    .dataframe thead th {\n",
              "        text-align: right;\n",
              "    }\n",
              "</style>\n",
              "<table border=\"1\" class=\"dataframe\">\n",
              "  <thead>\n",
              "    <tr style=\"text-align: right;\">\n",
              "      <th></th>\n",
              "      <th>emitente</th>\n",
              "      <th>dt_emissao</th>\n",
              "      <th>dt_acidente</th>\n",
              "      <th>cod_local_acidente</th>\n",
              "      <th>local_acidente</th>\n",
              "      <th>uf_acidente</th>\n",
              "      <th>cod_doenca</th>\n",
              "      <th>doenca</th>\n",
              "      <th>natureza_lesao</th>\n",
              "      <th>parte_corpo</th>\n",
              "      <th>causador_acidente</th>\n",
              "      <th>tipo_acidente</th>\n",
              "      <th>dt_nasc</th>\n",
              "      <th>idade</th>\n",
              "      <th>sexo</th>\n",
              "      <th>cod_ocupacao_acidentado</th>\n",
              "      <th>ocupacao_acidentado</th>\n",
              "      <th>cod_ativ_economica</th>\n",
              "      <th>atv_economica</th>\n",
              "      <th>obito</th>\n",
              "      <th>filiacao_segurado</th>\n",
              "      <th>beneficio_tipo</th>\n",
              "      <th>dt_despacho</th>\n",
              "      <th>uf_empregador</th>\n",
              "      <th>cnpj</th>\n",
              "    </tr>\n",
              "  </thead>\n",
              "  <tbody>\n",
              "    <tr>\n",
              "      <th>0</th>\n",
              "      <td>Empregador</td>\n",
              "      <td>2022-10-31 00:00:00</td>\n",
              "      <td>2022-10-31</td>\n",
              "      <td>240420</td>\n",
              "      <td>Goianinha</td>\n",
              "      <td>None</td>\n",
              "      <td>S60.1</td>\n",
              "      <td>Contusao de Dedos c/Lesao da Unha</td>\n",
              "      <td>Corte, Laceracao, Ferida Contusa, Punctura</td>\n",
              "      <td>Dedo</td>\n",
              "      <td>Impacto de Pes. Contra Objeto Parado</td>\n",
              "      <td>Típico</td>\n",
              "      <td>1994-01-09 00:00:00</td>\n",
              "      <td>29.0</td>\n",
              "      <td>Masculino</td>\n",
              "      <td>862150</td>\n",
              "      <td>Oper. Máquinas Fixas, em Geral</td>\n",
              "      <td>2342.0</td>\n",
              "      <td>Fabricacao de Produtos Ceramicos Nao-Refratar</td>\n",
              "      <td>Não</td>\n",
              "      <td>Empregado</td>\n",
              "      <td>Pa</td>\n",
              "      <td>None</td>\n",
              "      <td>Rio Grande do Norte</td>\n",
              "      <td>None</td>\n",
              "    </tr>\n",
              "    <tr>\n",
              "      <th>1</th>\n",
              "      <td>Empregador</td>\n",
              "      <td>2022-10-31 00:00:00</td>\n",
              "      <td>2022-10-31</td>\n",
              "      <td>352400</td>\n",
              "      <td>Itupeva</td>\n",
              "      <td>Maranhão</td>\n",
              "      <td>W00.5</td>\n",
              "      <td>Areas de Comercio e de Servicos</td>\n",
              "      <td>Outras Lesoes, Nic</td>\n",
              "      <td>Partes Multiplas - Aplica-Se Quando Mais de U</td>\n",
              "      <td>Agente do Acidente Inexistente</td>\n",
              "      <td>Típico</td>\n",
              "      <td>1979-12-10 00:00:00</td>\n",
              "      <td>43.0</td>\n",
              "      <td>Masculino</td>\n",
              "      <td>411010</td>\n",
              "      <td>Assistente Administrativo</td>\n",
              "      <td>2071.0</td>\n",
              "      <td>Fabricacao de Tintas, Vernizes, Esmaltes e La</td>\n",
              "      <td>Não</td>\n",
              "      <td>Empregado</td>\n",
              "      <td>Pa</td>\n",
              "      <td>None</td>\n",
              "      <td>São Paulo</td>\n",
              "      <td>None</td>\n",
              "    </tr>\n",
              "    <tr>\n",
              "      <th>2</th>\n",
              "      <td>Empregador</td>\n",
              "      <td>2022-10-31 00:00:00</td>\n",
              "      <td>2022-10-31</td>\n",
              "      <td>330240</td>\n",
              "      <td>Macaé</td>\n",
              "      <td>Tocantins</td>\n",
              "      <td>S61.0</td>\n",
              "      <td>Ferim de Dedos s/Lesao da Unha</td>\n",
              "      <td>Corte, Laceracao, Ferida Contusa, Punctura</td>\n",
              "      <td>Dedo</td>\n",
              "      <td>Embalagem e Recipiente, Vazio ou Cheio, Nic</td>\n",
              "      <td>Típico</td>\n",
              "      <td>2000-10-18 00:00:00</td>\n",
              "      <td>22.0</td>\n",
              "      <td>Masculino</td>\n",
              "      <td>513315</td>\n",
              "      <td>Camareiro Hotel</td>\n",
              "      <td>4729.0</td>\n",
              "      <td>Comercio Varejista de Produtos Alimenticios e</td>\n",
              "      <td>Não</td>\n",
              "      <td>Empregado</td>\n",
              "      <td>Pa</td>\n",
              "      <td>None</td>\n",
              "      <td>Rio de Janeiro</td>\n",
              "      <td>None</td>\n",
              "    </tr>\n",
              "  </tbody>\n",
              "</table>\n",
              "</div>\n",
              "      <button class=\"colab-df-convert\" onclick=\"convertToInteractive('df-a11074f6-f5a7-4406-821f-11e3233be7ae')\"\n",
              "              title=\"Convert this dataframe to an interactive table.\"\n",
              "              style=\"display:none;\">\n",
              "        \n",
              "  <svg xmlns=\"http://www.w3.org/2000/svg\" height=\"24px\"viewBox=\"0 0 24 24\"\n",
              "       width=\"24px\">\n",
              "    <path d=\"M0 0h24v24H0V0z\" fill=\"none\"/>\n",
              "    <path d=\"M18.56 5.44l.94 2.06.94-2.06 2.06-.94-2.06-.94-.94-2.06-.94 2.06-2.06.94zm-11 1L8.5 8.5l.94-2.06 2.06-.94-2.06-.94L8.5 2.5l-.94 2.06-2.06.94zm10 10l.94 2.06.94-2.06 2.06-.94-2.06-.94-.94-2.06-.94 2.06-2.06.94z\"/><path d=\"M17.41 7.96l-1.37-1.37c-.4-.4-.92-.59-1.43-.59-.52 0-1.04.2-1.43.59L10.3 9.45l-7.72 7.72c-.78.78-.78 2.05 0 2.83L4 21.41c.39.39.9.59 1.41.59.51 0 1.02-.2 1.41-.59l7.78-7.78 2.81-2.81c.8-.78.8-2.07 0-2.86zM5.41 20L4 18.59l7.72-7.72 1.47 1.35L5.41 20z\"/>\n",
              "  </svg>\n",
              "      </button>\n",
              "      \n",
              "  <style>\n",
              "    .colab-df-container {\n",
              "      display:flex;\n",
              "      flex-wrap:wrap;\n",
              "      gap: 12px;\n",
              "    }\n",
              "\n",
              "    .colab-df-convert {\n",
              "      background-color: #E8F0FE;\n",
              "      border: none;\n",
              "      border-radius: 50%;\n",
              "      cursor: pointer;\n",
              "      display: none;\n",
              "      fill: #1967D2;\n",
              "      height: 32px;\n",
              "      padding: 0 0 0 0;\n",
              "      width: 32px;\n",
              "    }\n",
              "\n",
              "    .colab-df-convert:hover {\n",
              "      background-color: #E2EBFA;\n",
              "      box-shadow: 0px 1px 2px rgba(60, 64, 67, 0.3), 0px 1px 3px 1px rgba(60, 64, 67, 0.15);\n",
              "      fill: #174EA6;\n",
              "    }\n",
              "\n",
              "    [theme=dark] .colab-df-convert {\n",
              "      background-color: #3B4455;\n",
              "      fill: #D2E3FC;\n",
              "    }\n",
              "\n",
              "    [theme=dark] .colab-df-convert:hover {\n",
              "      background-color: #434B5C;\n",
              "      box-shadow: 0px 1px 3px 1px rgba(0, 0, 0, 0.15);\n",
              "      filter: drop-shadow(0px 1px 2px rgba(0, 0, 0, 0.3));\n",
              "      fill: #FFFFFF;\n",
              "    }\n",
              "  </style>\n",
              "\n",
              "      <script>\n",
              "        const buttonEl =\n",
              "          document.querySelector('#df-a11074f6-f5a7-4406-821f-11e3233be7ae button.colab-df-convert');\n",
              "        buttonEl.style.display =\n",
              "          google.colab.kernel.accessAllowed ? 'block' : 'none';\n",
              "\n",
              "        async function convertToInteractive(key) {\n",
              "          const element = document.querySelector('#df-a11074f6-f5a7-4406-821f-11e3233be7ae');\n",
              "          const dataTable =\n",
              "            await google.colab.kernel.invokeFunction('convertToInteractive',\n",
              "                                                     [key], {});\n",
              "          if (!dataTable) return;\n",
              "\n",
              "          const docLinkHtml = 'Like what you see? Visit the ' +\n",
              "            '<a target=\"_blank\" href=https://colab.research.google.com/notebooks/data_table.ipynb>data table notebook</a>'\n",
              "            + ' to learn more about interactive tables.';\n",
              "          element.innerHTML = '';\n",
              "          dataTable['output_type'] = 'display_data';\n",
              "          await google.colab.output.renderOutput(dataTable, element);\n",
              "          const docLink = document.createElement('div');\n",
              "          docLink.innerHTML = docLinkHtml;\n",
              "          element.appendChild(docLink);\n",
              "        }\n",
              "      </script>\n",
              "    </div>\n",
              "  </div>\n",
              "  "
            ]
          },
          "metadata": {},
          "execution_count": 100
        }
      ]
    },
    {
      "cell_type": "markdown",
      "source": [
        "⚠️**Observação:** O **MongoDB** não aceita inserção de valores **NaT**, além de aceitar apenas o formato de data **TimeStamp**, somente para esse modelo de Data Lake vamos substituir os valores **Nulos** das colunas *'dt_emissao'* e *'dt_nasc'* por **0**, para que consigamos subir os dados ao destino final.'"
      ],
      "metadata": {
        "id": "PArssOM_grfO"
      }
    },
    {
      "cell_type": "code",
      "source": [
        "df_pandas_final['dt_emissao'].fillna(None, inplace = True)\n",
        "df_pandas_final['dt_nasc'].fillna(None, inplace = True)"
      ],
      "metadata": {
        "id": "J6EPtnvtfR5G"
      },
      "execution_count": null,
      "outputs": []
    },
    {
      "cell_type": "code",
      "source": [
        "df_dict = df_pandas_final.to_dict('records')"
      ],
      "metadata": {
        "id": "spzjwK2eiB1U"
      },
      "execution_count": null,
      "outputs": []
    },
    {
      "cell_type": "code",
      "source": [
        "#Enviar o df_spark para colecao selecionada no mongo\n",
        "colecaocat1.insert_many(df_dict)"
      ],
      "metadata": {
        "colab": {
          "base_uri": "https://localhost:8080/"
        },
        "id": "YMOmCmUPZ0tN",
        "outputId": "b5818d78-aff3-4e3c-db39-5ac484c0bbee"
      },
      "execution_count": null,
      "outputs": [
        {
          "output_type": "execute_result",
          "data": {
            "text/plain": [
              "<pymongo.results.InsertManyResult at 0x7f2001b94b50>"
            ]
          },
          "metadata": {},
          "execution_count": 98
        }
      ]
    },
    {
      "cell_type": "code",
      "source": [
        "# Verificando a quantidade de documentos da coleção cat1\n",
        "colecaocat1.count_documents({})"
      ],
      "metadata": {
        "colab": {
          "base_uri": "https://localhost:8080/"
        },
        "id": "rszOSkmqZ9tn",
        "outputId": "abe35037-f25d-4cfd-c31b-f9c3f83fa681"
      },
      "execution_count": null,
      "outputs": [
        {
          "output_type": "execute_result",
          "data": {
            "text/plain": [
              "156749"
            ]
          },
          "metadata": {},
          "execution_count": 99
        }
      ]
    },
    {
      "cell_type": "markdown",
      "source": [
        "###☑️ **6.2 - Carregando para o Cloud Storage**\n",
        "\n",
        "Da mesma forma, a conexão com o Bucket também já fora realizada e agora é só enviar o arquivo para o seu destino final."
      ],
      "metadata": {
        "id": "_lp0peEjyvib"
      }
    },
    {
      "cell_type": "code",
      "source": [
        "# Gerando arquivo do formato csv\n",
        "df_spark_final.write.format('csv').save('DF-CAT-2022-tratado.csv')"
      ],
      "metadata": {
        "id": "ADzD14PzYdKz"
      },
      "execution_count": null,
      "outputs": []
    },
    {
      "cell_type": "code",
      "source": [
        "# Escolhendo arquivo dentro da bucket\n",
        "blob = bucket.blob('datasets-tratados/DF-CAT-2022-tratado.csv')\n",
        "\n",
        "# Enviando arquivos\n",
        "blob.upload_from_filename('/content/DF-CAT-2022-tratado.csv')"
      ],
      "metadata": {
        "id": "txFS4-QNYhuk"
      },
      "execution_count": null,
      "outputs": []
    },
    {
      "cell_type": "markdown",
      "source": [
        "Enviado para o bucket do projeto GCP: projeto-ab-bc26, na pasta: datasets-tratados.\n",
        "\n",
        "Outra maneira de enviar, sem a necessidade de criar um arquivo temporário está descrita logo abaixo:\n",
        "\n",
        "```\n",
        "df_pandas_final = sparkDF.toPandas() \n",
        "bucket.blob('datasets-tratados/DF-CAT-2022-tratado.csv') \\\n",
        "      .upload_from_string(df_pandas_final.to_csv(sep=';', encoding='ISO-8859-1',index=False), 'DF-CAT-2022-tratado.csv')\n",
        "```\n",
        "\n"
      ],
      "metadata": {
        "id": "ZY2xhCDIZbmN"
      }
    },
    {
      "cell_type": "markdown",
      "source": [
        "###☑️ **6.3 - Disponibilizando dados no CloudSQL (MySQL)**\n",
        "\n",
        "A maneira mais simples e rápida de fazer esse processo é convertendo um DataFrame pandas para o formato sql e enviando o mesmo para o banco MySQL do CloudSQL, vamos mostrar como fazer esse passo."
      ],
      "metadata": {
        "id": "YlbV4c16y_bq"
      }
    },
    {
      "cell_type": "code",
      "source": [
        "# Indicando parametros de conexão\n",
        "INSTANCE_CONNECTION_NAME = f\"projeto-dupla-bc26:us-central1:projeto-aquecimento\" # i.e demo-project:us-central1:demo-instance\n",
        "print(f\"Your instance connection name is: {INSTANCE_CONNECTION_NAME}\")\n",
        "DB_USER = \"root\"\n",
        "DB_PASS = \"root\"\n",
        "DB_NAME = \"aquecimento\""
      ],
      "metadata": {
        "colab": {
          "base_uri": "https://localhost:8080/"
        },
        "id": "2utW2cTQBg8d",
        "outputId": "a3cdabf1-6093-4afa-ccf3-24515428406b"
      },
      "execution_count": null,
      "outputs": [
        {
          "output_type": "stream",
          "name": "stdout",
          "text": [
            "Your instance connection name is: projeto-dupla-bc26:us-central1:projeto-aquecimento\n"
          ]
        }
      ]
    },
    {
      "cell_type": "code",
      "source": [
        "# iniciando variável de conexão\n",
        "connector = Connector()\n",
        "\n",
        "# Gerando função de retorno da conexão\n",
        "def getconn():\n",
        "    conn = connector.connect(\n",
        "        INSTANCE_CONNECTION_NAME,\n",
        "        \"pymysql\",\n",
        "        user=DB_USER,\n",
        "        password=DB_PASS,\n",
        "        db=DB_NAME\n",
        "    )\n",
        "    return conn\n",
        "\n",
        "# Criando a conexão\n",
        "pool = sqlalchemy.create_engine(\n",
        "    \"mysql+pymysql://\",\n",
        "    creator=getconn,\n",
        ")"
      ],
      "metadata": {
        "id": "ZP9bLUuCBxYO"
      },
      "execution_count": null,
      "outputs": []
    },
    {
      "cell_type": "code",
      "source": [
        "# Convertendo DataFrame final Spark para pandas\n",
        "df_pandas_final = df_spark_final.toPandas()"
      ],
      "metadata": {
        "id": "hFCNHn-t7eAY"
      },
      "execution_count": null,
      "outputs": []
    },
    {
      "cell_type": "code",
      "source": [
        "# Enviando para o MYSQL\n",
        "df_pandas_final.to_sql('catweb2022_trat', con=pool)"
      ],
      "metadata": {
        "id": "5s_gkvwVCeVM"
      },
      "execution_count": null,
      "outputs": []
    },
    {
      "cell_type": "code",
      "source": [
        "# Utilizando sparkSQL para realizar queries \n",
        "\n",
        "# Retorna o primeiro\n",
        "pool.connect() \\\n",
        "    .execute(\"SELECT dt_acidente FROM catweb2022_trat WHERE doenca = 'Entorse e Distensao do Tornozelo'\") \\\n",
        "    .fetchone()"
      ],
      "metadata": {
        "colab": {
          "base_uri": "https://localhost:8080/"
        },
        "id": "_RFQoXWmIvvL",
        "outputId": "cdce439b-0e8c-4278-fc1c-ff21451b3d65"
      },
      "execution_count": null,
      "outputs": [
        {
          "output_type": "execute_result",
          "data": {
            "text/plain": [
              "(datetime.date(2022, 3, 1),)"
            ]
          },
          "metadata": {},
          "execution_count": 135
        }
      ]
    },
    {
      "cell_type": "code",
      "source": [
        "# Retorna o todos\n",
        "pool.connect() \\\n",
        "    .execute(\"SELECT dt_acidente FROM catweb2022_trat WHERE doenca = 'Entorse e Distensao do Tornozelo'\") \\\n",
        "    .fetchall()"
      ],
      "metadata": {
        "colab": {
          "base_uri": "https://localhost:8080/"
        },
        "id": "0GxVRfhML2BC",
        "outputId": "446485d6-078b-48f1-c293-964540ef9fdc"
      },
      "execution_count": null,
      "outputs": [
        {
          "output_type": "execute_result",
          "data": {
            "text/plain": [
              "[(datetime.date(2022, 3, 1),),\n",
              " (datetime.date(2022, 3, 4),),\n",
              " (datetime.date(2022, 3, 11),),\n",
              " (datetime.date(2022, 3, 14),),\n",
              " (datetime.date(2022, 3, 21),),\n",
              " (datetime.date(2022, 3, 10),),\n",
              " (datetime.date(2022, 3, 29),),\n",
              " (datetime.date(2022, 3, 30),),\n",
              " (datetime.date(2022, 6, 1),),\n",
              " (datetime.date(2022, 5, 23),),\n",
              " (datetime.date(2022, 6, 3),),\n",
              " (datetime.date(2022, 6, 3),),\n",
              " (datetime.date(2022, 5, 25),),\n",
              " (datetime.date(2022, 6, 6),),\n",
              " (datetime.date(2022, 6, 7),),\n",
              " (datetime.date(2022, 6, 3),),\n",
              " (datetime.date(2022, 6, 1),),\n",
              " (datetime.date(2022, 6, 13),),\n",
              " (datetime.date(2022, 6, 11),),\n",
              " (datetime.date(2022, 6, 19),),\n",
              " (datetime.date(2022, 6, 3),),\n",
              " (datetime.date(2022, 6, 20),),\n",
              " (datetime.date(2022, 6, 23),),\n",
              " (datetime.date(2022, 6, 24),),\n",
              " (datetime.date(2022, 6, 3),),\n",
              " (datetime.date(2022, 6, 20),),\n",
              " (datetime.date(2022, 10, 6),),\n",
              " (datetime.date(2022, 8, 31),),\n",
              " (datetime.date(2022, 2, 28),),\n",
              " (datetime.date(2022, 3, 4),),\n",
              " (datetime.date(2022, 3, 8),),\n",
              " (datetime.date(2022, 3, 25),),\n",
              " (datetime.date(2022, 3, 20),),\n",
              " (datetime.date(2022, 2, 16),),\n",
              " (datetime.date(2022, 5, 23),),\n",
              " (datetime.date(2022, 6, 1),),\n",
              " (datetime.date(2022, 6, 20),),\n",
              " (datetime.date(2022, 2, 22),),\n",
              " (datetime.date(2022, 5, 4),),\n",
              " (datetime.date(2022, 10, 14),),\n",
              " (datetime.date(2022, 9, 30),),\n",
              " (datetime.date(2022, 10, 3),),\n",
              " (datetime.date(2022, 2, 25),),\n",
              " (datetime.date(2022, 3, 9),),\n",
              " (datetime.date(2022, 3, 12),),\n",
              " (datetime.date(2022, 3, 23),),\n",
              " (datetime.date(2022, 3, 23),),\n",
              " (datetime.date(2022, 3, 24),),\n",
              " (datetime.date(2022, 3, 24),),\n",
              " (datetime.date(2022, 5, 25),),\n",
              " (datetime.date(2022, 6, 5),),\n",
              " (datetime.date(2022, 5, 30),),\n",
              " (datetime.date(2022, 6, 15),),\n",
              " (datetime.date(2022, 6, 20),),\n",
              " (datetime.date(2022, 6, 23),),\n",
              " (datetime.date(2022, 6, 21),),\n",
              " (datetime.date(2022, 9, 29),),\n",
              " (datetime.date(2022, 9, 21),),\n",
              " (datetime.date(2022, 7, 15),),\n",
              " (datetime.date(2022, 9, 27),),\n",
              " (datetime.date(2022, 10, 4),),\n",
              " (datetime.date(2022, 2, 28),),\n",
              " (datetime.date(2022, 2, 28),),\n",
              " (datetime.date(2022, 2, 13),),\n",
              " (datetime.date(2022, 3, 4),),\n",
              " (datetime.date(2022, 3, 5),),\n",
              " (datetime.date(2022, 3, 7),),\n",
              " (datetime.date(2022, 3, 1),),\n",
              " (datetime.date(2022, 3, 9),),\n",
              " (datetime.date(2022, 3, 12),),\n",
              " (datetime.date(2022, 3, 15),),\n",
              " (datetime.date(2022, 3, 15),),\n",
              " (datetime.date(2022, 3, 26),),\n",
              " (datetime.date(2022, 3, 24),),\n",
              " (datetime.date(2022, 6, 3),),\n",
              " (datetime.date(2022, 6, 14),),\n",
              " (datetime.date(2022, 6, 14),),\n",
              " (datetime.date(2022, 6, 14),),\n",
              " (datetime.date(2022, 6, 23),),\n",
              " (datetime.date(2022, 6, 27),),\n",
              " (datetime.date(2022, 3, 8),),\n",
              " (datetime.date(2022, 4, 26),),\n",
              " (datetime.date(2022, 10, 5),),\n",
              " (datetime.date(2022, 10, 3),),\n",
              " (datetime.date(2022, 10, 18),),\n",
              " (datetime.date(2022, 10, 14),),\n",
              " (datetime.date(2022, 10, 14),),\n",
              " (datetime.date(2022, 3, 3),),\n",
              " (datetime.date(2022, 1, 26),),\n",
              " (datetime.date(2022, 3, 19),),\n",
              " (datetime.date(2022, 3, 25),),\n",
              " (datetime.date(2022, 1, 12),),\n",
              " (datetime.date(2022, 6, 2),),\n",
              " (datetime.date(2022, 6, 7),),\n",
              " (datetime.date(2022, 6, 9),),\n",
              " (datetime.date(2022, 6, 1),),\n",
              " (datetime.date(2022, 5, 24),),\n",
              " (datetime.date(2022, 5, 30),),\n",
              " (datetime.date(2022, 6, 11),),\n",
              " (datetime.date(2022, 6, 19),),\n",
              " (datetime.date(2022, 6, 9),),\n",
              " (datetime.date(2022, 6, 27),),\n",
              " (datetime.date(2022, 4, 23),),\n",
              " (datetime.date(2022, 4, 12),),\n",
              " (datetime.date(2022, 10, 1),),\n",
              " (datetime.date(2022, 3, 1),),\n",
              " (datetime.date(2022, 2, 17),),\n",
              " (datetime.date(2022, 3, 3),),\n",
              " (datetime.date(2022, 3, 7),),\n",
              " (datetime.date(2022, 3, 17),),\n",
              " (datetime.date(2022, 3, 14),),\n",
              " (datetime.date(2022, 3, 10),),\n",
              " (datetime.date(2022, 3, 18),),\n",
              " (datetime.date(2022, 3, 24),),\n",
              " (datetime.date(2022, 3, 14),),\n",
              " (datetime.date(2022, 3, 24),),\n",
              " (datetime.date(2022, 1, 6),),\n",
              " (datetime.date(2022, 5, 27),),\n",
              " (datetime.date(2022, 6, 3),),\n",
              " (datetime.date(2022, 5, 20),),\n",
              " (datetime.date(2022, 6, 11),),\n",
              " (datetime.date(2022, 6, 14),),\n",
              " (datetime.date(2022, 6, 21),),\n",
              " (datetime.date(2022, 6, 22),),\n",
              " (datetime.date(2022, 6, 16),),\n",
              " (datetime.date(2022, 6, 28),),\n",
              " (datetime.date(2022, 6, 30),),\n",
              " (datetime.date(2022, 6, 28),),\n",
              " (datetime.date(2022, 3, 8),),\n",
              " (datetime.date(2022, 4, 10),),\n",
              " (datetime.date(2022, 4, 19),),\n",
              " (datetime.date(2022, 10, 26),),\n",
              " (datetime.date(2022, 9, 24),),\n",
              " (datetime.date(2022, 3, 7),),\n",
              " (datetime.date(2022, 3, 11),),\n",
              " (datetime.date(2022, 3, 16),),\n",
              " (datetime.date(2022, 3, 15),),\n",
              " (datetime.date(2022, 3, 17),),\n",
              " (datetime.date(2022, 3, 23),),\n",
              " (datetime.date(2022, 3, 24),),\n",
              " (datetime.date(2022, 1, 14),),\n",
              " (datetime.date(2022, 2, 3),),\n",
              " (datetime.date(2022, 6, 8),),\n",
              " (datetime.date(2022, 6, 11),),\n",
              " (datetime.date(2022, 6, 26),),\n",
              " (datetime.date(2022, 6, 24),),\n",
              " (datetime.date(2022, 5, 31),),\n",
              " (datetime.date(2022, 6, 23),),\n",
              " (datetime.date(2022, 6, 14),),\n",
              " (datetime.date(2022, 4, 28),),\n",
              " (datetime.date(2022, 2, 18),),\n",
              " (datetime.date(2022, 10, 4),),\n",
              " (datetime.date(2022, 10, 18),),\n",
              " (datetime.date(2022, 10, 3),),\n",
              " (datetime.date(2022, 9, 20),),\n",
              " (datetime.date(2022, 3, 8),),\n",
              " (datetime.date(2022, 3, 8),),\n",
              " (datetime.date(2022, 3, 4),),\n",
              " (datetime.date(2022, 3, 22),),\n",
              " (datetime.date(2022, 1, 12),),\n",
              " (datetime.date(2022, 3, 23),),\n",
              " (datetime.date(2022, 2, 23),),\n",
              " (datetime.date(2022, 1, 29),),\n",
              " (datetime.date(2022, 5, 28),),\n",
              " (datetime.date(2022, 6, 5),),\n",
              " (datetime.date(2022, 5, 23),),\n",
              " (datetime.date(2022, 6, 4),),\n",
              " (datetime.date(2022, 6, 10),),\n",
              " (datetime.date(2022, 6, 11),),\n",
              " (datetime.date(2022, 6, 22),),\n",
              " (datetime.date(2022, 6, 27),),\n",
              " (datetime.date(2022, 6, 25),),\n",
              " (datetime.date(2022, 6, 28),),\n",
              " (datetime.date(2022, 6, 21),),\n",
              " (datetime.date(2022, 6, 13),),\n",
              " (datetime.date(2022, 3, 28),),\n",
              " (datetime.date(2022, 4, 29),),\n",
              " (datetime.date(2022, 3, 22),),\n",
              " (datetime.date(2022, 10, 7),),\n",
              " (datetime.date(2022, 9, 30),),\n",
              " (datetime.date(2022, 1, 7),),\n",
              " (datetime.date(2022, 2, 17),),\n",
              " (datetime.date(2022, 3, 15),),\n",
              " (datetime.date(2022, 3, 10),),\n",
              " (datetime.date(2022, 3, 19),),\n",
              " (datetime.date(2022, 5, 26),),\n",
              " (datetime.date(2022, 6, 1),),\n",
              " (datetime.date(2022, 6, 1),),\n",
              " (datetime.date(2022, 6, 6),),\n",
              " (datetime.date(2022, 6, 15),),\n",
              " (datetime.date(2022, 6, 1),),\n",
              " (datetime.date(2022, 6, 20),),\n",
              " (datetime.date(2022, 6, 17),),\n",
              " (datetime.date(2022, 6, 22),),\n",
              " (datetime.date(2022, 6, 24),),\n",
              " (datetime.date(2022, 1, 25),),\n",
              " (datetime.date(2022, 2, 11),),\n",
              " (datetime.date(2022, 3, 16),),\n",
              " (datetime.date(2022, 3, 22),),\n",
              " (datetime.date(2022, 3, 18),),\n",
              " (datetime.date(2022, 5, 10),),\n",
              " (datetime.date(2022, 3, 16),),\n",
              " (datetime.date(2022, 10, 13),),\n",
              " (datetime.date(2022, 10, 18),),\n",
              " (datetime.date(2022, 2, 4),),\n",
              " (datetime.date(2022, 2, 4),),\n",
              " (datetime.date(2022, 2, 22),),\n",
              " (datetime.date(2022, 3, 7),),\n",
              " (datetime.date(2022, 3, 8),),\n",
              " (datetime.date(2022, 3, 4),),\n",
              " (datetime.date(2022, 3, 15),),\n",
              " (datetime.date(2022, 2, 17),),\n",
              " (datetime.date(2022, 3, 15),),\n",
              " (datetime.date(2022, 3, 21),),\n",
              " (datetime.date(2022, 2, 21),),\n",
              " (datetime.date(2022, 6, 27),),\n",
              " (datetime.date(2022, 6, 27),),\n",
              " (datetime.date(2022, 4, 13),),\n",
              " (datetime.date(2022, 3, 18),),\n",
              " (datetime.date(2022, 10, 11),),\n",
              " (datetime.date(2022, 10, 11),),\n",
              " (datetime.date(2022, 10, 26),),\n",
              " (datetime.date(2022, 10, 27),),\n",
              " (datetime.date(2022, 2, 25),),\n",
              " (datetime.date(2022, 3, 4),),\n",
              " (datetime.date(2022, 3, 7),),\n",
              " (datetime.date(2022, 2, 25),),\n",
              " (datetime.date(2022, 3, 7),),\n",
              " (datetime.date(2022, 2, 20),),\n",
              " (datetime.date(2022, 2, 22),),\n",
              " (datetime.date(2022, 3, 14),),\n",
              " (datetime.date(2022, 3, 16),),\n",
              " (datetime.date(2022, 3, 24),),\n",
              " (datetime.date(2022, 3, 28),),\n",
              " (datetime.date(2022, 3, 25),),\n",
              " (datetime.date(2022, 3, 29),),\n",
              " (datetime.date(2022, 6, 2),),\n",
              " (datetime.date(2022, 5, 23),),\n",
              " (datetime.date(2022, 6, 8),),\n",
              " (datetime.date(2022, 6, 10),),\n",
              " (datetime.date(2022, 6, 15),),\n",
              " (datetime.date(2022, 3, 19),),\n",
              " (datetime.date(2022, 9, 28),),\n",
              " (datetime.date(2022, 2, 17),),\n",
              " (datetime.date(2022, 3, 11),),\n",
              " (datetime.date(2022, 3, 22),),\n",
              " (datetime.date(2022, 3, 17),),\n",
              " (datetime.date(2022, 3, 29),),\n",
              " (datetime.date(2022, 2, 2),),\n",
              " (datetime.date(2022, 1, 7),),\n",
              " (datetime.date(2022, 6, 4),),\n",
              " (datetime.date(2022, 6, 13),),\n",
              " (datetime.date(2022, 6, 12),),\n",
              " (datetime.date(2022, 6, 9),),\n",
              " (datetime.date(2022, 6, 15),),\n",
              " (datetime.date(2022, 4, 9),),\n",
              " (datetime.date(2022, 6, 27),),\n",
              " (datetime.date(2022, 6, 29),),\n",
              " (datetime.date(2022, 3, 17),),\n",
              " (datetime.date(2022, 1, 21),),\n",
              " (datetime.date(2022, 10, 13),),\n",
              " (datetime.date(2022, 10, 3),),\n",
              " (datetime.date(2022, 9, 21),),\n",
              " (datetime.date(2022, 9, 30),),\n",
              " (datetime.date(2022, 3, 1),),\n",
              " (datetime.date(2022, 2, 23),),\n",
              " (datetime.date(2022, 3, 11),),\n",
              " (datetime.date(2022, 3, 14),),\n",
              " (datetime.date(2022, 2, 18),),\n",
              " (datetime.date(2022, 3, 14),),\n",
              " (datetime.date(2022, 3, 15),),\n",
              " (datetime.date(2022, 2, 18),),\n",
              " (datetime.date(2022, 1, 16),),\n",
              " (datetime.date(2022, 1, 28),),\n",
              " (datetime.date(2022, 6, 1),),\n",
              " (datetime.date(2022, 6, 5),),\n",
              " (datetime.date(2022, 6, 3),),\n",
              " (datetime.date(2022, 6, 3),),\n",
              " (datetime.date(2022, 5, 24),),\n",
              " (datetime.date(2022, 6, 17),),\n",
              " (datetime.date(2022, 6, 11),),\n",
              " (datetime.date(2022, 6, 17),),\n",
              " (datetime.date(2022, 6, 23),),\n",
              " (datetime.date(2022, 6, 21),),\n",
              " (datetime.date(2022, 3, 18),),\n",
              " (datetime.date(2022, 5, 3),),\n",
              " (datetime.date(2022, 5, 27),),\n",
              " (datetime.date(2022, 1, 29),),\n",
              " (datetime.date(2022, 5, 11),),\n",
              " (datetime.date(2022, 10, 13),),\n",
              " (datetime.date(2022, 3, 4),),\n",
              " (datetime.date(2022, 2, 12),),\n",
              " (datetime.date(2022, 3, 10),),\n",
              " (datetime.date(2022, 3, 8),),\n",
              " (datetime.date(2022, 3, 7),),\n",
              " (datetime.date(2022, 3, 21),),\n",
              " (datetime.date(2022, 3, 26),),\n",
              " (datetime.date(2022, 3, 22),),\n",
              " (datetime.date(2022, 3, 30),),\n",
              " (datetime.date(2022, 3, 24),),\n",
              " (datetime.date(2022, 2, 8),),\n",
              " (datetime.date(2022, 1, 11),),\n",
              " (datetime.date(2022, 5, 31),),\n",
              " (datetime.date(2022, 6, 2),),\n",
              " (datetime.date(2022, 6, 8),),\n",
              " (datetime.date(2022, 6, 8),),\n",
              " (datetime.date(2022, 6, 18),),\n",
              " (datetime.date(2022, 6, 21),),\n",
              " (datetime.date(2022, 6, 20),),\n",
              " (datetime.date(2022, 6, 22),),\n",
              " (datetime.date(2022, 6, 30),),\n",
              " (datetime.date(2022, 2, 7),),\n",
              " (datetime.date(2022, 10, 10),),\n",
              " (datetime.date(2022, 10, 15),),\n",
              " (datetime.date(2022, 10, 18),),\n",
              " (datetime.date(2022, 10, 21),),\n",
              " (datetime.date(2022, 3, 3),),\n",
              " (datetime.date(2022, 3, 2),),\n",
              " (datetime.date(2022, 3, 11),),\n",
              " (datetime.date(2022, 3, 20),),\n",
              " (datetime.date(2022, 2, 17),),\n",
              " (datetime.date(2022, 3, 23),),\n",
              " (datetime.date(2022, 3, 22),),\n",
              " (datetime.date(2022, 3, 23),),\n",
              " (datetime.date(2022, 3, 22),),\n",
              " (datetime.date(2022, 3, 31),),\n",
              " (datetime.date(2022, 3, 23),),\n",
              " (datetime.date(2022, 2, 14),),\n",
              " (datetime.date(2022, 2, 16),),\n",
              " (datetime.date(2022, 5, 25),),\n",
              " (datetime.date(2022, 5, 30),),\n",
              " (datetime.date(2022, 6, 13),),\n",
              " (datetime.date(2022, 6, 14),),\n",
              " (datetime.date(2022, 6, 23),),\n",
              " (datetime.date(2022, 6, 21),),\n",
              " (datetime.date(2022, 10, 11),),\n",
              " (datetime.date(2022, 9, 30),),\n",
              " (datetime.date(2022, 10, 3),),\n",
              " (datetime.date(2022, 2, 25),),\n",
              " (datetime.date(2022, 3, 2),),\n",
              " (datetime.date(2022, 3, 10),),\n",
              " (datetime.date(2022, 3, 1),),\n",
              " (datetime.date(2022, 3, 18),),\n",
              " (datetime.date(2022, 3, 23),),\n",
              " (datetime.date(2022, 3, 3),),\n",
              " (datetime.date(2022, 2, 8),),\n",
              " (datetime.date(2022, 3, 24),),\n",
              " (datetime.date(2022, 2, 2),),\n",
              " (datetime.date(2022, 5, 31),),\n",
              " (datetime.date(2022, 5, 30),),\n",
              " (datetime.date(2022, 6, 3),),\n",
              " (datetime.date(2022, 6, 8),),\n",
              " (datetime.date(2022, 6, 8),),\n",
              " (datetime.date(2022, 6, 7),),\n",
              " (datetime.date(2022, 6, 9),),\n",
              " (datetime.date(2022, 6, 15),),\n",
              " (datetime.date(2022, 6, 19),),\n",
              " (datetime.date(2022, 6, 13),),\n",
              " (datetime.date(2022, 6, 25),),\n",
              " (datetime.date(2022, 2, 20),),\n",
              " (datetime.date(2022, 8, 25),),\n",
              " (datetime.date(2022, 3, 1),),\n",
              " (datetime.date(2022, 3, 4),),\n",
              " (datetime.date(2022, 3, 15),),\n",
              " (datetime.date(2022, 3, 14),),\n",
              " (datetime.date(2022, 3, 12),),\n",
              " (datetime.date(2022, 3, 10),),\n",
              " (datetime.date(2022, 3, 17),),\n",
              " (datetime.date(2022, 1, 12),),\n",
              " (datetime.date(2022, 6, 1),),\n",
              " (datetime.date(2022, 6, 7),),\n",
              " (datetime.date(2022, 6, 6),),\n",
              " (datetime.date(2022, 5, 26),),\n",
              " (datetime.date(2022, 6, 2),),\n",
              " (datetime.date(2022, 6, 15),),\n",
              " (datetime.date(2022, 6, 20),),\n",
              " (datetime.date(2022, 6, 22),),\n",
              " (datetime.date(2022, 6, 27),),\n",
              " (datetime.date(2022, 9, 14),),\n",
              " (datetime.date(2022, 10, 14),),\n",
              " (datetime.date(2022, 9, 30),),\n",
              " (datetime.date(2022, 2, 9),),\n",
              " (datetime.date(2022, 3, 7),),\n",
              " (datetime.date(2022, 3, 12),),\n",
              " (datetime.date(2022, 3, 14),),\n",
              " (datetime.date(2022, 3, 21),),\n",
              " (datetime.date(2022, 3, 21),),\n",
              " (datetime.date(2022, 3, 22),),\n",
              " (datetime.date(2022, 3, 31),),\n",
              " (datetime.date(2022, 3, 29),),\n",
              " (datetime.date(2022, 2, 16),),\n",
              " (datetime.date(2022, 1, 14),),\n",
              " (datetime.date(2022, 5, 28),),\n",
              " (datetime.date(2022, 6, 1),),\n",
              " (datetime.date(2022, 6, 4),),\n",
              " (datetime.date(2022, 6, 6),),\n",
              " (datetime.date(2022, 5, 31),),\n",
              " (datetime.date(2022, 6, 12),),\n",
              " (datetime.date(2022, 5, 12),),\n",
              " (datetime.date(2022, 6, 20),),\n",
              " (datetime.date(2022, 6, 20),),\n",
              " (datetime.date(2022, 6, 9),),\n",
              " (datetime.date(2022, 6, 24),),\n",
              " (datetime.date(2022, 6, 23),),\n",
              " (datetime.date(2022, 3, 23),),\n",
              " (datetime.date(2022, 10, 4),),\n",
              " (datetime.date(2022, 10, 5),),\n",
              " (datetime.date(2022, 2, 7),),\n",
              " (datetime.date(2022, 3, 3),),\n",
              " (datetime.date(2022, 3, 7),),\n",
              " (datetime.date(2022, 3, 10),),\n",
              " (datetime.date(2022, 3, 11),),\n",
              " (datetime.date(2022, 3, 16),),\n",
              " (datetime.date(2022, 3, 21),),\n",
              " (datetime.date(2022, 3, 23),),\n",
              " (datetime.date(2022, 3, 11),),\n",
              " (datetime.date(2022, 2, 2),),\n",
              " (datetime.date(2022, 1, 27),),\n",
              " (datetime.date(2022, 6, 1),),\n",
              " (datetime.date(2022, 6, 4),),\n",
              " (datetime.date(2022, 6, 7),),\n",
              " (datetime.date(2022, 6, 10),),\n",
              " (datetime.date(2022, 6, 21),),\n",
              " (datetime.date(2022, 6, 21),),\n",
              " (datetime.date(2022, 3, 23),),\n",
              " (datetime.date(2022, 10, 13),),\n",
              " (datetime.date(2022, 9, 29),),\n",
              " (datetime.date(2022, 3, 2),),\n",
              " (datetime.date(2022, 3, 8),),\n",
              " (datetime.date(2022, 3, 9),),\n",
              " (datetime.date(2022, 3, 9),),\n",
              " (datetime.date(2022, 3, 12),),\n",
              " (datetime.date(2022, 2, 9),),\n",
              " (datetime.date(2022, 3, 17),),\n",
              " (datetime.date(2022, 2, 16),),\n",
              " (datetime.date(2022, 3, 23),),\n",
              " (datetime.date(2022, 3, 22),),\n",
              " (datetime.date(2022, 3, 26),),\n",
              " (datetime.date(2022, 3, 28),),\n",
              " (datetime.date(2022, 2, 1),),\n",
              " (datetime.date(2022, 6, 1),),\n",
              " (datetime.date(2022, 6, 4),),\n",
              " (datetime.date(2022, 6, 5),),\n",
              " (datetime.date(2022, 6, 13),),\n",
              " (datetime.date(2022, 3, 19),),\n",
              " (datetime.date(2022, 6, 22),),\n",
              " (datetime.date(2022, 6, 26),),\n",
              " (datetime.date(2022, 6, 27),),\n",
              " (datetime.date(2022, 2, 4),),\n",
              " (datetime.date(2022, 10, 11),),\n",
              " (datetime.date(2022, 9, 28),),\n",
              " (datetime.date(2022, 2, 28),),\n",
              " (datetime.date(2022, 2, 5),),\n",
              " (datetime.date(2022, 3, 18),),\n",
              " (datetime.date(2022, 3, 21),),\n",
              " (datetime.date(2022, 3, 9),),\n",
              " (datetime.date(2022, 3, 2),),\n",
              " (datetime.date(2022, 6, 1),),\n",
              " (datetime.date(2022, 6, 6),),\n",
              " (datetime.date(2022, 6, 6),),\n",
              " (datetime.date(2022, 5, 30),),\n",
              " (datetime.date(2022, 6, 13),),\n",
              " (datetime.date(2022, 5, 11),),\n",
              " (datetime.date(2022, 6, 21),),\n",
              " (datetime.date(2022, 6, 23),),\n",
              " (datetime.date(2022, 6, 23),),\n",
              " (datetime.date(2022, 6, 27),),\n",
              " (datetime.date(2022, 6, 24),),\n",
              " (datetime.date(2022, 3, 24),),\n",
              " (datetime.date(2022, 10, 24),),\n",
              " (datetime.date(2022, 10, 1),),\n",
              " (datetime.date(2022, 10, 4),),\n",
              " (datetime.date(2022, 10, 1),),\n",
              " (datetime.date(2022, 3, 2),),\n",
              " (datetime.date(2022, 3, 1),),\n",
              " (datetime.date(2022, 3, 3),),\n",
              " (datetime.date(2022, 3, 2),),\n",
              " (datetime.date(2022, 3, 9),),\n",
              " (datetime.date(2022, 3, 8),),\n",
              " (datetime.date(2022, 3, 17),),\n",
              " (datetime.date(2022, 3, 21),),\n",
              " (datetime.date(2022, 3, 24),),\n",
              " (datetime.date(2022, 3, 24),),\n",
              " (datetime.date(2022, 1, 5),),\n",
              " (datetime.date(2022, 6, 1),),\n",
              " (datetime.date(2022, 5, 16),),\n",
              " (datetime.date(2022, 6, 9),),\n",
              " (datetime.date(2022, 6, 9),),\n",
              " (datetime.date(2022, 6, 27),),\n",
              " (datetime.date(2022, 6, 17),),\n",
              " (datetime.date(2022, 3, 22),),\n",
              " (datetime.date(2022, 5, 4),),\n",
              " (datetime.date(2022, 4, 4),),\n",
              " (datetime.date(2022, 2, 9),),\n",
              " (datetime.date(2022, 10, 17),),\n",
              " (datetime.date(2022, 10, 3),),\n",
              " (datetime.date(2022, 10, 5),),\n",
              " (datetime.date(2022, 3, 7),),\n",
              " (datetime.date(2022, 3, 12),),\n",
              " (datetime.date(2022, 3, 2),),\n",
              " (datetime.date(2022, 2, 23),),\n",
              " (datetime.date(2022, 3, 11),),\n",
              " (datetime.date(2022, 2, 6),),\n",
              " (datetime.date(2022, 3, 28),),\n",
              " (datetime.date(2022, 2, 2),),\n",
              " (datetime.date(2022, 6, 2),),\n",
              " (datetime.date(2022, 6, 2),),\n",
              " (datetime.date(2022, 6, 7),),\n",
              " (datetime.date(2022, 6, 15),),\n",
              " (datetime.date(2022, 5, 17),),\n",
              " (datetime.date(2022, 6, 18),),\n",
              " (datetime.date(2022, 6, 22),),\n",
              " (datetime.date(2022, 6, 23),),\n",
              " (datetime.date(2022, 6, 24),),\n",
              " (datetime.date(2022, 5, 9),),\n",
              " (datetime.date(2022, 6, 26),),\n",
              " (datetime.date(2022, 5, 10),),\n",
              " (datetime.date(2022, 3, 1),),\n",
              " (datetime.date(2022, 6, 16),),\n",
              " (datetime.date(2022, 10, 24),),\n",
              " (datetime.date(2022, 9, 27),),\n",
              " (datetime.date(2022, 2, 28),),\n",
              " (datetime.date(2022, 3, 8),),\n",
              " (datetime.date(2022, 3, 23),),\n",
              " (datetime.date(2022, 3, 23),),\n",
              " (datetime.date(2022, 3, 30),),\n",
              " (datetime.date(2022, 2, 16),),\n",
              " (datetime.date(2022, 2, 23),),\n",
              " (datetime.date(2022, 6, 4),),\n",
              " (datetime.date(2022, 6, 9),),\n",
              " (datetime.date(2022, 6, 13),),\n",
              " (datetime.date(2022, 6, 16),),\n",
              " (datetime.date(2022, 6, 20),),\n",
              " (datetime.date(2022, 6, 3),),\n",
              " (datetime.date(2022, 6, 23),),\n",
              " (datetime.date(2022, 5, 5),),\n",
              " (datetime.date(2022, 5, 11),),\n",
              " (datetime.date(2022, 4, 2),),\n",
              " (datetime.date(2022, 3, 7),),\n",
              " (datetime.date(2022, 10, 5),),\n",
              " (datetime.date(2022, 10, 14),),\n",
              " (datetime.date(2022, 10, 18),),\n",
              " (datetime.date(2022, 10, 14),),\n",
              " (datetime.date(2022, 10, 19),),\n",
              " (datetime.date(2022, 9, 19),),\n",
              " (datetime.date(2022, 3, 2),),\n",
              " (datetime.date(2022, 3, 2),),\n",
              " (datetime.date(2022, 3, 1),),\n",
              " (datetime.date(2022, 2, 22),),\n",
              " (datetime.date(2022, 3, 21),),\n",
              " (datetime.date(2022, 3, 23),),\n",
              " (datetime.date(2022, 1, 6),),\n",
              " (datetime.date(2022, 3, 30),),\n",
              " (datetime.date(2022, 6, 2),),\n",
              " (datetime.date(2022, 5, 24),),\n",
              " (datetime.date(2022, 5, 2),),\n",
              " (datetime.date(2022, 6, 9),),\n",
              " (datetime.date(2022, 6, 8),),\n",
              " (datetime.date(2022, 5, 31),),\n",
              " (datetime.date(2022, 6, 13),),\n",
              " (datetime.date(2022, 6, 17),),\n",
              " (datetime.date(2022, 6, 22),),\n",
              " (datetime.date(2022, 6, 22),),\n",
              " (datetime.date(2022, 5, 1),),\n",
              " (datetime.date(2022, 10, 24),),\n",
              " (datetime.date(2022, 9, 24),),\n",
              " (datetime.date(2022, 10, 4),),\n",
              " (datetime.date(2022, 3, 3),),\n",
              " (datetime.date(2022, 3, 3),),\n",
              " (datetime.date(2022, 3, 7),),\n",
              " (datetime.date(2022, 3, 8),),\n",
              " (datetime.date(2022, 3, 9),),\n",
              " (datetime.date(2022, 3, 10),),\n",
              " (datetime.date(2022, 3, 10),),\n",
              " (datetime.date(2022, 3, 17),),\n",
              " (datetime.date(2022, 3, 20),),\n",
              " (datetime.date(2022, 3, 24),),\n",
              " (datetime.date(2022, 3, 8),),\n",
              " (datetime.date(2022, 6, 8),),\n",
              " (datetime.date(2022, 6, 23),),\n",
              " (datetime.date(2022, 6, 27),),\n",
              " (datetime.date(2022, 10, 12),),\n",
              " (datetime.date(2022, 10, 18),),\n",
              " (datetime.date(2022, 10, 18),),\n",
              " (datetime.date(2022, 10, 25),),\n",
              " (datetime.date(2022, 9, 20),),\n",
              " (datetime.date(2022, 2, 27),),\n",
              " (datetime.date(2022, 3, 2),),\n",
              " (datetime.date(2022, 3, 8),),\n",
              " (datetime.date(2022, 3, 14),),\n",
              " (datetime.date(2022, 3, 18),),\n",
              " (datetime.date(2022, 3, 22),),\n",
              " (datetime.date(2022, 3, 23),),\n",
              " (datetime.date(2022, 3, 10),),\n",
              " (datetime.date(2022, 3, 23),),\n",
              " (datetime.date(2022, 1, 8),),\n",
              " (datetime.date(2022, 6, 1),),\n",
              " (datetime.date(2022, 6, 2),),\n",
              " (datetime.date(2022, 3, 29),),\n",
              " (datetime.date(2022, 6, 12),),\n",
              " (datetime.date(2022, 6, 13),),\n",
              " (datetime.date(2022, 6, 13),),\n",
              " (datetime.date(2022, 6, 14),),\n",
              " (datetime.date(2022, 6, 18),),\n",
              " (datetime.date(2022, 6, 17),),\n",
              " (datetime.date(2022, 3, 26),),\n",
              " (datetime.date(2022, 2, 8),),\n",
              " (datetime.date(2022, 3, 3),),\n",
              " (datetime.date(2022, 10, 11),),\n",
              " (datetime.date(2022, 10, 3),),\n",
              " (datetime.date(2022, 10, 11),),\n",
              " (datetime.date(2022, 9, 29),),\n",
              " (datetime.date(2022, 1, 10),),\n",
              " (datetime.date(2022, 3, 3),),\n",
              " (datetime.date(2022, 3, 3),),\n",
              " (datetime.date(2022, 3, 14),),\n",
              " (datetime.date(2022, 3, 16),),\n",
              " (datetime.date(2022, 3, 21),),\n",
              " (datetime.date(2022, 2, 24),),\n",
              " (datetime.date(2022, 3, 16),),\n",
              " (datetime.date(2022, 1, 26),),\n",
              " (datetime.date(2022, 2, 12),),\n",
              " (datetime.date(2022, 6, 2),),\n",
              " (datetime.date(2022, 6, 5),),\n",
              " (datetime.date(2022, 6, 4),),\n",
              " (datetime.date(2022, 6, 8),),\n",
              " (datetime.date(2022, 6, 14),),\n",
              " (datetime.date(2022, 6, 11),),\n",
              " (datetime.date(2022, 6, 22),),\n",
              " (datetime.date(2022, 5, 5),),\n",
              " (datetime.date(2022, 6, 28),),\n",
              " (datetime.date(2022, 6, 29),),\n",
              " (datetime.date(2022, 10, 25),),\n",
              " (datetime.date(2022, 2, 28),),\n",
              " (datetime.date(2022, 3, 4),),\n",
              " (datetime.date(2022, 2, 28),),\n",
              " (datetime.date(2022, 3, 2),),\n",
              " (datetime.date(2022, 3, 16),),\n",
              " (datetime.date(2022, 2, 16),),\n",
              " (datetime.date(2022, 3, 7),),\n",
              " (datetime.date(2022, 3, 30),),\n",
              " (datetime.date(2022, 3, 17),),\n",
              " (datetime.date(2022, 6, 2),),\n",
              " (datetime.date(2022, 5, 21),),\n",
              " (datetime.date(2022, 6, 15),),\n",
              " (datetime.date(2022, 6, 26),),\n",
              " (datetime.date(2022, 6, 14),),\n",
              " (datetime.date(2022, 3, 18),),\n",
              " (datetime.date(2022, 5, 11),),\n",
              " (datetime.date(2022, 4, 19),),\n",
              " (datetime.date(2022, 10, 4),),\n",
              " (datetime.date(2022, 3, 1),),\n",
              " (datetime.date(2022, 2, 4),),\n",
              " (datetime.date(2022, 3, 3),),\n",
              " (datetime.date(2022, 3, 9),),\n",
              " (datetime.date(2022, 3, 8),),\n",
              " (datetime.date(2022, 3, 14),),\n",
              " (datetime.date(2022, 3, 16),),\n",
              " (datetime.date(2022, 3, 3),),\n",
              " (datetime.date(2022, 3, 23),),\n",
              " (datetime.date(2022, 3, 23),),\n",
              " (datetime.date(2022, 1, 31),),\n",
              " (datetime.date(2022, 2, 8),),\n",
              " (datetime.date(2022, 2, 22),),\n",
              " (datetime.date(2022, 2, 5),),\n",
              " (datetime.date(2022, 6, 3),),\n",
              " (datetime.date(2022, 6, 2),),\n",
              " (datetime.date(2022, 6, 7),),\n",
              " (datetime.date(2022, 5, 29),),\n",
              " (datetime.date(2022, 6, 8),),\n",
              " (datetime.date(2022, 6, 23),),\n",
              " (datetime.date(2022, 6, 22),),\n",
              " (datetime.date(2022, 6, 18),),\n",
              " (datetime.date(2022, 6, 24),),\n",
              " (datetime.date(2022, 3, 19),),\n",
              " (datetime.date(2022, 3, 17),),\n",
              " (datetime.date(2022, 6, 9),),\n",
              " (datetime.date(2022, 10, 15),),\n",
              " (datetime.date(2022, 3, 2),),\n",
              " (datetime.date(2022, 3, 4),),\n",
              " (datetime.date(2022, 3, 10),),\n",
              " (datetime.date(2022, 3, 10),),\n",
              " (datetime.date(2022, 3, 4),),\n",
              " (datetime.date(2022, 3, 21),),\n",
              " (datetime.date(2022, 2, 20),),\n",
              " (datetime.date(2022, 3, 18),),\n",
              " (datetime.date(2022, 3, 19),),\n",
              " (datetime.date(2022, 2, 23),),\n",
              " (datetime.date(2022, 5, 27),),\n",
              " (datetime.date(2022, 6, 6),),\n",
              " (datetime.date(2022, 5, 24),),\n",
              " (datetime.date(2022, 6, 21),),\n",
              " (datetime.date(2022, 6, 21),),\n",
              " (datetime.date(2022, 6, 23),),\n",
              " (datetime.date(2022, 1, 22),),\n",
              " (datetime.date(2022, 3, 9),),\n",
              " (datetime.date(2022, 9, 16),),\n",
              " (datetime.date(2022, 3, 3),),\n",
              " (datetime.date(2022, 3, 10),),\n",
              " (datetime.date(2022, 3, 8),),\n",
              " (datetime.date(2022, 3, 8),),\n",
              " (datetime.date(2022, 3, 7),),\n",
              " (datetime.date(2022, 3, 17),),\n",
              " (datetime.date(2022, 3, 5),),\n",
              " (datetime.date(2022, 3, 19),),\n",
              " (datetime.date(2022, 3, 19),),\n",
              " (datetime.date(2022, 3, 15),),\n",
              " (datetime.date(2022, 3, 23),),\n",
              " (datetime.date(2022, 3, 21),),\n",
              " (datetime.date(2022, 3, 8),),\n",
              " (datetime.date(2022, 1, 7),),\n",
              " (datetime.date(2022, 2, 15),),\n",
              " (datetime.date(2022, 5, 17),),\n",
              " (datetime.date(2022, 5, 13),),\n",
              " (datetime.date(2022, 6, 2),),\n",
              " (datetime.date(2022, 6, 3),),\n",
              " (datetime.date(2022, 6, 4),),\n",
              " (datetime.date(2022, 6, 17),),\n",
              " (datetime.date(2022, 6, 22),),\n",
              " (datetime.date(2022, 6, 14),),\n",
              " (datetime.date(2022, 5, 11),),\n",
              " (datetime.date(2022, 9, 27),),\n",
              " (datetime.date(2022, 2, 15),),\n",
              " (datetime.date(2022, 2, 23),),\n",
              " (datetime.date(2022, 3, 9),),\n",
              " (datetime.date(2022, 3, 14),),\n",
              " (datetime.date(2022, 3, 10),),\n",
              " (datetime.date(2022, 3, 24),),\n",
              " (datetime.date(2022, 3, 23),),\n",
              " (datetime.date(2022, 3, 18),),\n",
              " (datetime.date(2022, 5, 31),),\n",
              " (datetime.date(2022, 5, 24),),\n",
              " (datetime.date(2022, 5, 27),),\n",
              " (datetime.date(2022, 5, 31),),\n",
              " (datetime.date(2022, 5, 20),),\n",
              " (datetime.date(2022, 6, 10),),\n",
              " (datetime.date(2022, 6, 15),),\n",
              " (datetime.date(2022, 6, 16),),\n",
              " (datetime.date(2022, 6, 21),),\n",
              " (datetime.date(2022, 6, 20),),\n",
              " (datetime.date(2022, 6, 22),),\n",
              " (datetime.date(2022, 2, 21),),\n",
              " (datetime.date(2022, 4, 12),),\n",
              " (datetime.date(2022, 2, 10),),\n",
              " (datetime.date(2022, 10, 5),),\n",
              " (datetime.date(2022, 10, 11),),\n",
              " (datetime.date(2022, 10, 3),),\n",
              " (datetime.date(2022, 10, 3),),\n",
              " (datetime.date(2022, 2, 14),),\n",
              " (datetime.date(2022, 3, 2),),\n",
              " (datetime.date(2022, 2, 19),),\n",
              " (datetime.date(2022, 3, 9),),\n",
              " (datetime.date(2022, 3, 3),),\n",
              " (datetime.date(2022, 3, 21),),\n",
              " (datetime.date(2022, 3, 14),),\n",
              " (datetime.date(2022, 1, 14),),\n",
              " (datetime.date(2022, 5, 26),),\n",
              " (datetime.date(2022, 6, 6),),\n",
              " (datetime.date(2022, 6, 12),),\n",
              " (datetime.date(2022, 6, 15),),\n",
              " (datetime.date(2022, 6, 24),),\n",
              " (datetime.date(2022, 6, 7),),\n",
              " (datetime.date(2022, 6, 22),),\n",
              " (datetime.date(2022, 6, 24),),\n",
              " (datetime.date(2022, 6, 23),),\n",
              " (datetime.date(2022, 3, 5),),\n",
              " (datetime.date(2022, 2, 23),),\n",
              " (datetime.date(2022, 10, 4),),\n",
              " (datetime.date(2022, 1, 10),),\n",
              " (datetime.date(2022, 3, 7),),\n",
              " (datetime.date(2022, 3, 3),),\n",
              " (datetime.date(2022, 2, 21),),\n",
              " (datetime.date(2022, 2, 15),),\n",
              " (datetime.date(2022, 3, 23),),\n",
              " (datetime.date(2022, 3, 24),),\n",
              " (datetime.date(2022, 3, 25),),\n",
              " (datetime.date(2022, 3, 28),),\n",
              " (datetime.date(2022, 3, 28),),\n",
              " (datetime.date(2022, 3, 29),),\n",
              " (datetime.date(2022, 3, 30),),\n",
              " (datetime.date(2022, 5, 28),),\n",
              " (datetime.date(2022, 5, 30),),\n",
              " (datetime.date(2022, 5, 26),),\n",
              " (datetime.date(2022, 6, 7),),\n",
              " (datetime.date(2022, 6, 9),),\n",
              " (datetime.date(2022, 6, 18),),\n",
              " (datetime.date(2022, 6, 22),),\n",
              " (datetime.date(2022, 6, 24),),\n",
              " (datetime.date(2022, 2, 28),),\n",
              " (datetime.date(2022, 10, 9),),\n",
              " (datetime.date(2022, 10, 6),),\n",
              " (datetime.date(2022, 10, 16),),\n",
              " (datetime.date(2022, 10, 31),),\n",
              " (datetime.date(2022, 2, 28),),\n",
              " (datetime.date(2022, 3, 2),),\n",
              " (datetime.date(2022, 1, 6),),\n",
              " (datetime.date(2022, 3, 14),),\n",
              " (datetime.date(2022, 3, 23),),\n",
              " (datetime.date(2022, 3, 23),),\n",
              " (datetime.date(2022, 3, 30),),\n",
              " (datetime.date(2022, 5, 24),),\n",
              " (datetime.date(2022, 6, 8),),\n",
              " (datetime.date(2022, 6, 27),),\n",
              " (datetime.date(2022, 3, 21),),\n",
              " (datetime.date(2022, 9, 1),),\n",
              " (datetime.date(2022, 2, 28),),\n",
              " (datetime.date(2022, 2, 26),),\n",
              " (datetime.date(2022, 3, 9),),\n",
              " (datetime.date(2022, 3, 10),),\n",
              " (datetime.date(2022, 3, 14),),\n",
              " (datetime.date(2022, 2, 25),),\n",
              " (datetime.date(2022, 3, 9),),\n",
              " (datetime.date(2022, 3, 21),),\n",
              " (datetime.date(2022, 3, 25),),\n",
              " (datetime.date(2022, 3, 26),),\n",
              " (datetime.date(2022, 1, 17),),\n",
              " (datetime.date(2022, 5, 30),),\n",
              " (datetime.date(2022, 6, 8),),\n",
              " (datetime.date(2022, 6, 2),),\n",
              " (datetime.date(2022, 6, 17),),\n",
              " (datetime.date(2022, 6, 21),),\n",
              " (datetime.date(2022, 6, 21),),\n",
              " (datetime.date(2022, 6, 22),),\n",
              " (datetime.date(2022, 6, 27),),\n",
              " (datetime.date(2022, 6, 15),),\n",
              " (datetime.date(2022, 6, 23),),\n",
              " (datetime.date(2022, 1, 13),),\n",
              " (datetime.date(2022, 9, 26),),\n",
              " (datetime.date(2022, 10, 7),),\n",
              " (datetime.date(2022, 10, 8),),\n",
              " (datetime.date(2022, 9, 19),),\n",
              " (datetime.date(2022, 10, 24),),\n",
              " (datetime.date(2022, 10, 1),),\n",
              " (datetime.date(2022, 3, 1),),\n",
              " (datetime.date(2022, 3, 14),),\n",
              " (datetime.date(2022, 3, 16),),\n",
              " (datetime.date(2022, 3, 18),),\n",
              " (datetime.date(2022, 3, 19),),\n",
              " (datetime.date(2022, 3, 25),),\n",
              " (datetime.date(2022, 1, 6),),\n",
              " (datetime.date(2022, 6, 10),),\n",
              " (datetime.date(2022, 6, 26),),\n",
              " (datetime.date(2022, 6, 28),),\n",
              " (datetime.date(2022, 5, 27),),\n",
              " (datetime.date(2022, 2, 23),),\n",
              " (datetime.date(2022, 10, 19),),\n",
              " (datetime.date(2022, 10, 21),),\n",
              " (datetime.date(2022, 3, 2),),\n",
              " (datetime.date(2022, 3, 15),),\n",
              " (datetime.date(2022, 3, 21),),\n",
              " (datetime.date(2022, 3, 16),),\n",
              " (datetime.date(2022, 5, 30),),\n",
              " (datetime.date(2022, 6, 4),),\n",
              " (datetime.date(2022, 6, 24),),\n",
              " (datetime.date(2022, 6, 23),),\n",
              " (datetime.date(2022, 4, 5),),\n",
              " (datetime.date(2022, 6, 1),),\n",
              " (datetime.date(2022, 10, 11),),\n",
              " (datetime.date(2022, 10, 13),),\n",
              " (datetime.date(2022, 2, 10),),\n",
              " (datetime.date(2022, 3, 11),),\n",
              " (datetime.date(2022, 3, 21),),\n",
              " (datetime.date(2022, 3, 21),),\n",
              " (datetime.date(2022, 3, 14),),\n",
              " (datetime.date(2022, 3, 28),),\n",
              " (datetime.date(2022, 5, 31),),\n",
              " (datetime.date(2022, 6, 3),),\n",
              " (datetime.date(2022, 1, 18),),\n",
              " (datetime.date(2022, 6, 9),),\n",
              " (datetime.date(2022, 6, 10),),\n",
              " (datetime.date(2022, 6, 14),),\n",
              " (datetime.date(2022, 6, 15),),\n",
              " (datetime.date(2022, 6, 21),),\n",
              " (datetime.date(2022, 6, 22),),\n",
              " (datetime.date(2022, 6, 14),),\n",
              " (datetime.date(2022, 6, 23),),\n",
              " (datetime.date(2022, 3, 11),),\n",
              " (datetime.date(2022, 10, 6),),\n",
              " (datetime.date(2022, 10, 4),),\n",
              " (datetime.date(2022, 10, 2),),\n",
              " (datetime.date(2022, 10, 4),),\n",
              " (datetime.date(2022, 10, 4),),\n",
              " (datetime.date(2022, 2, 14),),\n",
              " (datetime.date(2022, 3, 4),),\n",
              " (datetime.date(2022, 3, 16),),\n",
              " (datetime.date(2022, 3, 15),),\n",
              " (datetime.date(2022, 3, 17),),\n",
              " (datetime.date(2022, 3, 23),),\n",
              " (datetime.date(2022, 3, 25),),\n",
              " (datetime.date(2022, 3, 18),),\n",
              " (datetime.date(2022, 1, 25),),\n",
              " (datetime.date(2022, 6, 3),),\n",
              " (datetime.date(2022, 5, 17),),\n",
              " (datetime.date(2022, 6, 11),),\n",
              " (datetime.date(2022, 6, 23),),\n",
              " (datetime.date(2022, 6, 24),),\n",
              " (datetime.date(2022, 3, 14),),\n",
              " (datetime.date(2022, 4, 25),),\n",
              " (datetime.date(2022, 10, 6),),\n",
              " (datetime.date(2022, 10, 13),),\n",
              " (datetime.date(2022, 9, 22),),\n",
              " (datetime.date(2022, 2, 23),),\n",
              " (datetime.date(2022, 2, 25),),\n",
              " (datetime.date(2022, 2, 23),),\n",
              " (datetime.date(2022, 3, 17),),\n",
              " (datetime.date(2022, 3, 16),),\n",
              " (datetime.date(2022, 3, 7),),\n",
              " (datetime.date(2022, 3, 22),),\n",
              " (datetime.date(2022, 3, 17),),\n",
              " (datetime.date(2022, 3, 28),),\n",
              " (datetime.date(2022, 3, 26),),\n",
              " (datetime.date(2022, 2, 2),),\n",
              " (datetime.date(2022, 5, 4),),\n",
              " (datetime.date(2022, 6, 8),),\n",
              " (datetime.date(2022, 5, 24),),\n",
              " (datetime.date(2022, 5, 27),),\n",
              " (datetime.date(2022, 6, 17),),\n",
              " (datetime.date(2022, 6, 16),),\n",
              " (datetime.date(2022, 6, 14),),\n",
              " (datetime.date(2022, 6, 22),),\n",
              " (datetime.date(2022, 6, 29),),\n",
              " (datetime.date(2022, 4, 23),),\n",
              " (datetime.date(2022, 4, 6),),\n",
              " (datetime.date(2022, 4, 9),),\n",
              " (datetime.date(2022, 10, 6),),\n",
              " (datetime.date(2022, 10, 10),),\n",
              " (datetime.date(2022, 10, 3),),\n",
              " (datetime.date(2022, 10, 17),),\n",
              " (datetime.date(2022, 10, 10),),\n",
              " (datetime.date(2022, 10, 25),),\n",
              " (datetime.date(2022, 9, 26),),\n",
              " (datetime.date(2022, 3, 10),),\n",
              " (datetime.date(2022, 3, 9),),\n",
              " (datetime.date(2022, 2, 26),),\n",
              " (datetime.date(2022, 3, 14),),\n",
              " (datetime.date(2022, 3, 15),),\n",
              " (datetime.date(2022, 3, 16),),\n",
              " (datetime.date(2022, 3, 18),),\n",
              " (datetime.date(2022, 5, 27),),\n",
              " (datetime.date(2022, 5, 31),),\n",
              " (datetime.date(2022, 5, 20),),\n",
              " (datetime.date(2022, 6, 1),),\n",
              " (datetime.date(2022, 6, 4),),\n",
              " (datetime.date(2022, 6, 9),),\n",
              " (datetime.date(2022, 6, 14),),\n",
              " (datetime.date(2022, 6, 16),),\n",
              " (datetime.date(2022, 6, 20),),\n",
              " (datetime.date(2022, 6, 24),),\n",
              " (datetime.date(2022, 6, 14),),\n",
              " (datetime.date(2022, 6, 29),),\n",
              " (datetime.date(2022, 3, 1),),\n",
              " (datetime.date(2022, 3, 30),),\n",
              " (datetime.date(2022, 4, 20),),\n",
              " (datetime.date(2022, 2, 9),),\n",
              " (datetime.date(2022, 10, 4),),\n",
              " (datetime.date(2022, 10, 24),),\n",
              " (datetime.date(2022, 9, 29),),\n",
              " (datetime.date(2022, 10, 3),),\n",
              " (datetime.date(2022, 3, 8),),\n",
              " (datetime.date(2022, 3, 8),),\n",
              " (datetime.date(2022, 3, 18),),\n",
              " (datetime.date(2022, 3, 12),),\n",
              " (datetime.date(2022, 3, 23),),\n",
              " (datetime.date(2022, 2, 3),),\n",
              " (datetime.date(2022, 6, 7),),\n",
              " (datetime.date(2022, 6, 8),),\n",
              " (datetime.date(2022, 6, 12),),\n",
              " (datetime.date(2022, 6, 16),),\n",
              " (datetime.date(2022, 6, 21),),\n",
              " (datetime.date(2022, 6, 22),),\n",
              " (datetime.date(2022, 6, 17),),\n",
              " (datetime.date(2022, 6, 24),),\n",
              " (datetime.date(2022, 6, 23),),\n",
              " (datetime.date(2022, 6, 18),),\n",
              " (datetime.date(2022, 5, 24),),\n",
              " (datetime.date(2022, 10, 10),),\n",
              " (datetime.date(2022, 10, 4),),\n",
              " (datetime.date(2022, 8, 23),),\n",
              " (datetime.date(2022, 3, 4),),\n",
              " (datetime.date(2022, 3, 3),),\n",
              " (datetime.date(2022, 2, 15),),\n",
              " (datetime.date(2022, 3, 28),),\n",
              " (datetime.date(2022, 3, 23),),\n",
              " (datetime.date(2022, 6, 20),),\n",
              " (datetime.date(2022, 6, 21),),\n",
              " (datetime.date(2022, 6, 21),),\n",
              " (datetime.date(2022, 6, 24),),\n",
              " (datetime.date(2022, 6, 26),),\n",
              " (datetime.date(2022, 6, 22),),\n",
              " (datetime.date(2022, 6, 29),),\n",
              " (datetime.date(2022, 2, 17),),\n",
              " (datetime.date(2022, 10, 13),),\n",
              " (datetime.date(2022, 10, 4),),\n",
              " (datetime.date(2022, 2, 25),),\n",
              " (datetime.date(2022, 2, 23),),\n",
              " (datetime.date(2022, 3, 2),),\n",
              " (datetime.date(2022, 2, 28),),\n",
              " (datetime.date(2022, 1, 27),),\n",
              " (datetime.date(2022, 3, 5),),\n",
              " (datetime.date(2022, 3, 16),),\n",
              " ...]"
            ]
          },
          "metadata": {},
          "execution_count": 139
        }
      ]
    },
    {
      "cell_type": "code",
      "source": [
        "# Para limpar a conexão\n",
        "connector.close()"
      ],
      "metadata": {
        "id": "aVYI6uEYKk_s"
      },
      "execution_count": null,
      "outputs": []
    },
    {
      "cell_type": "markdown",
      "source": [
        "🚧**Nota:** Para mais informações sobre esse conector, basta acessar a documentação que fala sobre ele clicando [aqui](https://colab.research.google.com/github/GoogleCloudPlatform/cloud-sql-python-connector/blob/main/samples/notebooks/mysql_python_connector.ipynb#scrollTo=GpVKrv0TCXje).👈"
      ],
      "metadata": {
        "id": "_5a3NsjhMEVl"
      }
    },
    {
      "cell_type": "markdown",
      "source": [
        "# ![theend.gif](https://storage.googleapis.com/projeto-ab-bc26/Images/theend2.gif)\n",
        "E é isso, concluimos aqui nosso processo de ELTL, onde mostramos a você os principios básicos do trabalho de um engenheiro de dados, tudo que desenvolvemos até aqui é obra do bootcamp da SoulCode e de seus professores,espero que tenham gostado e até a próxima! 😜🖖"
      ],
      "metadata": {
        "id": "AFRVjPRrDpmp"
      }
    }
  ]
}